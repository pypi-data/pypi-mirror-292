{
  "cells": [
    {
      "cell_type": "markdown",
      "metadata": {
        "id": "7cXVAM_dA3AS"
      },
      "source": [
        "#WhatsApp Crypt14-15 Backup Decrypter\n",
        "Decrypts WhatsApp .crypt12, .crypt14 and .crypt15 files, given the key file or the 64-characters long key.\n",
        "\n",
        "The key file is named \"key\" if the backup is crypt14 or\n",
        "\"encrypted_backup.key\" if the backup is crypt15 (encrypted E2E backups).\n",
        "The output result is either a SQLite database or a ZIP file (in case of wallpapers and stickers)."
      ]
    },
    {
      "cell_type": "markdown",
      "metadata": {
        "id": "qPWe755MTd8M"
      },
      "source": [
        "###Key takeaways\n",
        "* You need root access in most devices https://github.com/ElDavoo/WhatsApp-Crypt14-Crypt15-Decrypter#where-do-i-get-the-keyfile\n",
        "\n"
      ]
    },
    {
      "cell_type": "markdown",
      "metadata": {
        "id": "zJ-qUk9E5fpm"
      },
      "source": [
        "## Upload your key file and crypt files before running"
      ]
    },
    {
      "cell_type": "markdown",
      "metadata": {
        "id": "hWpc4SKqERuO"
      },
      "source": [
        "###Installation"
      ]
    },
    {
      "cell_type": "code",
      "execution_count": null,
      "metadata": {
        "id": "t8sD3dVEt_-v"
      },
      "outputs": [],
      "source": [
        "!python -m pip install git+https://github.com/ElDavoo/wa-crypt-tools\n"
      ]
    },
    {
      "cell_type": "markdown",
      "metadata": {
        "id": "Myz44qhTR8uk"
      },
      "source": [
        "###Run this after uploaded the .crypt14/15 file here"
      ]
    },
    {
      "cell_type": "code",
      "execution_count": null,
      "metadata": {
        "id": "CK0eJ_0YyXsL"
      },
      "outputs": [],
      "source": [
        "#example of a file key name \"key\", an encrypted crypt14 inside default folder and an output with the decrypted file\n",
        "\n",
        "#parameters\n",
        "#        decrypter_script     keyfile_path/key_value    encrypted_file_path   decrypter_output_file_path\n",
        "!wadecrypt ./key ./msgstore.db.crypt14 ./msgstore.db"
      ]
    }
  ],
  "metadata": {
    "colab": {
      "collapsed_sections": [
        "hWpc4SKqERuO"
      ],
      "provenance": []
    },
    "kernelspec": {
      "display_name": "Python 3",
      "name": "python3"
    },
    "language_info": {
      "name": "python"
    }
  },
  "nbformat": 4,
  "nbformat_minor": 0
}
