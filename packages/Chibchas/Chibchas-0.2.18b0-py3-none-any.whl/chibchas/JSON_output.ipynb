{
 "cells": [
  {
   "cell_type": "markdown",
   "metadata": {},
   "source": [
    "## JSON output"
   ]
  },
  {
   "cell_type": "code",
   "execution_count": 1,
   "metadata": {},
   "outputs": [],
   "source": [
    "import pandas as pd\n",
    "import getpass"
   ]
  },
  {
   "cell_type": "code",
   "execution_count": 2,
   "metadata": {},
   "outputs": [
    {
     "name": "stdin",
     "output_type": "stream",
     "text": [
      " ······\n"
     ]
    }
   ],
   "source": [
    "api_key=getpass.getpass()"
   ]
  },
  {
   "cell_type": "code",
   "execution_count": 3,
   "metadata": {},
   "outputs": [],
   "source": [
    "df=pd.read_json(f'http://clustercien.udea.edu.co/viceinv/{api_key}/InstituLAC.json')"
   ]
  },
  {
   "cell_type": "code",
   "execution_count": 4,
   "metadata": {},
   "outputs": [
    {
     "data": {
      "text/html": [
       "<div>\n",
       "<style scoped>\n",
       "    .dataframe tbody tr th:only-of-type {\n",
       "        vertical-align: middle;\n",
       "    }\n",
       "\n",
       "    .dataframe tbody tr th {\n",
       "        vertical-align: top;\n",
       "    }\n",
       "\n",
       "    .dataframe thead th {\n",
       "        text-align: right;\n",
       "    }\n",
       "</style>\n",
       "<table border=\"1\" class=\"dataframe\">\n",
       "  <thead>\n",
       "    <tr style=\"text-align: right;\">\n",
       "      <th></th>\n",
       "      <th>Título</th>\n",
       "      <th>Institución</th>\n",
       "      <th>Fecha inicio</th>\n",
       "      <th>Fecha fin</th>\n",
       "    </tr>\n",
       "  </thead>\n",
       "  <tbody>\n",
       "    <tr>\n",
       "      <th>0</th>\n",
       "      <td>Desarrollo de Trigger de Alto Nivel para un Mo...</td>\n",
       "      <td>UNIVERSIDAD DE ANTIOQUIA</td>\n",
       "      <td>2017-8</td>\n",
       "      <td>2019-5</td>\n",
       "    </tr>\n",
       "    <tr>\n",
       "      <th>1</th>\n",
       "      <td>Producción de Materia Oscura</td>\n",
       "      <td>UNIVERSIDAD DE ANTIOQUIA</td>\n",
       "      <td>2017-6</td>\n",
       "      <td>2020-2</td>\n",
       "    </tr>\n",
       "  </tbody>\n",
       "</table>\n",
       "</div>"
      ],
      "text/plain": [
       "                                              Título  \\\n",
       "0  Desarrollo de Trigger de Alto Nivel para un Mo...   \n",
       "1                       Producción de Materia Oscura   \n",
       "\n",
       "                Institución Fecha inicio Fecha fin  \n",
       "0  UNIVERSIDAD DE ANTIOQUIA       2017-8    2019-5  \n",
       "1  UNIVERSIDAD DE ANTIOQUIA       2017-6    2020-2  "
      ]
     },
     "execution_count": 4,
     "metadata": {},
     "output_type": "execute_result"
    }
   ],
   "source": [
    "dff=df[df['Group'].astype(str).str.lower().str.contains('interacciones')][['FRH_P-TES_MAST_P']]#, 'FRH_P-TES_MAST_P',\n",
    "       #'FRH_P-TES_PREG_P']]['FRH_P-TES_MAST_P'].to_list()\n",
    "pd.DataFrame( dff.iloc[-1].to_list()[0] )[['Título','Institución','Fecha inicio','Fecha fin']]"
   ]
  },
  {
   "cell_type": "code",
   "execution_count": 5,
   "metadata": {},
   "outputs": [
    {
     "name": "stdout",
     "output_type": "stream",
     "text": [
      "FRH_P-TES_DOC_P → 346 : 336 : 97.10982658959537\n",
      "FRH_P-TES_MAST_P → 1546 : 1373 : 88.80983182406209\n",
      "FRH_P-TES_PREG_P → 2106 : 1775 : 84.28300094966762\n"
     ]
    }
   ],
   "source": [
    "for t in ['FRH_P-TES_DOC_P', 'FRH_P-TES_MAST_P','FRH_P-TES_PREG_P']:\n",
    "    nt=len(df[t].dropna().sum())\n",
    "    n=len( [d.get('Autor') for d  in df[t].dropna().sum() if d.get('Autor')] )\n",
    "    print( f'{t} → {nt} : {n} : {n/nt*100}' )\n"
   ]
  },
  {
   "cell_type": "code",
   "execution_count": 109,
   "metadata": {},
   "outputs": [
    {
     "data": {
      "text/html": [
       "<div>\n",
       "<style scoped>\n",
       "    .dataframe tbody tr th:only-of-type {\n",
       "        vertical-align: middle;\n",
       "    }\n",
       "\n",
       "    .dataframe tbody tr th {\n",
       "        vertical-align: top;\n",
       "    }\n",
       "\n",
       "    .dataframe thead th {\n",
       "        text-align: right;\n",
       "    }\n",
       "</style>\n",
       "<table border=\"1\" class=\"dataframe\">\n",
       "  <thead>\n",
       "    <tr style=\"text-align: right;\">\n",
       "      <th></th>\n",
       "      <th>Título</th>\n",
       "      <th>Institución</th>\n",
       "      <th>Fecha inicio</th>\n",
       "      <th>Fecha fin</th>\n",
       "    </tr>\n",
       "  </thead>\n",
       "  <tbody>\n",
       "    <tr>\n",
       "      <th>0</th>\n",
       "      <td>Dynamics of continental water storage in regio...</td>\n",
       "      <td>UNIVERSIDAD DE ANTIOQUIA</td>\n",
       "      <td>2016-2</td>\n",
       "      <td>2020-12</td>\n",
       "    </tr>\n",
       "  </tbody>\n",
       "</table>\n",
       "</div>"
      ],
      "text/plain": [
       "                                              Título  \\\n",
       "0  Dynamics of continental water storage in regio...   \n",
       "\n",
       "                Institución Fecha inicio Fecha fin  \n",
       "0  UNIVERSIDAD DE ANTIOQUIA       2016-2   2020-12  "
      ]
     },
     "execution_count": 109,
     "metadata": {},
     "output_type": "execute_result"
    }
   ],
   "source": [
    "pd.DataFrame( df['FRH_P-TES_DOC_P'].dropna().sum() ).sort_values('Autor').reset_index(drop=True)[:50][\n",
    "    ['Título','Institución','Fecha inicio','Fecha fin']][:1]"
   ]
  },
  {
   "cell_type": "code",
   "execution_count": 101,
   "metadata": {},
   "outputs": [
    {
     "name": "stdout",
     "output_type": "stream",
     "text": [
      "Group → 324\n",
      "Info_group → 324\n",
      "Members → 6128\n",
      "NC_P-ART_IMP_P → 3065\n",
      "NC_P-ART_ELE_P → 2836\n",
      "NC_P-CAP_LIB_P → 913\n",
      "ASC_P-GEN_CONT_IMP_P1 → 589\n",
      "ASC_P-EV_CIENT_P → 6055\n",
      "ASC_P-RED_P → 118\n",
      "ASC_P-INF_TEC_P → 333\n",
      "FRH_P-TES_DOC_P → 346\n",
      "FRH_P-TES_MAST_P → 1546\n",
      "FRH_P-TES_PREG_P → 2106\n",
      "FRH_P-PROY_INV_DES_P → 1893\n",
      "FRH_P-PROY_INV_DES_INN_P → 154\n",
      "DTI_P-CONP_TEC_P → 18\n",
      "ASC_P-CON_INF_TEC_P → 187\n",
      "FRH_P-PROY_INV_RESP_SOC_P → 151\n",
      "FRH_P-ASE_PRG_ACA_P → 208\n",
      "FRH_P-ASE_CRE_CUR_P → 1137\n",
      "NC-CAP_LIB → 1309\n",
      "NC_P-LIB_P → 327\n",
      "ASC_P-EDIC_P → 143\n",
      "NC-LIB → 1546\n",
      "NC_P-TRA_FIL_P → 1\n",
      "ASC_P-DC_P → 154\n",
      "ASC_P-GEN_CONT_IMP_P6 → 69\n",
      "DTI_P-SOFT_P → 79\n",
      "ASC_P-TALL_CRE_P → 15\n",
      "ASC_P-DOC_TRAB_P → 265\n",
      "ASC_P-BOL_RES_INV_P → 157\n",
      "DTI_P-REG_NORM_REGL_LEG_P → 28\n",
      "NC_P-NOT_CIE_P → 31\n",
      "ASC_P-GEN_CONT_IMP_P5 → 32\n",
      "FRH_P-ASE_PRG_ONDAS_P → 46\n",
      "DTI_P-INN_PROC_P → 26\n",
      "DTI_P-INN_GES_EMP_P → 4\n",
      "DTI_P-PLT_PIL_P → 5\n",
      "NC_P-PAT_P → 3\n",
      "DTI_P-PRT_IND_P → 28\n",
      "DTI_P-PROT_VIG_EPID_P → 3\n",
      "ASC_P-GEN_CONT_IMP_P7 → 19\n",
      "NC_P-PRD_INV_ART_P → 101\n",
      "FRH_P-PROY_INV_CRE_P → 52\n",
      "ASC_P-EVE_ART_P → 244\n",
      "DTI_P-EMP_CRE_CUL_P → 3\n",
      "DTI_P-REG_AAD_P → 1\n",
      "DTI_P-EMP_BSE_TEC_P → 6\n",
      "DTI_P-REG_CIENT_P → 1\n",
      "ASC_P-PASC_P → 43\n",
      "DTI_P-SEC_IND_P → 5\n",
      "DTI_P-DIS_IND_P → 4\n",
      "ASC_P-SEC_GENE_P → 720\n",
      "DTI_P-COL_CIENT_P → 2\n"
     ]
    }
   ],
   "source": [
    "p=pd.DataFrame()\n",
    "for t in df.columns:\n",
    "    l=df[t].dropna()\n",
    "    if isinstance( l.iloc[0],list ):\n",
    "        ll=len(l.sum())\n",
    "    else:\n",
    "        ll=df[t].dropna().shape[0]\n",
    "    print( f'{t} → {ll}' )\n",
    "    p=p.append( {'Producto':t,'Cantidad':ll},ignore_index=True ) "
   ]
  },
  {
   "cell_type": "code",
   "execution_count": 108,
   "metadata": {},
   "outputs": [],
   "source": [
    "p['Cantidad']=p['Cantidad'].astype(int)\n",
    "p[['Producto','Cantidad']].to_excel('prod.xlsx',index=False)"
   ]
  }
 ],
 "metadata": {
  "kernelspec": {
   "display_name": "Python 3 (ipykernel)",
   "language": "python",
   "name": "python3"
  },
  "language_info": {
   "codemirror_mode": {
    "name": "ipython",
    "version": 3
   },
   "file_extension": ".py",
   "mimetype": "text/x-python",
   "name": "python",
   "nbconvert_exporter": "python",
   "pygments_lexer": "ipython3",
   "version": "3.7.3"
  }
 },
 "nbformat": 4,
 "nbformat_minor": 4
}
