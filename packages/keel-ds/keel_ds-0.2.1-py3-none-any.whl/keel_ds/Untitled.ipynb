{
 "cells": [
  {
   "cell_type": "code",
   "execution_count": 12,
   "id": "87d501a4-acbc-47ba-98db-5db627f67026",
   "metadata": {},
   "outputs": [],
   "source": [
    "import numpy as np\n",
    "import pickle"
   ]
  },
  {
   "cell_type": "code",
   "execution_count": 13,
   "id": "f1a55dab-0d3c-41af-809a-f07588aa8494",
   "metadata": {},
   "outputs": [],
   "source": [
    "config = pickle.load(open('../../MCBA/datasets/data/config.pkl', 'rb'))"
   ]
  },
  {
   "cell_type": "code",
   "execution_count": 26,
   "id": "f95bf9f0-9e46-478a-816f-28e751ff7027",
   "metadata": {},
   "outputs": [
    {
     "data": {
      "text/plain": [
       "array([[ True,  True,  True, ...,  True,  True,  True],\n",
       "       [ True,  True,  True, ...,  True,  True,  True],\n",
       "       [ True,  True,  True, ...,  True,  True,  True],\n",
       "       ...,\n",
       "       [ True,  True,  True, ...,  True,  True,  True],\n",
       "       [ True,  True,  True, ...,  True,  True,  True],\n",
       "       [ True,  True,  True, ...,  True,  True,  True]])"
      ]
     },
     "execution_count": 26,
     "metadata": {},
     "output_type": "execute_result"
    }
   ],
   "source": [
    "config['breast'][0]['data'][0][:,:-1] == dataset[0][0]"
   ]
  },
  {
   "cell_type": "code",
   "execution_count": 17,
   "id": "707c48df-475d-49a5-a2b6-05365a67852a",
   "metadata": {},
   "outputs": [],
   "source": [
    "npz = np.load('data/balanced/processed/breast.npz')"
   ]
  },
  {
   "cell_type": "code",
   "execution_count": null,
   "id": "523e74d0-a6d2-4dad-838c-9a75970be057",
   "metadata": {},
   "outputs": [],
   "source": []
  },
  {
   "cell_type": "code",
   "execution_count": 18,
   "id": "2189f969-7558-4d41-8685-a09312f059f4",
   "metadata": {},
   "outputs": [],
   "source": [
    "dataset = []\n",
    "for fold in range(0, len(npz), 4):\n",
    "    x_train, y_train, x_test, y_test = npz[npz.files[fold]], npz[npz.files[fold + 1]], npz[\n",
    "        npz.files[fold + 2]], \\\n",
    "        npz[npz.files[fold + 3]]\n",
    "    dataset.append((x_train, y_train, x_test, y_test))\n"
   ]
  }
 ],
 "metadata": {
  "kernelspec": {
   "display_name": "Python 3 (ipykernel)",
   "language": "python",
   "name": "python3"
  },
  "language_info": {
   "codemirror_mode": {
    "name": "ipython",
    "version": 3
   },
   "file_extension": ".py",
   "mimetype": "text/x-python",
   "name": "python",
   "nbconvert_exporter": "python",
   "pygments_lexer": "ipython3",
   "version": "3.12.2"
  }
 },
 "nbformat": 4,
 "nbformat_minor": 5
}
