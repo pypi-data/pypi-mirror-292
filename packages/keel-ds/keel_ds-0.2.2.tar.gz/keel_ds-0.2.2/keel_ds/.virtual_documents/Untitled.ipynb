import numpy as np
import pickle


config = pickle.load(open('../../MCBA/datasets/data/config.pkl', 'rb'))


config['breast'][0]['data'][0][:,:-1] == dataset[0][0]


npz = np.load('data/balanced/processed/breast.npz')





dataset = []
for fold in range(0, len(npz), 4):
    x_train, y_train, x_test, y_test = npz[npz.files[fold]], npz[npz.files[fold + 1]], npz[
        npz.files[fold + 2]], \
        npz[npz.files[fold + 3]]
    dataset.append((x_train, y_train, x_test, y_test))

