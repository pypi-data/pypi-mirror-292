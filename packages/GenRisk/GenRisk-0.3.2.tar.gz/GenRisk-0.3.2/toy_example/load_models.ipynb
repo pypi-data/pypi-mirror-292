{
 "cells": [
  {
   "cell_type": "code",
   "execution_count": 1,
   "metadata": {},
   "outputs": [],
   "source": [
    "import joblib\n",
    "import pandas as pd\n",
    "import matplotlib.pyplot as plt"
   ]
  },
  {
   "cell_type": "code",
   "execution_count": 2,
   "metadata": {},
   "outputs": [],
   "source": [
    "classifier = joblib.load('toy_classifier//toy_classifier.pkl')"
   ]
  },
  {
   "cell_type": "code",
   "execution_count": 3,
   "metadata": {
    "scrolled": false
   },
   "outputs": [
    {
     "name": "stderr",
     "output_type": "stream",
     "text": [
      "C:\\Users\\aldis\\Miniconda3\\envs\\workenv\\lib\\site-packages\\sklearn\\base.py:213: FutureWarning: From version 0.24, get_params will raise an AttributeError if a parameter cannot be retrieved as an instance attribute. Previously it would return None.\n",
      "  FutureWarning)\n"
     ]
    },
    {
     "data": {
      "text/plain": [
       "{'memory': None,\n",
       " 'steps': [('dtypes',\n",
       "   DataTypes_Auto_infer(display_types=False, ml_usecase='classification',\n",
       "                        target='trait1')),\n",
       "  ('imputer',\n",
       "   Simple_Imputer(categorical_strategy='not_available',\n",
       "                  fill_value_categorical=None, fill_value_numerical=None,\n",
       "                  numeric_strategy='mean', target_variable=None)),\n",
       "  ('new_levels1',\n",
       "   New_Catagorical_Levels_in_TestData(replacement_strategy='least frequent',\n",
       "                                      target='trait1')),\n",
       "  ('ordinal', 'passthrough'),\n",
       "  ('cardinality', 'passthrough'),\n",
       "  ('znz', 'passthrough'),\n",
       "  ('club_R_L', 'passthrough'),\n",
       "  ('new_levels',\n",
       "   New_Catagorical_Levels_in_TestData(replacement_strategy='least frequent',\n",
       "                                      target='trait1')),\n",
       "  ('feature_time',\n",
       "   Make_Time_Features(list_of_features=None,\n",
       "                      time_feature=Index([], dtype='object'))),\n",
       "  ('group', 'passthrough'),\n",
       "  ('nonliner', 'passthrough'),\n",
       "  ('scaling', 'passthrough'),\n",
       "  ('P_transform', 'passthrough'),\n",
       "  ('binn', 'passthrough'),\n",
       "  ('rem_outliers', 'passthrough'),\n",
       "  ('cluster_all', 'passthrough'),\n",
       "  ('dummy', Dummify(target='trait1')),\n",
       "  ('fix_perfect', Remove_100(target='trait1')),\n",
       "  ('clean_names', Clean_Colum_Names()),\n",
       "  ('feature_select', 'passthrough'),\n",
       "  ('fix_multi', 'passthrough'),\n",
       "  ('dfs', 'passthrough'),\n",
       "  ('pca', 'passthrough'),\n",
       "  ['trained_model',\n",
       "   GradientBoostingClassifier(learning_rate=0.3, max_depth=9, max_features=1.0,\n",
       "                              min_impurity_decrease=0.3, min_samples_leaf=3,\n",
       "                              min_samples_split=7, n_estimators=230,\n",
       "                              random_state=6341, subsample=0.9)]],\n",
       " 'verbose': False,\n",
       " 'dtypes': DataTypes_Auto_infer(display_types=False, ml_usecase='classification',\n",
       "                      target='trait1'),\n",
       " 'imputer': Simple_Imputer(categorical_strategy='not_available',\n",
       "                fill_value_categorical=None, fill_value_numerical=None,\n",
       "                numeric_strategy='mean', target_variable=None),\n",
       " 'new_levels1': New_Catagorical_Levels_in_TestData(replacement_strategy='least frequent',\n",
       "                                    target='trait1'),\n",
       " 'ordinal': 'passthrough',\n",
       " 'cardinality': 'passthrough',\n",
       " 'znz': 'passthrough',\n",
       " 'club_R_L': 'passthrough',\n",
       " 'new_levels': New_Catagorical_Levels_in_TestData(replacement_strategy='least frequent',\n",
       "                                    target='trait1'),\n",
       " 'feature_time': Make_Time_Features(list_of_features=None,\n",
       "                    time_feature=Index([], dtype='object')),\n",
       " 'group': 'passthrough',\n",
       " 'nonliner': 'passthrough',\n",
       " 'scaling': 'passthrough',\n",
       " 'P_transform': 'passthrough',\n",
       " 'binn': 'passthrough',\n",
       " 'rem_outliers': 'passthrough',\n",
       " 'cluster_all': 'passthrough',\n",
       " 'dummy': Dummify(target='trait1'),\n",
       " 'fix_perfect': Remove_100(target='trait1'),\n",
       " 'clean_names': Clean_Colum_Names(),\n",
       " 'feature_select': 'passthrough',\n",
       " 'fix_multi': 'passthrough',\n",
       " 'dfs': 'passthrough',\n",
       " 'pca': 'passthrough',\n",
       " 'trained_model': GradientBoostingClassifier(learning_rate=0.3, max_depth=9, max_features=1.0,\n",
       "                            min_impurity_decrease=0.3, min_samples_leaf=3,\n",
       "                            min_samples_split=7, n_estimators=230,\n",
       "                            random_state=6341, subsample=0.9),\n",
       " 'dtypes__categorical_features': [],\n",
       " 'dtypes__display_types': False,\n",
       " 'dtypes__features_todrop': [],\n",
       " 'dtypes__id_columns': [],\n",
       " 'dtypes__ml_usecase': 'classification',\n",
       " 'dtypes__numerical_features': [],\n",
       " 'dtypes__target': 'trait1',\n",
       " 'dtypes__time_features': [],\n",
       " 'imputer__categorical_strategy': 'not_available',\n",
       " 'imputer__fill_value_categorical': None,\n",
       " 'imputer__fill_value_numerical': None,\n",
       " 'imputer__numeric_strategy': 'mean',\n",
       " 'imputer__target_variable': None,\n",
       " 'new_levels1__replacement_strategy': 'least frequent',\n",
       " 'new_levels1__target': 'trait1',\n",
       " 'new_levels__replacement_strategy': 'least frequent',\n",
       " 'new_levels__target': 'trait1',\n",
       " 'feature_time__list_of_features': None,\n",
       " 'feature_time__time_feature': Index([], dtype='object'),\n",
       " 'dummy__target': 'trait1',\n",
       " 'fix_perfect__target': 'trait1',\n",
       " 'trained_model__ccp_alpha': 0.0,\n",
       " 'trained_model__criterion': 'friedman_mse',\n",
       " 'trained_model__init': None,\n",
       " 'trained_model__learning_rate': 0.3,\n",
       " 'trained_model__loss': 'deviance',\n",
       " 'trained_model__max_depth': 9,\n",
       " 'trained_model__max_features': 1.0,\n",
       " 'trained_model__max_leaf_nodes': None,\n",
       " 'trained_model__min_impurity_decrease': 0.3,\n",
       " 'trained_model__min_impurity_split': None,\n",
       " 'trained_model__min_samples_leaf': 3,\n",
       " 'trained_model__min_samples_split': 7,\n",
       " 'trained_model__min_weight_fraction_leaf': 0.0,\n",
       " 'trained_model__n_estimators': 230,\n",
       " 'trained_model__n_iter_no_change': None,\n",
       " 'trained_model__presort': 'deprecated',\n",
       " 'trained_model__random_state': 6341,\n",
       " 'trained_model__subsample': 0.9,\n",
       " 'trained_model__tol': 0.0001,\n",
       " 'trained_model__validation_fraction': 0.1,\n",
       " 'trained_model__verbose': 0,\n",
       " 'trained_model__warm_start': False}"
      ]
     },
     "execution_count": 3,
     "metadata": {},
     "output_type": "execute_result"
    }
   ],
   "source": [
    "classifier.get_params()"
   ]
  },
  {
   "cell_type": "code",
   "execution_count": 4,
   "metadata": {},
   "outputs": [],
   "source": [
    "cl_df = pd.read_csv('toy_example_classifier_features.tsv', sep='\\t')"
   ]
  },
  {
   "cell_type": "code",
   "execution_count": 5,
   "metadata": {},
   "outputs": [],
   "source": [
    "cl_y = cl_df['trait1']\n",
    "cl_x = cl_df.drop(columns='trait1')"
   ]
  },
  {
   "cell_type": "code",
   "execution_count": 6,
   "metadata": {},
   "outputs": [
    {
     "data": {
      "text/plain": [
       "0.9595271488679623"
      ]
     },
     "execution_count": 6,
     "metadata": {},
     "output_type": "execute_result"
    }
   ],
   "source": [
    "classifier.score(cl_x, cl_y)"
   ]
  },
  {
   "cell_type": "code",
   "execution_count": 7,
   "metadata": {},
   "outputs": [
    {
     "data": {
      "text/plain": [
       "array([0, 0, 1, ..., 1, 0, 1], dtype=int64)"
      ]
     },
     "execution_count": 7,
     "metadata": {},
     "output_type": "execute_result"
    }
   ],
   "source": [
    "classifier.predict(cl_x)"
   ]
  },
  {
   "cell_type": "code",
   "execution_count": 8,
   "metadata": {},
   "outputs": [],
   "source": [
    "regressor = joblib.load('toy_regressor//toy_regressor.pkl')"
   ]
  },
  {
   "cell_type": "code",
   "execution_count": 9,
   "metadata": {},
   "outputs": [
    {
     "name": "stderr",
     "output_type": "stream",
     "text": [
      "C:\\Users\\aldis\\Miniconda3\\envs\\workenv\\lib\\site-packages\\sklearn\\base.py:213: FutureWarning: From version 0.24, get_params will raise an AttributeError if a parameter cannot be retrieved as an instance attribute. Previously it would return None.\n",
      "  FutureWarning)\n"
     ]
    },
    {
     "data": {
      "text/plain": [
       "{'memory': None,\n",
       " 'steps': [('dtypes',\n",
       "   DataTypes_Auto_infer(display_types=False, ml_usecase='regression',\n",
       "                        target='trait1')),\n",
       "  ('imputer',\n",
       "   Simple_Imputer(categorical_strategy='not_available',\n",
       "                  fill_value_categorical=None, fill_value_numerical=None,\n",
       "                  numeric_strategy='mean', target_variable=None)),\n",
       "  ('new_levels1',\n",
       "   New_Catagorical_Levels_in_TestData(replacement_strategy='least frequent',\n",
       "                                      target='trait1')),\n",
       "  ('ordinal', 'passthrough'),\n",
       "  ('cardinality', 'passthrough'),\n",
       "  ('znz', 'passthrough'),\n",
       "  ('club_R_L', 'passthrough'),\n",
       "  ('new_levels',\n",
       "   New_Catagorical_Levels_in_TestData(replacement_strategy='least frequent',\n",
       "                                      target='trait1')),\n",
       "  ('feature_time',\n",
       "   Make_Time_Features(list_of_features=None,\n",
       "                      time_feature=Index([], dtype='object'))),\n",
       "  ('group', 'passthrough'),\n",
       "  ('nonliner', 'passthrough'),\n",
       "  ('scaling',\n",
       "   Scaling_and_Power_transformation(random_state_quantile=1991, target='trait1')),\n",
       "  ('P_transform', 'passthrough'),\n",
       "  ('binn', 'passthrough'),\n",
       "  ('rem_outliers', 'passthrough'),\n",
       "  ('cluster_all', 'passthrough'),\n",
       "  ('dummy', Dummify(target='trait1')),\n",
       "  ('fix_perfect', Remove_100(target='trait1')),\n",
       "  ('clean_names', Clean_Colum_Names()),\n",
       "  ('feature_select', 'passthrough'),\n",
       "  ('fix_multi', 'passthrough'),\n",
       "  ('dfs', 'passthrough'),\n",
       "  ('pca', 'passthrough'),\n",
       "  ['trained_model', LinearRegression(n_jobs=-1, normalize=True)]],\n",
       " 'verbose': False,\n",
       " 'dtypes': DataTypes_Auto_infer(display_types=False, ml_usecase='regression',\n",
       "                      target='trait1'),\n",
       " 'imputer': Simple_Imputer(categorical_strategy='not_available',\n",
       "                fill_value_categorical=None, fill_value_numerical=None,\n",
       "                numeric_strategy='mean', target_variable=None),\n",
       " 'new_levels1': New_Catagorical_Levels_in_TestData(replacement_strategy='least frequent',\n",
       "                                    target='trait1'),\n",
       " 'ordinal': 'passthrough',\n",
       " 'cardinality': 'passthrough',\n",
       " 'znz': 'passthrough',\n",
       " 'club_R_L': 'passthrough',\n",
       " 'new_levels': New_Catagorical_Levels_in_TestData(replacement_strategy='least frequent',\n",
       "                                    target='trait1'),\n",
       " 'feature_time': Make_Time_Features(list_of_features=None,\n",
       "                    time_feature=Index([], dtype='object')),\n",
       " 'group': 'passthrough',\n",
       " 'nonliner': 'passthrough',\n",
       " 'scaling': Scaling_and_Power_transformation(random_state_quantile=1991, target='trait1'),\n",
       " 'P_transform': 'passthrough',\n",
       " 'binn': 'passthrough',\n",
       " 'rem_outliers': 'passthrough',\n",
       " 'cluster_all': 'passthrough',\n",
       " 'dummy': Dummify(target='trait1'),\n",
       " 'fix_perfect': Remove_100(target='trait1'),\n",
       " 'clean_names': Clean_Colum_Names(),\n",
       " 'feature_select': 'passthrough',\n",
       " 'fix_multi': 'passthrough',\n",
       " 'dfs': 'passthrough',\n",
       " 'pca': 'passthrough',\n",
       " 'trained_model': LinearRegression(n_jobs=-1, normalize=True),\n",
       " 'dtypes__categorical_features': [],\n",
       " 'dtypes__display_types': False,\n",
       " 'dtypes__features_todrop': [],\n",
       " 'dtypes__id_columns': [],\n",
       " 'dtypes__ml_usecase': 'regression',\n",
       " 'dtypes__numerical_features': [],\n",
       " 'dtypes__target': 'trait1',\n",
       " 'dtypes__time_features': [],\n",
       " 'imputer__categorical_strategy': 'not_available',\n",
       " 'imputer__fill_value_categorical': None,\n",
       " 'imputer__fill_value_numerical': None,\n",
       " 'imputer__numeric_strategy': 'mean',\n",
       " 'imputer__target_variable': None,\n",
       " 'new_levels1__replacement_strategy': 'least frequent',\n",
       " 'new_levels1__target': 'trait1',\n",
       " 'new_levels__replacement_strategy': 'least frequent',\n",
       " 'new_levels__target': 'trait1',\n",
       " 'feature_time__list_of_features': None,\n",
       " 'feature_time__time_feature': Index([], dtype='object'),\n",
       " 'scaling__function_to_apply': 'zscore',\n",
       " 'scaling__random_state_quantile': 1991,\n",
       " 'scaling__target': 'trait1',\n",
       " 'dummy__target': 'trait1',\n",
       " 'fix_perfect__target': 'trait1',\n",
       " 'trained_model__copy_X': True,\n",
       " 'trained_model__fit_intercept': True,\n",
       " 'trained_model__n_jobs': -1,\n",
       " 'trained_model__normalize': True}"
      ]
     },
     "execution_count": 9,
     "metadata": {},
     "output_type": "execute_result"
    }
   ],
   "source": [
    "regressor.get_params()"
   ]
  },
  {
   "cell_type": "code",
   "execution_count": 10,
   "metadata": {},
   "outputs": [],
   "source": [
    "reg_df = pd.read_csv('toy_example_regressor_features.tsv', sep='\\t')"
   ]
  },
  {
   "cell_type": "code",
   "execution_count": 11,
   "metadata": {},
   "outputs": [],
   "source": [
    "reg_y = reg_df['trait1']\n",
    "reg_x = reg_df.drop(columns='trait1')"
   ]
  },
  {
   "cell_type": "code",
   "execution_count": 12,
   "metadata": {},
   "outputs": [],
   "source": [
    "reg_pred = regressor.predict(reg_x)"
   ]
  },
  {
   "cell_type": "code",
   "execution_count": 13,
   "metadata": {},
   "outputs": [
    {
     "data": {
      "image/png": "[encoded data removed]",
      "text/plain": [
       "<Figure size 432x288 with 1 Axes>"
      ]
     },
     "metadata": {
      "needs_background": "light"
     },
     "output_type": "display_data"
    }
   ],
   "source": [
    "plt.scatter(reg_pred, reg_y, alpha=0.5)\n",
    "plt.title('Scatter plot')\n",
    "plt.xlabel('predicted')\n",
    "plt.ylabel('actual')\n",
    "plt.show()"
   ]
  }
 ],
 "metadata": {
  "kernelspec": {
   "display_name": "workenv",
   "language": "python",
   "name": "workenv"
  },
  "language_info": {
   "codemirror_mode": {
    "name": "ipython",
    "version": 3
   },
   "file_extension": ".py",
   "mimetype": "text/x-python",
   "name": "python",
   "nbconvert_exporter": "python",
   "pygments_lexer": "ipython3",
   "version": "3.7.5"
  }
 },
 "nbformat": 4,
 "nbformat_minor": 4
}
