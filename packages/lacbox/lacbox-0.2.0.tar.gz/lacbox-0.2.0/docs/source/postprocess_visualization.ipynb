{
 "cells": [
  {
   "cell_type": "markdown",
   "metadata": {},
   "source": [
    "# Post-processing and visualization\n",
    "\n",
    "If you have run many HAWC2 simulations, perhaps on a cluster or using a batch script, it is useful to visualize the statistics. The two steps are to first post-process and then visualize the results.\n",
    "\n",
    "## Post-processing\n",
    "\n",
    "Once the files have been generated, you can use the lacbox to calculate statistics from all of the simulations and save the results into an HDF5 file. The post-processing can be with or without the 10-minute damage-equivalent loads (DELs). Calculating without includes base statistics such as mean, standard deviation, max, min, etc. For more documentation on the post-processing options, please see the API tab to the left.\n",
    "\n",
    "Because post-processing is a heavy computational load, we will not demo it in detail in this notebook. However, here is some code to show you what it would look like.\n",
    "\n",
    "```\n",
    "res_dir = './res/'  # folder with HDF5 HAWC2 files\n",
    "save_path = 'stats.hdf5'  # where to save the stats file\n",
    "calc_del = True  # don't calculate damage-equivalent loads\n",
    "stats_df = process_statistics(res_dir, save_path, calc_del=calc_del)\n",
    "```\n",
    "\n",
    "## Visualization\n",
    "\n",
    "Below is some code demonstrating how you can use pandas to visualize the results in the HDF5 file.\n",
    "\n",
    "### Load the HDF5 file and examine its structure"
   ]
  },
  {
   "cell_type": "code",
   "execution_count": null,
   "metadata": {},
   "outputs": [],
   "source": [
    "from pathlib import Path\n",
    "import matplotlib.pyplot as plt\n",
    "import numpy as np\n",
    "import pandas as pd\n",
    "\n",
    "from lacbox.io import ReadHAWC2\n",
    "from lacbox.test import test_data_path\n",
    "\n",
    "res_name = Path(test_data_path) / 'dtu_10mw_steady_stats.hdf5'\n",
    "stats_df = pd.read_hdf(res_name, 'stats_df')"
   ]
  },
  {
   "cell_type": "markdown",
   "metadata": {},
   "source": [
    "Let's first familiarize ourselves with the structure of the stats file."
   ]
  },
  {
   "cell_type": "code",
   "execution_count": null,
   "metadata": {},
   "outputs": [],
   "source": [
    "print(stats_df.shape)\n",
    "stats_df.columns"
   ]
  },
  {
   "cell_type": "markdown",
   "metadata": {},
   "source": [
    "There are 4998 rows, each corresponding to a single channel in a single file. The columns are:\n",
    " * `path`: the full path to the HAWC2 time-marching result file\n",
    " * `filename`: the name of the HAWC2 file\n",
    " * `subfolder`: the name of the subfolder, if the htc file was in one\n",
    " * `ichan`: the channel index, matching pdap (i.e., starting from 1)\n",
    " * `mean`, `max`, etc.: the value of the corresponding statistic\n",
    " * `X%`: the value of the corresponding percentile\n",
    " * `delX`: the 10-minute damage-equivalent fatigue load, calculated with the indicated value for the Wöhler exponent\n",
    "\n",
    "Note that there is **NO** metadata for the channels saved. If you want to know which channel is which or what units, you will need to load a single time series into Pdap to determine the channel indices that you are interested in.\n",
    "\n",
    "This dataset is the DTU 10 MW operating with steady wind, no tower shadow, and no shear. The dataset includes two sets of simulations: with normal tilt and with tilt set to 0. Each case was saved in a subfolder, and we can examine their names."
   ]
  },
  {
   "cell_type": "code",
   "execution_count": null,
   "metadata": {},
   "outputs": [],
   "source": [
    "stats_df.subfolder.unique()"
   ]
  },
  {
   "cell_type": "markdown",
   "metadata": {},
   "source": [
    "### Isolate data of interest and make plots\n",
    "\n",
    "Let's make a plot of some data versus mean wind speed for the two cases to investigate the effects of tilt on mean loads.\n",
    "\n",
    "Start by defining a dictionary that maps some human-friendly names to the channel indices for this dataset."
   ]
  },
  {
   "cell_type": "code",
   "execution_count": null,
   "metadata": {},
   "outputs": [],
   "source": [
    "chans = dict(wsp=15, omega=10, pitch=4, power=111, gentrq=81,  # wsp, rotor speed, pitch, power, generator torque\n",
    "             tbfa=19, tbss=20, ttpt=22, ttrl=23,  # tower-base fore-aft and side-side, tower-top pitch and roll\n",
    "             fbrm=37, ebrm=38)  # flapwise and edgewise blade-root moment"
   ]
  },
  {
   "cell_type": "markdown",
   "metadata": {},
   "source": [
    "Now let's isolate the two cases with and without tilt."
   ]
  },
  {
   "cell_type": "code",
   "execution_count": null,
   "metadata": {},
   "outputs": [],
   "source": [
    "tilt_df = stats_df[stats_df.subfolder == 'tilt']\n",
    "notilt_df = stats_df[stats_df.subfolder == 'notilt']"
   ]
  },
  {
   "cell_type": "markdown",
   "metadata": {},
   "source": [
    "And finally let's plot our channels of interest in a quick plot."
   ]
  },
  {
   "cell_type": "code",
   "execution_count": null,
   "metadata": {},
   "outputs": [],
   "source": [
    "plot_chans = ['omega', 'pitch', 'power', 'gentrq', 'tbfa', 'tbss', 'ttpt', 'ttrl', 'fbrm', 'ebrm']\n",
    "fig, axs = plt.subplots(5, 2, num=1, figsize=(12, 14), clear=True)\n",
    "for i, chan in enumerate(plot_chans):\n",
    "    ax = axs.flatten()[i]\n",
    "    # get the mean value for that channel\n",
    "    tilt_mean = tilt_df.loc[tilt_df.ichan == chans[chan], 'mean']\n",
    "    notilt_mean = notilt_df.loc[notilt_df.ichan == chans[chan], 'mean']\n",
    "    # plot versus mean wsp\n",
    "    ax.plot(tilt_df.loc[tilt_df.ichan == chans['wsp'], 'mean'], tilt_mean, 'o', label='With tilt')\n",
    "    ax.plot(notilt_df.loc[notilt_df.ichan == chans['wsp'], 'mean'], notilt_mean, 'x', label='Without tilt')\n",
    "    # prettify\n",
    "    ax.grid()\n",
    "    ax.set(title=chan)\n",
    "\n",
    "axs[0, 0].legend()\n",
    "\n",
    "fig.tight_layout()"
   ]
  },
  {
   "cell_type": "markdown",
   "metadata": {},
   "source": [
    "We can see that tilt does not significantly impact the steady-state operational values for the turbine or the tower-base fore-aft moment. However, it does have an impact on the tower-base side-side moment and a very significant impact on the towertop pitch moment. This makes sense, as pitch creates an imbalanced load on the rotor in the lateral and vertical directions, and this extra loads increase in magnitude with wind speed.\n",
    "\n",
    "Let's identify which simulation has the largest tower-base for-aft moment for both cases."
   ]
  },
  {
   "cell_type": "code",
   "execution_count": null,
   "metadata": {},
   "outputs": [],
   "source": [
    "chan = 'tbfa'\n",
    "\n",
    "idxmax = tilt_df.loc[tilt_df.ichan == chans[chan], 'mean'].idxmax()\n",
    "print('Max-TBFA simulation with tilt:', tilt_df.loc[idxmax, 'filename'])\n",
    "print('  Max load:', tilt_df.loc[idxmax, 'mean'], 'kNm')\n",
    "\n",
    "idxmax = notilt_df.loc[notilt_df.ichan == chans[chan], 'mean'].idxmax()\n",
    "print('Max-TBFA simulation without tilt:', notilt_df.loc[idxmax, 'filename'])\n",
    "print('  Max load:', notilt_df.loc[idxmax, 'mean'], 'kNm')"
   ]
  },
  {
   "cell_type": "markdown",
   "metadata": {},
   "source": [
    "As expected, both have peaks at 11 m/s, which is near rated."
   ]
  },
  {
   "cell_type": "markdown",
   "metadata": {},
   "source": []
  }
 ],
 "metadata": {
  "kernelspec": {
   "display_name": "Python 3 (ipykernel)",
   "language": "python",
   "name": "python3"
  },
  "language_info": {
   "codemirror_mode": {
    "name": "ipython",
    "version": 3
   },
   "file_extension": ".py",
   "mimetype": "text/x-python",
   "name": "python",
   "nbconvert_exporter": "python",
   "pygments_lexer": "ipython3",
   "version": "3.7.3"
  }
 },
 "nbformat": 4,
 "nbformat_minor": 2
}
