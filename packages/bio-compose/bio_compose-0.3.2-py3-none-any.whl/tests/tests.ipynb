{
 "cells": [
  {
   "cell_type": "code",
   "execution_count": 1,
   "metadata": {},
   "outputs": [],
   "source": [
    "from bio_compose.runner import SimulationRunner"
   ]
  },
  {
   "cell_type": "code",
   "execution_count": 2,
   "metadata": {},
   "outputs": [
    {
     "name": "stdout",
     "output_type": "stream",
     "text": [
      "{'bio-composer-message': 'Hello from the BioComposer!'}\n"
     ]
    }
   ],
   "source": [
    "runner = SimulationRunner()"
   ]
  },
  {
   "cell_type": "code",
   "execution_count": 3,
   "metadata": {},
   "outputs": [
    {
     "data": {
      "text/plain": [
       "{'status': 'PENDING',\n",
       " 'job_id': 'files-generate-simularium-file75d8bdc8-0bca-4dd4-8983-561a178fecf4',\n",
       " 'timestamp': '2024-08-19 12:49:43.291403',\n",
       " 'path': 'file_uploads/files-generate-simularium-file75d8bdc8-0bca-4dd4-8983-561a178fecf4/modelout.txt',\n",
       " 'filename': 'simulation',\n",
       " 'box_size': 10.0,\n",
       " 'translate_output': True,\n",
       " 'validate_output': True,\n",
       " 'agent_parameters': {}}"
      ]
     },
     "execution_count": 3,
     "metadata": {},
     "output_type": "execute_result"
    }
   ],
   "source": [
    "simularium_job = runner.generate_simularium_file(smoldyn_output_filepath='./fixtures/smoldyn/modelout.txt', box_size=10.0)"
   ]
  },
  {
   "cell_type": "code",
   "execution_count": 4,
   "metadata": {},
   "outputs": [],
   "source": [
    "simularium_job_id = simularium_job['job_id']"
   ]
  },
  {
   "cell_type": "code",
   "execution_count": 5,
   "metadata": {},
   "outputs": [
    {
     "data": {
      "text/plain": [
       "True"
      ]
     },
     "execution_count": 5,
     "metadata": {},
     "output_type": "execute_result"
    }
   ],
   "source": [
    "import os\n",
    "\n",
    "simularium_output = runner.get_output(job_id=simularium_job_id, download_dest='./fixtures/smoldyn')\n",
    "\n",
    "os.path.exists(simularium_output['results_file'])"
   ]
  },
  {
   "cell_type": "code",
   "execution_count": null,
   "metadata": {},
   "outputs": [],
   "source": []
  }
 ],
 "metadata": {
  "kernelspec": {
   "display_name": "bio-compose-DFUqqbT8-py3.10",
   "language": "python",
   "name": "python3"
  },
  "language_info": {
   "codemirror_mode": {
    "name": "ipython",
    "version": 3
   },
   "file_extension": ".py",
   "mimetype": "text/x-python",
   "name": "python",
   "nbconvert_exporter": "python",
   "pygments_lexer": "ipython3",
   "version": "3.10.14"
  }
 },
 "nbformat": 4,
 "nbformat_minor": 2
}
