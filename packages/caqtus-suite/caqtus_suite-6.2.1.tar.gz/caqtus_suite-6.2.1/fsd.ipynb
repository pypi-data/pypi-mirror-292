{
 "cells": [
  {
   "cell_type": "code",
   "id": "initial_id",
   "metadata": {
    "collapsed": true,
    "ExecuteTime": {
     "end_time": "2024-08-22T19:22:24.097024Z",
     "start_time": "2024-08-22T19:22:24.093040Z"
    }
   },
   "source": [
    "from caqtus.device import RuntimeDevice\n",
    "\n",
    "\n",
    "class DeviceException(Exception):\n",
    "    pass\n",
    "\n",
    "\n",
    "exceptions = []\n",
    "\n",
    "try:\n",
    "    raise DeviceException(\"Dev1\") from TimeoutError(\"Timeout\")\n",
    "except DeviceException as e:\n",
    "    exceptions.append(e)\n",
    "\n",
    "try:\n",
    "    raise DeviceException(\"Dev2\") from RuntimeError(\"err\")\n",
    "except DeviceException as e:\n",
    "    exceptions.append(e)\n",
    "try:\n",
    "    raise ExceptionGroup(\"Device errors\", exceptions)\n",
    "except *DeviceException as e:\n",
    "    to_retry, others = e.split(split)"
   ],
   "outputs": [],
   "execution_count": 6
  },
  {
   "metadata": {
    "ExecuteTime": {
     "end_time": "2024-08-22T19:22:19.984976Z",
     "start_time": "2024-08-22T19:22:19.982148Z"
    }
   },
   "cell_type": "code",
   "source": [
    "def split(exc):\n",
    "    return isinstance(exc.__cause__, (TimeoutError,))"
   ],
   "id": "c37fcde630e85885",
   "outputs": [],
   "execution_count": 5
  },
  {
   "metadata": {
    "ExecuteTime": {
     "end_time": "2024-08-22T19:22:44.092168Z",
     "start_time": "2024-08-22T19:22:44.088345Z"
    }
   },
   "cell_type": "code",
   "source": "raise others",
   "id": "c9cc5ec082e9d249",
   "outputs": [
    {
     "name": "stderr",
     "output_type": "stream",
     "text": [
      "  + Exception Group Traceback (most recent call last):\n",
      "  |   File \"C:\\Users\\bloch\\AppData\\Local\\hatch\\env\\virtual\\caqtus-suite\\Q4Wzg5sf\\caqtus-suite\\Lib\\site-packages\\IPython\\core\\interactiveshell.py\", line 3577, in run_code\n",
      "  |     exec(code_obj, self.user_global_ns, self.user_ns)\n",
      "  |   File \"C:\\Users\\bloch\\AppData\\Local\\Temp\\ipykernel_39608\\934014642.py\", line 1, in <module>\n",
      "  |     raise others\n",
      "  |   File \"C:\\Users\\bloch\\AppData\\Local\\Temp\\ipykernel_39608\\1197189229.py\", line 20, in <module>\n",
      "  |     raise ExceptionGroup(\"Device errors\", exceptions)\n",
      "  | ExceptionGroup: Device errors (1 sub-exception)\n",
      "  +-+---------------- 1 ----------------\n",
      "    | RuntimeError: err\n",
      "    | \n",
      "    | The above exception was the direct cause of the following exception:\n",
      "    | \n",
      "    | Traceback (most recent call last):\n",
      "    |   File \"C:\\Users\\bloch\\AppData\\Local\\Temp\\ipykernel_39608\\1197189229.py\", line 16, in <module>\n",
      "    |     raise DeviceException(\"Dev2\") from RuntimeError(\"err\")\n",
      "    | DeviceException: Dev2\n",
      "    +------------------------------------\n"
     ]
    }
   ],
   "execution_count": 9
  }
 ],
 "metadata": {
  "kernelspec": {
   "display_name": "Python 3",
   "language": "python",
   "name": "python3"
  },
  "language_info": {
   "codemirror_mode": {
    "name": "ipython",
    "version": 2
   },
   "file_extension": ".py",
   "mimetype": "text/x-python",
   "name": "python",
   "nbconvert_exporter": "python",
   "pygments_lexer": "ipython2",
   "version": "2.7.6"
  }
 },
 "nbformat": 4,
 "nbformat_minor": 5
}
