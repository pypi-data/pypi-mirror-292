{
 "cells": [
  {
   "metadata": {
    "ExecuteTime": {
     "end_time": "2024-04-09T15:58:05.270668Z",
     "start_time": "2024-04-09T15:58:05.105210Z"
    }
   },
   "cell_type": "code",
   "source": [
    "from hgraph.notebook import *\n",
    "from hgraph import const"
   ],
   "id": "83091c3c54e93614",
   "execution_count": 1,
   "outputs": []
  },
  {
   "metadata": {
    "ExecuteTime": {
     "end_time": "2024-04-09T15:58:05.289952Z",
     "start_time": "2024-04-09T15:58:05.275967Z"
    }
   },
   "cell_type": "code",
   "source": "start_wiring_graph(\"test\")",
   "id": "ffcea363a77eccaa",
   "execution_count": 2,
   "outputs": []
  },
  {
   "metadata": {
    "ExecuteTime": {
     "end_time": "2024-04-09T15:58:05.302837Z",
     "start_time": "2024-04-09T15:58:05.291638Z"
    }
   },
   "cell_type": "code",
   "source": "c = const(\"Hello World\")",
   "id": "b75e040e76e2c332",
   "execution_count": 3,
   "outputs": []
  },
  {
   "metadata": {
    "ExecuteTime": {
     "end_time": "2024-04-09T15:58:05.342768Z",
     "start_time": "2024-04-09T15:58:05.311140Z"
    }
   },
   "cell_type": "code",
   "source": "c.eval()",
   "id": "e365347f6bf95e97",
   "execution_count": 4,
   "outputs": []
  },
  {
   "metadata": {
    "ExecuteTime": {
     "end_time": "2024-04-09T16:10:04.195811Z",
     "start_time": "2024-04-09T16:10:04.193461Z"
    }
   },
   "cell_type": "code",
   "source": [
    "from hgraph import debug_print\n",
    "debug_print(\"Message\", c)"
   ],
   "id": "29632fec8dfd3da9",
   "execution_count": 6,
   "outputs": []
  },
  {
   "metadata": {
    "ExecuteTime": {
     "end_time": "2024-04-09T16:10:06.031871Z",
     "start_time": "2024-04-09T16:10:06.027611Z"
    }
   },
   "cell_type": "code",
   "source": "notebook_evaluate_graph()",
   "id": "b3368bcddad353c9",
   "execution_count": 7,
   "outputs": []
  },
  {
   "metadata": {},
   "cell_type": "code",
   "execution_count": null,
   "source": "",
   "id": "34a18e94f10865d4",
   "outputs": []
  }
 ],
 "metadata": {
  "kernelspec": {
   "display_name": "Python 3",
   "language": "python",
   "name": "python3"
  },
  "language_info": {
   "codemirror_mode": {
    "name": "ipython",
    "version": 2
   },
   "file_extension": ".py",
   "mimetype": "text/x-python",
   "name": "python",
   "nbconvert_exporter": "python",
   "pygments_lexer": "ipython2",
   "version": "2.7.6"
  }
 },
 "nbformat": 4,
 "nbformat_minor": 5
}
