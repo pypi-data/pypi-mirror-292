{
 "cells": [
  {
   "cell_type": "code",
   "execution_count": 1,
   "metadata": {
    "scrolled": false
   },
   "outputs": [
    {
     "name": "stdout",
     "output_type": "stream",
     "text": [
      "\n",
      "  _                  _                        _                    \n",
      " | |_ _ __ __ _  ___| | __   __ _ _ __   __ _| |_   _ _______ _ __ \n",
      " | __| '__/ _` |/ __| |/ /  / _` | '_ \\ / _` | | | | |_  / _ \\ '__|\n",
      " | |_| | | (_| | (__|   <  | (_| | | | | (_| | | |_| |/ /  __/ |   \n",
      "  \\__|_|  \\__,_|\\___|_|\\_\\  \\__,_|_| |_|\\__,_|_|\\__, /___\\___|_|   \n",
      "                                                |___/            \n",
      "\n",
      " Track Analyzer - Quantification and visualization of tracking data. \n",
      "\n",
      " Developed and maintained by Arthur Michaut: arthur.michaut@gmail.com \n",
      "\n",
      "\n"
     ]
    },
    {
     "data": {
      "text/html": [
       "<script>\n",
       "code_show=true; \n",
       "function code_toggle() {\n",
       " if (code_show){\n",
       " $('div.input').hide();\n",
       " } else {\n",
       " $('div.input').show();\n",
       " }\n",
       " code_show = !code_show\n",
       "} \n",
       "$( document ).ready(code_toggle);\n",
       "</script>\n",
       "<form action=\"javascript:code_toggle()\"><input type=\"submit\" value=\"Click here to toggle on/off the raw code.\"></form>"
      ],
      "text/plain": [
       "<IPython.core.display.HTML object>"
      ]
     },
     "execution_count": 1,
     "metadata": {},
     "output_type": "execute_result"
    }
   ],
   "source": [
    "import os\n",
    "import os.path as osp\n",
    "import pickle\n",
    "import napari\n",
    "from skimage import io\n",
    "from skimage.color import rgb2gray\n",
    "import matplotlib.pyplot as plt\n",
    "from matplotlib import cm\n",
    "import numpy as np\n",
    "import seaborn as sns\n",
    "import pandas as pd\n",
    "\n",
    "import warnings\n",
    "\n",
    "import ipywidgets as widgets\n",
    "from ipywidgets import HBox, VBox, interact, interact_manual, TwoByTwoLayout, GridspecLayout, Label, AppLayout\n",
    "from ipyfilechooser import FileChooser\n",
    "from IPython.display import HTML, Markdown, display, clear_output\n",
    "from traitlets import traitlets\n",
    "\n",
    "from track_analyzer import prepare as tpr\n",
    "from track_analyzer import plotting as tpl\n",
    "from track_analyzer import calculate as tca\n",
    "from track_analyzer.scripts.analyze_tracks import traj_analysis\n",
    "from track_analyzer.scripts.analyze_maps import map_analysis\n",
    "from track_analyzer.scripts.compare_datasets import compare_datasets\n",
    "\n",
    "from napari.settings import get_settings\n",
    "get_settings().application.ipy_interactive = False  # disable interactive usage of Napari viewer (necessary for tpr.get_coordinates)\n",
    "\n",
    "warnings.filterwarnings('ignore')\n",
    "\n",
    "%matplotlib inline\n",
    "\n",
    "def printmd(string):\n",
    "    display(Markdown(string))\n",
    "\n",
    "cwd = os.getcwd()  # working directory\n",
    "plot_param = tpl.make_plot_config()  # some config parameters\n",
    "color_list = plot_param['color_list']  # a list of colors often used\n",
    "\n",
    "\n",
    "# Hide code \n",
    "HTML('''<script>\n",
    "code_show=true; \n",
    "function code_toggle() {\n",
    " if (code_show){\n",
    " $('div.input').hide();\n",
    " } else {\n",
    " $('div.input').show();\n",
    " }\n",
    " code_show = !code_show\n",
    "} \n",
    "$( document ).ready(code_toggle);\n",
    "</script>\n",
    "<form action=\"javascript:code_toggle()\"><input type=\"submit\" value=\"Click here to toggle on/off the raw code.\"></form>''')\n"
   ]
  },
  {
   "cell_type": "markdown",
   "metadata": {},
   "source": [
    "# Preparation module\n",
    "## Loading data"
   ]
  },
  {
   "cell_type": "code",
   "execution_count": 2,
   "metadata": {
    "scrolled": false
   },
   "outputs": [
    {
     "data": {
      "text/markdown": [
       "**Browse your file system to the table of tracked data (only .txt and .csv are supported)**"
      ],
      "text/plain": [
       "<IPython.core.display.Markdown object>"
      ]
     },
     "metadata": {},
     "output_type": "display_data"
    },
    {
     "data": {
      "application/vnd.jupyter.widget-view+json": {
       "model_id": "63dc4f03181948059a5ce107d59434f6",
       "version_major": 2,
       "version_minor": 0
      },
      "text/plain": [
       "FileChooser(path='/Users/amichaut/Documents/Work/codes/track-analyzer', filename='', title='HTML(value='<b>Tra…"
      ]
     },
     "metadata": {},
     "output_type": "display_data"
    },
    {
     "data": {
      "text/markdown": [
       "**Give information about the input file format**"
      ],
      "text/plain": [
       "<IPython.core.display.Markdown object>"
      ]
     },
     "metadata": {},
     "output_type": "display_data"
    },
    {
     "data": {
      "application/vnd.jupyter.widget-view+json": {
       "model_id": "69095416971b40e28f4e30f63744e75a",
       "version_major": 2,
       "version_minor": 0
      },
      "text/plain": [
       "Dropdown(description='column separator:', options=(',', ';', 'tab', ' '), style=DescriptionStyle(description_w…"
      ]
     },
     "metadata": {},
     "output_type": "display_data"
    },
    {
     "data": {
      "application/vnd.jupyter.widget-view+json": {
       "model_id": "2ab4c07e6a7440488912fa5aa8f11b73",
       "version_major": 2,
       "version_minor": 0
      },
      "text/plain": [
       "Checkbox(value=True, description='First row = column names')"
      ]
     },
     "metadata": {},
     "output_type": "display_data"
    },
    {
     "data": {
      "application/vnd.jupyter.widget-view+json": {
       "model_id": "6f1be96907c44e488f1af8674daa9387",
       "version_major": 2,
       "version_minor": 0
      },
      "text/plain": [
       "Checkbox(value=False, description='Trackmate (version 7) csv file')"
      ]
     },
     "metadata": {},
     "output_type": "display_data"
    }
   ],
   "source": [
    "#choose positions file\n",
    "fc_table = FileChooser(cwd)\n",
    "fc_table.use_dir_icons = True\n",
    "fc_table.title = '<b>Tracking data file</b>'\n",
    "\n",
    "sep_wid = widgets.Dropdown(options=[',',';', 'tab', ' '],value=',',description='column separator:',style={'description_width': 'initial'})\n",
    "header_wid = widgets.Checkbox(value=True, description='First row = column names')\n",
    "trackmate_wid = widgets.Checkbox(value=False, description='Trackmate (version 7) csv file')\n",
    "\n",
    "printmd(\"\"\"**Browse your file system to the table of tracked data (only .txt and .csv are supported)**\"\"\")\n",
    "\n",
    "display(fc_table)\n",
    "\n",
    "printmd(\"\"\"**Give information about the input file format**\"\"\")\n",
    "\n",
    "display(sep_wid, header_wid, trackmate_wid)"
   ]
  },
  {
   "cell_type": "code",
   "execution_count": 3,
   "metadata": {
    "scrolled": true
   },
   "outputs": [
    {
     "data": {
      "text/markdown": [
       "**(Optional) Browse your file system to the image file**  \n",
       "        You can plot your data on your image. The image can be a single image or a stack (a 2D time series or a 3D time series). \n",
       "        Only tif images are supported. "
      ],
      "text/plain": [
       "<IPython.core.display.Markdown object>"
      ]
     },
     "metadata": {},
     "output_type": "display_data"
    },
    {
     "data": {
      "application/vnd.jupyter.widget-view+json": {
       "model_id": "e858eca5942f45eeb0a920dab9518734",
       "version_major": 2,
       "version_minor": 0
      },
      "text/plain": [
       "FileChooser(path='/Users/amichaut/Desktop/20220224_Utag/TA', filename='', title='HTML(value='<b>Image file</b>…"
      ]
     },
     "metadata": {},
     "output_type": "display_data"
    }
   ],
   "source": [
    "# get position file path\n",
    "data_dir = fc_table.selected_path\n",
    "data_file = fc_table.selected\n",
    "\n",
    "if data_file is None: \n",
    "    raise Exception(\"**ERROR: no data table has been selected**\")\n",
    "\n",
    "# choose image file\n",
    "printmd(\"\"\"**(Optional) Browse your file system to the image file**  \n",
    "        You can plot your data on your image. The image can be a single image or a stack (a 2D time series or a 3D time series). \n",
    "        Only tif images are supported. \"\"\")\n",
    "\n",
    "fc_im = FileChooser(data_dir)\n",
    "fc_im.use_dir_icons = True\n",
    "fc_im.title = '<b>Image file</b>'\n",
    "\n",
    "display(fc_im)\n"
   ]
  },
  {
   "cell_type": "code",
   "execution_count": 4,
   "metadata": {
    "scrolled": false
   },
   "outputs": [
    {
     "name": "stdout",
     "output_type": "stream",
     "text": [
      "You have loaded a 3D image: (2859x1028) pixels with 200 time steps\n"
     ]
    },
    {
     "data": {
      "text/markdown": [
       "---"
      ],
      "text/plain": [
       "<IPython.core.display.Markdown object>"
      ]
     },
     "metadata": {},
     "output_type": "display_data"
    }
   ],
   "source": [
    "# get image file path\n",
    "im_file = fc_im.selected\n",
    "#im_file = \"/Users/amichaut/Desktop/Fluo-N3DH-CE/stack.tif\"\n",
    "\n",
    "# analyze image\n",
    "y_size,x_size = [512,512] #default size of an image to inialize the make info widget \n",
    "image = tpr.get_image(data_dir,filename=im_file,verbose=True)\n",
    "if image['image_size'] is not None:\n",
    "    y_size,x_size = image['image_size']\n",
    "    get_image_size = False\n",
    "else: \n",
    "    get_image_size = True  # to call get_image again after info.txt is generated\n",
    "\n",
    "# swap z and t dimensions if needed \n",
    "check_swap_wid = False  # bool to retrieve swap_wid value if necessary\n",
    "if image['t_dim'] is not None and image['z_dim'] is not None:\n",
    "    check_swap_wid=True\n",
    "    printmd(\"If there is an error between t and z dimension, you can swap these dimensions\")\n",
    "    swap_wid = widgets.ToggleButton(value=False,description='Swap z and t') \n",
    "    display(swap_wid)\n",
    "\n",
    "# refresh database and info if needed\n",
    "database_fn=osp.join(data_dir,'data_base.p')\n",
    "info_fn=osp.join(data_dir,'info.txt')\n",
    "printmd(\"---\")\n",
    "if osp.exists(database_fn):\n",
    "    printmd('The database already exists, do you want to refresh it?')\n",
    "    refresh_db_wid=widgets.ToggleButton(value=False,description='Refresh database')\n",
    "    display(refresh_db_wid)\n",
    "if osp.exists(info_fn):   \n",
    "    printmd(\"The info.txt file already exists, do you want to refresh it?\")\n",
    "    refresh_info_wid=widgets.ToggleButton(value=False,description='Refresh info')\n",
    "    display(refresh_info_wid)"
   ]
  },
  {
   "cell_type": "code",
   "execution_count": 5,
   "metadata": {
    "code_folding": [],
    "scrolled": true
   },
   "outputs": [
    {
     "data": {
      "text/markdown": [
       "**Don't forget to run this cell!**"
      ],
      "text/plain": [
       "<IPython.core.display.Markdown object>"
      ]
     },
     "metadata": {},
     "output_type": "display_data"
    },
    {
     "data": {
      "text/markdown": [
       "**Information about the data**"
      ],
      "text/plain": [
       "<IPython.core.display.Markdown object>"
      ]
     },
     "metadata": {},
     "output_type": "display_data"
    },
    {
     "data": {
      "application/vnd.jupyter.widget-view+json": {
       "model_id": "1380386f64d445689b4e7c3b64b19a35",
       "version_major": 2,
       "version_minor": 0
      },
      "text/plain": [
       "HBox(children=(VBox(children=(Dropdown(description='Length unit:', options=('um', 'mm', 'au'), style=Descripti…"
      ]
     },
     "metadata": {},
     "output_type": "display_data"
    },
    {
     "data": {
      "text/markdown": [
       "In the data table, are the positions given in pixels or in the length unit (given above)?"
      ],
      "text/plain": [
       "<IPython.core.display.Markdown object>"
      ]
     },
     "metadata": {},
     "output_type": "display_data"
    },
    {
     "data": {
      "application/vnd.jupyter.widget-view+json": {
       "model_id": "94ccd25dba9b4bab977bc2947c2282a0",
       "version_major": 2,
       "version_minor": 0
      },
      "text/plain": [
       "Dropdown(description='Data unit:', options=('px', 'unit'), style=DescriptionStyle(description_width='initial')…"
      ]
     },
     "metadata": {},
     "output_type": "display_data"
    },
    {
     "data": {
      "text/markdown": [
       "If the lengthscale in z is different from the xy lengthscale, enter the z step (in length unit). If not, leave it to zero."
      ],
      "text/plain": [
       "<IPython.core.display.Markdown object>"
      ]
     },
     "metadata": {},
     "output_type": "display_data"
    },
    {
     "data": {
      "application/vnd.jupyter.widget-view+json": {
       "model_id": "2cb115000e9a4a56b169e1d3a596f8f9",
       "version_major": 2,
       "version_minor": 0
      },
      "text/plain": [
       "BoundedFloatText(value=0.0, description='z step:', max=10000.0, style=DescriptionStyle(description_width='init…"
      ]
     },
     "metadata": {},
     "output_type": "display_data"
    }
   ],
   "source": [
    "printmd(\"**Don't forget to run this cell!**\")  # no output cell, make it visible\n",
    "\n",
    "#swap z and t\n",
    "if check_swap_wid:\n",
    "    if swap_wid.value:\n",
    "        t_dim = image['t_dim']\n",
    "        z_dim = image['z_dim']\n",
    "        image['t_dim'] = z_dim\n",
    "        image['z_dim'] = t_dim\n",
    "        printmd(\"**z and t swapped!**\")\n",
    "        im = io.imread(image['image_fn'])\n",
    "        printmd(\"4D image with {} time steps and {} z slices\".format(im.shape[image['t_dim']],im.shape[image['z_dim']]))\n",
    "        del im  # free memory \n",
    "\n",
    "# retrieve refresh widgets values\n",
    "refresh_db = refresh_db_wid.value if osp.exists(database_fn) else True\n",
    "refresh_info = refresh_info_wid.value if osp.exists(info_fn) else True\n",
    "\n",
    "# get info\n",
    "if refresh_info:\n",
    "    length_unit_wid=widgets.Dropdown(options=['um', 'mm', 'au'],value='um',description='Length unit:',style={'description_width': 'initial'})\n",
    "    time_unit_wid=widgets.Dropdown(options=['min', 's', 'hr', 'au'],value='min',description='Time unit:',style={'description_width': 'initial'})\n",
    "    length_sc_wid=widgets.BoundedFloatText(value=1.0,min=0,max=1e4,description='Pixel size:',style={'description_width': 'initial'})\n",
    "    z_sc_wid=widgets.BoundedFloatText(value=0,min=0,max=1e4,description='z step:',style={'description_width': 'initial'})\n",
    "    time_sc_wid=widgets.BoundedFloatText(value=1.0,min=0,max=1e4,description='Frame interval:',style={'description_width': 'initial'})    \n",
    "    width_wid=widgets.BoundedIntText(value=x_size,min=0,max=1e4,description='Image width (px):',style={'description_width': 'initial'})\n",
    "    height_wid=widgets.BoundedIntText(value=y_size,min=0,max=1e4,description='Image height (px):',style={'description_width': 'initial'})\n",
    "    \n",
    "    left_box = VBox([length_unit_wid, time_unit_wid,width_wid])\n",
    "    right_box = VBox([length_sc_wid, time_sc_wid,height_wid])\n",
    "    box = HBox([left_box, right_box])\n",
    "    printmd(\"**Information about the data**\")\n",
    "    display(box)\n",
    "    printmd(\"In the data table, are the positions given in pixels or in the length unit (given above)?\")\n",
    "    table_unit_wid=widgets.Dropdown(options=['px', 'unit'],value='px',description='Data unit:',style={'description_width': 'initial'})\n",
    "    display(table_unit_wid)\n",
    "    printmd(\"If the lengthscale in z is different from the xy lengthscale, enter the z step (in length unit). If not, leave it to zero.\")\n",
    "    display(z_sc_wid)\n",
    "    \n",
    "    wid_list = [length_unit_wid,time_unit_wid,length_sc_wid,time_sc_wid,width_wid,height_wid,table_unit_wid,z_sc_wid]\n",
    "    param_names = ['length_unit','time_unit','lengthscale','timescale','image_width','image_height','table_unit','z_step']\n"
   ]
  },
  {
   "cell_type": "code",
   "execution_count": 11,
   "metadata": {
    "code_folding": [],
    "scrolled": true
   },
   "outputs": [
    {
     "data": {
      "text/markdown": [
       "**Don't forget to run this cell!**"
      ],
      "text/plain": [
       "<IPython.core.display.Markdown object>"
      ]
     },
     "metadata": {},
     "output_type": "display_data"
    },
    {
     "name": "stdout",
     "output_type": "stream",
     "text": [
      "You have loaded a 3D image: (2859x1028) pixels with 200 time steps\n"
     ]
    }
   ],
   "source": [
    "printmd(\"**Don't forget to run this cell!**\")  # no output cell, make it visible\n",
    "\n",
    "# save info as txt file\n",
    "if refresh_info:\n",
    "    info = {}\n",
    "    with open(info_fn,'w+') as f:\n",
    "        for couple in zip(param_names,wid_list):\n",
    "            info[couple[0]]=couple[1].value\n",
    "            f.write('{}:{}\\n'.format(couple[0],couple[1].value))\n",
    "else: \n",
    "    info = tpr.get_info(data_dir)\n",
    "    \n",
    "image = tpr.get_image(data_dir,filename=im_file,verbose=True)"
   ]
  },
  {
   "cell_type": "code",
   "execution_count": 22,
   "metadata": {
    "scrolled": false
   },
   "outputs": [
    {
     "data": {
      "text/markdown": [
       "**Don't forget to run this cell!**"
      ],
      "text/plain": [
       "<IPython.core.display.Markdown object>"
      ]
     },
     "metadata": {},
     "output_type": "display_data"
    },
    {
     "data": {
      "text/markdown": [
       "**Here are the first rows of the input data table**"
      ],
      "text/plain": [
       "<IPython.core.display.Markdown object>"
      ]
     },
     "metadata": {},
     "output_type": "display_data"
    },
    {
     "data": {
      "text/html": [
       "<div>\n",
       "<style scoped>\n",
       "    .dataframe tbody tr th:only-of-type {\n",
       "        vertical-align: middle;\n",
       "    }\n",
       "\n",
       "    .dataframe tbody tr th {\n",
       "        vertical-align: top;\n",
       "    }\n",
       "\n",
       "    .dataframe thead th {\n",
       "        text-align: right;\n",
       "    }\n",
       "</style>\n",
       "<table border=\"1\" class=\"dataframe\">\n",
       "  <thead>\n",
       "    <tr style=\"text-align: right;\">\n",
       "      <th></th>\n",
       "      <th>LABEL</th>\n",
       "      <th>ID</th>\n",
       "      <th>TRACK_ID</th>\n",
       "      <th>QUALITY</th>\n",
       "      <th>POSITION_X</th>\n",
       "      <th>POSITION_Y</th>\n",
       "      <th>POSITION_Z</th>\n",
       "      <th>POSITION_T</th>\n",
       "      <th>FRAME</th>\n",
       "      <th>RADIUS</th>\n",
       "      <th>...</th>\n",
       "      <th>ELLIPSE_X0</th>\n",
       "      <th>ELLIPSE_Y0</th>\n",
       "      <th>ELLIPSE_MAJOR</th>\n",
       "      <th>ELLIPSE_MINOR</th>\n",
       "      <th>ELLIPSE_THETA</th>\n",
       "      <th>ELLIPSE_ASPECTRATIO</th>\n",
       "      <th>AREA</th>\n",
       "      <th>PERIMETER</th>\n",
       "      <th>CIRCULARITY</th>\n",
       "      <th>SOLIDITY</th>\n",
       "    </tr>\n",
       "  </thead>\n",
       "  <tbody>\n",
       "    <tr>\n",
       "      <th>3</th>\n",
       "      <td>ID49152</td>\n",
       "      <td>49152</td>\n",
       "      <td>0</td>\n",
       "      <td>0.8768675327301025</td>\n",
       "      <td>1219.6333291636743</td>\n",
       "      <td>749.4328465541785</td>\n",
       "      <td>0.0</td>\n",
       "      <td>1100.9829588</td>\n",
       "      <td>6</td>\n",
       "      <td>5.330451358641791</td>\n",
       "      <td>...</td>\n",
       "      <td>-0.00917031550025364</td>\n",
       "      <td>-0.0024145930413562054</td>\n",
       "      <td>6.387483935559642</td>\n",
       "      <td>4.511057957807631</td>\n",
       "      <td>1.9689958892264166</td>\n",
       "      <td>1.4159613987012378</td>\n",
       "      <td>89.2643078966142</td>\n",
       "      <td>37.709198398408155</td>\n",
       "      <td>0.7888475936513994</td>\n",
       "      <td>0.9523809523809512</td>\n",
       "    </tr>\n",
       "    <tr>\n",
       "      <th>4</th>\n",
       "      <td>ID24576</td>\n",
       "      <td>24576</td>\n",
       "      <td>0</td>\n",
       "      <td>0.758928656578064</td>\n",
       "      <td>1198.5683239966688</td>\n",
       "      <td>751.7329844204232</td>\n",
       "      <td>0.0</td>\n",
       "      <td>183.4971598</td>\n",
       "      <td>1</td>\n",
       "      <td>3.754673399502949</td>\n",
       "      <td>...</td>\n",
       "      <td>0.013098067689157332</td>\n",
       "      <td>-0.025294385834748533</td>\n",
       "      <td>4.145335551976299</td>\n",
       "      <td>3.44355278261272</td>\n",
       "      <td>1.1467011792739326</td>\n",
       "      <td>1.2037961412721883</td>\n",
       "      <td>44.28882968716579</td>\n",
       "      <td>27.119749713597663</td>\n",
       "      <td>0.7567156469132849</td>\n",
       "      <td>0.9280575539568312</td>\n",
       "    </tr>\n",
       "    <tr>\n",
       "      <th>5</th>\n",
       "      <td>ID112897</td>\n",
       "      <td>112897</td>\n",
       "      <td>0</td>\n",
       "      <td>0.8704856634140015</td>\n",
       "      <td>1276.0650196354964</td>\n",
       "      <td>772.337651461241</td>\n",
       "      <td>0.0</td>\n",
       "      <td>4036.9375155999996</td>\n",
       "      <td>22</td>\n",
       "      <td>4.115694777995544</td>\n",
       "      <td>...</td>\n",
       "      <td>NaN</td>\n",
       "      <td>NaN</td>\n",
       "      <td>NaN</td>\n",
       "      <td>NaN</td>\n",
       "      <td>NaN</td>\n",
       "      <td>NaN</td>\n",
       "      <td>NaN</td>\n",
       "      <td>NaN</td>\n",
       "      <td>NaN</td>\n",
       "      <td>NaN</td>\n",
       "    </tr>\n",
       "    <tr>\n",
       "      <th>6</th>\n",
       "      <td>ID161792</td>\n",
       "      <td>161792</td>\n",
       "      <td>0</td>\n",
       "      <td>0.5804733633995056</td>\n",
       "      <td>1311.5340405272557</td>\n",
       "      <td>770.4925852050376</td>\n",
       "      <td>0.0</td>\n",
       "      <td>7156.389232199999</td>\n",
       "      <td>39</td>\n",
       "      <td>4.181550075995608</td>\n",
       "      <td>...</td>\n",
       "      <td>NaN</td>\n",
       "      <td>NaN</td>\n",
       "      <td>NaN</td>\n",
       "      <td>NaN</td>\n",
       "      <td>NaN</td>\n",
       "      <td>NaN</td>\n",
       "      <td>NaN</td>\n",
       "      <td>NaN</td>\n",
       "      <td>NaN</td>\n",
       "      <td>NaN</td>\n",
       "    </tr>\n",
       "    <tr>\n",
       "      <th>7</th>\n",
       "      <td>ID182784</td>\n",
       "      <td>182784</td>\n",
       "      <td>0</td>\n",
       "      <td>0.7336252927780151</td>\n",
       "      <td>1313.8238561847265</td>\n",
       "      <td>781.9540931314103</td>\n",
       "      <td>0.0</td>\n",
       "      <td>8991.3608302</td>\n",
       "      <td>49</td>\n",
       "      <td>4.675115110622832</td>\n",
       "      <td>...</td>\n",
       "      <td>NaN</td>\n",
       "      <td>NaN</td>\n",
       "      <td>NaN</td>\n",
       "      <td>NaN</td>\n",
       "      <td>NaN</td>\n",
       "      <td>NaN</td>\n",
       "      <td>NaN</td>\n",
       "      <td>NaN</td>\n",
       "      <td>NaN</td>\n",
       "      <td>NaN</td>\n",
       "    </tr>\n",
       "    <tr>\n",
       "      <th>8</th>\n",
       "      <td>ID35978</td>\n",
       "      <td>35978</td>\n",
       "      <td>0</td>\n",
       "      <td>0.7461854815483093</td>\n",
       "      <td>1205.0534692360707</td>\n",
       "      <td>754.8286509690789</td>\n",
       "      <td>0.0</td>\n",
       "      <td>550.4914794</td>\n",
       "      <td>3</td>\n",
       "      <td>3.740092088498258</td>\n",
       "      <td>...</td>\n",
       "      <td>0.0034833178817019997</td>\n",
       "      <td>-0.010113208557639143</td>\n",
       "      <td>4.051431706044352</td>\n",
       "      <td>3.5160951736872637</td>\n",
       "      <td>1.2268429215424923</td>\n",
       "      <td>1.1522531404619776</td>\n",
       "      <td>43.945505426025264</td>\n",
       "      <td>26.63434212969199</td>\n",
       "      <td>0.7784673089538242</td>\n",
       "      <td>0.9275362318840533</td>\n",
       "    </tr>\n",
       "    <tr>\n",
       "      <th>9</th>\n",
       "      <td>ID79245</td>\n",
       "      <td>79245</td>\n",
       "      <td>0</td>\n",
       "      <td>0.6268746256828308</td>\n",
       "      <td>1243.609039025362</td>\n",
       "      <td>764.4399156977785</td>\n",
       "      <td>0.0</td>\n",
       "      <td>2201.9659176</td>\n",
       "      <td>12</td>\n",
       "      <td>3.869346248248919</td>\n",
       "      <td>...</td>\n",
       "      <td>NaN</td>\n",
       "      <td>NaN</td>\n",
       "      <td>NaN</td>\n",
       "      <td>NaN</td>\n",
       "      <td>NaN</td>\n",
       "      <td>NaN</td>\n",
       "      <td>NaN</td>\n",
       "      <td>NaN</td>\n",
       "      <td>NaN</td>\n",
       "      <td>NaN</td>\n",
       "    </tr>\n",
       "    <tr>\n",
       "      <th>10</th>\n",
       "      <td>ID148754</td>\n",
       "      <td>148754</td>\n",
       "      <td>0</td>\n",
       "      <td>0.7255358695983887</td>\n",
       "      <td>1309.2115930531763</td>\n",
       "      <td>767.0519520195346</td>\n",
       "      <td>0.0</td>\n",
       "      <td>6238.9034332</td>\n",
       "      <td>34</td>\n",
       "      <td>4.84726251557432</td>\n",
       "      <td>...</td>\n",
       "      <td>NaN</td>\n",
       "      <td>NaN</td>\n",
       "      <td>NaN</td>\n",
       "      <td>NaN</td>\n",
       "      <td>NaN</td>\n",
       "      <td>NaN</td>\n",
       "      <td>NaN</td>\n",
       "      <td>NaN</td>\n",
       "      <td>NaN</td>\n",
       "      <td>NaN</td>\n",
       "    </tr>\n",
       "    <tr>\n",
       "      <th>11</th>\n",
       "      <td>ID140819</td>\n",
       "      <td>140819</td>\n",
       "      <td>0</td>\n",
       "      <td>0.7479652762413025</td>\n",
       "      <td>1297.6774157041675</td>\n",
       "      <td>764.7503307522713</td>\n",
       "      <td>0.0</td>\n",
       "      <td>5688.4119537999995</td>\n",
       "      <td>31</td>\n",
       "      <td>4.5687142326023436</td>\n",
       "      <td>...</td>\n",
       "      <td>NaN</td>\n",
       "      <td>NaN</td>\n",
       "      <td>NaN</td>\n",
       "      <td>NaN</td>\n",
       "      <td>NaN</td>\n",
       "      <td>NaN</td>\n",
       "      <td>NaN</td>\n",
       "      <td>NaN</td>\n",
       "      <td>NaN</td>\n",
       "      <td>NaN</td>\n",
       "    </tr>\n",
       "    <tr>\n",
       "      <th>12</th>\n",
       "      <td>ID129427</td>\n",
       "      <td>129427</td>\n",
       "      <td>0</td>\n",
       "      <td>0.7635036706924438</td>\n",
       "      <td>1281.388182888577</td>\n",
       "      <td>760.1148992757858</td>\n",
       "      <td>0.0</td>\n",
       "      <td>4954.4233146</td>\n",
       "      <td>27</td>\n",
       "      <td>4.767700635471654</td>\n",
       "      <td>...</td>\n",
       "      <td>NaN</td>\n",
       "      <td>NaN</td>\n",
       "      <td>NaN</td>\n",
       "      <td>NaN</td>\n",
       "      <td>NaN</td>\n",
       "      <td>NaN</td>\n",
       "      <td>NaN</td>\n",
       "      <td>NaN</td>\n",
       "      <td>NaN</td>\n",
       "      <td>NaN</td>\n",
       "    </tr>\n",
       "  </tbody>\n",
       "</table>\n",
       "<p>10 rows × 30 columns</p>\n",
       "</div>"
      ],
      "text/plain": [
       "       LABEL      ID TRACK_ID             QUALITY          POSITION_X  \\\n",
       "3    ID49152   49152        0  0.8768675327301025  1219.6333291636743   \n",
       "4    ID24576   24576        0   0.758928656578064  1198.5683239966688   \n",
       "5   ID112897  112897        0  0.8704856634140015  1276.0650196354964   \n",
       "6   ID161792  161792        0  0.5804733633995056  1311.5340405272557   \n",
       "7   ID182784  182784        0  0.7336252927780151  1313.8238561847265   \n",
       "8    ID35978   35978        0  0.7461854815483093  1205.0534692360707   \n",
       "9    ID79245   79245        0  0.6268746256828308   1243.609039025362   \n",
       "10  ID148754  148754        0  0.7255358695983887  1309.2115930531763   \n",
       "11  ID140819  140819        0  0.7479652762413025  1297.6774157041675   \n",
       "12  ID129427  129427        0  0.7635036706924438   1281.388182888577   \n",
       "\n",
       "           POSITION_Y POSITION_Z          POSITION_T FRAME  \\\n",
       "3   749.4328465541785        0.0        1100.9829588     6   \n",
       "4   751.7329844204232        0.0         183.4971598     1   \n",
       "5    772.337651461241        0.0  4036.9375155999996    22   \n",
       "6   770.4925852050376        0.0   7156.389232199999    39   \n",
       "7   781.9540931314103        0.0        8991.3608302    49   \n",
       "8   754.8286509690789        0.0         550.4914794     3   \n",
       "9   764.4399156977785        0.0        2201.9659176    12   \n",
       "10  767.0519520195346        0.0        6238.9034332    34   \n",
       "11  764.7503307522713        0.0  5688.4119537999995    31   \n",
       "12  760.1148992757858        0.0        4954.4233146    27   \n",
       "\n",
       "                RADIUS  ...             ELLIPSE_X0              ELLIPSE_Y0  \\\n",
       "3    5.330451358641791  ...   -0.00917031550025364  -0.0024145930413562054   \n",
       "4    3.754673399502949  ...   0.013098067689157332   -0.025294385834748533   \n",
       "5    4.115694777995544  ...                    NaN                     NaN   \n",
       "6    4.181550075995608  ...                    NaN                     NaN   \n",
       "7    4.675115110622832  ...                    NaN                     NaN   \n",
       "8    3.740092088498258  ...  0.0034833178817019997   -0.010113208557639143   \n",
       "9    3.869346248248919  ...                    NaN                     NaN   \n",
       "10    4.84726251557432  ...                    NaN                     NaN   \n",
       "11  4.5687142326023436  ...                    NaN                     NaN   \n",
       "12   4.767700635471654  ...                    NaN                     NaN   \n",
       "\n",
       "        ELLIPSE_MAJOR       ELLIPSE_MINOR       ELLIPSE_THETA  \\\n",
       "3   6.387483935559642   4.511057957807631  1.9689958892264166   \n",
       "4   4.145335551976299    3.44355278261272  1.1467011792739326   \n",
       "5                 NaN                 NaN                 NaN   \n",
       "6                 NaN                 NaN                 NaN   \n",
       "7                 NaN                 NaN                 NaN   \n",
       "8   4.051431706044352  3.5160951736872637  1.2268429215424923   \n",
       "9                 NaN                 NaN                 NaN   \n",
       "10                NaN                 NaN                 NaN   \n",
       "11                NaN                 NaN                 NaN   \n",
       "12                NaN                 NaN                 NaN   \n",
       "\n",
       "   ELLIPSE_ASPECTRATIO                AREA           PERIMETER  \\\n",
       "3   1.4159613987012378    89.2643078966142  37.709198398408155   \n",
       "4   1.2037961412721883   44.28882968716579  27.119749713597663   \n",
       "5                  NaN                 NaN                 NaN   \n",
       "6                  NaN                 NaN                 NaN   \n",
       "7                  NaN                 NaN                 NaN   \n",
       "8   1.1522531404619776  43.945505426025264   26.63434212969199   \n",
       "9                  NaN                 NaN                 NaN   \n",
       "10                 NaN                 NaN                 NaN   \n",
       "11                 NaN                 NaN                 NaN   \n",
       "12                 NaN                 NaN                 NaN   \n",
       "\n",
       "           CIRCULARITY            SOLIDITY  \n",
       "3   0.7888475936513994  0.9523809523809512  \n",
       "4   0.7567156469132849  0.9280575539568312  \n",
       "5                  NaN                 NaN  \n",
       "6                  NaN                 NaN  \n",
       "7                  NaN                 NaN  \n",
       "8   0.7784673089538242  0.9275362318840533  \n",
       "9                  NaN                 NaN  \n",
       "10                 NaN                 NaN  \n",
       "11                 NaN                 NaN  \n",
       "12                 NaN                 NaN  \n",
       "\n",
       "[10 rows x 30 columns]"
      ]
     },
     "metadata": {},
     "output_type": "display_data"
    }
   ],
   "source": [
    "printmd(\"**Don't forget to run this cell!**\")  # no output cell, make it visible\n",
    "\n",
    "# Set columns identity\n",
    "if refresh_db:\n",
    "    sep = sep_wid.value if sep_wid.value !='tab' else '\\t'\n",
    "    header = 0 if header_wid.value else None\n",
    "    df = pd.read_csv(data_file,sep=sep,header=header)\n",
    "    if trackmate_wid.value:\n",
    "        df = df.loc[3:]  # the 3 first rows in trackmate files are metadata\n",
    "    \n",
    "    printmd(\"**Here are the first rows of the input data table**\")\n",
    "    display(df.head(10))"
   ]
  },
  {
   "cell_type": "code",
   "execution_count": 23,
   "metadata": {
    "scrolled": false
   },
   "outputs": [
    {
     "data": {
      "text/markdown": [
       "**Don't forget to run this cell!**"
      ],
      "text/plain": [
       "<IPython.core.display.Markdown object>"
      ]
     },
     "metadata": {},
     "output_type": "display_data"
    },
    {
     "data": {
      "text/markdown": [
       "**Select the columns to be used in the analysis: track,frame,x,y,(z). \n",
       "            Leave to \"discard\" the other ones. If you want to use custom variables, use var_i.**"
      ],
      "text/plain": [
       "<IPython.core.display.Markdown object>"
      ]
     },
     "metadata": {},
     "output_type": "display_data"
    },
    {
     "data": {
      "text/markdown": [
       "**If your input file is a trackmate file, mandatory columns are selected by default.**"
      ],
      "text/plain": [
       "<IPython.core.display.Markdown object>"
      ]
     },
     "metadata": {},
     "output_type": "display_data"
    },
    {
     "data": {
      "application/vnd.jupyter.widget-view+json": {
       "model_id": "d87b7767834840b384e4bbaf88a8ca5e",
       "version_major": 2,
       "version_minor": 0
      },
      "text/plain": [
       "HBox(children=(VBox(children=(Dropdown(description='column LABEL:', options=('discard', 'x', 'y', 'z', 'frame'…"
      ]
     },
     "metadata": {},
     "output_type": "display_data"
    },
    {
     "data": {
      "text/markdown": [
       "**If you selected some custom variables, give their name and unit to be displayed on plots. \n",
       "    You can use Latex, if necessary.**"
      ],
      "text/plain": [
       "<IPython.core.display.Markdown object>"
      ]
     },
     "metadata": {},
     "output_type": "display_data"
    },
    {
     "data": {
      "application/vnd.jupyter.widget-view+json": {
       "model_id": "25ee6ee0102b46579988e1b7afa133a1",
       "version_major": 2,
       "version_minor": 0
      },
      "text/plain": [
       "VBox(children=(HBox(children=(Label(value='var_1:'), Text(value='', placeholder='Variable name'), Text(value='…"
      ]
     },
     "metadata": {},
     "output_type": "display_data"
    },
    {
     "data": {
      "text/markdown": [
       "**Some tracking softwares support to miss objects at some frames. This results in tracks with gaps.\n",
       "            However, this analysis pipeline requires to have continuous tracks. How do you want to handle tracks with gaps:\n",
       "            fill the gaps by linear interpolation or split the track in different tracks?**"
      ],
      "text/plain": [
       "<IPython.core.display.Markdown object>"
      ]
     },
     "metadata": {},
     "output_type": "display_data"
    },
    {
     "data": {
      "application/vnd.jupyter.widget-view+json": {
       "model_id": "2442f868591640c0bb6387ad6d771263",
       "version_major": 2,
       "version_minor": 0
      },
      "text/plain": [
       "Dropdown(description='gap resolution:', options=('interpolate', 'split'), style=DescriptionStyle(description_w…"
      ]
     },
     "metadata": {},
     "output_type": "display_data"
    }
   ],
   "source": [
    "printmd(\"**Don't forget to run this cell!**\")  # no output cell, make it visible\n",
    "\n",
    "if refresh_db:\n",
    "    col_wid_list = []\n",
    "    left_list=[]\n",
    "    right_list=[]\n",
    "    param_list = ['discard','x','y','z','frame','track']\n",
    "    var_list = []\n",
    "    var_wid_dict = {}\n",
    "    default_trackmate = {'POSITION_X':'x',\n",
    "                        'POSITION_Y':'y',\n",
    "                        'POSITION_Z':'z',\n",
    "                        'FRAME':'frame',\n",
    "                        'TRACK_ID':'track',\n",
    "                        }\n",
    "    \n",
    "    custom_var_num = df.shape[1] - 5 # number of columns apart from 'x','y','z','frame','track'\n",
    "    for i in range(custom_var_num): \n",
    "        param_list.append('var_{}'.format(i+1))\n",
    "        var_list.append('var_{}'.format(i+1))\n",
    "    \n",
    "    # display the df columns as two columns of widgets\n",
    "    for i,col in enumerate(df.columns):\n",
    "        if trackmate_wid.value:\n",
    "            default_val = default_trackmate[col] if col in default_trackmate.keys() else 'discard'\n",
    "        else: \n",
    "            default_val = 'discard'\n",
    "        wid = widgets.Dropdown(options=param_list,value=default_val,\n",
    "                               description='column {}:'.format(col),\n",
    "                               style={'description_width': 'initial'})\n",
    "        col_wid_list.append(wid)\n",
    "        if i<len(df.columns)/2:\n",
    "            left_list.append(wid)\n",
    "        else: \n",
    "            right_list.append(wid)\n",
    "    \n",
    "    printmd(\"\"\"**Select the columns to be used in the analysis: track,frame,x,y,(z). \n",
    "            Leave to \"discard\" the other ones. If you want to use custom variables, use var_i.**\"\"\")\n",
    "    printmd(\"\"\"**If your input file is a trackmate file, mandatory columns are selected by default.**\"\"\")\n",
    "    \n",
    "    left_box = VBox(left_list)\n",
    "    right_box = VBox(right_list)\n",
    "    display(HBox([left_box, right_box]))\n",
    "    \n",
    "    # get the custom variable name and unit\n",
    "    HBox_list = []\n",
    "    for var in var_list: \n",
    "        wid_name = widgets.Text(value='',placeholder='Variable name')\n",
    "        wid_unit = widgets.Text(value='',placeholder='Variable unit')\n",
    "        HBox_list.append(HBox([Label(var+':'),wid_name,wid_unit]))\n",
    "        var_wid_dict[var] = {'name': wid_name, 'unit': wid_unit}\n",
    "    \n",
    "    printmd(\"\"\"**If you selected some custom variables, give their name and unit to be displayed on plots. \n",
    "    You can use Latex, if necessary.**\"\"\")\n",
    "    display(VBox(HBox_list))\n",
    "    \n",
    "    # deal with gaps in trajectories\n",
    "    printmd(\"\"\"**Some tracking softwares support to miss objects at some frames. This results in tracks with gaps.\n",
    "            However, this analysis pipeline requires to have continuous tracks. How do you want to handle tracks with gaps:\n",
    "            fill the gaps by linear interpolation or split the track in different tracks?**\"\"\")\n",
    "    split_wid=widgets.Dropdown(options=['interpolate','split'],value='interpolate',description='gap resolution:'.format(col),style={'description_width': 'initial'})\n",
    "    display(split_wid)\n",
    "    "
   ]
  },
  {
   "cell_type": "code",
   "execution_count": 24,
   "metadata": {
    "scrolled": false
   },
   "outputs": [
    {
     "data": {
      "text/markdown": [
       "**Don't forget to run this cell!**"
      ],
      "text/plain": [
       "<IPython.core.display.Markdown object>"
      ]
     },
     "metadata": {},
     "output_type": "display_data"
    },
    {
     "data": {
      "text/markdown": [
       "**Do you want to set a custom origin to the coordinates?**"
      ],
      "text/plain": [
       "<IPython.core.display.Markdown object>"
      ]
     },
     "metadata": {},
     "output_type": "display_data"
    },
    {
     "data": {
      "text/markdown": [
       "Select a new origin by drawing on the image (you can choose which dimension to reset)"
      ],
      "text/plain": [
       "<IPython.core.display.Markdown object>"
      ]
     },
     "metadata": {},
     "output_type": "display_data"
    },
    {
     "data": {
      "application/vnd.jupyter.widget-view+json": {
       "model_id": "1a11c35430cd4d558f2d55bdb1ab11fa",
       "version_major": 2,
       "version_minor": 0
      },
      "text/plain": [
       "HBox(children=(ToggleButton(value=False, description='Select on image'), SelectMultiple(description='Dimension…"
      ]
     },
     "metadata": {},
     "output_type": "display_data"
    },
    {
     "data": {
      "text/markdown": [
       "Or directly type in the new origin (in px)"
      ],
      "text/plain": [
       "<IPython.core.display.Markdown object>"
      ]
     },
     "metadata": {},
     "output_type": "display_data"
    },
    {
     "name": "stdout",
     "output_type": "stream",
     "text": [
      "x\n",
      "y\n"
     ]
    },
    {
     "data": {
      "application/vnd.jupyter.widget-view+json": {
       "model_id": "e41587d1c4da49a08520d11d8ab05a82",
       "version_major": 2,
       "version_minor": 0
      },
      "text/plain": [
       "HBox(children=(FloatSlider(value=0.0, description='x', max=2368.4605054551453, style=SliderStyle(description_w…"
      ]
     },
     "metadata": {},
     "output_type": "display_data"
    },
    {
     "data": {
      "text/markdown": [
       "**Do you want to invert the axes?**\n",
       "    Default orientation: x: left->right, y: top->bottom, z: slice number"
      ],
      "text/plain": [
       "<IPython.core.display.Markdown object>"
      ]
     },
     "metadata": {},
     "output_type": "display_data"
    },
    {
     "data": {
      "application/vnd.jupyter.widget-view+json": {
       "model_id": "2dc2151960964fb489593f0b74284763",
       "version_major": 2,
       "version_minor": 0
      },
      "text/plain": [
       "SelectMultiple(description='Axes to invert', options=('x', 'y'), style=DescriptionStyle(description_width='ini…"
      ]
     },
     "metadata": {},
     "output_type": "display_data"
    }
   ],
   "source": [
    "printmd(\"**Don't forget to run this cell!**\")  # no output cell, make it visible\n",
    "\n",
    "if refresh_db:\n",
    "    col_values = [wid.value for wid in col_wid_list]\n",
    "    for param_ in ['x','y','frame','track']:  # mandatory columns\n",
    "        if param_ not in col_values: \n",
    "            raise Exception(\"You MUST select a column for \"+param_)\n",
    "    df.columns = col_values  # rename columns\n",
    "\n",
    "    # discard non-relevant columns\n",
    "    col_values = np.array(col_values)\n",
    "    new_cols = col_values[col_values!='discard']\n",
    "    for c in new_cols: \n",
    "        if np.count_nonzero(new_cols==c) > 1: # if repeated element\n",
    "            raise Exception(\"You have selected several times the column: \"+c)\n",
    "    df = df[new_cols]  \n",
    "    \n",
    "    # get names and units of custom variables\n",
    "    custom_var = {}\n",
    "    for var in var_list: \n",
    "        if var in new_cols:\n",
    "            custom_var[var] = {'name': var_wid_dict[var]['name'].value, 'unit': var_wid_dict[var]['unit'].value}\n",
    "    \n",
    "    # retrieve split traj widget value\n",
    "    split_traj = True if split_wid.value=='split' else False\n",
    "    \n",
    "    #get dimension\n",
    "    dim_list = ['x','y','z'] if 'z' in df.columns else ['x','y']\n",
    "    \n",
    "    # convert df data type\n",
    "    for d in dim_list:\n",
    "        df[d] = df[d].astype(np.float)\n",
    "    \n",
    "    # coordinates origin \n",
    "    printmd(\"\"\"**Do you want to set a custom origin to the coordinates?**\"\"\")\n",
    "    printmd(\"\"\"Select a new origin by drawing on the image (you can choose which dimension to reset)\"\"\")\n",
    "    ori_onimage_wid=widgets.ToggleButton(value=False,description='Select on image')\n",
    "    reset_dim_wid=widgets.SelectMultiple(options=dim_list,value=['x','y'],description='Dimensions to reset',style={'description_width': 'initial'})\n",
    "    display(HBox([ori_onimage_wid,reset_dim_wid]))\n",
    "    printmd(\"\"\"Or directly type in the new origin (in px)\"\"\")\n",
    "    origin_coord_wid_list=[]\n",
    "    for dim in dim_list:\n",
    "        print(dim)\n",
    "        origin_coord_wid_list.append(widgets.FloatSlider(value=0,min=0,max=df[dim].max(),step=0.1,description=dim,style={'description_width': 'initial'}))\n",
    "    display(HBox(origin_coord_wid_list))\n",
    "    \n",
    "    # axes signs\n",
    "    printmd(\"\"\"**Do you want to invert the axes?**\n",
    "    Default orientation: x: left->right, y: top->bottom, z: slice number\"\"\")\n",
    "    invert_axes_wid=widgets.SelectMultiple(options=dim_list,value=[],description='Axes to invert',style={'description_width': 'initial'})\n",
    "    display(invert_axes_wid)"
   ]
  },
  {
   "cell_type": "code",
   "execution_count": 26,
   "metadata": {
    "scrolled": false
   },
   "outputs": [
    {
     "data": {
      "text/markdown": [
       "**Don't forget to run this cell!**"
      ],
      "text/plain": [
       "<IPython.core.display.Markdown object>"
      ]
     },
     "metadata": {},
     "output_type": "display_data"
    }
   ],
   "source": [
    "printmd(\"**Don't forget to run this cell!**\")  # no output cell, make it visible\n",
    "\n",
    "if refresh_db:    \n",
    "    if not ori_onimage_wid.value:\n",
    "        origin_coord={}\n",
    "        all_zeros=True\n",
    "        for d,wid in enumerate(origin_coord_wid_list):\n",
    "            origin_coord[dim_list[d]]=wid.value\n",
    "            if wid.value>0:\n",
    "                all_zeros=False\n",
    "        if all_zeros: # if no change of origin \n",
    "            origin_coord = False\n",
    "        set_origin_ = origin_coord\n",
    "    else:\n",
    "        set_origin_ = True\n",
    "            \n",
    "    #remove None tracks\n",
    "    df = df[df['track']!='None']  # remove\n",
    "    data = tpr.get_data(data_dir,df=df,refresh=refresh_db,split_traj=split_traj,\n",
    "                        set_origin_=set_origin_,image=image,reset_dim=reset_dim_wid.value,\n",
    "                        invert_axes=invert_axes_wid.value,custom_var=custom_var)\n",
    "else: \n",
    "    # reload from database\n",
    "    data = tpr.get_data(data_dir,df=None,refresh=refresh_db)\n",
    "\n",
    "# useful variables\n",
    "df = data['df']\n",
    "lengthscale = data['lengthscale']\n",
    "timescale = data['timescale']\n",
    "dim = data['dim']\n",
    "dimensions = data['dimensions']\n",
    "custom_var = data['custom_var']"
   ]
  },
  {
   "cell_type": "code",
   "execution_count": 27,
   "metadata": {
    "scrolled": false
   },
   "outputs": [
    {
     "data": {
      "text/markdown": [
       "## General plotting configuration"
      ],
      "text/plain": [
       "<IPython.core.display.Markdown object>"
      ]
     },
     "metadata": {},
     "output_type": "display_data"
    },
    {
     "data": {
      "application/vnd.jupyter.widget-view+json": {
       "model_id": "da982f8d518f4843b281c927bd132725",
       "version_major": 2,
       "version_minor": 0
      },
      "text/plain": [
       "HBox(children=(BoundedIntText(value=5, description='Figure width (inches):', max=20, style=DescriptionStyle(de…"
      ]
     },
     "metadata": {},
     "output_type": "display_data"
    },
    {
     "data": {
      "application/vnd.jupyter.widget-view+json": {
       "model_id": "ee0d7de797fb411085c5655619794e19",
       "version_major": 2,
       "version_minor": 0
      },
      "text/plain": [
       "HBox(children=(BoundedIntText(value=300, description='Figure resolution (dpi):', max=10000, min=50, style=Desc…"
      ]
     },
     "metadata": {},
     "output_type": "display_data"
    },
    {
     "data": {
      "application/vnd.jupyter.widget-view+json": {
       "model_id": "83c3d1a7c0424eb5b60f7f719d3c3d8d",
       "version_major": 2,
       "version_minor": 0
      },
      "text/plain": [
       "ToggleButton(value=True, description='despine figure')"
      ]
     },
     "metadata": {},
     "output_type": "display_data"
    },
    {
     "data": {
      "text/markdown": [
       "Adjust figure resolution (if orginal image is too small or too large)"
      ],
      "text/plain": [
       "<IPython.core.display.Markdown object>"
      ]
     },
     "metadata": {},
     "output_type": "display_data"
    },
    {
     "data": {
      "application/vnd.jupyter.widget-view+json": {
       "model_id": "143a20434dcc4ff6a7965b90c00eed3a",
       "version_major": 2,
       "version_minor": 0
      },
      "text/plain": [
       "FloatSlider(value=1.0, description='Figure size factor:', max=30.0, min=0.01, step=0.01, style=SliderStyle(des…"
      ]
     },
     "metadata": {},
     "output_type": "display_data"
    },
    {
     "data": {
      "text/markdown": [
       "When plotting over timelapse, plot as a multidimensional tiff stack or as a series of individual image"
      ],
      "text/plain": [
       "<IPython.core.display.Markdown object>"
      ]
     },
     "metadata": {},
     "output_type": "display_data"
    },
    {
     "data": {
      "application/vnd.jupyter.widget-view+json": {
       "model_id": "a225514e0d0c411b8393662690bcd4a7",
       "version_major": 2,
       "version_minor": 0
      },
      "text/plain": [
       "Checkbox(value=True, description='Save as tiff stack')"
      ]
     },
     "metadata": {},
     "output_type": "display_data"
    },
    {
     "data": {
      "text/markdown": [
       "Do you want to add/replace the first default colors used for plotting? Give the number of colors you want to select:"
      ],
      "text/plain": [
       "<IPython.core.display.Markdown object>"
      ]
     },
     "metadata": {},
     "output_type": "display_data"
    },
    {
     "data": {
      "application/vnd.jupyter.widget-view+json": {
       "model_id": "8358c74647704530831d40e902d53509",
       "version_major": 2,
       "version_minor": 0
      },
      "text/plain": [
       "HBox(children=(BoundedIntText(value=0, description='Number of colors:', max=20, style=DescriptionStyle(descrip…"
      ]
     },
     "metadata": {},
     "output_type": "display_data"
    },
    {
     "data": {
      "text/markdown": [
       "How do you want to display the y-axis (standard orientation: origin at top)"
      ],
      "text/plain": [
       "<IPython.core.display.Markdown object>"
      ]
     },
     "metadata": {},
     "output_type": "display_data"
    },
    {
     "data": {
      "application/vnd.jupyter.widget-view+json": {
       "model_id": "f78b3f51b96f433c832429212e335343",
       "version_major": 2,
       "version_minor": 0
      },
      "text/plain": [
       "ToggleButton(value=True, description='y axis origin: top')"
      ]
     },
     "metadata": {},
     "output_type": "display_data"
    },
    {
     "data": {
      "text/markdown": [
       "Do you want to export the data points of your plots as .csv files?"
      ],
      "text/plain": [
       "<IPython.core.display.Markdown object>"
      ]
     },
     "metadata": {},
     "output_type": "display_data"
    },
    {
     "data": {
      "application/vnd.jupyter.widget-view+json": {
       "model_id": "d2ace3acb89a48fc93878e0daaad54eb",
       "version_major": 2,
       "version_minor": 0
      },
      "text/plain": [
       "ToggleButton(value=True, description='export data points')"
      ]
     },
     "metadata": {},
     "output_type": "display_data"
    }
   ],
   "source": [
    "# general plotting configuration\n",
    "printmd(\"## General plotting configuration\")\n",
    "\n",
    "fig_w_wid = widgets.BoundedIntText(value=plot_param['figsize'][0],min=0,max=20,\n",
    "                                   description='Figure width (inches):',style={'description_width': 'initial'})\n",
    "fig_h_wid = widgets.BoundedIntText(value=plot_param['figsize'][1],min=0,max=20,\n",
    "                                   description='Figure height (inches):',style={'description_width': 'initial'})\n",
    "fig_dpi_wid = widgets.BoundedIntText(value=plot_param['dpi'],min=50,max=1e4,\n",
    "                                     description='Figure resolution (dpi):',style={'description_width': 'initial'})\n",
    "fig_resfac_wid = widgets.FloatSlider(value=1,min=0.01,max=30,step=0.01,\n",
    "                                     description='Figure size factor:',style={'description_width': 'initial'})\n",
    "fig_format_wid = widgets.Dropdown(options=['.png','.svg'],value='.png',\n",
    "                                  description='Single plot format',style={'description_width': 'initial'})\n",
    "save_as_stack_wid = widgets.Checkbox(value=True, description='Save as tiff stack')\n",
    "despine_wid = widgets.ToggleButton(value=plot_param['despine'],\n",
    "                                   description='despine figure')\n",
    "replace_color_wid = widgets.BoundedIntText(value=0,min=0,max=20,\n",
    "                                    description='Number of colors:',style={'description_width': 'initial'})\n",
    "add_replace_wid = widgets.Dropdown(options=['add','replace'],value='add',\n",
    "                                   description='add or replace?',style={'description_width': 'initial'})\n",
    "invert_yaxis_wid = widgets.ToggleButton(value=True,description='y axis origin: top')\n",
    "export_data_pts_wid = widgets.ToggleButton(value=True,description='export data points')\n",
    "\n",
    "display(HBox([fig_w_wid,fig_h_wid]),HBox([fig_dpi_wid,fig_format_wid]),despine_wid)\n",
    "printmd('Adjust figure resolution (if orginal image is too small or too large)')\n",
    "display(fig_resfac_wid)\n",
    "printmd('When plotting over timelapse, plot as a multidimensional tiff stack or as a series of individual image')\n",
    "display(save_as_stack_wid)\n",
    "printmd('Do you want to add/replace the first default colors used for plotting? Give the number of colors you want to select:')\n",
    "display(HBox([replace_color_wid,add_replace_wid]))\n",
    "printmd('How do you want to display the y-axis (standard orientation: origin at top)')\n",
    "display(invert_yaxis_wid)\n",
    "printmd('Do you want to export the data points of your plots as .csv files?')\n",
    "display(export_data_pts_wid)\n"
   ]
  },
  {
   "cell_type": "code",
   "execution_count": 28,
   "metadata": {},
   "outputs": [
    {
     "data": {
      "text/markdown": [
       "**Don't forget to run this cell!**"
      ],
      "text/plain": [
       "<IPython.core.display.Markdown object>"
      ]
     },
     "metadata": {},
     "output_type": "display_data"
    }
   ],
   "source": [
    "printmd(\"**Don't forget to run this cell!**\")  # no output cell, make it visible\n",
    "\n",
    "# replace colors \n",
    "color_wid_list=[]\n",
    "for i in range(replace_color_wid.value):\n",
    "    color_wid=widgets.ColorPicker(description='Pick color #{}'.format(i),value=color_list[i])\n",
    "    color_wid_list.append(color_wid)\n",
    "display(*color_wid_list)"
   ]
  },
  {
   "cell_type": "code",
   "execution_count": 13,
   "metadata": {},
   "outputs": [
    {
     "data": {
      "text/markdown": [
       "**Don't forget to run this cell!**"
      ],
      "text/plain": [
       "<IPython.core.display.Markdown object>"
      ]
     },
     "metadata": {},
     "output_type": "display_data"
    }
   ],
   "source": [
    "printmd(\"**Don't forget to run this cell!**\")  # no output cell, make it visible\n",
    "\n",
    "# retreive plotting configuration\n",
    "color_list_=list(color_list)\n",
    "new_color_list = [color_wid_list[i].value for i in range(replace_color_wid.value)]\n",
    "\n",
    "if add_replace_wid.value=='replace':\n",
    "    color_list_[:replace_color_wid.value]=new_color_list\n",
    "else: \n",
    "    color_list_=new_color_list+color_list_\n",
    "    \n",
    "plot_param={'figsize':(fig_w_wid.value,fig_h_wid.value),\n",
    "            'dpi':fig_dpi_wid.value,\n",
    "            'figsize_factor':fig_resfac_wid.value,\n",
    "            'color_list':color_list_,\n",
    "            'format':fig_format_wid.value,\n",
    "            'despine':despine_wid.value,\n",
    "            'invert_yaxis':invert_yaxis_wid.value, \n",
    "            'export_data_pts':export_data_pts_wid.value,\n",
    "            'save_as_stack': save_as_stack_wid.value,\n",
    "           }"
   ]
  },
  {
   "cell_type": "markdown",
   "metadata": {},
   "source": [
    "# Filter data"
   ]
  },
  {
   "cell_type": "code",
   "execution_count": 29,
   "metadata": {
    "scrolled": false
   },
   "outputs": [
    {
     "data": {
      "text/markdown": [
       "**View trajectories on a Napari viewer before plotting**"
      ],
      "text/plain": [
       "<IPython.core.display.Markdown object>"
      ]
     },
     "metadata": {},
     "output_type": "display_data"
    },
    {
     "data": {
      "text/markdown": [
       "If not working, please check Napari installation: https://napari.org/"
      ],
      "text/plain": [
       "<IPython.core.display.Markdown object>"
      ]
     },
     "metadata": {},
     "output_type": "display_data"
    },
    {
     "data": {
      "text/markdown": [
       "Warning: large image can lead to rendering issues"
      ],
      "text/plain": [
       "<IPython.core.display.Markdown object>"
      ]
     },
     "metadata": {},
     "output_type": "display_data"
    },
    {
     "data": {
      "text/markdown": [
       "Warning: you have a 2D+t image, no 3D redering is available then."
      ],
      "text/plain": [
       "<IPython.core.display.Markdown object>"
      ]
     },
     "metadata": {},
     "output_type": "display_data"
    },
    {
     "data": {
      "application/vnd.jupyter.widget-view+json": {
       "model_id": "eb666c01601f4e96ade2bf520df084c4",
       "version_major": 2,
       "version_minor": 0
      },
      "text/plain": [
       "Button(description='Show viewer!', style=ButtonStyle())"
      ]
     },
     "metadata": {},
     "output_type": "display_data"
    }
   ],
   "source": [
    "z_step = info['z_step']\n",
    "if z_step == 0:\n",
    "    z_step = lengthscale  # if z_step not given, same as lengthscale\n",
    "    \n",
    "printmd('**View trajectories on a Napari viewer before plotting**')\n",
    "printmd('If not working, please check Napari installation: https://napari.org/')\n",
    "printmd('Warning: large image can lead to rendering issues')\n",
    "\n",
    "if image['z_dim'] is None: \n",
    "    printmd('Warning: you have a 2D+t image, no 3D redering is available then.')\n",
    "\n",
    "viewer_wid = widgets.Button(value=True, description='Show viewer!')\n",
    "\n",
    "viewer_wid.on_click(lambda obj: tpl.view_traj(df, image=image, z_step=info['z_step']))\n",
    "\n",
    "display(viewer_wid)"
   ]
  },
  {
   "cell_type": "code",
   "execution_count": 30,
   "metadata": {
    "scrolled": true
   },
   "outputs": [
    {
     "data": {
      "text/markdown": [
       "Your data can be filtered into subsets. How many subsets do you want to analyze?"
      ],
      "text/plain": [
       "<IPython.core.display.Markdown object>"
      ]
     },
     "metadata": {},
     "output_type": "display_data"
    },
    {
     "data": {
      "application/vnd.jupyter.widget-view+json": {
       "model_id": "e27d6458389a47739e6ae84a3d7e8d3e",
       "version_major": 2,
       "version_minor": 0
      },
      "text/plain": [
       "BoundedIntText(value=1, description='Number of subsets:', max=10, min=1, style=DescriptionStyle(description_wi…"
      ]
     },
     "metadata": {},
     "output_type": "display_data"
    },
    {
     "data": {
      "text/markdown": [
       "If you define several subsets, do you want to analyze them separately or together?"
      ],
      "text/plain": [
       "<IPython.core.display.Markdown object>"
      ]
     },
     "metadata": {},
     "output_type": "display_data"
    },
    {
     "data": {
      "text/markdown": [
       "If analyzed together, subsets will be plotted together. If analyzed separately, each subset will be plotted on individual plots."
      ],
      "text/plain": [
       "<IPython.core.display.Markdown object>"
      ]
     },
     "metadata": {},
     "output_type": "display_data"
    },
    {
     "data": {
      "application/vnd.jupyter.widget-view+json": {
       "model_id": "8a1db701430d4dd9b0093883d8372cbb",
       "version_major": 2,
       "version_minor": 0
      },
      "text/plain": [
       "ToggleButtons(description='Analysis', options=('separately', 'together'), style=ToggleButtonsStyle(description…"
      ]
     },
     "metadata": {},
     "output_type": "display_data"
    }
   ],
   "source": [
    "printmd(\"Your data can be filtered into subsets. How many subsets do you want to analyze?\")\n",
    "subset_num_wid = widgets.BoundedIntText(value=1,min=1,max=10,description='Number of subsets:',style={'description_width': 'initial'})\n",
    "display(subset_num_wid)\n",
    "\n",
    "printmd(\"If you define several subsets, do you want to analyze them separately or together?\")\n",
    "printmd(\"If analyzed together, subsets will be plotted together. If analyzed separately, each subset will be plotted on individual plots.\")\n",
    "separate_widget = widgets.ToggleButtons(options=['separately', 'together'], description='Analysis',style={'description_width': 'initial'})\n",
    "display(separate_widget)\n"
   ]
  },
  {
   "cell_type": "code",
   "execution_count": 41,
   "metadata": {
    "scrolled": false
   },
   "outputs": [
    {
     "data": {
      "text/markdown": [
       "### Subset #1"
      ],
      "text/plain": [
       "<IPython.core.display.Markdown object>"
      ]
     },
     "metadata": {},
     "output_type": "display_data"
    },
    {
     "data": {
      "text/markdown": [
       "You can give it a custom name that will be used for saving data"
      ],
      "text/plain": [
       "<IPython.core.display.Markdown object>"
      ]
     },
     "metadata": {},
     "output_type": "display_data"
    },
    {
     "data": {
      "application/vnd.jupyter.widget-view+json": {
       "model_id": "6282b21dfa8e42a2b533c1d35a6ee2ed",
       "version_major": 2,
       "version_minor": 0
      },
      "text/plain": [
       "Text(value='', description='Subset name:', placeholder='optional', style=DescriptionStyle(description_width='i…"
      ]
     },
     "metadata": {},
     "output_type": "display_data"
    },
    {
     "data": {
      "text/markdown": [
       "**Crop a region**"
      ],
      "text/plain": [
       "<IPython.core.display.Markdown object>"
      ]
     },
     "metadata": {},
     "output_type": "display_data"
    },
    {
     "data": {
      "text/markdown": [
       "You can draw it on the image or select it with the slider (values in pixels).If you do both, only the drawn region will be kept. If you select several regions on the image, they will be divided into several subsets"
      ],
      "text/plain": [
       "<IPython.core.display.Markdown object>"
      ]
     },
     "metadata": {},
     "output_type": "display_data"
    },
    {
     "data": {
      "text/markdown": [
       "Draw using the rectangle shape, hit ENTER while you're done.If you want more details about the email viewer please visit https://napari.org/"
      ],
      "text/plain": [
       "<IPython.core.display.Markdown object>"
      ]
     },
     "metadata": {},
     "output_type": "display_data"
    },
    {
     "data": {
      "application/vnd.jupyter.widget-view+json": {
       "model_id": "be33a764dd0d491887256cdd23e9ab9a",
       "version_major": 2,
       "version_minor": 0
      },
      "text/plain": [
       "VBox(children=(LoadedButton(description='Draw ROI', style=ButtonStyle()), HBox(children=(FloatRangeSlider(valu…"
      ]
     },
     "metadata": {},
     "output_type": "display_data"
    },
    {
     "data": {
      "text/markdown": [
       "**Select data based on trajectories duration or frame subset**"
      ],
      "text/plain": [
       "<IPython.core.display.Markdown object>"
      ]
     },
     "metadata": {},
     "output_type": "display_data"
    },
    {
     "data": {
      "application/vnd.jupyter.widget-view+json": {
       "model_id": "4ee299e310334aebb6c025e604df08a1",
       "version_major": 2,
       "version_minor": 0
      },
      "text/plain": [
       "HBox(children=(IntRangeSlider(value=(0, 199), description='Frame subset:', max=199, style=SliderStyle(descript…"
      ]
     },
     "metadata": {},
     "output_type": "display_data"
    },
    {
     "name": "stdout",
     "output_type": "stream",
     "text": [
      "Draw points or rectangles, then press ENTER\n",
      "You have selected 0 point(s) and 1 rectangle(s)\n"
     ]
    }
   ],
   "source": [
    "# prepare default values for initializing widgets\n",
    "xlim = [df['x'].min(), df['x'].max()]  # maybe use image dimensions instead\n",
    "ylim = [df['y'].min(), df['y'].max()]\n",
    "zlim = [df['z'].min(), df['z'].max()] if 'z' in df.columns else []\n",
    "frame_list = df['frame'].unique()\n",
    "frame_min = df['frame'].min()\n",
    "frame_max = df['frame'].max()\n",
    "\n",
    "# cropping widget lists\n",
    "xlim_wid_list = []\n",
    "ylim_wid_list = []\n",
    "zlim_wid_list = []\n",
    "drawer_wid_list = []\n",
    "frame_subset_wid_list = []\n",
    "min_length_wid_list = []\n",
    "max_length_wid_list = []\n",
    "name_wid_list = []\n",
    "\n",
    "# retrieve drawer coordinates\n",
    "class LoadedButton(widgets.Button):\n",
    "    \"\"\"A button that can holds a value as a attribute.\"\"\"\n",
    "\n",
    "    def __init__(self, value=None, *args, **kwargs):\n",
    "        super(LoadedButton, self).__init__(*args, **kwargs)\n",
    "        # Create the value attribute.\n",
    "        self.add_traits(value=traitlets.Any(value))\n",
    "\n",
    "def get_image_coord(ex):\n",
    "    \"\"\"Call get_coordinates, display instruction and store coordinates in widget value \"\"\"\n",
    "    ex.value = tpr.get_coordinates(image,df=df,verbose=True)\n",
    "\n",
    "\n",
    "# create a set of filtering widget for each subset\n",
    "for i in range(subset_num_wid.value):\n",
    "    printmd(\"\"\"### Subset #{}\"\"\".format(i + 1))\n",
    "\n",
    "    # subset name\n",
    "    printmd(\"\"\"You can give it a custom name that will be used for saving data\"\"\")\n",
    "    name_wid = widgets.Text(value='', placeholder='optional', description='Subset name:',\n",
    "                            style={'description_width': 'initial'})\n",
    "    name_wid_list.append(name_wid)\n",
    "    display(name_wid)\n",
    "\n",
    "    # spatial filtering\n",
    "    xlim_wid = widgets.FloatRangeSlider(value=xlim, min=xlim[0], max=xlim[1], step=1,\n",
    "                                        description='x range (px):', style={'description_width': 'initial'})\n",
    "    ylim_wid = widgets.FloatRangeSlider(value=ylim, min=ylim[0], max=ylim[1], step=1,\n",
    "                                        description='y range (px):', style={'description_width': 'initial'})\n",
    "    if len(zlim) > 0:\n",
    "        zlim_wid = widgets.FloatRangeSlider(value=zlim, min=zlim[0], max=zlim[1], step=1,\n",
    "                                            description='z range (px):', style={'description_width': 'initial'})\n",
    "    drawer_wid = LoadedButton(description=\"Draw ROI\", value={})\n",
    "    drawer_wid.on_click(get_image_coord)\n",
    "    # store widgets\n",
    "    xlim_wid_list.append(xlim_wid)\n",
    "    ylim_wid_list.append(ylim_wid)\n",
    "    drawer_wid_list.append(drawer_wid)\n",
    "    if len(zlim) > 0:\n",
    "        zlim_wid_list.append(zlim_wid)\n",
    "    else:\n",
    "        zlim_wid_list.append(None)\n",
    "    #display\n",
    "    printmd(\"**Crop a region**\")\n",
    "    printmd(\"You can draw it on the image or select it with the slider (values in pixels).\"\n",
    "            \"If you do both, only the drawn region will be kept. If you select several regions on the image\"\n",
    "            \", they will be divided into several subsets\")\n",
    "    printmd(\"Draw using the rectangle shape, hit ENTER while you're done.\"\n",
    "                \"If you want more details about the email viewer please visit https://napari.org/\")\n",
    "    if len(zlim) > 0:\n",
    "        display(VBox([drawer_wid, HBox([xlim_wid, ylim_wid, zlim_wid])]))\n",
    "    else:\n",
    "        display(VBox([drawer_wid, HBox([xlim_wid, ylim_wid])]))\n",
    "\n",
    "    # time filtering \n",
    "    frame_subset_wid = widgets.IntRangeSlider(value=[frame_min, frame_max], min=frame_min, max=frame_max, step=1,\n",
    "                                              description='Frame subset:', style={'description_width': 'initial'})\n",
    "    min_length_wid = widgets.IntSlider(value=frame_min, min=frame_min, max=frame_max + 1, step=1,\n",
    "                                       description='Minimum traj length:', style={'description_width': 'initial'})\n",
    "    max_length_wid = widgets.IntSlider(value=frame_max + 1, min=frame_min, max=frame_max + 1, step=1,\n",
    "                                       description='Maximum traj length:', style={'description_width': 'initial'})\n",
    "    # store widgets\n",
    "    frame_subset_wid_list.append(frame_subset_wid)\n",
    "    min_length_wid_list.append(min_length_wid)\n",
    "    max_length_wid_list.append(max_length_wid)\n",
    "    # display\n",
    "    printmd(\"**Select data based on trajectories duration or frame subset**\")\n",
    "    display(HBox([frame_subset_wid, min_length_wid, max_length_wid]))\n",
    "\n"
   ]
  },
  {
   "cell_type": "code",
   "execution_count": 42,
   "metadata": {
    "scrolled": true
   },
   "outputs": [
    {
     "data": {
      "text/markdown": [
       "**Select specific trajectories**"
      ],
      "text/plain": [
       "<IPython.core.display.Markdown object>"
      ]
     },
     "metadata": {},
     "output_type": "display_data"
    },
    {
     "data": {
      "text/markdown": [
       "You can select specific sets of trajectories. This tool can be useful to perform fate mapping or retrospective mapping. If you selected several subsets before, this specific set will be applied to all of the subsets."
      ],
      "text/plain": [
       "<IPython.core.display.Markdown object>"
      ]
     },
     "metadata": {},
     "output_type": "display_data"
    },
    {
     "data": {
      "text/markdown": [
       "How many sets of trajectories do you want to select?"
      ],
      "text/plain": [
       "<IPython.core.display.Markdown object>"
      ]
     },
     "metadata": {},
     "output_type": "display_data"
    },
    {
     "data": {
      "application/vnd.jupyter.widget-view+json": {
       "model_id": "eb9a966b5c8e454e80d5c9b065096a90",
       "version_major": 2,
       "version_minor": 0
      },
      "text/plain": [
       "BoundedIntText(value=0, description='Number of sets:', max=10, style=DescriptionStyle(description_width='initi…"
      ]
     },
     "metadata": {},
     "output_type": "display_data"
    }
   ],
   "source": [
    "# retrieve filters values\n",
    "def retrieve_region_wid_values(drawer_wid,xlim_wid,ylim_wid,zlim_wid):\n",
    "    \"\"\"\n",
    "    Get values of region selection giving priority to drawer widgets over sliders\n",
    "    \"\"\"\n",
    "    # xylim\n",
    "    use_sliders = False\n",
    "    drawer_value = drawer_wid.value\n",
    "    if drawer_value: #if not empty\n",
    "        if len(drawer_value['rectangle']) > 0:\n",
    "            #get list of xlim, ylim in case of several ROIs selected\n",
    "            xlim_list = [r['xlim'] for r in drawer_value['rectangle']]\n",
    "            ylim_list = [r['ylim'] for r in drawer_value['rectangle']]\n",
    "        else:\n",
    "            use_sliders = True\n",
    "    else:\n",
    "            use_sliders = True\n",
    "    if use_sliders: \n",
    "        xlim_list = [xlim_wid.value]\n",
    "        ylim_list = [ylim_wid.value]\n",
    "    \n",
    "    # zlim\n",
    "    if zlim_wid is None:\n",
    "        zlim = None\n",
    "    else: \n",
    "        zlim = zlim_wid.value\n",
    "        \n",
    "    return xlim_list, ylim_list, zlim\n",
    "\n",
    "filters=[]\n",
    "for i in range(subset_num_wid.value):\n",
    "    xlim_list, ylim_list, zlim_ = retrieve_region_wid_values(drawer_wid_list[i],\n",
    "                                                             xlim_wid_list[i],\n",
    "                                                             ylim_wid_list[i],\n",
    "                                                             zlim_wid_list[i])\n",
    "    \n",
    "    # if several subsets get values of xlim, ylim, while keeping other filters constant\n",
    "    for j in range(len(xlim_list)):  \n",
    "        #name\n",
    "        if len(xlim_list) > 1:  # if several subsets, modify name: name_number if name is empty: number\n",
    "            name = name_wid_list[i].value + '_{}'.format(j) if name_wid_list[i].value != '' else '{}'.format(j)\n",
    "        else: \n",
    "            name = name_wid_list[i].value\n",
    "        \n",
    "        # initialize filter dict\n",
    "        default_filter = tpr.init_filters(data_dir=None, export_config=False)\n",
    "        filt_ = default_filter['filters_list'][0]  \n",
    "        # fill info\n",
    "        filt_['xlim'] = xlim_list[j]\n",
    "        filt_['ylim'] = ylim_list[j]\n",
    "        filt_['zlim'] = zlim_\n",
    "        filt_['frame_subset'] = frame_subset_wid_list[i].value\n",
    "        filt_['min_traj_len'] = min_length_wid_list[i].value\n",
    "        filt_['max_traj_len'] = max_length_wid_list[i].value\n",
    "        filt_['name'] = name\n",
    "        # add to filter list\n",
    "        filters.append(filt_)\n",
    "        \n",
    "printmd(\"**Select specific trajectories**\")\n",
    "printmd(\"You can select specific sets of trajectories. \"\n",
    "        \"This tool can be useful to perform fate mapping or retrospective mapping. \"\n",
    "        \"If you selected several subsets before, this specific set will be applied to all of the subsets.\"\n",
    "       )\n",
    "printmd(\"How many sets of trajectories do you want to select?\")\n",
    "set_num_wid = widgets.BoundedIntText(value=0,min=0,max=10,description='Number of sets:',style={'description_width': 'initial'})\n",
    "display(set_num_wid)\n",
    "#or by selecting trajectories in a specific region at a specific frame. \"\n",
    "#just by giving a list of ids, "
   ]
  },
  {
   "cell_type": "code",
   "execution_count": 43,
   "metadata": {
    "scrolled": false
   },
   "outputs": [
    {
     "data": {
      "text/markdown": [
       "**Don't forget to run this cell!**"
      ],
      "text/plain": [
       "<IPython.core.display.Markdown object>"
      ]
     },
     "metadata": {},
     "output_type": "display_data"
    }
   ],
   "source": [
    "printmd(\"**Don't forget to run this cell!**\")  # no output cell, make it visible\n",
    "\n",
    "# select specific trajectories\n",
    "# track selection widget lists\n",
    "track_name_wid_list = []\n",
    "track_xlim_wid_list = []\n",
    "track_ylim_wid_list = []\n",
    "track_zlim_wid_list = []\n",
    "track_drawer_wid_list = []\n",
    "track_frame_subset_wid_list = []\n",
    "track_list_wid_list = []\n",
    "\n",
    "for i in range(set_num_wid.value):\n",
    "    printmd(\"\"\"### Set #{}\"\"\".format(i + 1))\n",
    "    \n",
    "    # subset name\n",
    "    printmd(\"\"\"You can give it a custom name that will be used for saving data\"\"\")\n",
    "    track_name_wid = widgets.Text(value='', placeholder='optional', description='Set name:',\n",
    "                            style={'description_width': 'initial'})\n",
    "    track_name_wid_list.append(track_name_wid)\n",
    "    display(track_name_wid)\n",
    "    \n",
    "    track_list_wid = widgets.Text(value='', placeholder='comma separated ids', description='Id list:')\n",
    "    track_xlim_wid = widgets.FloatRangeSlider(value=xlim, min=xlim[0], max=xlim[1], step=1,\n",
    "                                        description='x range (px):', style={'description_width': 'initial'})\n",
    "    track_ylim_wid = widgets.FloatRangeSlider(value=ylim, min=ylim[0], max=ylim[1], step=1,\n",
    "                                        description='y range (px):', style={'description_width': 'initial'})\n",
    "    if len(zlim) > 0:\n",
    "        track_zlim_wid = widgets.FloatRangeSlider(value=zlim, min=zlim[0], max=zlim[1], step=1,\n",
    "                                            description='z range (px):', style={'description_width': 'initial'})\n",
    "    track_frame_subset_wid = widgets.IntRangeSlider(value=[frame_min, frame_max], min=frame_min, max=frame_max, step=1,\n",
    "                                       description='Frame intervalle:', style={'description_width': 'initial'})\n",
    "    track_drawer_wid = LoadedButton(description=\"Draw ROI\", value={})\n",
    "    track_drawer_wid.on_click(get_image_coord)\n",
    "    # store widgets\n",
    "    track_list_wid_list.append(track_list_wid)\n",
    "    track_xlim_wid_list.append(track_xlim_wid)\n",
    "    track_ylim_wid_list.append(track_ylim_wid)\n",
    "    track_drawer_wid_list.append(track_drawer_wid)\n",
    "    track_frame_subset_wid_list.append(track_frame_subset_wid)\n",
    "    if len(zlim) > 0:\n",
    "        track_zlim_wid_list.append(track_zlim_wid)\n",
    "    else:\n",
    "        track_zlim_wid_list.append(None)\n",
    "    #display\n",
    "    printmd(\"Give a list of ids or select trajectories in a specific region during a specific frame intervalle using the viewer.\")\n",
    "    printmd(\"Use the ids given by the track analyzer, you need to generate the database once to access them, \"\n",
    "            \"(visualizing the trajectories with the printed labels can be helpful)\")\n",
    "    if len(zlim) > 0:\n",
    "        display(VBox([track_list_wid,track_drawer_wid, HBox([track_xlim_wid, track_ylim_wid, track_zlim_wid]),track_frame_subset_wid]))\n",
    "    else:\n",
    "        display(VBox([track_list_wid,track_drawer_wid, HBox([track_xlim_wid, track_ylim_wid]),track_frame_subset_wid]))\n"
   ]
  },
  {
   "cell_type": "code",
   "execution_count": 44,
   "metadata": {},
   "outputs": [
    {
     "data": {
      "text/markdown": [
       "**Don't forget to run this cell!**"
      ],
      "text/plain": [
       "<IPython.core.display.Markdown object>"
      ]
     },
     "metadata": {},
     "output_type": "display_data"
    },
    {
     "data": {
      "text/markdown": [
       "You set 1 subsets. Edit their names and order to be plotted if needed."
      ],
      "text/plain": [
       "<IPython.core.display.Markdown object>"
      ]
     },
     "metadata": {},
     "output_type": "display_data"
    },
    {
     "name": "stdout",
     "output_type": "stream",
     "text": [
      "{'xlim': [1138.6121805268112, 2217.1954707575783], 'ylim': [387.1624151913454, 707.7203860641262], 'zlim': None, 'min_traj_len': 0, 'max_traj_len': 200, 'frame_subset': (0, 57), 'track_list': None, 'track_ROI': None, 'name': ''}\n"
     ]
    },
    {
     "data": {
      "application/vnd.jupyter.widget-view+json": {
       "model_id": "003cdb3e3f534a59b8da3edd45c486cc",
       "version_major": 2,
       "version_minor": 0
      },
      "text/plain": [
       "HBox(children=(Text(value='', description='Subset name:', placeholder='optional', style=DescriptionStyle(descr…"
      ]
     },
     "metadata": {},
     "output_type": "display_data"
    }
   ],
   "source": [
    "printmd(\"**Don't forget to run this cell!**\")  # no output cell, make it visible\n",
    "\n",
    "if set_num_wid.value == 0: \n",
    "    new_filters = list(filters)\n",
    "else: \n",
    "    new_filters = []\n",
    "    # for each set of filters, copy them to new sets of filters modified by the trajectory filters\n",
    "    for filt in filters:   \n",
    "        for i in range(set_num_wid.value):\n",
    "            # trajectory list selection\n",
    "            track_list_val = track_list_wid_list[i].value\n",
    "            if track_list_val == '':\n",
    "                track_list_val = None\n",
    "            else:\n",
    "                try:\n",
    "                    track_list_val = [int(e) for e in track_list_val.split(',')]\n",
    "                except:\n",
    "                    print(\"ERROR: a value in the list is not a number\")\n",
    "                    track_list_val = None\n",
    "\n",
    "            # ROI selection\n",
    "            track_xlim_list, track_ylim_list, track_zlim_ = retrieve_region_wid_values(track_drawer_wid_list[i],\n",
    "                                                                     track_xlim_wid_list[i],\n",
    "                                                                     track_ylim_wid_list[i],\n",
    "                                                                     track_zlim_wid_list[i])\n",
    "\n",
    "            # if several sets, get values of xlim, ylim, while keeping other filters constant\n",
    "            for j in range(len(track_xlim_list)):\n",
    "                ROI = {'xlim': track_xlim_list[j],\n",
    "                    'ylim': track_ylim_list[j],\n",
    "                    'zlim': track_zlim_,\n",
    "                    'frame_lim': track_frame_subset_wid_list[i].value}\n",
    "                #name\n",
    "                if len(track_xlim_list) > 1:  # if several subsets, modify name\n",
    "                    name = track_name_wid_list[i].value + '_{}'.format(j)\n",
    "                else: \n",
    "                    name = track_name_wid_list[i].value\n",
    "\n",
    "                # add new filters to existing filters\n",
    "                new_filt = dict(filt)  # make copy of old filters\n",
    "                new_filt['track_list'] = track_list_val\n",
    "                new_filt['track_ROI'] = ROI\n",
    "                if new_filt['name'] == '':\n",
    "                    new_filt['name'] = name  # name = setname\n",
    "                else:\n",
    "                    if name != '':\n",
    "                        new_filt['name'] += '_' + name  # name = subsetname_setname\n",
    "\n",
    "                # store in a new list of filters\n",
    "                new_filters.append(new_filt)\n",
    "\n",
    "printmd('You set {} subsets. Edit their names and order to be plotted if needed.'.format(len(new_filters)))\n",
    "filt_names_wid_list = []\n",
    "order_wid_list = []\n",
    "for i,filt in enumerate(new_filters):\n",
    "    print(filt)\n",
    "    name_wid = widgets.Text(value=filt['name'], placeholder='optional', description='Subset name:',\n",
    "                            style={'description_width': 'initial'})\n",
    "    filt_names_wid_list.append(name_wid)\n",
    "    # using numbering starting at 1 for users\n",
    "    order_wid = widgets.BoundedIntText(value=i+1,min=1,max=len(new_filters)+1,description='order',style={'description_width': 'initial'})\n",
    "    order_wid_list.append(order_wid)\n",
    "    display(HBox([name_wid,order_wid]))\n"
   ]
  },
  {
   "cell_type": "code",
   "execution_count": 45,
   "metadata": {
    "scrolled": true
   },
   "outputs": [
    {
     "data": {
      "text/markdown": [
       "**Don't forget to run this cell!**"
      ],
      "text/plain": [
       "<IPython.core.display.Markdown object>"
      ]
     },
     "metadata": {},
     "output_type": "display_data"
    }
   ],
   "source": [
    "printmd(\"**Don't forget to run this cell!**\")  # no output cell, make it visible\n",
    "order_list = []  # list for subsets indices\n",
    "for i in range(len(new_filters)):\n",
    "    new_filters[i]['name'] = filt_names_wid_list[i].value\n",
    "    order_list.append(order_wid_list[i].value - 1)  # using numbering starting at 1 for users \n",
    "if any(x not in order_list for x in range(len(new_filters))):  # check if all indices have been set     \n",
    "    print(\"Warning: the ordering is wrong. Reverting to default order.\")\n",
    "    order_list = [x for x in range(len(new_filters))]\n",
    "    \n",
    "order_list_ = [new_filters[i]['name'] for i in order_list]  # order_list of names\n",
    "\n",
    "filters_dict = {'subset': separate_widget.value, \n",
    "               'filters_list': new_filters,\n",
    "               'subset_order': order_list_,}"
   ]
  },
  {
   "cell_type": "markdown",
   "metadata": {},
   "source": [
    "# Trajectory analysis module"
   ]
  },
  {
   "cell_type": "code",
   "execution_count": 46,
   "metadata": {
    "scrolled": false
   },
   "outputs": [
    {
     "data": {
      "text/markdown": [
       "### Plotting options"
      ],
      "text/plain": [
       "<IPython.core.display.Markdown object>"
      ]
     },
     "metadata": {},
     "output_type": "display_data"
    },
    {
     "data": {
      "text/markdown": [
       "**1. Trajectory plotting**"
      ],
      "text/plain": [
       "<IPython.core.display.Markdown object>"
      ]
     },
     "metadata": {},
     "output_type": "display_data"
    },
    {
     "data": {
      "application/vnd.jupyter.widget-view+json": {
       "model_id": "2fc045cd7eb74de4916363d342fecb3f",
       "version_major": 2,
       "version_minor": 0
      },
      "text/plain": [
       "Tab(children=(VBox(children=(Label(value='Plot trajectories frame by frame'), ToggleButton(value=True, descrip…"
      ]
     },
     "metadata": {},
     "output_type": "display_data"
    },
    {
     "data": {
      "text/markdown": [
       "**2. Parameter plotting**"
      ],
      "text/plain": [
       "<IPython.core.display.Markdown object>"
      ]
     },
     "metadata": {},
     "output_type": "display_data"
    },
    {
     "data": {
      "application/vnd.jupyter.widget-view+json": {
       "model_id": "48c66dc352e34472839536d03b43dbb1",
       "version_major": 2,
       "version_minor": 0
      },
      "text/plain": [
       "ToggleButton(value=True, description='Run module')"
      ]
     },
     "metadata": {},
     "output_type": "display_data"
    },
    {
     "data": {
      "text/markdown": [
       "*Two kinds of parameters can be plotted: instantaneous parameters (measured at each time point), and parameters calculated over a whole track.*"
      ],
      "text/plain": [
       "<IPython.core.display.Markdown object>"
      ]
     },
     "metadata": {},
     "output_type": "display_data"
    },
    {
     "data": {
      "text/markdown": [
       "*You can plot histograms or boxplots of single parameters or scatter plots of a couple of parameters (e.g. v vs y)*"
      ],
      "text/plain": [
       "<IPython.core.display.Markdown object>"
      ]
     },
     "metadata": {},
     "output_type": "display_data"
    },
    {
     "data": {
      "text/markdown": [
       "How many instantaneous parameters do you want to plot? (enter 0 if you don't want to plot parameters)"
      ],
      "text/plain": [
       "<IPython.core.display.Markdown object>"
      ]
     },
     "metadata": {},
     "output_type": "display_data"
    },
    {
     "data": {
      "application/vnd.jupyter.widget-view+json": {
       "model_id": "3e86d521d2ef4d0d9aaf8dae607cce01",
       "version_major": 2,
       "version_minor": 0
      },
      "text/plain": [
       "HBox(children=(BoundedIntText(value=1, description='Number of histograms:', max=20, style=DescriptionStyle(des…"
      ]
     },
     "metadata": {},
     "output_type": "display_data"
    },
    {
     "data": {
      "text/markdown": [
       "How many whole-trajectory parameters do you want to plot? (enter 0 if you don't want to plot parameters)"
      ],
      "text/plain": [
       "<IPython.core.display.Markdown object>"
      ]
     },
     "metadata": {},
     "output_type": "display_data"
    },
    {
     "data": {
      "application/vnd.jupyter.widget-view+json": {
       "model_id": "65fbb9be324e4be5a06b2b7567a9652d",
       "version_major": 2,
       "version_minor": 0
      },
      "text/plain": [
       "HBox(children=(BoundedIntText(value=1, description='Number of histograms:', max=20, style=DescriptionStyle(des…"
      ]
     },
     "metadata": {},
     "output_type": "display_data"
    },
    {
     "data": {
      "text/markdown": [
       "**3. Mean Squared Displacement (MSD) analysis**"
      ],
      "text/plain": [
       "<IPython.core.display.Markdown object>"
      ]
     },
     "metadata": {},
     "output_type": "display_data"
    },
    {
     "data": {
      "application/vnd.jupyter.widget-view+json": {
       "model_id": "8e6a8dae9aa349a4bb6f95e3d3ce15f8",
       "version_major": 2,
       "version_minor": 0
      },
      "text/plain": [
       "ToggleButton(value=True, description='Run module')"
      ]
     },
     "metadata": {},
     "output_type": "display_data"
    },
    {
     "data": {
      "text/markdown": [
       "You can either plot the MSD, or/and fit it with a random walk model"
      ],
      "text/plain": [
       "<IPython.core.display.Markdown object>"
      ]
     },
     "metadata": {},
     "output_type": "display_data"
    },
    {
     "data": {
      "application/vnd.jupyter.widget-view+json": {
       "model_id": "2b9393f2822a4f73814304f9af6f589e",
       "version_major": 2,
       "version_minor": 0
      },
      "text/plain": [
       "Dropdown(description='Choose analysis: ', index=1, options=('only plot MSD', 'plot MSD and fit'), style=Descri…"
      ]
     },
     "metadata": {},
     "output_type": "display_data"
    },
    {
     "data": {
      "text/markdown": [
       "***"
      ],
      "text/plain": [
       "<IPython.core.display.Markdown object>"
      ]
     },
     "metadata": {},
     "output_type": "display_data"
    },
    {
     "data": {
      "text/markdown": [
       "*Plotting section*"
      ],
      "text/plain": [
       "<IPython.core.display.Markdown object>"
      ]
     },
     "metadata": {},
     "output_type": "display_data"
    },
    {
     "data": {
      "text/markdown": [
       "Plot MSD altogether or as single plots. For a large number of tracks, plotting single MSDs can be long... Consider not plotting them."
      ],
      "text/plain": [
       "<IPython.core.display.Markdown object>"
      ]
     },
     "metadata": {},
     "output_type": "display_data"
    },
    {
     "data": {
      "application/vnd.jupyter.widget-view+json": {
       "model_id": "e20faabad9324ba893204022617e2d08",
       "version_major": 2,
       "version_minor": 0
      },
      "text/plain": [
       "HBox(children=(ToggleButton(value=True, description='plot MSD altogether'), ToggleButton(value=False, descript…"
      ]
     },
     "metadata": {},
     "output_type": "display_data"
    },
    {
     "data": {
      "application/vnd.jupyter.widget-view+json": {
       "model_id": "baf866c1ed8943f196fbe014c96c4bce",
       "version_major": 2,
       "version_minor": 0
      },
      "text/plain": [
       "HBox(children=(Label(value='log plot: '), Checkbox(value=True, description='x axis'), Checkbox(value=True, des…"
      ]
     },
     "metadata": {},
     "output_type": "display_data"
    },
    {
     "data": {
      "application/vnd.jupyter.widget-view+json": {
       "model_id": "70bcbf3e7e8841659f07b56bea66d3dd",
       "version_major": 2,
       "version_minor": 0
      },
      "text/plain": [
       "HBox(children=(Label(value='For all MSD plots, set the transparency (0=transparent, 1=opaque)'), FloatSlider(v…"
      ]
     },
     "metadata": {},
     "output_type": "display_data"
    },
    {
     "data": {
      "text/markdown": [
       "***"
      ],
      "text/plain": [
       "<IPython.core.display.Markdown object>"
      ]
     },
     "metadata": {},
     "output_type": "display_data"
    },
    {
     "data": {
      "text/markdown": [
       "*Fitting section*"
      ],
      "text/plain": [
       "<IPython.core.display.Markdown object>"
      ]
     },
     "metadata": {},
     "output_type": "display_data"
    },
    {
     "data": {
      "text/markdown": [
       "The MSD can be fitted with three different random walk models"
      ],
      "text/plain": [
       "<IPython.core.display.Markdown object>"
      ]
     },
     "metadata": {},
     "output_type": "display_data"
    },
    {
     "data": {
      "application/vnd.jupyter.widget-view+json": {
       "model_id": "6fceeb3a7e3c41118a29402d5521f922",
       "version_major": 2,
       "version_minor": 0
      },
      "text/plain": [
       "Dropdown(description='Choose model: ', options=('random walk', 'biased random walk', 'persistent random walk')…"
      ]
     },
     "metadata": {},
     "output_type": "display_data"
    },
    {
     "data": {
      "text/markdown": [
       "Perform MSD analysis in 2D (along the xy dimensions) or 3D"
      ],
      "text/plain": [
       "<IPython.core.display.Markdown object>"
      ]
     },
     "metadata": {},
     "output_type": "display_data"
    },
    {
     "data": {
      "application/vnd.jupyter.widget-view+json": {
       "model_id": "49c5206c9ad048d09e885d9446bcafdc",
       "version_major": 2,
       "version_minor": 0
      },
      "text/plain": [
       "Dropdown(description='dimension: ', options=('2D', '3D'), style=DescriptionStyle(description_width='initial'),…"
      ]
     },
     "metadata": {},
     "output_type": "display_data"
    },
    {
     "data": {
      "text/markdown": [
       "Fitting MSDs can be difficult (at long lag times the calculation is very noisy because of the poor statistics). It is often necessary to restrict the fit to short lag times. "
      ],
      "text/plain": [
       "<IPython.core.display.Markdown object>"
      ]
     },
     "metadata": {},
     "output_type": "display_data"
    },
    {
     "data": {
      "application/vnd.jupyter.widget-view+json": {
       "model_id": "c5a7a2aed3954e3ea36471c1a3decda4",
       "version_major": 2,
       "version_minor": 0
      },
      "text/plain": [
       "IntSlider(value=15, description='Maximum lag time (min)', max=597, style=SliderStyle(description_width='initia…"
      ]
     },
     "metadata": {},
     "output_type": "display_data"
    },
    {
     "data": {
      "text/markdown": [
       "**4. Voronoi analysis**"
      ],
      "text/plain": [
       "<IPython.core.display.Markdown object>"
      ]
     },
     "metadata": {},
     "output_type": "display_data"
    },
    {
     "data": {
      "application/vnd.jupyter.widget-view+json": {
       "model_id": "c0ea3d1fadd94102bf18bd2c7893ccdf",
       "version_major": 2,
       "version_minor": 0
      },
      "text/plain": [
       "ToggleButton(value=True, description='Run module')"
      ]
     },
     "metadata": {},
     "output_type": "display_data"
    },
    {
     "data": {
      "application/vnd.jupyter.widget-view+json": {
       "model_id": "ac1b859ff2ca401c80263b15cb793dba",
       "version_major": 2,
       "version_minor": 0
      },
      "text/plain": [
       "HBox(children=(VBox(children=(Checkbox(value=False, description='show axes'), Checkbox(value=False, descriptio…"
      ]
     },
     "metadata": {},
     "output_type": "display_data"
    },
    {
     "data": {
      "application/vnd.jupyter.widget-view+json": {
       "model_id": "73102b19e4c643c6a3e9b69fd8c180aa",
       "version_major": 2,
       "version_minor": 0
      },
      "text/plain": [
       "FloatSlider(value=1.0, description='Diagram line width:', max=20.0, min=0.01, style=SliderStyle(description_wi…"
      ]
     },
     "metadata": {},
     "output_type": "display_data"
    },
    {
     "data": {
      "text/markdown": [
       "Optional: set custom plotting limits to area color code (in squared unit)"
      ],
      "text/plain": [
       "<IPython.core.display.Markdown object>"
      ]
     },
     "metadata": {},
     "output_type": "display_data"
    },
    {
     "data": {
      "application/vnd.jupyter.widget-view+json": {
       "model_id": "71ad22de9def4ccda5859bd6eb489e4a",
       "version_major": 2,
       "version_minor": 0
      },
      "text/plain": [
       "VBox(children=(HBox(children=(Checkbox(value=False, description='set custom limit'), BoundedFloatText(value=1e…"
      ]
     },
     "metadata": {},
     "output_type": "display_data"
    }
   ],
   "source": [
    "# prepare default values for widgets\n",
    "if data['dim'] == 2:\n",
    "    color_code_list = ['t', 'group', 'random', 'none'] + list(custom_var.keys())\n",
    "    # if several subset plotted together, color code default: ROI\n",
    "    if len(filters_dict['filters_list']) and filters_dict['subset'] == 'together':\n",
    "        color_code_default = 'group'\n",
    "    else:\n",
    "        color_code_default = 'random'\n",
    "elif data['dim'] == 3:\n",
    "    color_code_list = ['z', 't', 'group', 'random', 'none'] + list(custom_var.keys())\n",
    "    # if several subset plotted together, color code default: ROI\n",
    "    if len(filters_dict['filters_list']) and filters_dict['subset'] == 'together':\n",
    "        color_code_default = 'group'\n",
    "    else:\n",
    "        color_code_default = 'z'\n",
    "\n",
    "        \n",
    "### Section 1\n",
    "printmd('### Plotting options')\n",
    "\n",
    "printmd(\"**1. Trajectory plotting**\")\n",
    "\n",
    "## TAB 1\n",
    "# widgets\n",
    "traj_module_wid = widgets.ToggleButton(value=True, description='Run module')\n",
    "show_axis_wid = widgets.Checkbox(value=False, description='show axes')\n",
    "bkg_wid = widgets.Checkbox(value=False, description='hide background image')\n",
    "show_tail_wid = widgets.Checkbox(value=True, description='show trajectory tail')\n",
    "marker_size_wid = widgets.FloatSlider(value=1., min=0, max=20, steps=0.1,\n",
    "                                      description='Relative size of dots and lines:',\n",
    "                                      style={'description_width': 'initial'})\n",
    "hide_lab_wid = widgets.Checkbox(value=True, description='hide track label')\n",
    "lab_size_wid = widgets.IntSlider(value=6, min=0, max=100, description='Track label size (pt):',\n",
    "                                 style={'description_width': 'initial'})\n",
    "color_code_wid = widgets.Dropdown(options=color_code_list, value=color_code_default, description='color code',\n",
    "                                  style={'description_width': 'initial'})\n",
    "colormap_wid = widgets.Dropdown(options=['plasma', 'viridis', 'cividis', 'jet'], value='plasma', description='colormap',\n",
    "                                style={'description_width': 'initial'})\n",
    "lab_1 = Label('Plot trajectories frame by frame')\n",
    "\n",
    "# layout\n",
    "left_box_1 = VBox([show_axis_wid,bkg_wid, show_tail_wid, hide_lab_wid])\n",
    "right_box_1 = VBox([lab_size_wid, marker_size_wid, color_code_wid, colormap_wid])\n",
    "tab_1_ = HBox([left_box_1, right_box_1])\n",
    "tab_1 = VBox([lab_1, traj_module_wid, tab_1_])\n",
    "\n",
    "## TAB 2\n",
    "# widgets\n",
    "xrange = np.abs(df['x_scaled'].max() - df['x_scaled'].min())\n",
    "yrange = np.abs(df['y_scaled'].max() - df['y_scaled'].min())\n",
    "xlim = [df['x_scaled'].min() - xrange, df['x_scaled'].max() + xrange]  # define custom xlim with wider boundaries\n",
    "ylim = [df['y_scaled'].min() - yrange, df['y_scaled'].max() + yrange]  # define custom ylim with wider boundaries\n",
    "all_traj_module_wid = widgets.ToggleButton(value=True, description='Run module')\n",
    "hide_lab_wid_2 = widgets.Checkbox(value=True, description='hide track label')\n",
    "center_wid = widgets.Checkbox(value=True, description='center origin')\n",
    "equal_axis_wid = widgets.Checkbox(value=False, description='equal scale on x/y axes')\n",
    "setlim_wid = widgets.Checkbox(value=False, description='set custom axis limits')\n",
    "lab_size_wid_2 = widgets.IntSlider(value=6, min=0, max=100, description='Track label size (pt):',\n",
    "                                   style={'description_width': 'initial'})\n",
    "color_code_wid_2 = widgets.Dropdown(options=color_code_list, value=color_code_default, description='color code',\n",
    "                                    style={'description_width': 'initial'})\n",
    "colormap_wid2 = widgets.Dropdown(options=['plasma', 'viridis', 'cividis', 'jet'], value='plasma',\n",
    "                                 description='colormap',\n",
    "                                 style={'description_width': 'initial'})\n",
    "xlim_wid = widgets.FloatRangeSlider(value=xlim, min=xlim[0], max=xlim[1], step=1,\n",
    "                                    description='x range ({}):'.format(info['length_unit']),\n",
    "                                    style={'description_width': 'initial'})\n",
    "ylim_wid = widgets.FloatRangeSlider(value=ylim, min=ylim[0], max=ylim[1], step=1,\n",
    "                                    description='y range ({}):'.format(info['length_unit']),\n",
    "                                    style={'description_width': 'initial'})\n",
    "traj_alpha_wid = widgets.FloatSlider(value=1, min=0, max=1, steps=0.01, description='transparency',\n",
    "                                style={'description_width': 'initial'})\n",
    "lab_2 = Label('Plot total trajectories')\n",
    "\n",
    "# layout\n",
    "left_box_2 = VBox([hide_lab_wid_2, center_wid, equal_axis_wid, setlim_wid,traj_alpha_wid])\n",
    "right_box_2 = VBox([lab_size_wid_2, color_code_wid_2, colormap_wid2, xlim_wid, ylim_wid])\n",
    "tab_2_ = HBox([left_box_2, right_box_2])\n",
    "tab_2 = VBox([lab_2, all_traj_module_wid, tab_2_])\n",
    "\n",
    "# display Section 1\n",
    "tab_titles = ['Plot frame by frame', 'Plot total trajectories']\n",
    "tab = widgets.Tab()\n",
    "tab.children = [tab_1, tab_2]\n",
    "for i in range(len(tab_titles)):\n",
    "    tab.set_title(i, tab_titles[i])\n",
    "display(tab)\n",
    "\n",
    "\n",
    "### Section 2\n",
    "printmd(\"**2. Parameter plotting**\")\n",
    "\n",
    "param_module_wid = widgets.ToggleButton(value=True, description='Run module')\n",
    "display(param_module_wid)\n",
    "printmd(\"*Two kinds of parameters can be plotted: instantaneous parameters (measured at each time point), and parameters calculated over a whole track.*\")\n",
    "printmd(\"*You can plot histograms or boxplots of single parameters or scatter plots of a couple of parameters (e.g. v vs y)*\")\n",
    "printmd(\n",
    "    \"How many instantaneous parameters do you want to plot? (enter 0 if you don't want to plot parameters)\")\n",
    "param_hist_num_wid = widgets.BoundedIntText(value=1, min=0, max=20, description='Number of histograms:',\n",
    "                                            style={'description_width': 'initial'})\n",
    "param_box_num_wid = widgets.BoundedIntText(value=1, min=0, max=20, description='Number of boxplots:',\n",
    "                                            style={'description_width': 'initial'})\n",
    "param_couple_num_wid = widgets.BoundedIntText(value=1, min=0, max=20, description='Number of scatter plots:',\n",
    "                                              style={'description_width': 'initial'})\n",
    "display(HBox([param_hist_num_wid, param_box_num_wid, param_couple_num_wid]))\n",
    "printmd(\n",
    "    \"How many whole-trajectory parameters do you want to plot? (enter 0 if you don't want to plot parameters)\")\n",
    "tparam_hist_num_wid = widgets.BoundedIntText(value=1, min=0, max=20, description='Number of histograms:',\n",
    "                                             style={'description_width': 'initial'})\n",
    "tparam_box_num_wid = widgets.BoundedIntText(value=1, min=0, max=20, description='Number of boxplots:',\n",
    "                                            style={'description_width': 'initial'})\n",
    "tparam_couple_num_wid = widgets.BoundedIntText(value=1, min=0, max=20, description='Number of scatter plots:',\n",
    "                                               style={'description_width': 'initial'})\n",
    "display(HBox([tparam_hist_num_wid, tparam_box_num_wid, tparam_couple_num_wid]))\n",
    "\n",
    "\n",
    "### Section 3\n",
    "printmd(\"**3. Mean Squared Displacement (MSD) analysis**\")\n",
    "MSD_module_wid = widgets.ToggleButton(value=True, description='Run module')\n",
    "display(MSD_module_wid)\n",
    "\n",
    "printmd(\"You can either plot the MSD, or/and fit it with a random walk model\")\n",
    "MSD_mode_wid = widgets.Dropdown(options=['only plot MSD', 'plot MSD and fit'], value='plot MSD and fit',\n",
    "                                description='Choose analysis: ',\n",
    "                                style={'description_width': 'initial'})\n",
    "display(MSD_mode_wid)\n",
    "\n",
    "printmd(\"***\")\n",
    "printmd(\"*Plotting section*\")\n",
    "printmd(\n",
    "    \"Plot MSD altogether or as single plots. For a large number of tracks, plotting single MSDs can be long... Consider not plotting them.\")\n",
    "all_MSD_plot_wid = widgets.ToggleButton(value=True, description='plot MSD altogether')\n",
    "single_MSD_plot_wid = widgets.ToggleButton(value=False, description='single MSD plots')\n",
    "logplot_wid_x = widgets.Checkbox(value=True, description='x axis')\n",
    "logplot_wid_y = widgets.Checkbox(value=True, description='y axis')\n",
    "alpha_lab = Label('For all MSD plots, set the transparency (0=transparent, 1=opaque)')\n",
    "alpha_wid = widgets.FloatSlider(value=0.2, min=0, max=1, steps=0.01, description='transparency',\n",
    "                                style={'description_width': 'initial'})\n",
    "display(HBox([all_MSD_plot_wid, single_MSD_plot_wid]))\n",
    "display(HBox([Label('log plot: '), logplot_wid_x, logplot_wid_y]))\n",
    "display(HBox([alpha_lab, alpha_wid]))\n",
    "\n",
    "printmd(\"***\")\n",
    "printmd(\"*Fitting section*\")\n",
    "printmd(\"The MSD can be fitted with three different random walk models\")\n",
    "MSD_wid = widgets.Dropdown(options=['random walk', 'biased random walk', 'persistent random walk'], value='random walk',\n",
    "                           description='Choose model: ',\n",
    "                           style={'description_width': 'initial'})\n",
    "display(MSD_wid)\n",
    "dim_wid = widgets.Dropdown(options=['2D', '3D'], value='2D', description='dimension: ',\n",
    "                           style={'description_width': 'initial'})\n",
    "fitrange_wid = widgets.IntSlider(value=5 * timescale, min=0, max=df['t'].max(), step=1,\n",
    "                                 description='Maximum lag time ({})'.format(info['time_unit']),\n",
    "                                 style={'description_width': 'initial'})\n",
    "\n",
    "printmd(\"Perform MSD analysis in 2D (along the xy dimensions) or 3D\")\n",
    "display(dim_wid)\n",
    "printmd(\n",
    "    \"Fitting MSDs can be difficult (at long lag times the calculation is very noisy because of the poor statistics). It is often necessary to restrict the fit to short lag times. \")\n",
    "display(fitrange_wid)\n",
    "\n",
    "### Section 4\n",
    "printmd(\"**4. Voronoi analysis**\")\n",
    "vor_module_wid = widgets.ToggleButton(value=True, description='Run module')\n",
    "display(vor_module_wid)\n",
    "\n",
    "# plotting parameters\n",
    "vor_show_axis_wid = widgets.Checkbox(value=False, description='show axes')\n",
    "vor_bkg_wid = widgets.Checkbox(value=False, description='hide background image')\n",
    "vor_plot_wid = widgets.Checkbox(value=True, description='plot diagram')\n",
    "vor_area_wid = widgets.Checkbox(value=True, description='show cell area')\n",
    "vor_area_thr_wid = widgets.BoundedFloatText(value=3, min=0, max=100, step=0.1,\n",
    "                                        description='Max area threshold:',\n",
    "                                        style={'description_width': 'initial'})\n",
    "vor_cmap_wid = widgets.Dropdown(options=['plasma', 'viridis', 'cividis', 'jet'], value='plasma', description='colormap',\n",
    "                                style={'description_width': 'initial'})\n",
    "vor_linewidth_wid = widgets.FloatSlider(value=1., min=0.01, max=20, steps=0.1,\n",
    "                                      description='Diagram line width:',\n",
    "                                      style={'description_width': 'initial'})\n",
    "vor_vmin_val_wid = widgets.BoundedFloatText(value=0, min=1e-6, max=1e6, step=1e-6,\n",
    "                                        description='Minimal limit:',\n",
    "                                        style={'description_width': 'initial'})\n",
    "vor_vmin_bool_wid = widgets.Checkbox(value=False, description='set custom limit')\n",
    "vor_vmax_val_wid = widgets.BoundedFloatText(value=0, min=1e-6, max=1e6, step=1e-6,\n",
    "                                        description='Maximal limit:',\n",
    "                                        style={'description_width': 'initial'})\n",
    "vor_vmax_bool_wid = widgets.Checkbox(value=False, description='set custom limit')\n",
    "display(HBox([VBox([vor_show_axis_wid, vor_bkg_wid, vor_plot_wid]),VBox([vor_area_wid, vor_area_thr_wid, vor_cmap_wid])]),vor_linewidth_wid)\n",
    "\n",
    "printmd('Optional: set custom plotting limits to area color code (in squared unit)')\n",
    "display(VBox([HBox([vor_vmin_bool_wid,vor_vmin_val_wid]),HBox([vor_vmax_bool_wid,vor_vmax_val_wid])]))\n"
   ]
  },
  {
   "cell_type": "code",
   "execution_count": 52,
   "metadata": {
    "scrolled": false
   },
   "outputs": [
    {
     "data": {
      "text/markdown": [
       "**Don't forget to run this cell!**"
      ],
      "text/plain": [
       "<IPython.core.display.Markdown object>"
      ]
     },
     "metadata": {},
     "output_type": "display_data"
    },
    {
     "data": {
      "application/vnd.jupyter.widget-view+json": {
       "model_id": "cb28fdaf3d6a416a8449af2b15794140",
       "version_major": 2,
       "version_minor": 0
      },
      "text/plain": [
       "Tab(children=(Accordion(children=(VBox(), VBox()), _titles={'0': 'Instantaneous parameters', '1': 'Whole_traje…"
      ]
     },
     "metadata": {},
     "output_type": "display_data"
    }
   ],
   "source": [
    "printmd(\"**Don't forget to run this cell!**\")  # no output cell, make it visible\n",
    "\n",
    "## Get additional information about parameters plotting\n",
    "\n",
    "# get MSD parameters\n",
    "if not MSD_module_wid.value:\n",
    "    MSD_fit = False\n",
    "else:\n",
    "    if MSD_mode_wid.value == 'only plot MSD':\n",
    "        MSD_fit = None\n",
    "    else:\n",
    "        MSD_model_dict = {'random walk': 'pure_diff', 'biased random walk': 'biased_diff',\n",
    "                          'persistent random walk': 'PRW'}\n",
    "        MSD_fit = MSD_model_dict[MSD_wid.value]\n",
    "\n",
    "# prepare parameters lists\n",
    "if param_module_wid.value:\n",
    "    dimensions = ['x', 'y'] if data['dim'] == 2 else ['x', 'y', 'z']\n",
    "    scaled_dimensions = [dim + '_scaled' for dim in dimensions]\n",
    "    vel = ['v' + dim for dim in dimensions]\n",
    "    acc = ['a' + dim for dim in dimensions]\n",
    "\n",
    "    params = ['track', 't'] + dimensions + scaled_dimensions + vel + acc + ['v', 'a'] + list(custom_var.keys())\n",
    "    params_track = ['track', 'track_length', 't'] + dimensions + scaled_dimensions + vel + acc + ['v', 'a'] + list(custom_var.keys())\n",
    "\n",
    "    # add MSD output to track parameters\n",
    "    if MSD_fit is not None and MSD_fit is not False:\n",
    "        MSD_param = 'P' if MSD_fit == 'PRW' else 'D'\n",
    "        params_track += [MSD_param]\n",
    "    # add voronoi output to instantaneous parameters\n",
    "    if vor_module_wid.value:\n",
    "        params += ['area']\n",
    "        params_track += ['area']\n",
    "\n",
    "    # default\n",
    "    default_param = 'v'\n",
    "    default_xparam = ['x', 'y', 't']\n",
    "\n",
    "    # histogram widgets\n",
    "    param_hist_wid_list = []\n",
    "    tparam_hist_wid_list = []\n",
    "    for i in range(param_hist_num_wid.value):\n",
    "        w = widgets.Dropdown(options=params, value=default_param, description='parameter',\n",
    "                             style={'description_width': 'initial'})\n",
    "        param_hist_wid_list.append(w)\n",
    "    box_1 = VBox(param_hist_wid_list)\n",
    "    for i in range(tparam_hist_num_wid.value):\n",
    "        w = widgets.Dropdown(options=params_track, value=default_param, description='parameter',\n",
    "                             style={'description_width': 'initial'})\n",
    "        tparam_hist_wid_list.append(w)\n",
    "    box_2 = VBox(tparam_hist_wid_list)\n",
    "    \n",
    "    # boxplots widgets\n",
    "    boxplot_wid = widgets.Checkbox(value=True, description='Show boxplot')\n",
    "    swarmplot_wid = widgets.Checkbox(value=False, description='Show swarmplot')\n",
    "    ttest_wid = widgets.Checkbox(value=True, description='Run t-test')\n",
    "    param_box_wid_list = []\n",
    "    tparam_box_wid_list = []\n",
    "    for i in range(param_box_num_wid.value):\n",
    "        w = widgets.Dropdown(options=params, value=default_param, description='parameter',\n",
    "                             style={'description_width': 'initial'})\n",
    "        param_box_wid_list.append(w)\n",
    "    box_6 = VBox([HBox([boxplot_wid, swarmplot_wid, ttest_wid])]+param_box_wid_list)\n",
    "    \n",
    "    t_boxplot_wid = widgets.Checkbox(value=True, description='Show boxplot')\n",
    "    t_swarmplot_wid = widgets.Checkbox(value=True, description='Show swarmplot')\n",
    "    t_ttest_wid = widgets.Checkbox(value=True, description='Run t-test')\n",
    "    for i in range(tparam_box_num_wid.value):\n",
    "        w = widgets.Dropdown(options=params_track, value=default_param, description='parameter',\n",
    "                             style={'description_width': 'initial'})\n",
    "        tparam_box_wid_list.append(w)\n",
    "    box_7 = VBox([HBox([t_boxplot_wid, t_swarmplot_wid, t_ttest_wid])]+tparam_box_wid_list)\n",
    "\n",
    "    # couples widgets\n",
    "    xparam_wid_list = []\n",
    "    yparam_wid_list = []\n",
    "    for i in range(param_couple_num_wid.value):\n",
    "        x = widgets.Dropdown(options=params, value=default_xparam[i % len(default_xparam)], description='x parameter',\n",
    "                             style={'description_width': 'initial'})\n",
    "        y = widgets.Dropdown(options=params, value=default_param, description='y parameter',\n",
    "                             style={'description_width': 'initial'})\n",
    "        xparam_wid_list.append(x)\n",
    "        yparam_wid_list.append(y)\n",
    "\n",
    "    left3 = VBox(xparam_wid_list)\n",
    "    right3 = VBox(yparam_wid_list)\n",
    "    box_3 = HBox([left3, right3])\n",
    "\n",
    "    t_xparam_wid_list = []\n",
    "    t_yparam_wid_list = []\n",
    "    for i in range(tparam_couple_num_wid.value):\n",
    "        x = widgets.Dropdown(options=params_track, value=default_xparam[i % len(default_xparam)],\n",
    "                             description='x parameter',\n",
    "                             style={'description_width': 'initial'})\n",
    "        y = widgets.Dropdown(options=params_track, value=default_param, description='y parameter',\n",
    "                             style={'description_width': 'initial'})\n",
    "        t_xparam_wid_list.append(x)\n",
    "        t_yparam_wid_list.append(y)\n",
    "\n",
    "    left4 = VBox(t_xparam_wid_list)\n",
    "    right4 = VBox(t_yparam_wid_list)\n",
    "    box_4 = HBox([left4, right4])\n",
    "    \n",
    "    # scatter plots parameters\n",
    "    scatter_wid = widgets.Checkbox(value=True, description='Show scatter plot')\n",
    "    reg_wid = widgets.Checkbox(value=True, description='Show regression plot')\n",
    "    ci_wid = widgets.FloatSlider(value=95, min=0, max=100, steps=0.1,\n",
    "                                      description='Confidence interval:',\n",
    "                                      style={'description_width': 'initial'})\n",
    "    xbin_wid = widgets.Checkbox(value=False, description='Bin data along x axis')\n",
    "    xbin_num_wid = widgets.IntSlider(value=10, min=1, max=100,\n",
    "                                      description='Number of evenly spaced bins:',\n",
    "                                      style={'description_width': 'initial'})\n",
    "    box_5 = VBox([HBox([scatter_wid, reg_wid,xbin_wid]),HBox([ci_wid,xbin_num_wid])])\n",
    "\n",
    "    acc1 = widgets.Accordion(children=[box_1, box_2])\n",
    "    acc3 = widgets.Accordion(children=[box_6, box_7])\n",
    "    acc2 = widgets.Accordion(children=[box_5,box_3, box_4])\n",
    "    acc_titles = ['Instantaneous parameters', 'Whole_trajectory parameters']\n",
    "    for i in range(len(acc_titles)):\n",
    "        acc1.set_title(i, acc_titles[i])\n",
    "        acc3.set_title(i, acc_titles[i])\n",
    "    acc_titles_2 = ['Plotting parameters'] + acc_titles\n",
    "    for i in range(len(acc_titles_2)):\n",
    "        acc2.set_title(i, acc_titles_2[i])\n",
    "    \n",
    "    # layout\n",
    "    tab_titles = ['Histograms', 'Boxplots', 'Scatter plots']\n",
    "    tab = widgets.Tab()\n",
    "    tab.children = [acc1, acc3, acc2]\n",
    "    for i in range(len(tab_titles)):\n",
    "        tab.set_title(i, tab_titles[i])\n",
    "    display(tab)"
   ]
  },
  {
   "cell_type": "code",
   "execution_count": 53,
   "metadata": {
    "scrolled": false
   },
   "outputs": [
    {
     "data": {
      "text/markdown": [
       "**Don't forget to run this cell!**"
      ],
      "text/plain": [
       "<IPython.core.display.Markdown object>"
      ]
     },
     "metadata": {},
     "output_type": "display_data"
    }
   ],
   "source": [
    "printmd(\"**Don't forget to run this cell!**\")  # no output cell, make it visible\n",
    "\n",
    "# Prepare config\n",
    "\n",
    "traj_config = tpr.make_traj_config(export_config=False)\n",
    "\n",
    "#traj_config_\n",
    "traj_config[\"traj_config_\"][\"run\"] = traj_module_wid.value\n",
    "traj_config[\"traj_config_\"][\"color_code\"] = color_code_wid.value\n",
    "traj_config[\"traj_config_\"][\"cmap\"] = colormap_wid.value\n",
    "traj_config[\"traj_config_\"][\"lab_size\"] = lab_size_wid.value\n",
    "traj_config[\"traj_config_\"][\"size_factor\"] = marker_size_wid.value\n",
    "traj_config[\"traj_config_\"][\"show_tail\"] = show_tail_wid.value\n",
    "traj_config[\"traj_config_\"][\"hide_labels\"] = hide_lab_wid.value\n",
    "traj_config[\"traj_config_\"][\"no_bkg\"] = bkg_wid.value\n",
    "traj_config[\"traj_config_\"][\"show_axis\"] = show_axis_wid.value\n",
    "\n",
    "#total_traj_config\n",
    "traj_config[\"total_traj_config\"][\"run\"] = all_traj_module_wid.value\n",
    "traj_config[\"total_traj_config\"][\"color_code\"] = 'none' if color_code_wid_2.value=='unique' else color_code_wid_2.value\n",
    "traj_config[\"total_traj_config\"][\"cmap\"] = colormap_wid2.value\n",
    "traj_config[\"total_traj_config\"][\"lab_size\"] = lab_size_wid_2.value\n",
    "traj_config[\"total_traj_config\"][\"center_origin\"] = center_wid.value\n",
    "traj_config[\"total_traj_config\"][\"hide_labels\"] = hide_lab_wid_2.value\n",
    "traj_config[\"total_traj_config\"][\"set_axis_lim\"] = xlim_wid.value+ylim_wid.value if setlim_wid.value else None\n",
    "traj_config[\"total_traj_config\"][\"equal_axis\"] = equal_axis_wid.value\n",
    "traj_config[\"total_traj_config\"][\"transparency\"] = traj_alpha_wid.value\n",
    "\n",
    "# scatter_config and hist_config\n",
    "plot_param_hist_=[]\n",
    "plot_t_param_hist_=[]\n",
    "plot_param_box_=[]\n",
    "plot_t_param_box_=[]\n",
    "plot_param_vs_param_=[]\n",
    "plot_track_param_vs_param_=[]\n",
    "\n",
    "if param_module_wid.value:\n",
    "    for i in range(param_hist_num_wid.value):\n",
    "        plot_param_hist_.append(param_hist_wid_list[i].value)\n",
    "    for i in range(tparam_hist_num_wid.value):\n",
    "        plot_t_param_hist_.append(tparam_hist_wid_list[i].value)\n",
    "    for i in range(param_box_num_wid.value):\n",
    "        plot_param_box_.append(param_box_wid_list[i].value)\n",
    "    for i in range(tparam_box_num_wid.value):\n",
    "        plot_t_param_box_.append(tparam_box_wid_list[i].value)  \n",
    "    for i in range(param_couple_num_wid.value):\n",
    "        plot_param_vs_param_.append([xparam_wid_list[i].value,yparam_wid_list[i].value])\n",
    "    for i in range(tparam_couple_num_wid.value):\n",
    "        plot_track_param_vs_param_.append([t_xparam_wid_list[i].value,t_yparam_wid_list[i].value])   \n",
    "\n",
    "if len(plot_param_hist_)>0 or len(plot_t_param_hist_)>0:\n",
    "    traj_config[\"hist_config\"][\"run\"] = True\n",
    "    traj_config[\"hist_config\"][\"var_list\"] = plot_param_hist_\n",
    "    traj_config[\"hist_config\"][\"mean_var_list\"] = plot_t_param_hist_\n",
    "\n",
    "else: \n",
    "    traj_config[\"hist_config\"][\"run\"] = False\n",
    "    \n",
    "if len(plot_param_box_)>0 or len(plot_t_param_box_)>0:\n",
    "    traj_config[\"boxplot_config\"][\"run\"] = True\n",
    "    traj_config[\"boxplot_config\"][\"var_list\"] = plot_param_box_\n",
    "    traj_config[\"boxplot_config\"][\"mean_var_list\"] = plot_t_param_box_\n",
    "    traj_config[\"boxplot_config\"][\"save_stat\"] = ttest_wid.value\n",
    "    traj_config[\"boxplot_config\"][\"boxplot\"] = boxplot_wid.value\n",
    "    traj_config[\"boxplot_config\"][\"swarmplot\"] = swarmplot_wid.value\n",
    "    traj_config[\"boxplot_config\"][\"mean_save_stat\"] = t_ttest_wid.value\n",
    "    traj_config[\"boxplot_config\"][\"mean_boxplot\"] = t_boxplot_wid.value\n",
    "    traj_config[\"boxplot_config\"][\"mean_swarmplot\"] = t_swarmplot_wid.value\n",
    "    \n",
    "else: \n",
    "    traj_config[\"boxplot_config\"][\"run\"] = False\n",
    "    \n",
    "if len(plot_param_vs_param_)>0 or len(plot_track_param_vs_param_)>0:\n",
    "    traj_config[\"scatter_config\"][\"run\"] = True\n",
    "    traj_config[\"scatter_config\"][\"couple_list\"] = plot_param_vs_param_\n",
    "    traj_config[\"scatter_config\"][\"mean_couple_list\"] = plot_track_param_vs_param_\n",
    "    traj_config[\"scatter_config\"][\"ci\"] = ci_wid.value\n",
    "    traj_config[\"scatter_config\"][\"fit_reg\"] = reg_wid.value\n",
    "    traj_config[\"scatter_config\"][\"scatter\"] = scatter_wid.value\n",
    "    traj_config[\"scatter_config\"][\"x_bin_num\"] = xbin_num_wid.value if xbin_wid.value else None\n",
    "else: \n",
    "    traj_config[\"scatter_config\"][\"run\"] = False\n",
    "        \n",
    "# MSD_config\n",
    "traj_config[\"MSD_config\"][\"run\"] = MSD_module_wid.value\n",
    "traj_config[\"MSD_config\"][\"MSD_model\"] = MSD_fit\n",
    "traj_config[\"MSD_config\"][\"dim\"] = 2 if dim_wid.value == '2D' else 3\n",
    "traj_config[\"MSD_config\"][\"fitrange\"] = [None,fitrange_wid.value]\n",
    "traj_config[\"MSD_config\"][\"plot_all_MSD\"] = all_MSD_plot_wid.value\n",
    "traj_config[\"MSD_config\"][\"plot_single_MSD\"] = single_MSD_plot_wid.value\n",
    "traj_config[\"MSD_config\"][\"logplot_x\"] = logplot_wid_x.value\n",
    "traj_config[\"MSD_config\"][\"logplot_y\"] = logplot_wid_y.value\n",
    "traj_config[\"MSD_config\"][\"alpha\"] = alpha_wid.value\n",
    "\n",
    "# Voronoi_config\n",
    "vlim = [None, None]\n",
    "if vor_vmin_bool_wid.value: \n",
    "    vlim[0] = vor_vmin_val_wid.value\n",
    "if vor_vmax_bool_wid.value: \n",
    "    vlim[1] = vor_vmax_val_wid.value\n",
    "traj_config[\"voronoi_config\"][\"run\"] = vor_module_wid.value\n",
    "traj_config[\"voronoi_config\"][\"plot\"] = vor_plot_wid.value\n",
    "traj_config[\"voronoi_config\"][\"vlim\"] = vlim \n",
    "traj_config[\"voronoi_config\"][\"cmap\"] = vor_cmap_wid.value\n",
    "traj_config[\"voronoi_config\"][\"compute_local_area\"] = vor_module_wid.value # compute by default if module run\n",
    "traj_config[\"voronoi_config\"][\"show_local_area\"] = vor_area_wid.value\n",
    "traj_config[\"voronoi_config\"][\"area_threshold\"] = vor_area_thr_wid.value\n",
    "traj_config[\"voronoi_config\"][\"no_bkg\"] = vor_bkg_wid.value\n",
    "traj_config[\"voronoi_config\"][\"show_axis\"] = vor_show_axis_wid.value\n",
    "traj_config[\"voronoi_config\"][\"line_width\"] = vor_linewidth_wid.value"
   ]
  },
  {
   "cell_type": "code",
   "execution_count": 54,
   "metadata": {
    "scrolled": false
   },
   "outputs": [
    {
     "data": {
      "text/markdown": [
       "**RUN THE ANALYSIS HERE!**"
      ],
      "text/plain": [
       "<IPython.core.display.Markdown object>"
      ]
     },
     "metadata": {},
     "output_type": "display_data"
    },
    {
     "name": "stdout",
     "output_type": "stream",
     "text": [
      "Analyzing subset #1, named: 3\n",
      "Computing means along trajectories...\n",
      "Voronoi analysis...\n",
      "Plotting scatter plots of instantaneous parameters...\n",
      "Plotting scatter plots of whole-track parameters...\n"
     ]
    }
   ],
   "source": [
    "printmd(\"**RUN THE ANALYSIS HERE!**\")  # no output cell, make it visible\n",
    "\n",
    "df_list = traj_analysis(data_dir=data_dir,\n",
    "                        data=data,\n",
    "                        image=image,\n",
    "                        filters=filters_dict,\n",
    "                        plot_config=plot_param,\n",
    "                        traj_config=traj_config)"
   ]
  },
  {
   "cell_type": "markdown",
   "metadata": {},
   "source": [
    "# Map analysis module\n",
    "### Plot maps of data calculated over a regular grid (velocity, acceleration, divergence, curl, vector means)"
   ]
  },
  {
   "cell_type": "code",
   "execution_count": 22,
   "metadata": {
    "scrolled": false
   },
   "outputs": [
    {
     "data": {
      "application/vnd.jupyter.widget-view+json": {
       "model_id": "a23280be53a44063940d91f7d34869a5",
       "version_major": 2,
       "version_minor": 0
      },
      "text/plain": [
       "Tab(children=(GridspecLayout(children=(IntSlider(value=10, description='Number of cells along x axis:', layout…"
      ]
     },
     "metadata": {},
     "output_type": "display_data"
    }
   ],
   "source": [
    "colormap_list = ['plasma', 'viridis', 'jet', 'bwr', 'bwr_r']\n",
    "\n",
    "# 1. Make grids\n",
    "info = tpr.get_info(data_dir)\n",
    "w = info['image_width']\n",
    "h = info['image_height']\n",
    "image_size = [w, h]\n",
    "image_aspect_ratio = h / w\n",
    "lengthscale = info['lengthscale']\n",
    "\n",
    "# widgets\n",
    "x_num_init = 10\n",
    "y_num_init = int(x_num_init * image_aspect_ratio)\n",
    "cell_size_init = w / (x_num_init + 1)\n",
    "cell_size_sc_init = (w * lengthscale) / (x_num_init + 1)\n",
    "\n",
    "\n",
    "def update_by_xnum(*args):\n",
    "    y_num_wid.value = int(x_num_wid.value * image_aspect_ratio)\n",
    "    cell_size_wid.value = w / (x_num_wid.value + 1)\n",
    "    cell_size_scaled_wid.value = (w * lengthscale) / (x_num_wid.value + 1)\n",
    "\n",
    "\n",
    "def update_by_cell_size(*args):\n",
    "    x_num_wid.value = int(w / cell_size_wid.value) - 1\n",
    "    y_num_wid.value = int(h / cell_size_wid.value) - 1\n",
    "    cell_size_scaled_wid.value = cell_size_wid.value * lengthscale\n",
    "\n",
    "\n",
    "def update_by_cell_size_sc(*args):\n",
    "    x_num_wid.value = int(w * lengthscale / cell_size_scaled_wid.value) - 1\n",
    "    y_num_wid.value = int(h * lengthscale / cell_size_scaled_wid.value) - 1\n",
    "    cell_size_wid.value = cell_size_scaled_wid.value / lengthscale\n",
    "\n",
    "\n",
    "orig_list = ['center', \"left-bottom\", \"center-bottom\", \"right-bottom\", \"right-center\", \"right-top\", \"center-top\",\n",
    "             \"left-top\", \"left-center\"]\n",
    "\n",
    "x_num_wid = widgets.IntSlider(value=x_num_init, min=1, max=1000, description='Number of cells along x axis:',\n",
    "                              style={'description_width': 'initial'})\n",
    "y_num_wid = widgets.IntSlider(value=y_num_init, min=1, max=1000, description='Number of cells along y axis:',\n",
    "                              style={'description_width': 'initial'}, disabled=True)\n",
    "cell_size_wid = widgets.FloatSlider(value=cell_size_init, min=1e-3, max=min(w, h), description='Cell size in (px):',\n",
    "                                    style={'description_width': 'initial'})\n",
    "cell_size_scaled_wid = widgets.FloatSlider(value=cell_size_sc_init, min=1e-3, max=min(w * lengthscale, h * lengthscale),\n",
    "                                           description='Cell size in ({}):'.format(info['length_unit']),\n",
    "                                           style={'description_width': 'initial'})\n",
    "orig_wid = widgets.Dropdown(options=orig_list, value='center', description='grid position: ',\n",
    "                            style={'description_width': 'initial'})\n",
    "plot_grid_wid = widgets.Button(value=True, description='Show grid')\n",
    "\n",
    "x_num_wid.observe(update_by_xnum, names='value')\n",
    "cell_size_wid.observe(update_by_cell_size, names='value')\n",
    "cell_size_scaled_wid.observe(update_by_cell_size_sc, names='value')\n",
    "\n",
    "\n",
    "def btn_eventhandler(obj):\n",
    "    # clear_output()\n",
    "    info = tpr.get_info(data_dir)\n",
    "    image_size = [info['image_width'], info['image_height']]\n",
    "    tpr.make_grid(image_size, x_num=x_num_wid.value, origin=orig_wid.value, plot_grid=True)\n",
    "\n",
    "\n",
    "plot_grid_wid.on_click(btn_eventhandler)  # or use interact instead\n",
    "\n",
    "# layout\n",
    "grid_1 = GridspecLayout(3, 2)\n",
    "left = [x_num_wid, cell_size_wid, cell_size_scaled_wid]\n",
    "right = [y_num_wid, orig_wid, plot_grid_wid]\n",
    "for i in range(3):\n",
    "    grid_1[i, 0] = left[i]\n",
    "    grid_1[i, 1] = right[i]\n",
    "\n",
    "# 2. Map params\n",
    "temp_avg_wid = widgets.BoundedIntText(value=0, min=0, max=100, description='Temporal average:',\n",
    "                                      style={'description_width': 'initial'})\n",
    "arrow_size_wid = widgets.BoundedFloatText(value=1., min=0, max=100, description='Relative size of arrows:',\n",
    "                                          style={'description_width': 'initial'})\n",
    "export_wid = widgets.Checkbox(value=True, description='export fields')\n",
    "bkg_wid = widgets.Checkbox(value=False, description='hide background image')\n",
    "\n",
    "# layout\n",
    "grid_2 = GridspecLayout(2, 2)\n",
    "left = [temp_avg_wid, arrow_size_wid]\n",
    "right = [bkg_wid, export_wid]\n",
    "for i in range(2):\n",
    "    grid_2[i, 0] = left[i]\n",
    "    grid_2[i, 1] = right[i]\n",
    "\n",
    "# 3. Scalar fields\n",
    "scalar_fields = ['vx', 'vy', 'vz', 'v', 'ax', 'ay', 'az', 'a', 'div', 'curl'] if dim == 3 else [\n",
    "    'vx', 'vy', 'v', 'ax', 'ay', 'a', 'div', 'curl']\n",
    "scalar_fields = scalar_fields + list(custom_var.keys())\n",
    "left_3 = [Label('Field to plot')]\n",
    "center_3 = [Label('Plotting limits')]\n",
    "right_3 = [Label('Color map')]\n",
    "for i, f in enumerate(scalar_fields):\n",
    "    if f in ['div', 'curl', 'v_mean', 'a_mean']:\n",
    "        vlim = [1e-4, 1e4]\n",
    "        disabled = True\n",
    "    else:\n",
    "        vlim = [df[f].min(), df[f].max()]\n",
    "        disabled = False\n",
    "    \n",
    "    if f == 'div':\n",
    "        cmap = 'bwr_r'\n",
    "    elif f == 'curl':\n",
    "        cmap = 'bwr'\n",
    "    else: \n",
    "        cmap = 'plasma'\n",
    "    \n",
    "    left_3.append(widgets.ToggleButton(value=True, description=f))\n",
    "    center_3.append(widgets.FloatRangeSlider(value=vlim, min=vlim[0], max=vlim[1], disabled=disabled))\n",
    "    right_3.append(widgets.Dropdown(options=colormap_list, value=cmap))\n",
    "\n",
    "box_3 = AppLayout(header=None,\n",
    "                  left_sidebar=VBox(left_3),\n",
    "                  center=VBox(center_3),\n",
    "                  right_sidebar=VBox(right_3),\n",
    "                  pane_widths=[1, 2, 2],\n",
    "                  footer=None)\n",
    "\n",
    "# 4. Vector fields\n",
    "scalar_fields_ = ['none'] + scalar_fields\n",
    "vector_fields = ['v', 'a']\n",
    "vf_4 = [Label('Vector field to plot')]\n",
    "sf_4 = [Label('plot on scalar field')]\n",
    "vl_4 = [Label('Plotting limits')]\n",
    "cm_4 = [Label('Color map')]\n",
    "for i, f in enumerate(vector_fields):\n",
    "    vf_4.append(widgets.ToggleButton(value=True, description=f))\n",
    "    sf_4.append(widgets.Dropdown(options=scalar_fields_, value=f))\n",
    "    vl_4.append(widgets.FloatRangeSlider(value=[0, 1], min=1e-4, max=1e4))\n",
    "    cm_4.append(widgets.Dropdown(options=colormap_list, value='plasma'))\n",
    "\n",
    "\n",
    "def update_v_by_on_map_wid(*args):\n",
    "    f = sf_4[1].value\n",
    "    if f in ['div', 'curl', 'v_mean', 'a_mean']:\n",
    "        vlim = [1e-4, 1e4]\n",
    "        disabled = True\n",
    "    else:\n",
    "        vlim = [df[f].min(), df[f].max()]\n",
    "        disabled = False\n",
    "    if f == 'div':\n",
    "        cmap = 'bwr_r'\n",
    "    elif f == 'curl':\n",
    "        cmap = 'bwr'\n",
    "    else: \n",
    "        cmap = 'plasma'\n",
    "    vl_4[1].value = vlim\n",
    "    cm_4[1].value = cmap\n",
    "\n",
    "\n",
    "def update_a_by_on_map_wid(*args):\n",
    "    f = sf_4[2].value\n",
    "    if f in ['div', 'curl', 'v_mean', 'a_mean']:\n",
    "        vlim = [1e-4, 1e4]\n",
    "        disabled = True\n",
    "    else:\n",
    "        vlim = [df[f].min(), df[f].max()]\n",
    "        disabled = False\n",
    "    if f == 'div':\n",
    "        cmap = 'bwr_r'\n",
    "    elif f == 'curl':\n",
    "        cmap = 'bwr'\n",
    "    else: \n",
    "        cmap = 'plasma'\n",
    "    vl_4[2].value = vlim\n",
    "    cm_4[2].value = cmap\n",
    "\n",
    "\n",
    "sf_4[1].observe(update_v_by_on_map_wid, names='value')\n",
    "sf_4[2].observe(update_a_by_on_map_wid, names='value')\n",
    "\n",
    "box_4 = AppLayout(header=None,\n",
    "                  left_sidebar=VBox(vf_4),\n",
    "                  center=VBox(sf_4),\n",
    "                  right_sidebar=HBox([VBox(vl_4), VBox(cm_4)]),\n",
    "                  pane_widths=[1, 1, 4],\n",
    "                  footer=None)\n",
    "\n",
    "# 5. Vector mean\n",
    "vector_fields = ['v', 'a']\n",
    "fields_5 = [Label('Field to average')]\n",
    "dim_5 = [Label('Dimensions to average')]\n",
    "vlim_5 = [Label('Plotting limits')]\n",
    "cmap_5 = [Label('Color map')]\n",
    "for i, f in enumerate(vector_fields):\n",
    "    cmap = 'plasma'\n",
    "    vlim = [df[f].min(), df[f].max()]\n",
    "    fields_5.append(widgets.ToggleButton(value=True, description=f))\n",
    "    dim_5.append(widgets.Dropdown(options=[('x,y,z', ['x', 'y', 'z']),\n",
    "                                           ('x,y', ['x', 'y']),\n",
    "                                           ('x,z', ['x', 'z']),\n",
    "                                           ('y,z', ['y', 'z'])],\n",
    "                                  value=['x', 'y', 'z']))\n",
    "    vlim_5.append(widgets.FloatRangeSlider(value=vlim, min=vlim[0], max=vlim[1]))\n",
    "    cmap_5.append(widgets.Dropdown(options=colormap_list, value=cmap))\n",
    "\n",
    "box_5 = AppLayout(header=None,\n",
    "                  left_sidebar=VBox(fields_5),\n",
    "                  center=VBox(dim_5),\n",
    "                  right_sidebar=HBox([VBox(vlim_5), VBox(cmap_5)]),\n",
    "                  pane_widths=[1, 2, 6],\n",
    "                  footer=None)\n",
    "\n",
    "# layout\n",
    "accordion = widgets.Accordion(children=[box_3, box_4, box_5])\n",
    "acc_titles = ['Scalar fields', 'Vector fields', 'Vector mean']\n",
    "for i in range(len(acc_titles)):\n",
    "    accordion.set_title(i, acc_titles[i])\n",
    "\n",
    "tab_titles = ['Make grids', 'Map parameters', 'Fields to plot']\n",
    "tab = widgets.Tab()\n",
    "tab.children = [grid_1, grid_2, accordion]\n",
    "for i in range(len(tab_titles)):\n",
    "    tab.set_title(i, tab_titles[i])\n",
    "\n",
    "display(tab)"
   ]
  },
  {
   "cell_type": "code",
   "execution_count": 23,
   "metadata": {},
   "outputs": [
    {
     "data": {
      "text/markdown": [
       "**Don't forget to run this cell!**"
      ],
      "text/plain": [
       "<IPython.core.display.Markdown object>"
      ]
     },
     "metadata": {},
     "output_type": "display_data"
    }
   ],
   "source": [
    "printmd(\"**Don't forget to run this cell!**\")  # no output cell, make it visible\n",
    "\n",
    "## Prepare config\n",
    "\n",
    "map_config = tpr.make_map_config(export_config=False)\n",
    "\n",
    "# grid_param\n",
    "map_config[\"grid_param\"] = {'x_num':None,\n",
    "                            'y_num':None,\n",
    "                            'cell_size':cell_size_wid.value, #use only cell size in pixel so there is no conflict in definition\n",
    "                            'scaled':False,\n",
    "                            'origin':orig_wid.value,\n",
    "                            'plot_grid':False}\n",
    "\n",
    "# map_param\n",
    "\n",
    "map_config[\"map_param\"][\"no_bkg\"] = bkg_wid.value\n",
    "map_config[\"map_param\"][\"size_factor\"] = arrow_size_wid.value\n",
    "map_config[\"map_param\"][\"export_field\"] = export_wid.value\n",
    "map_config[\"map_param\"][\"temporal_average\"] = temp_avg_wid.value\n",
    "\n",
    "# scalar_fields\n",
    "scalar_fields_dict={}\n",
    "for i,f in enumerate(scalar_fields):\n",
    "    if left_3[i+1].value:\n",
    "        #scalar_fields_dict[f]={'vlim':center_3[i+1].value,'cmap':cmap}\n",
    "        scalar_fields_dict[f]={'vlim':None,'cmap':right_3[i+1].value}\n",
    "map_config[\"scalar_fields\"] = scalar_fields_dict\n",
    "        \n",
    "#4. vector_fields\n",
    "vector_fields_dict={}\n",
    "for i,f in enumerate(vector_fields):\n",
    "    if vf_4[i+1].value:\n",
    "        #vector_fields_dict[f]={'plot_on':sf_4[i+1].value,'vlim':vl_4[i+1].value,'cmap':cmap}\n",
    "        vector_fields_dict[f]={'plot_on':sf_4[i+1].value,'vlim':None,'cmap':cm_4[i+1].value}\n",
    "map_config[\"vector_fields\"] = vector_fields_dict\n",
    "        \n",
    "#5. vector_mean\n",
    "vector_mean_dict={}\n",
    "for i,f in enumerate(vector_fields):\n",
    "    if fields_5[i+1].value:\n",
    "        #vector_mean_dict[f]={'dimensions':dim_5[i+1].value,'vlim':vlim_5[i+1].value,'cmap':cmap}\n",
    "        f_ = f+'_mean'\n",
    "        vector_mean_dict[f_]={'dimensions':dim_5[i+1].value,'vlim':None,'cmap':cmap_5[i+1].value}\n",
    "map_config[\"vector_mean\"] = vector_mean_dict\n"
   ]
  },
  {
   "cell_type": "code",
   "execution_count": 24,
   "metadata": {
    "scrolled": false
   },
   "outputs": [
    {
     "data": {
      "text/markdown": [
       "**RUN THE ANALYSIS HERE!**"
      ],
      "text/plain": [
       "<IPython.core.display.Markdown object>"
      ]
     },
     "metadata": {},
     "output_type": "display_data"
    },
    {
     "name": "stdout",
     "output_type": "stream",
     "text": [
      "Analyzing subset 1  \n"
     ]
    },
    {
     "ename": "ValueError",
     "evalue": "x and y arrays must have a length of at least 3",
     "output_type": "error",
     "traceback": [
      "\u001b[0;31m---------------------------------------------------------------------------\u001b[0m",
      "\u001b[0;31mValueError\u001b[0m                                Traceback (most recent call last)",
      "\u001b[0;32m<ipython-input-24-1df3eae7aad2>\u001b[0m in \u001b[0;36m<module>\u001b[0;34m\u001b[0m\n\u001b[1;32m      1\u001b[0m \u001b[0mprintmd\u001b[0m\u001b[0;34m(\u001b[0m\u001b[0;34m\"**RUN THE ANALYSIS HERE!**\"\u001b[0m\u001b[0;34m)\u001b[0m  \u001b[0;31m# no output cell, make it visible\u001b[0m\u001b[0;34m\u001b[0m\u001b[0;34m\u001b[0m\u001b[0m\n\u001b[1;32m      2\u001b[0m \u001b[0;34m\u001b[0m\u001b[0m\n\u001b[0;32m----> 3\u001b[0;31m fdata=map_analysis(data_dir=data_dir,\n\u001b[0m\u001b[1;32m      4\u001b[0m                 \u001b[0mdata\u001b[0m\u001b[0;34m=\u001b[0m\u001b[0mdata\u001b[0m\u001b[0;34m,\u001b[0m\u001b[0;34m\u001b[0m\u001b[0;34m\u001b[0m\u001b[0m\n\u001b[1;32m      5\u001b[0m                 \u001b[0mimage\u001b[0m\u001b[0;34m=\u001b[0m\u001b[0mimage\u001b[0m\u001b[0;34m,\u001b[0m\u001b[0;34m\u001b[0m\u001b[0;34m\u001b[0m\u001b[0m\n",
      "\u001b[0;32m~/Documents/Work/codes/track-analyzer/track_analyzer/scripts/analyze_maps.py\u001b[0m in \u001b[0;36mmap_analysis\u001b[0;34m(data_dir, data, image, refresh, parallelize, filters, plot_config, map_config, data_config, quiet)\u001b[0m\n\u001b[1;32m    197\u001b[0m \u001b[0;34m\u001b[0m\u001b[0m\n\u001b[1;32m    198\u001b[0m         \u001b[0;31m# compute data\u001b[0m\u001b[0;34m\u001b[0m\u001b[0;34m\u001b[0m\u001b[0;34m\u001b[0m\u001b[0m\n\u001b[0;32m--> 199\u001b[0;31m         field_data = tca.interpolate_all_fields(data_dir, df, grids, field_values=interp_fields,\n\u001b[0m\u001b[1;32m    200\u001b[0m                                                 \u001b[0mtemporal_average\u001b[0m\u001b[0;34m=\u001b[0m\u001b[0mmap_param\u001b[0m\u001b[0;34m[\u001b[0m\u001b[0;34m'temporal_average'\u001b[0m\u001b[0;34m]\u001b[0m\u001b[0;34m,\u001b[0m\u001b[0;34m\u001b[0m\u001b[0;34m\u001b[0m\u001b[0m\n\u001b[1;32m    201\u001b[0m                                                 export_field=map_param['export_field'], outdir=sub_dir)\n",
      "\u001b[0;32m~/Documents/Work/codes/track-analyzer/track_analyzer/calculate.py\u001b[0m in \u001b[0;36minterpolate_all_fields\u001b[0;34m(data_dir, df, grids, field_values, temporal_average, export_field, outdir)\u001b[0m\n\u001b[1;32m    315\u001b[0m \u001b[0;34m\u001b[0m\u001b[0m\n\u001b[1;32m    316\u001b[0m     \u001b[0;32mfor\u001b[0m \u001b[0mframe\u001b[0m \u001b[0;32min\u001b[0m \u001b[0mdf\u001b[0m\u001b[0;34m[\u001b[0m\u001b[0;34m'frame'\u001b[0m\u001b[0;34m]\u001b[0m\u001b[0;34m.\u001b[0m\u001b[0munique\u001b[0m\u001b[0;34m(\u001b[0m\u001b[0;34m)\u001b[0m\u001b[0;34m:\u001b[0m\u001b[0;34m\u001b[0m\u001b[0;34m\u001b[0m\u001b[0m\n\u001b[0;32m--> 317\u001b[0;31m         data = interpolate_field(data_dir, df, groups, grids, frame, field_values=field_values,\n\u001b[0m\u001b[1;32m    318\u001b[0m                                  temporal_average=temporal_average, export_field=export_field, outdir=outdir)\n\u001b[1;32m    319\u001b[0m         \u001b[0mdata_dict\u001b[0m\u001b[0;34m[\u001b[0m\u001b[0mframe\u001b[0m\u001b[0;34m]\u001b[0m \u001b[0;34m=\u001b[0m \u001b[0mdata\u001b[0m\u001b[0;34m\u001b[0m\u001b[0;34m\u001b[0m\u001b[0m\n",
      "\u001b[0;32m~/Documents/Work/codes/track-analyzer/track_analyzer/calculate.py\u001b[0m in \u001b[0;36minterpolate_field\u001b[0;34m(data_dir, df, groups, grids, frame, field_values, temporal_average, export_field, outdir)\u001b[0m\n\u001b[1;32m    263\u001b[0m             \u001b[0mgroup_\u001b[0m \u001b[0;34m=\u001b[0m \u001b[0mgroups\u001b[0m\u001b[0;34m.\u001b[0m\u001b[0mget_group\u001b[0m\u001b[0;34m(\u001b[0m\u001b[0mframe_\u001b[0m\u001b[0;34m)\u001b[0m\u001b[0;34m.\u001b[0m\u001b[0mreset_index\u001b[0m\u001b[0;34m(\u001b[0m\u001b[0mdrop\u001b[0m\u001b[0;34m=\u001b[0m\u001b[0;32mTrue\u001b[0m\u001b[0;34m)\u001b[0m\u001b[0;34m\u001b[0m\u001b[0;34m\u001b[0m\u001b[0m\n\u001b[1;32m    264\u001b[0m             \u001b[0mno_nan_\u001b[0m \u001b[0;34m=\u001b[0m \u001b[0mgroup_\u001b[0m\u001b[0;34m[\u001b[0m\u001b[0mnp\u001b[0m\u001b[0;34m.\u001b[0m\u001b[0misfinite\u001b[0m\u001b[0;34m(\u001b[0m\u001b[0mgroup_\u001b[0m\u001b[0;34m[\u001b[0m\u001b[0mcoord_list\u001b[0m\u001b[0;34m]\u001b[0m\u001b[0;34m)\u001b[0m\u001b[0;34m]\u001b[0m\u001b[0;34m\u001b[0m\u001b[0;34m\u001b[0m\u001b[0m\n\u001b[0;32m--> 265\u001b[0;31m             \u001b[0mtriang\u001b[0m \u001b[0;34m=\u001b[0m \u001b[0mtri\u001b[0m\u001b[0;34m.\u001b[0m\u001b[0mTriangulation\u001b[0m\u001b[0;34m(\u001b[0m\u001b[0mno_nan_\u001b[0m\u001b[0;34m[\u001b[0m\u001b[0;34m'x'\u001b[0m\u001b[0;34m]\u001b[0m\u001b[0;34m.\u001b[0m\u001b[0mvalues\u001b[0m\u001b[0;34m,\u001b[0m \u001b[0mno_nan_\u001b[0m\u001b[0;34m[\u001b[0m\u001b[0;34m'y'\u001b[0m\u001b[0;34m]\u001b[0m\u001b[0;34m.\u001b[0m\u001b[0mvalues\u001b[0m\u001b[0;34m)\u001b[0m\u001b[0;34m\u001b[0m\u001b[0;34m\u001b[0m\u001b[0m\n\u001b[0m\u001b[1;32m    266\u001b[0m             \u001b[0;32mfor\u001b[0m \u001b[0mcoord\u001b[0m \u001b[0;32min\u001b[0m \u001b[0mfield_values\u001b[0m\u001b[0;34m:\u001b[0m\u001b[0;34m\u001b[0m\u001b[0;34m\u001b[0m\u001b[0m\n\u001b[1;32m    267\u001b[0m                 \u001b[0minterpolator\u001b[0m \u001b[0;34m=\u001b[0m \u001b[0mtri\u001b[0m\u001b[0;34m.\u001b[0m\u001b[0mLinearTriInterpolator\u001b[0m\u001b[0;34m(\u001b[0m\u001b[0mtriang\u001b[0m\u001b[0;34m,\u001b[0m \u001b[0mno_nan_\u001b[0m\u001b[0;34m[\u001b[0m\u001b[0mcoord\u001b[0m\u001b[0;34m]\u001b[0m\u001b[0;34m.\u001b[0m\u001b[0mvalues\u001b[0m\u001b[0;34m)\u001b[0m\u001b[0;34m\u001b[0m\u001b[0;34m\u001b[0m\u001b[0m\n",
      "\u001b[0;32m/opt/miniconda3/lib/python3.8/site-packages/matplotlib/tri/triangulation.py\u001b[0m in \u001b[0;36m__init__\u001b[0;34m(self, x, y, triangles, mask)\u001b[0m\n\u001b[1;32m     52\u001b[0m             \u001b[0;31m# No triangulation specified, so use matplotlib._qhull to obtain\u001b[0m\u001b[0;34m\u001b[0m\u001b[0;34m\u001b[0m\u001b[0;34m\u001b[0m\u001b[0m\n\u001b[1;32m     53\u001b[0m             \u001b[0;31m# Delaunay triangulation.\u001b[0m\u001b[0;34m\u001b[0m\u001b[0;34m\u001b[0m\u001b[0;34m\u001b[0m\u001b[0m\n\u001b[0;32m---> 54\u001b[0;31m             \u001b[0mself\u001b[0m\u001b[0;34m.\u001b[0m\u001b[0mtriangles\u001b[0m\u001b[0;34m,\u001b[0m \u001b[0mself\u001b[0m\u001b[0;34m.\u001b[0m\u001b[0m_neighbors\u001b[0m \u001b[0;34m=\u001b[0m \u001b[0m_qhull\u001b[0m\u001b[0;34m.\u001b[0m\u001b[0mdelaunay\u001b[0m\u001b[0;34m(\u001b[0m\u001b[0mx\u001b[0m\u001b[0;34m,\u001b[0m \u001b[0my\u001b[0m\u001b[0;34m)\u001b[0m\u001b[0;34m\u001b[0m\u001b[0;34m\u001b[0m\u001b[0m\n\u001b[0m\u001b[1;32m     55\u001b[0m             \u001b[0mself\u001b[0m\u001b[0;34m.\u001b[0m\u001b[0mis_delaunay\u001b[0m \u001b[0;34m=\u001b[0m \u001b[0;32mTrue\u001b[0m\u001b[0;34m\u001b[0m\u001b[0;34m\u001b[0m\u001b[0m\n\u001b[1;32m     56\u001b[0m         \u001b[0;32melse\u001b[0m\u001b[0;34m:\u001b[0m\u001b[0;34m\u001b[0m\u001b[0;34m\u001b[0m\u001b[0m\n",
      "\u001b[0;31mValueError\u001b[0m: x and y arrays must have a length of at least 3"
     ]
    }
   ],
   "source": [
    "printmd(\"**RUN THE ANALYSIS HERE!**\")  # no output cell, make it visible\n",
    "\n",
    "fdata=map_analysis(data_dir=data_dir,\n",
    "                data=data,\n",
    "                image=image,\n",
    "                filters=filters_dict,\n",
    "                plot_config=plot_param,\n",
    "                map_config=map_config)"
   ]
  },
  {
   "cell_type": "markdown",
   "metadata": {},
   "source": [
    "# Comparator module\n",
    "### This module allows you to compare datasets you have already analyzed by pooling them together on the same plots\n",
    "You can browse your file system to any dataset (even though they don't belong to the same raw data). However, currently, data conversion from datasets with different units *is not supported*. The units will be the one of the  first selected datasets.  \n",
    "You can compare datasets or just pool them together.  \n",
    "Data will be saved in root folder of the first selected dataset (the folder containing the position file, info.txt, database.p, etc.)"
   ]
  },
  {
   "cell_type": "code",
   "execution_count": 2,
   "metadata": {
    "scrolled": true
   },
   "outputs": [
    {
     "data": {
      "text/markdown": [
       "**You can either compare datasets (each one have a specific color on plots) or only pool them together (they all have the same color)**"
      ],
      "text/plain": [
       "<IPython.core.display.Markdown object>"
      ]
     },
     "metadata": {},
     "output_type": "display_data"
    },
    {
     "data": {
      "application/vnd.jupyter.widget-view+json": {
       "model_id": "12f34560e89944ed8560cff79cb9e1c5",
       "version_major": 2,
       "version_minor": 0
      },
      "text/plain": [
       "ToggleButtons(description='Datasets plotting:', options=('compare', 'pool'), style=ToggleButtonsStyle(descript…"
      ]
     },
     "metadata": {},
     "output_type": "display_data"
    },
    {
     "data": {
      "text/markdown": [
       "**Give the number of datasets you want to analyze**"
      ],
      "text/plain": [
       "<IPython.core.display.Markdown object>"
      ]
     },
     "metadata": {},
     "output_type": "display_data"
    },
    {
     "data": {
      "application/vnd.jupyter.widget-view+json": {
       "model_id": "d17884fff95e4ba88568b3552aef0723",
       "version_major": 2,
       "version_minor": 0
      },
      "text/plain": [
       "BoundedIntText(value=0, description='Number of datasets:', max=10, style=DescriptionStyle(description_width='i…"
      ]
     },
     "metadata": {},
     "output_type": "display_data"
    }
   ],
   "source": [
    "printmd(\"**You can either compare datasets (each one have a specific color on plots) or only pool them together (they all have the same color)**\")\n",
    "plotting_mode_wid=widgets.ToggleButtons(options=['compare','pool'],description='Datasets plotting:',style={'description_width': 'initial'})\n",
    "display(plotting_mode_wid)\n",
    "\n",
    "printmd(\"**Give the number of datasets you want to analyze**\")\n",
    "ds_num_wid=widgets.BoundedIntText(value=0,min=0,max=10,description='Number of datasets:',style={'description_width': 'initial'})\n",
    "display(ds_num_wid)"
   ]
  },
  {
   "cell_type": "code",
   "execution_count": 3,
   "metadata": {
    "scrolled": false
   },
   "outputs": [
    {
     "data": {
      "application/vnd.jupyter.widget-view+json": {
       "model_id": "8dd885d092ab469488b43fd8c74d7894",
       "version_major": 2,
       "version_minor": 0
      },
      "text/plain": [
       "VBox(children=(HBox(children=(Label(value='Dataset #0'), FileChooser(path='/Users/amichaut/Documents/Work/code…"
      ]
     },
     "metadata": {},
     "output_type": "display_data"
    }
   ],
   "source": [
    "fc_list=[]\n",
    "name_wid_list=[]\n",
    "rows=[]\n",
    "\n",
    "init_dir=data_dir if 'data_dir' in locals() else cwd\n",
    "\n",
    "for i in range(ds_num_wid.value):\n",
    "    lab=widgets.Label(\"Dataset #{}\".format(i))\n",
    "    fc = FileChooser(init_dir)\n",
    "    fc.use_dir_icons = True\n",
    "    fc.title = '<b>Choose the folder you want to analyze <b>'\n",
    "    fc_list.append(fc)\n",
    "    name=widgets.Text(value='',placeholder='optional',description='Dataset name:',style={'description_width': 'initial'})\n",
    "    name_wid_list.append(name)\n",
    "    rows.append(HBox([lab,fc,name]))\n",
    "    \n",
    "display(VBox(rows))"
   ]
  },
  {
   "cell_type": "code",
   "execution_count": 4,
   "metadata": {
    "scrolled": false
   },
   "outputs": [
    {
     "data": {
      "text/markdown": [
       "**Parameters plotting section**"
      ],
      "text/plain": [
       "<IPython.core.display.Markdown object>"
      ]
     },
     "metadata": {},
     "output_type": "display_data"
    },
    {
     "data": {
      "text/markdown": [
       "You can plot histograms or boxplots of single parameters or scatter plots of a couple of parameters (e.g. v vs y)"
      ],
      "text/plain": [
       "<IPython.core.display.Markdown object>"
      ]
     },
     "metadata": {},
     "output_type": "display_data"
    },
    {
     "data": {
      "application/vnd.jupyter.widget-view+json": {
       "model_id": "25885541fd4b43f8a87393501811801e",
       "version_major": 2,
       "version_minor": 0
      },
      "text/plain": [
       "ToggleButton(value=True, description='Run module')"
      ]
     },
     "metadata": {},
     "output_type": "display_data"
    },
    {
     "data": {
      "text/markdown": [
       "How many instantaneous parameters (histogram or couples) do you want to plot? (enter 0 if you don't want to plot parameters)"
      ],
      "text/plain": [
       "<IPython.core.display.Markdown object>"
      ]
     },
     "metadata": {},
     "output_type": "display_data"
    },
    {
     "data": {
      "application/vnd.jupyter.widget-view+json": {
       "model_id": "18a8a63cecba4049a0048e15866ed3b0",
       "version_major": 2,
       "version_minor": 0
      },
      "text/plain": [
       "HBox(children=(BoundedIntText(value=1, description='Number of histograms:', max=10, style=DescriptionStyle(des…"
      ]
     },
     "metadata": {},
     "output_type": "display_data"
    },
    {
     "data": {
      "text/markdown": [
       "How many whole-trajectory parameters (histogram or couples) do you want to plot? (enter 0 if you don't want to plot parameters)"
      ],
      "text/plain": [
       "<IPython.core.display.Markdown object>"
      ]
     },
     "metadata": {},
     "output_type": "display_data"
    },
    {
     "data": {
      "application/vnd.jupyter.widget-view+json": {
       "model_id": "35e54f1838194f98b38e6d2ce653e762",
       "version_major": 2,
       "version_minor": 0
      },
      "text/plain": [
       "HBox(children=(BoundedIntText(value=1, description='Number of histograms:', max=10, style=DescriptionStyle(des…"
      ]
     },
     "metadata": {},
     "output_type": "display_data"
    },
    {
     "data": {
      "text/markdown": [
       "***"
      ],
      "text/plain": [
       "<IPython.core.display.Markdown object>"
      ]
     },
     "metadata": {},
     "output_type": "display_data"
    },
    {
     "data": {
      "text/markdown": [
       "**MSD section**"
      ],
      "text/plain": [
       "<IPython.core.display.Markdown object>"
      ]
     },
     "metadata": {},
     "output_type": "display_data"
    },
    {
     "data": {
      "application/vnd.jupyter.widget-view+json": {
       "model_id": "682ac031f79e4da6a778baea91e247f3",
       "version_major": 2,
       "version_minor": 0
      },
      "text/plain": [
       "ToggleButton(value=True, description='plot MSD')"
      ]
     },
     "metadata": {},
     "output_type": "display_data"
    },
    {
     "data": {
      "application/vnd.jupyter.widget-view+json": {
       "model_id": "a20cef8fd01e46e58d01e5c98d951662",
       "version_major": 2,
       "version_minor": 0
      },
      "text/plain": [
       "HBox(children=(Label(value='log plot: '), Checkbox(value=True, description='x axis'), Checkbox(value=True, des…"
      ]
     },
     "metadata": {},
     "output_type": "display_data"
    },
    {
     "data": {
      "application/vnd.jupyter.widget-view+json": {
       "model_id": "1147b3139018471bac29ec9cd3f1cdd7",
       "version_major": 2,
       "version_minor": 0
      },
      "text/plain": [
       "HBox(children=(Label(value='For all MSD plots, set the transparency (0=transparent, 1=opaque)'), FloatSlider(v…"
      ]
     },
     "metadata": {},
     "output_type": "display_data"
    }
   ],
   "source": [
    "# get datasets\n",
    "data_dir_list=[]\n",
    "name_list=[]\n",
    "for i in range(ds_num_wid.value):\n",
    "    data_dir_=fc_list[i].selected_path\n",
    "    if data_dir_ is None:\n",
    "        continue\n",
    "    else:\n",
    "        name=name_wid_list[i].value\n",
    "        if name=='':\n",
    "            name=osp.split(data_dir_)[1]\n",
    "        data_dir_list.append(data_dir_)\n",
    "        name_list.append(name)\n",
    "        \n",
    "# datadir is the datadir of the first dataset\n",
    "data_dir=osp.sep.join(data_dir_list[0].split(osp.sep)[:-2]) #the main dir is two levels up\n",
    "if not osp.exists(osp.join(data_dir,'info.txt')): \n",
    "    raise Exception(\"\"\"ERROR: your first dataset root directory doesn't contain an info file, which is required. Aborting...\\n\n",
    "    root director: {}\"\"\".format(data_dir))\n",
    "\n",
    "# number of plot kinds\n",
    "printmd(\"**Parameters plotting section**\")\n",
    "printmd(\"You can plot histograms or boxplots of single parameters or scatter plots of a couple of parameters (e.g. v vs y)\")\n",
    "param_module_wid=widgets.ToggleButton(value=True,description='Run module')\n",
    "display(param_module_wid)\n",
    "printmd(\"How many instantaneous parameters (histogram or couples) do you want to plot? (enter 0 if you don't want to plot parameters)\")\n",
    "param_hist_num_wid=widgets.BoundedIntText(value=1,min=0,max=10,description='Number of histograms:',style={'description_width': 'initial'})\n",
    "param_box_num_wid=widgets.BoundedIntText(value=1,min=0,max=10,description='Number of boxplots:',style={'description_width': 'initial'})\n",
    "param_couple_num_wid=widgets.BoundedIntText(value=1,min=0,max=10,description='Number of couples:',style={'description_width': 'initial'})\n",
    "display(HBox([param_hist_num_wid,param_box_num_wid,param_couple_num_wid]))\n",
    "printmd(\"How many whole-trajectory parameters (histogram or couples) do you want to plot? (enter 0 if you don't want to plot parameters)\")\n",
    "tparam_hist_num_wid=widgets.BoundedIntText(value=1,min=0,max=10,description='Number of histograms:',style={'description_width': 'initial'})\n",
    "tparam_box_num_wid=widgets.BoundedIntText(value=1,min=0,max=10,description='Number of boxplots:',style={'description_width': 'initial'})\n",
    "tparam_couple_num_wid=widgets.BoundedIntText(value=1,min=0,max=10,description='Number of scatter plots:',style={'description_width': 'initial'})\n",
    "display(HBox([tparam_hist_num_wid,tparam_box_num_wid,tparam_couple_num_wid]))\n",
    "\n",
    "printmd(\"***\")\n",
    "printmd(\"**MSD section**\")\n",
    "MSD_plot_wid=widgets.ToggleButton(value=True,description='plot MSD')\n",
    "logplot_wid_x=widgets.Checkbox(value=True,description='x axis')\n",
    "logplot_wid_y=widgets.Checkbox(value=True,description='y axis')\n",
    "alpha_lab=Label('For all MSD plots, set the transparency (0=transparent, 1=opaque)')\n",
    "alpha_wid=widgets.FloatSlider(value=0.2,min=0,max=1,steps=0.01,description='transparency',style={'description_width': 'initial'})\n",
    "display(MSD_plot_wid)\n",
    "display(HBox([Label('log plot: '),logplot_wid_x,logplot_wid_y]))\n",
    "display(HBox([alpha_lab,alpha_wid]))\n",
    "\n"
   ]
  },
  {
   "cell_type": "code",
   "execution_count": 5,
   "metadata": {
    "scrolled": true
   },
   "outputs": [
    {
     "data": {
      "text/markdown": [
       "**Don't forget to run this cell!**"
      ],
      "text/plain": [
       "<IPython.core.display.Markdown object>"
      ]
     },
     "metadata": {},
     "output_type": "display_data"
    },
    {
     "data": {
      "application/vnd.jupyter.widget-view+json": {
       "model_id": "0b0850f3c1e043b9a9af3e425694c27b",
       "version_major": 2,
       "version_minor": 0
      },
      "text/plain": [
       "Tab(children=(Accordion(children=(HBox(children=(VBox(children=(Dropdown(description='parameter', index=14, op…"
      ]
     },
     "metadata": {},
     "output_type": "display_data"
    }
   ],
   "source": [
    "printmd(\"**Don't forget to run this cell!**\")  # no output cell, make it visible\n",
    "\n",
    "\n",
    "if param_module_wid.value:\n",
    "    ### prepare parameters lists\n",
    "    if 'data' not in locals():\n",
    "        data=tpr.get_data(data_dir)\n",
    "    \n",
    "    dimensions=['x','y'] if data['dim']==2 else ['x','y','z']\n",
    "    scaled_dimensions=[dim+'_scaled' for dim in dimensions]\n",
    "    vel=['v'+dim for dim in dimensions]\n",
    "    acc=['a'+dim for dim in dimensions]\n",
    "\n",
    "    params=['track','t']+dimensions+scaled_dimensions+vel+acc+['v','a','area']\n",
    "\n",
    "    #get whole_track param\n",
    "    params_track=[]\n",
    "    for data_dir_ in data_dir_list:\n",
    "        fn=osp.join(data_dir_,'track_prop.csv')\n",
    "        if not osp.exists(fn):\n",
    "            raise Exception(\"ERROR: No data to compare in {}. Aborting...\".format(data_dir_))\n",
    "        df_prop=pd.read_csv(fn,index_col=0)\n",
    "        params_track=params_track+list(df_prop.columns)\n",
    "    params_track=list(set(params_track))\n",
    "\n",
    "    ### widgets\n",
    "    ## hist\n",
    "\n",
    "    kde_wid=widgets.Checkbox(value=True,description='kde')\n",
    "    hist_wid=widgets.Checkbox(value=True,description='hist')\n",
    "    kde_t_wid=widgets.Checkbox(value=True,description='kde')\n",
    "    hist_t_wid=widgets.Checkbox(value=True,description='hist')\n",
    "\n",
    "    param_hist_wid_list=[]\n",
    "    tparam_hist_wid_list=[]\n",
    "    for i in range(param_hist_num_wid.value):\n",
    "        w = widgets.Dropdown(options=params,value='v',description='parameter',style={'description_width': 'initial'})\n",
    "        param_hist_wid_list.append(w)\n",
    "    box_1=HBox([VBox(param_hist_wid_list),VBox([widgets.Label('Plotting parameters'),kde_wid,hist_wid])])\n",
    "    for i in range(tparam_hist_num_wid.value):\n",
    "        w = widgets.Dropdown(options=params_track,value='v',description='parameter',style={'description_width': 'initial'})\n",
    "        tparam_hist_wid_list.append(w)\n",
    "    box_2=HBox([VBox(tparam_hist_wid_list),VBox([widgets.Label('Plotting parameters'),kde_t_wid,hist_t_wid])])\n",
    "\n",
    "    ## boxplots\n",
    "\n",
    "    swarm_wid=widgets.Checkbox(value=False,description='swarmplot') #no swarmplot for instantaneous because often too many points\n",
    "    boxplot_wid=widgets.Checkbox(value=True,description='boxplot')\n",
    "    stat_wid=widgets.Checkbox(value=True,description='run ttest')\n",
    "    swarm_t_wid=widgets.Checkbox(value=True,description='swarmplot')\n",
    "    boxplot_t_wid=widgets.Checkbox(value=True,description='boxplot')\n",
    "    stat_t_wid=widgets.Checkbox(value=True,description='run ttest')\n",
    "\n",
    "    param_box_wid_list=[]\n",
    "    tparam_box_wid_list=[]\n",
    "    for i in range(param_box_num_wid.value):\n",
    "        w = widgets.Dropdown(options=params,value='v',description='parameter',style={'description_width': 'initial'})\n",
    "        param_box_wid_list.append(w)\n",
    "    box_3=HBox([VBox(param_box_wid_list),VBox([widgets.Label('Plotting parameters'),swarm_wid,boxplot_wid,stat_wid])])\n",
    "    for i in range(tparam_box_num_wid.value):\n",
    "        w = widgets.Dropdown(options=params_track,value='v',description='parameter',style={'description_width': 'initial'})\n",
    "        tparam_box_wid_list.append(w)\n",
    "    box_4=HBox([VBox(tparam_box_wid_list),VBox([widgets.Label('Plotting parameters'),swarm_t_wid,boxplot_t_wid,stat_t_wid])])\n",
    "\n",
    "\n",
    "    ## couples\n",
    "    xparam_wid_list=[]\n",
    "    yparam_wid_list=[]\n",
    "    for i in range(param_couple_num_wid.value):\n",
    "        x = widgets.Dropdown(options=params,value='t',description='x parameter',\n",
    "                                      style={'description_width': 'initial'})\n",
    "        y = widgets.Dropdown(options=params,value='v',description='y parameter',\n",
    "                                      style={'description_width': 'initial'})\n",
    "        xparam_wid_list.append(x)\n",
    "        yparam_wid_list.append(y)\n",
    "\n",
    "    left5=VBox(xparam_wid_list)\n",
    "    right5=VBox(yparam_wid_list)\n",
    "    box_5=HBox([left5, right5])\n",
    "\n",
    "    t_xparam_wid_list=[]\n",
    "    t_yparam_wid_list=[]\n",
    "    for i in range(tparam_couple_num_wid.value):\n",
    "        x = widgets.Dropdown(options=params_track,value='t',description='x parameter',\n",
    "                                      style={'description_width': 'initial'})\n",
    "        y = widgets.Dropdown(options=params_track,value='v',description='y parameter',\n",
    "                                      style={'description_width': 'initial'})\n",
    "        t_xparam_wid_list.append(x)\n",
    "        t_yparam_wid_list.append(y)\n",
    "\n",
    "    left6=VBox(t_xparam_wid_list)\n",
    "    right6=VBox(t_yparam_wid_list)\n",
    "    box_6=HBox([left6, right6])\n",
    "\n",
    "    acc1 = widgets.Accordion(children=[box_1,box_2])\n",
    "    acc2 = widgets.Accordion(children=[box_3,box_4])\n",
    "    acc3 = widgets.Accordion(children=[box_5,box_6])\n",
    "    acc_titles=['Instantaneous parameters', 'Whole_trajectory parameters','Plotting parameters']\n",
    "    for i in range(len(acc_titles)):\n",
    "        acc1.set_title(i, acc_titles[i])\n",
    "        acc2.set_title(i, acc_titles[i])\n",
    "        acc3.set_title(i, acc_titles[i])\n",
    "\n",
    "    tab_titles = ['Parameter histograms','Parameter boxplots','Parameter couples']\n",
    "    tab = widgets.Tab()\n",
    "    tab.children = [acc1,acc2,acc3]\n",
    "    for i in range(len(tab_titles)):\n",
    "        tab.set_title(i, tab_titles[i])\n",
    "    display(tab)\n"
   ]
  },
  {
   "cell_type": "code",
   "execution_count": 6,
   "metadata": {
    "scrolled": true
   },
   "outputs": [
    {
     "data": {
      "text/markdown": [
       "**Don't forget to run this cell!**"
      ],
      "text/plain": [
       "<IPython.core.display.Markdown object>"
      ]
     },
     "metadata": {},
     "output_type": "display_data"
    },
    {
     "name": "stdout",
     "output_type": "stream",
     "text": [
      "Analyzing datasets: 15, 3\n",
      "Plotting couples of parameters...\n",
      "Plotting couples of whole-track parameters...\n",
      "Plotting parameters histograms...\n",
      "Plotting whole-track parameters histograms...\n",
      "Plotting parameters boxplots...\n",
      "Plotting whole-track parameters boxplots...\n"
     ]
    }
   ],
   "source": [
    "printmd(\"**Don't forget to run this cell!**\")  # no output cell, make it visible\n",
    "\n",
    "df_list=[]\n",
    "track_df_list=[]\n",
    "MSD_df_list=[]\n",
    "for d in data_dir_list:\n",
    "    #df\n",
    "    df_fn=osp.join(d,'all_data.csv')\n",
    "    df=pd.read_csv(df_fn,index_col=0) if osp.exists(df_fn) else None\n",
    "    df_list.append(df)\n",
    "    #track_df\n",
    "    df_fn=osp.join(d,'track_prop.csv')\n",
    "    df=pd.read_csv(df_fn,index_col=0) if osp.exists(df_fn) else None\n",
    "    track_df_list.append(df)\n",
    "    #MSD_df\n",
    "    df_fn=osp.join(d,'MSD','all_MSD.csv')\n",
    "    df=pd.read_csv(df_fn,index_col=0) if osp.exists(df_fn) else None\n",
    "    MSD_df_list.append(df)\n",
    "\n",
    "#Param\n",
    "if param_module_wid.value:\n",
    "    param_couples={'couples':[],'axis_lim':None}\n",
    "    track_param_couples={'couples':[],'axis_lim':None}\n",
    "    param_hist={'param':[],'hist':hist_wid.value,'kde':kde_wid.value}\n",
    "    track_param_hist={'param':[],'hist':hist_t_wid.value,'kde':kde_t_wid.value}\n",
    "    param_box={'param':[],'swarmplot':swarm_wid.value,'boxplot':boxplot_wid.value,'save_stat':stat_wid.value}\n",
    "    track_param_box={'param':[],'swarmplot':swarm_t_wid.value,'boxplot':boxplot_t_wid.value,'save_stat':stat_t_wid.value}\n",
    "\n",
    "    for i in range(param_couple_num_wid.value):\n",
    "        param_couples['couples'].append((xparam_wid_list[i].value,yparam_wid_list[i].value))\n",
    "    for i in range(tparam_couple_num_wid.value):\n",
    "        track_param_couples['couples'].append((t_xparam_wid_list[i].value,t_yparam_wid_list[i].value))\n",
    "    for i in range(param_hist_num_wid.value):\n",
    "        param_hist['param'].append(param_hist_wid_list[i].value)\n",
    "    for i in range(tparam_hist_num_wid.value):\n",
    "        track_param_hist['param'].append(tparam_hist_wid_list[i].value)\n",
    "    for i in range(param_box_num_wid.value):\n",
    "        param_box['param'].append(param_box_wid_list[i].value)\n",
    "    for i in range(tparam_box_num_wid.value):\n",
    "        track_param_box['param'].append(tparam_box_wid_list[i].value)\n",
    "else: \n",
    "    param_couples,track_param_couples,param_hist,track_param_hist,param_box,track_param_box=[None,None,None,None,None,None]\n",
    "\n",
    "#MSD\n",
    "if not MSD_plot_wid.value:\n",
    "    MSD_plot_param=None\n",
    "else:\n",
    "    MSD_plot_param={'logplot_x':logplot_wid_x.value,\n",
    "                    'logplot_y':logplot_wid_y.value,\n",
    "                    'alpha':alpha_wid.value,\n",
    "                    'xylim':[None,None,0.1,None]\n",
    "                   }\n",
    "        \n",
    "df_ = compare_datasets(data_dir,df_list,track_df_list,MSD_df_list,name_list,plotting_mode=plotting_mode_wid.value,\n",
    "                 param_couples=param_couples,\n",
    "                 param_hist=param_hist,\n",
    "                 param_boxplot=param_box,\n",
    "                 param_track_couples=track_param_couples,\n",
    "                 param_track_hist=track_param_hist,\n",
    "                 param_track_boxplot=track_param_box,\n",
    "                 MSD_plot_param=MSD_plot_param,\n",
    "                 plot_config=plot_param)\n"
   ]
  },
  {
   "cell_type": "code",
   "execution_count": null,
   "metadata": {},
   "outputs": [],
   "source": []
  }
 ],
 "metadata": {
  "kernelspec": {
   "display_name": "Python 3 (ipykernel)",
   "language": "python",
   "name": "python3"
  },
  "language_info": {
   "codemirror_mode": {
    "name": "ipython",
    "version": 3
   },
   "file_extension": ".py",
   "mimetype": "text/x-python",
   "name": "python",
   "nbconvert_exporter": "python",
   "pygments_lexer": "ipython3",
   "version": "3.8.12"
  }
 },
 "nbformat": 4,
 "nbformat_minor": 4
}
