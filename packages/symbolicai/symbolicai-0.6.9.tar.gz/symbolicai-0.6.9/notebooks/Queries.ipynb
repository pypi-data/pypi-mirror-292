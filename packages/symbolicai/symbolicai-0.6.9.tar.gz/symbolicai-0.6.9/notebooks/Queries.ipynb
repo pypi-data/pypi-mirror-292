{
 "cells": [
  {
   "cell_type": "code",
   "execution_count": 1,
   "metadata": {},
   "outputs": [],
   "source": [
    "import os\n",
    "import warnings\n",
    "warnings.filterwarnings('ignore')\n",
    "os.chdir('../') # set the working directory to the root of the project\n",
    "from symai import *\n",
    "from IPython.display import display\n",
    "from examples.sql import SQL\n",
    "sql = SQL()"
   ]
  },
  {
   "attachments": {},
   "cell_type": "markdown",
   "metadata": {},
   "source": [
    "## SQL Example"
   ]
  },
  {
   "attachments": {},
   "cell_type": "markdown",
   "metadata": {},
   "source": [
    "The `SQL` expression is defined and passes as a global context the syntax of the SQL language. The SQL expression is then used to generate queries based on the given context. We can then use the generated queries to get data from a database."
   ]
  },
  {
   "cell_type": "markdown",
   "metadata": {},
   "source": [
    "The following query is sent to the neural computation engine and creates a query based on the given context:"
   ]
  },
  {
   "cell_type": "code",
   "execution_count": 2,
   "metadata": {},
   "outputs": [],
   "source": [
    "val = None\n",
    "def _fun(x):\n",
    "    global val\n",
    "    val = x\n",
    "Symbol._metadata.input_handler = _fun"
   ]
  },
  {
   "cell_type": "code",
   "execution_count": null,
   "metadata": {},
   "outputs": [],
   "source": [
    "Symbol('I have this class').translate('German')"
   ]
  },
  {
   "cell_type": "code",
   "execution_count": 3,
   "metadata": {},
   "outputs": [
    {
     "data": {
      "text/html": [
       "SELECT * FROM Members WHERE age > 30"
      ],
      "text/plain": [
       "<class 'examples.sql.SQL'>(value=SELECT * FROM Members WHERE age > 30)"
      ]
     },
     "metadata": {},
     "output_type": "display_data"
    }
   ],
   "source": [
    "q = sql('Select all users above the age of 30 from the Members table.'); display(q)"
   ]
  },
  {
   "cell_type": "markdown",
   "metadata": {},
   "source": [
    "We can now try to further manipulate the result by asking the model to incorporate additional information, such as filtering to a specific time range:"
   ]
  },
  {
   "cell_type": "code",
   "execution_count": 4,
   "metadata": {},
   "outputs": [
    {
     "data": {
      "text/html": [
       "SELECT * FROM Members WHERE age > 30 AND timestamp > NOW() - INTERVAL 10 MINUTE;"
      ],
      "text/plain": [
       "<class 'symai.symbol.Symbol'>(value=SELECT * FROM Members WHERE age > 30 AND timestamp > NOW() - INTERVAL 10 MINUTE;)"
      ]
     },
     "metadata": {},
     "output_type": "display_data"
    }
   ],
   "source": [
    "res = q << 'and limit the query to the last 10 minutes'\n",
    "display(res)"
   ]
  },
  {
   "attachments": {},
   "cell_type": "markdown",
   "metadata": {},
   "source": [
    "We can also try to remove unwanted fields from the generated query. Notice how the model tries to remove not only the given statement but attributes associated with them:"
   ]
  },
  {
   "cell_type": "code",
   "execution_count": 7,
   "metadata": {},
   "outputs": [
    {
     "data": {
      "text/html": [
       "SELECT * FROM Members WHERE age > 30"
      ],
      "text/plain": [
       "<class 'symai.symbol.Symbol'>(value=SELECT * FROM Members WHERE age > 30)"
      ]
     },
     "metadata": {},
     "output_type": "display_data"
    }
   ],
   "source": [
    "res -= ' AND ...'\n",
    "display(res)"
   ]
  },
  {
   "attachments": {},
   "cell_type": "markdown",
   "metadata": {},
   "source": [
    "And we can now even convert our query to other familiar domain specific languages, such as `SQL` or `ActiveRecord`:"
   ]
  },
  {
   "cell_type": "code",
   "execution_count": 9,
   "metadata": {},
   "outputs": [
    {
     "data": {
      "text/html": [
       "```ruby\n",
       "Member.where(\"age > ?\", 30)\n",
       "```"
      ],
      "text/plain": [
       "<class 'symai.symbol.Symbol'>(value=```ruby\n",
       "Member.where(\"age > ?\", 30)\n",
       "```)"
      ]
     },
     "metadata": {},
     "output_type": "display_data"
    }
   ],
   "source": [
    "sql_res = res.convert(\"ActiveRecord\")\n",
    "display(sql_res)"
   ]
  },
  {
   "cell_type": "markdown",
   "metadata": {},
   "source": [
    "To wrap things up, we might want to go back full circle and ask the model to generate again the explanation based on the given query:"
   ]
  },
  {
   "cell_type": "code",
   "execution_count": 5,
   "metadata": {},
   "outputs": [
    {
     "data": {
      "text/html": [
       "The given SQL query retrieves all records from a table named `Members` where two conditions are met:\n",
       "\n",
       "1. The `age` column of a member record must be greater than 30.\n",
       "2. The `timestamp` column of a member record must be more recent than (or within) the last 10 minutes from the current time.\n",
       "\n",
       "More specifically:\n",
       "\n",
       "- `SELECT *` indicates that it will fetch all columns for the qualifying rows.\n",
       "- `FROM Members` specifies the table from which to fetch the data.\n",
       "- `WHERE` introduces the conditions to filter which rows should be returned.\n",
       "- `age > 30` filters the records to only include those where the age column value is greater than 30.\n",
       "- `AND` combines multiple conditions, meaning a record must meet all the specified conditions to be included.\n",
       "- `timestamp > NOW() - INTERVAL 10 MINUTE` checks for records with a timestamp within the last 10 minutes. `NOW()` is a function that returns the current datetime. `INTERVAL 10 MINUTE` specifies a time interval of 10 minutes. By subtracting this interval from the current time, the query creates a datetime value that is 10 minutes before now. The condition `timestamp >` selects all records where the `timestamp` is more recent than that calculated time.\n",
       "\n",
       "This query would be useful for identifying active, older members (above 30 years old) who have engaged with the system or performed an action that updates their `timestamp` within the last 10 minutes."
      ],
      "text/plain": [
       "<class 'symai.symbol.Symbol'>(value=The given SQL query retrieves all records from a table named `Members` where two conditions are met:\n",
       "\n",
       "1. The `age` column of a member record must be greater than 30.\n",
       "2. The `timestamp` column of a member record must be more recent than (or within) the last 10 minutes from the current time.\n",
       "\n",
       "More specifically:\n",
       "\n",
       "- `SELECT *` indicates that it will fetch all columns for the qualifying rows.\n",
       "- `FROM Members` specifies the table from which to fetch the data.\n",
       "- `WHERE` introduces the conditions to filter which rows should be returned.\n",
       "- `age > 30` filters the records to only include those where the age column value is greater than 30.\n",
       "- `AND` combines multiple conditions, meaning a record must meet all the specified conditions to be included.\n",
       "- `timestamp > NOW() - INTERVAL 10 MINUTE` checks for records with a timestamp within the last 10 minutes. `NOW()` is a function that returns the current datetime. `INTERVAL 10 MINUTE` specifies a time interval of 10 minutes. By subtracting this interval from the current time, the query creates a datetime value that is 10 minutes before now. The condition `timestamp >` selects all records where the `timestamp` is more recent than that calculated time.\n",
       "\n",
       "This query would be useful for identifying active, older members (above 30 years old) who have engaged with the system or performed an action that updates their `timestamp` within the last 10 minutes.)"
      ]
     },
     "metadata": {},
     "output_type": "display_data"
    }
   ],
   "source": [
    "answer_doc = res.query(\"What does this query do?\")\n",
    "display(answer_doc)"
   ]
  },
  {
   "cell_type": "markdown",
   "metadata": {},
   "source": [
    "Ask it in natural language to modify the query:"
   ]
  },
  {
   "cell_type": "code",
   "execution_count": 11,
   "metadata": {},
   "outputs": [
    {
     "data": {
      "text/html": [
       "To limit the number of results to 30 for an SQL query, you can use the `LIMIT` clause in your SQL statement. The `LIMIT` clause restricts the number of rows returned by the query. Here's how you modify your given SQL query to limit the results to 30:\n",
       "\n",
       "```sql\n",
       "SELECT * FROM Members WHERE age > 30 LIMIT 30;\n",
       "```\n",
       "\n",
       "This query will retrieve a maximum of 30 records from the 'Members' table where the 'age' column value is greater than 30."
      ],
      "text/plain": [
       "<class 'symai.symbol.Symbol'>(value=To limit the number of results to 30 for an SQL query, you can use the `LIMIT` clause in your SQL statement. The `LIMIT` clause restricts the number of rows returned by the query. Here's how you modify your given SQL query to limit the results to 30:\n",
       "\n",
       "```sql\n",
       "SELECT * FROM Members WHERE age > 30 LIMIT 30;\n",
       "```\n",
       "\n",
       "This query will retrieve a maximum of 30 records from the 'Members' table where the 'age' column value is greater than 30.)"
      ]
     },
     "metadata": {},
     "output_type": "display_data"
    }
   ],
   "source": [
    "answer = res.query(\"How can you limit the number of results to 30 for an SQL query?\")\n",
    "display(answer)"
   ]
  },
  {
   "attachments": {},
   "cell_type": "markdown",
   "metadata": {},
   "source": [
    "Even translate the explanation to a different language on the fly:"
   ]
  },
  {
   "cell_type": "code",
   "execution_count": 6,
   "metadata": {},
   "outputs": [
    {
     "data": {
      "text/html": [
       "It seems like you haven't specified the target language for the translation. Please provide the target language and I will be happy to assist you with the translation."
      ],
      "text/plain": [
       "<class 'symai.symbol.Symbol'>(value=It seems like you haven't specified the target language for the translation. Please provide the target language and I will be happy to assist you with the translation.)"
      ]
     },
     "metadata": {},
     "output_type": "display_data"
    }
   ],
   "source": [
    "locale = Symbol(answer_doc).translate('German')\n",
    "display(locale)"
   ]
  },
  {
   "cell_type": "code",
   "execution_count": 7,
   "metadata": {},
   "outputs": [
    {
     "data": {
      "text/plain": [
       "[{'role': 'system',\n",
       "  'content': '[INSTRUCTION]\\nTranslate the following text into {}:\\n'},\n",
       " {'role': 'user',\n",
       "  'content': 'The given SQL query retrieves all records from a table named `Members` where two conditions are met:\\n\\n1. The `age` column of a member record must be greater than 30.\\n2. The `timestamp` column of a member record must be more recent than (or within) the last 10 minutes from the current time.\\n\\nMore specifically:\\n\\n- `SELECT *` indicates that it will fetch all columns for the qualifying rows.\\n- `FROM Members` specifies the table from which to fetch the data.\\n- `WHERE` introduces the conditions to filter which rows should be returned.\\n- `age > 30` filters the records to only include those where the age column value is greater than 30.\\n- `AND` combines multiple conditions, meaning a record must meet all the specified conditions to be included.\\n- `timestamp > NOW() - INTERVAL 10 MINUTE` checks for records with a timestamp within the last 10 minutes. `NOW()` is a function that returns the current datetime. `INTERVAL 10 MINUTE` specifies a time interval of 10 minutes. By subtracting this interval from the current time, the query creates a datetime value that is 10 minutes before now. The condition `timestamp >` selects all records where the `timestamp` is more recent than that calculated time.\\n\\nThis query would be useful for identifying active, older members (above 30 years old) who have engaged with the system or performed an action that updates their `timestamp` within the last 10 minutes.'}]"
      ]
     },
     "execution_count": 7,
     "metadata": {},
     "output_type": "execute_result"
    }
   ],
   "source": [
    "val[0]"
   ]
  },
  {
   "attachments": {},
   "cell_type": "markdown",
   "metadata": {},
   "source": [
    "Fixing the query on the fly if something goes wrong or the user quickly wants to adapt a query:"
   ]
  },
  {
   "cell_type": "code",
   "execution_count": 21,
   "metadata": {},
   "outputs": [],
   "source": [
    "sql.adapt(context=\"\"\"Explanation: Never allow SELECT *, always use LIMIT to a max of x <= 50 entries, where x is the user specified limit.\"\"\");"
   ]
  },
  {
   "cell_type": "code",
   "execution_count": 22,
   "metadata": {},
   "outputs": [
    {
     "data": {
      "text/html": [
       "<div class=\"alert alert-success\" role=\"alert\">\n",
       "  SELECT * FROM Members WHERE age > 30 LIMIT 50\n",
       "</div>"
      ],
      "text/plain": [
       "<class 'examples.sql.SQL'>(value=SELECT * FROM Members WHERE age > 30 LIMIT 50)"
      ]
     },
     "metadata": {},
     "output_type": "display_data"
    }
   ],
   "source": [
    "res = sql('Select all users above the age of 30 from the Members table.')\n",
    "display(res)"
   ]
  },
  {
   "cell_type": "code",
   "execution_count": 23,
   "metadata": {},
   "outputs": [],
   "source": [
    "sql.clear();"
   ]
  },
  {
   "cell_type": "code",
   "execution_count": 24,
   "metadata": {},
   "outputs": [
    {
     "data": {
      "text/html": [
       "<div class=\"alert alert-success\" role=\"alert\">\n",
       "  SELECT * FROM Members WHERE age > 30\n",
       "</div>"
      ],
      "text/plain": [
       "<class 'examples.sql.SQL'>(value=SELECT * FROM Members WHERE age > 30)"
      ]
     },
     "metadata": {},
     "output_type": "display_data"
    }
   ],
   "source": [
    "res = sql('Select all users above the age of 30 from the Members table.')\n",
    "display(res)"
   ]
  },
  {
   "cell_type": "code",
   "execution_count": null,
   "metadata": {},
   "outputs": [],
   "source": []
  }
 ],
 "metadata": {
  "kernelspec": {
   "display_name": "continualrl",
   "language": "python",
   "name": "python3"
  },
  "language_info": {
   "codemirror_mode": {
    "name": "ipython",
    "version": 3
   },
   "file_extension": ".py",
   "mimetype": "text/x-python",
   "name": "python",
   "nbconvert_exporter": "python",
   "pygments_lexer": "ipython3",
   "version": "3.10.13"
  },
  "vscode": {
   "interpreter": {
    "hash": "7f6e76e437f50039fcb1dabeb26a40fb80edddddd3448a5d408bb52a844f2e97"
   }
  }
 },
 "nbformat": 4,
 "nbformat_minor": 4
}
