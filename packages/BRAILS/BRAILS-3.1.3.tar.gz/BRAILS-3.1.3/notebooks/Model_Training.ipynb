{
  "nbformat": 4,
  "nbformat_minor": 0,
  "metadata": {
    "colab": {
      "name": "Model_Training.ipynb",
      "provenance": [],
      "collapsed_sections": [],
      "toc_visible": true
    },
    "kernelspec": {
      "name": "python3",
      "display_name": "Python 3"
    },
    "language_info": {
      "name": "python"
    },
    "accelerator": "GPU"
  },
  "cells": [
    {
      "cell_type": "markdown",
      "source": [
        "## Training models with BRAILS"
      ],
      "metadata": {
        "id": "ZyGACPY9LUxa"
      }
    },
    {
      "cell_type": "markdown",
      "source": [
        "In this notebook, we include the code for training pretrained models for BRAILS. Users can also provide their own datasets to train models. "
      ],
      "metadata": {
        "id": "SMQrGQwsLaAt"
      }
    },
    {
      "cell_type": "markdown",
      "source": [
        "In the first step, we need to install pytorch-image-models which includes several pretrained models on ImageNet that we will use:"
      ],
      "metadata": {
        "id": "-ZCLBq9nwJ-E"
      }
    },
    {
      "cell_type": "code",
      "source": [
        "pip install git+https://github.com/rwightman/pytorch-image-models"
      ],
      "metadata": {
        "colab": {
          "base_uri": "https://localhost:8080/"
        },
        "id": "M2CbLEidviiZ",
        "outputId": "f885983f-fc9b-4d4b-f0f0-ef0c6b6236fc"
      },
      "execution_count": null,
      "outputs": [
        {
          "output_type": "stream",
          "name": "stdout",
          "text": [
            "Collecting git+https://github.com/rwightman/pytorch-image-models\n",
            "  Cloning https://github.com/rwightman/pytorch-image-models to /tmp/pip-req-build-_bvqtxxa\n",
            "  Running command git clone -q https://github.com/rwightman/pytorch-image-models /tmp/pip-req-build-_bvqtxxa\n",
            "Requirement already satisfied: torch>=1.4 in /usr/local/lib/python3.7/dist-packages (from timm==0.5.5) (1.10.0+cu111)\n",
            "Requirement already satisfied: torchvision in /usr/local/lib/python3.7/dist-packages (from timm==0.5.5) (0.11.1+cu111)\n",
            "Requirement already satisfied: typing-extensions in /usr/local/lib/python3.7/dist-packages (from torch>=1.4->timm==0.5.5) (3.10.0.2)\n",
            "Requirement already satisfied: pillow!=8.3.0,>=5.3.0 in /usr/local/lib/python3.7/dist-packages (from torchvision->timm==0.5.5) (7.1.2)\n",
            "Requirement already satisfied: numpy in /usr/local/lib/python3.7/dist-packages (from torchvision->timm==0.5.5) (1.19.5)\n",
            "Building wheels for collected packages: timm\n",
            "  Building wheel for timm (setup.py) ... \u001b[?25l\u001b[?25hdone\n",
            "  Created wheel for timm: filename=timm-0.5.5-py3-none-any.whl size=432818 sha256=58390a6dde078f6085878eac0810215284def7a855446dc343acda9d5dd2d1ae\n",
            "  Stored in directory: /tmp/pip-ephem-wheel-cache-jllrx1af/wheels/69/3d/b0/be55cbadabd87a0e1875d63c7492d199097a39cc2433637650\n",
            "Successfully built timm\n",
            "Installing collected packages: timm\n",
            "Successfully installed timm-0.5.5\n"
          ]
        }
      ]
    },
    {
      "cell_type": "markdown",
      "source": [
        "Next the dataset needs to be uploaded via Google drive. Please refer to https://neptune.ai/blog/google-colab-dealing-with-files for instructions.\n"
      ],
      "metadata": {
        "id": "67gE-qAWwjuO"
      }
    },
    {
      "cell_type": "code",
      "source": [
        "from google.colab import drive\n",
        "\n",
        "drive.mount('/content/gdrive')"
      ],
      "metadata": {
        "colab": {
          "base_uri": "https://localhost:8080/"
        },
        "id": "ZcIHII5zwzt-",
        "outputId": "beac3125-ab65-4b51-eee2-4c7182024729"
      },
      "execution_count": null,
      "outputs": [
        {
          "output_type": "stream",
          "name": "stdout",
          "text": [
            "Mounted at /content/gdrive\n"
          ]
        }
      ]
    },
    {
      "cell_type": "markdown",
      "source": [
        "Import necessary packages for training models,"
      ],
      "metadata": {
        "id": "-x726wCd42SU"
      }
    },
    {
      "cell_type": "code",
      "source": [
        "import argparse\n",
        "import datetime\n",
        "import os\n",
        "import matplotlib as mpl\n",
        "import numpy as np\n",
        "\n",
        "mpl.use('Agg')\n",
        "import torch\n",
        "import torchvision\n",
        "import torch.nn as nn\n",
        "from torch.utils.data import DataLoader\n",
        "from torchvision import transforms\n",
        "\n",
        "from torch.optim.lr_scheduler import StepLR\n",
        "from sklearn.metrics import confusion_matrix\n",
        "\n",
        "############################\n",
        "# Import vision transformer that we will fine-tune\n",
        "\n",
        "from timm.models import vision_transformer, resnet\n",
        "############################"
      ],
      "metadata": {
        "id": "x2oZLBxcLRjJ"
      },
      "execution_count": null,
      "outputs": []
    },
    {
      "cell_type": "markdown",
      "source": [
        "Set the random seeds such that the experiments are reproducible,"
      ],
      "metadata": {
        "id": "BFgKWOpS4_Qy"
      }
    },
    {
      "cell_type": "code",
      "source": [
        "torch.manual_seed(1337)\n",
        "if torch.cuda.is_available():\n",
        "    torch.cuda.manual_seed(1337)\n",
        "np.random.seed(1337)\n"
      ],
      "metadata": {
        "id": "bUk3Xfft_ri-"
      },
      "execution_count": null,
      "outputs": []
    },
    {
      "cell_type": "markdown",
      "source": [
        "Define the transformations that we will use,"
      ],
      "metadata": {
        "id": "l6yPbYC5xlUf"
      }
    },
    {
      "cell_type": "code",
      "source": [
        "def get_transform():\n",
        "\n",
        "    # normalize the datasets\n",
        "    normalize = transforms.Normalize(mean=[0.485, 0.456, 0.406],\n",
        "                                     std=[0.229, 0.224, 0.225])\n",
        "\n",
        "    # transformatins used during training to improve the model perfomrance\n",
        "    train_transforms = [\n",
        "        transforms.RandomResizedCrop(224, scale=(0.7, 1.)),\n",
        "        transforms.RandomGrayscale(p=0.5),\n",
        "        transforms.ColorJitter(0.5, 0.5, 0.5, 0.5),\n",
        "        transforms.RandomHorizontalFlip(),\n",
        "        transforms.RandomVerticalFlip(),\n",
        "        transforms.ToTensor(),\n",
        "        normalize]\n",
        "\n",
        "\n",
        "    train_transforms = transforms.Compose(train_transforms)\n",
        "\n",
        "    val_transforms = [transforms.Resize((224, 224)),\n",
        "        transforms.ToTensor(),\n",
        "        normalize]\n",
        "\n",
        "    val_transforms = transforms.Compose(val_transforms)\n",
        "\n",
        "    return train_transforms, val_transforms\n"
      ],
      "metadata": {
        "id": "6tGgvLP1_rsK"
      },
      "execution_count": null,
      "outputs": []
    },
    {
      "cell_type": "markdown",
      "source": [
        " The code below is used for training and testing the model,"
      ],
      "metadata": {
        "id": "lOzG1uXhxu8x"
      }
    },
    {
      "cell_type": "code",
      "source": [
        "def parse( model, data_loader, criterion, optimizer, parse_type, epoch, epochs, device):\n",
        "   \n",
        "    train = False\n",
        "    if parse_type == 'train':\n",
        "        \n",
        "        train = True\n",
        "        model.train()\n",
        "    else:\n",
        "\n",
        "        model.eval()\n",
        "\n",
        "    predictions = []\n",
        "    ground_truths = []\n",
        "    correct = 0\n",
        "\n",
        "    avg_loss = 0\n",
        "\n",
        "    for i, (images, labels ) in enumerate(data_loader):\n",
        "\n",
        "        images = images.to(device)\n",
        "        labels = labels.to(device)\n",
        "\n",
        "        if train:\n",
        "            optimizer.zero_grad()\n",
        "\n",
        "        output = model(images)\n",
        "\n",
        "        loss = criterion(output, labels)\n",
        "\n",
        "        if train:\n",
        "            loss.backward()\n",
        "            optimizer.step()\n",
        "\n",
        "        avg_loss += loss.detach().cpu().numpy()\n",
        "\n",
        "        if (i + 1) % 5 == 0:\n",
        "            print(\"Epoch [%d/%d], Iter [%d/%d] Loss: %.4f\" % (\n",
        "                epoch + 1, epochs, i + 1, len(data_loader), loss.data.item()))\n",
        "\n",
        " \n",
        "        _, pred = torch.max(output, 1)\n",
        "\n",
        "        predictions.extend(pred.detach().cpu().tolist())  # Should do the detach internally\n",
        "        ground_truths.extend(labels.detach().cpu().tolist())\n",
        "    \n",
        "        correct += pred.eq(labels.view_as(pred)).sum().item()\n",
        "\n",
        "\n",
        "    cf = confusion_matrix(ground_truths, predictions)\n",
        "\n",
        "    print (\"Confusion matrix:\")\n",
        "    print (cf)\n",
        "\n",
        "    cls_cnt = cf.sum(axis=1)\n",
        "    print (cls_cnt)\n",
        "    cls_hit = np.diag(cf)\n",
        "    cls_acc = cls_hit / cls_cnt\n",
        "\n",
        "    out_cls_acc = '%s Class Accuracy: %s'%(parse_type, (np.array2string(cls_acc, max_line_width=np.inf, separator=',', formatter={'float_kind':lambda x: \"%.3f\" % x})))\n",
        "    print(out_cls_acc)\n",
        "\n",
        "    print ('%s Accuracy: %s'% (parse_type, 100.0 * correct / len(data_loader.dataset)))\n",
        "\n",
        "    print ('%s Loss: %s'% (parse_type, avg_loss / len(data_loader)))\n",
        "\n",
        "    ##############################\n",
        "\n",
        "    return avg_loss / len(data_loader)\n",
        "\n",
        "    ##############################\n"
      ],
      "metadata": {
        "id": "Jkk6V-wz_rvs"
      },
      "execution_count": null,
      "outputs": []
    },
    {
      "cell_type": "code",
      "source": [
        "def main_work(model='resnet18', train_dataset, test_dataset, num_classes, save_dir, lr, batch_size, epochs, test_only):\n",
        "\n",
        "    #########################################################################\n",
        "    # Load vision transformer\n",
        "\n",
        "    if model == 'resnet18'\n",
        "      model_prefix = \"resnet18\"\n",
        "\n",
        "      #model = vision_transformer.vit_base_patch16_224(pretrained=True)\n",
        "\n",
        "      model = resnet.resnet18(pretrained=True)\n",
        "      # change the number of classes \n",
        "    \n",
        "    else:\n",
        "\n",
        "      print (\"In this notebook, we use resnet18 as an example.\")\n",
        "      \n",
        "      return\n",
        "    \n",
        "    model.reset_classifier(num_classes)\n",
        "\n",
        "    #########################################################################\n",
        "\n",
        "    pytorch_total_params = sum(p.numel() for p in model.parameters())\n",
        "\n",
        "    trianable_params = sum(p.numel() for p in model.parameters() if p.requires_grad)\n",
        "\n",
        "    print (\"Total parameters: \", pytorch_total_params)\n",
        "    print (\"Trianable parameters: \", trianable_params)\n",
        "\n",
        "    \n",
        "    optimizer = torch.optim.SGD(filter(lambda p: p.requires_grad, model.parameters()), lr=lr, momentum=0.9)\n",
        "\n",
        "    #########################################################################\n",
        "\n",
        "    device = 'cuda' if torch.cuda.is_available() else 'cpu'\n",
        "\n",
        "    model = model.to(device)\n",
        "\n",
        "    #########################################################################\n",
        "\n",
        "    criterion = nn.CrossEntropyLoss()\n",
        "\n",
        "    best_checkpoint =  save_dir + \"best_\" + model_prefix + \"_rooftype.pkl\" \n",
        "\n",
        "    # class to index\n",
        "    print (train_dataset.class_to_idx)\n",
        "\n",
        "    train_loader = torch.utils.data.DataLoader(train_dataset, batch_size= batch_size, shuffle=True, num_workers=4)\n",
        "\n",
        "    test_loader = torch.utils.data.DataLoader(test_dataset, batch_size= batch_size, shuffle=False, num_workers=4)\n",
        "    \n",
        "    #########################################################################\n",
        "\n",
        "    if test_only:\n",
        "\n",
        "        best_checkpoint =  save_dir + \"best_\" + model_prefix + \"_rooftype.pkl\" \n",
        "            \n",
        "        ######################################\n",
        "\n",
        "        state_dict = torch.load(best_checkpoint)\n",
        "\n",
        "        model.load_state_dict(state_dict)\n",
        "\n",
        "        _ = parse(model, test_loader, criterion, optimizer, 'test', 0, 0, device=device)\n",
        "\n",
        "    else:\n",
        "\n",
        "        #######################################################################\n",
        "        # Learning rate decay\n",
        "        scheduler = StepLR(optimizer, step_size=10, gamma=0.9)\n",
        "\n",
        "        best_perf = -1e6\n",
        "        lowest_loss = 1e6\n",
        "\n",
        "        for epoch in range(epochs):\n",
        "            \n",
        "            model.train()\n",
        "            #############################################################\n",
        "            \n",
        "            print('Training epoch: {}'.format(epoch))\n",
        "            \n",
        "            avg_train_loss = parse(model, train_loader, criterion, optimizer, 'train', epoch, epochs, device=device)\n",
        "            \n",
        "            scheduler.step()\n",
        "\n",
        "            print (\"save model\")\n",
        "            print (best_checkpoint)\n",
        "            torch.save(model.state_dict(), best_checkpoint)\n",
        "\n"
      ],
      "metadata": {
        "id": "Kj79Upq3_ryL"
      },
      "execution_count": null,
      "outputs": []
    },
    {
      "cell_type": "code",
      "source": [
        "def Get_RoofTypeImages(transforms, root_dir=\"/content/gdrive/MyDrive/model_training/roofType\"):\n",
        "\n",
        "\n",
        "    data = torchvision.datasets.ImageFolder(root=root_dir, transform=transforms)\n",
        "\n",
        "    return data\n"
      ],
      "metadata": {
        "id": "U6iFUqzT6dKo"
      },
      "execution_count": null,
      "outputs": []
    },
    {
      "cell_type": "markdown",
      "source": [
        "Define the hyperparameters for training，"
      ],
      "metadata": {
        "id": "Ccncv9K3yLiT"
      }
    },
    {
      "cell_type": "code",
      "source": [
        "# Number of classes of the training dataset\n",
        "num_classes = 3\n",
        "\n",
        "# The learning rate used for optimization\n",
        "lr = 0.01 \n",
        "\n",
        "batch_size = 256\n",
        "\n",
        "epochs = 100\n",
        "\n",
        "test_only = False\n",
        "#########################################################\n",
        "# Prepare the dataset\n",
        "\n",
        "# Data directory. Changed this as needed. \n",
        "root_dir = \"/content/gdrive/MyDrive/model_training/roofType\"\n",
        "\n",
        "# Directory for saving the trained model\n",
        "save_dir = \"/content/gdrive/MyDrive/model_training/\"\n",
        "\n",
        "train_transforms, val_transforms = get_transform()\n",
        "\n",
        "train_dataset =  Get_RoofTypeImages(train_transforms, root_dir)\n",
        "\n",
        "# The same dataset but with val_transforms for testing\n",
        "test_dataset =  Get_RoofTypeImages(val_transforms, root_dir)\n",
        "#########################################################"
      ],
      "metadata": {
        "id": "n7LPDeTN_r0c"
      },
      "execution_count": null,
      "outputs": []
    },
    {
      "cell_type": "code",
      "source": [
        "main_work(model=\"resnet18\", train_dataset, test_dataset, num_classes, save_dir, lr, batch_size, epochs, test_only)"
      ],
      "metadata": {
        "id": "uBjBY5wV_r2P",
        "colab": {
          "base_uri": "https://localhost:8080/"
        },
        "outputId": "3760f4be-8955-4ce6-c360-d9b13962d47f"
      },
      "execution_count": null,
      "outputs": [
        {
          "output_type": "stream",
          "name": "stdout",
          "text": [
            "Total parameters:  11178051\n",
            "Trianable parameters:  11178051\n",
            "{'flat': 0, 'gabled': 1, 'hipped': 2}\n",
            "Training epoch: 0\n"
          ]
        },
        {
          "output_type": "stream",
          "name": "stderr",
          "text": [
            "/usr/local/lib/python3.7/dist-packages/torch/utils/data/dataloader.py:481: UserWarning: This DataLoader will create 4 worker processes in total. Our suggested max number of worker in current system is 2, which is smaller than what this DataLoader is going to create. Please be aware that excessive worker creation might get DataLoader running slow or even freeze, lower the worker number to avoid potential slowness/freeze if necessary.\n",
            "  cpuset_checked))\n"
          ]
        },
        {
          "output_type": "stream",
          "name": "stdout",
          "text": [
            "Epoch [1/100], Iter [5/24] Loss: 0.8114\n",
            "Epoch [1/100], Iter [10/24] Loss: 0.5298\n",
            "Epoch [1/100], Iter [15/24] Loss: 0.5097\n",
            "Epoch [1/100], Iter [20/24] Loss: 0.5378\n",
            "Confusion matrix:\n",
            "[[1140  611  249]\n",
            " [ 494 1318  188]\n",
            " [ 164  168 1668]]\n",
            "[2000 2000 2000]\n",
            "train Class Accuracy: [0.570,0.659,0.834]\n",
            "train Accuracy: 68.76666666666667\n",
            "train Loss: 0.6548929003377756\n",
            "save model\n",
            "/content/gdrive/MyDrive/model_training/best_transformer_rooftype.pkl\n",
            "Training epoch: 1\n"
          ]
        },
        {
          "output_type": "stream",
          "name": "stderr",
          "text": [
            "/usr/local/lib/python3.7/dist-packages/torch/utils/data/dataloader.py:481: UserWarning: This DataLoader will create 4 worker processes in total. Our suggested max number of worker in current system is 2, which is smaller than what this DataLoader is going to create. Please be aware that excessive worker creation might get DataLoader running slow or even freeze, lower the worker number to avoid potential slowness/freeze if necessary.\n",
            "  cpuset_checked))\n"
          ]
        },
        {
          "output_type": "stream",
          "name": "stdout",
          "text": [
            "Epoch [2/100], Iter [5/24] Loss: 0.4567\n",
            "Epoch [2/100], Iter [10/24] Loss: 0.4712\n",
            "Epoch [2/100], Iter [15/24] Loss: 0.3518\n",
            "Epoch [2/100], Iter [20/24] Loss: 0.3678\n",
            "Confusion matrix:\n",
            "[[1454  478   68]\n",
            " [ 395 1539   66]\n",
            " [  81   74 1845]]\n",
            "[2000 2000 2000]\n",
            "train Class Accuracy: [0.727,0.769,0.922]\n",
            "train Accuracy: 80.63333333333334\n",
            "train Loss: 0.44074773664275807\n",
            "save model\n",
            "/content/gdrive/MyDrive/model_training/best_transformer_rooftype.pkl\n",
            "Training epoch: 2\n"
          ]
        },
        {
          "output_type": "stream",
          "name": "stderr",
          "text": [
            "/usr/local/lib/python3.7/dist-packages/torch/utils/data/dataloader.py:481: UserWarning: This DataLoader will create 4 worker processes in total. Our suggested max number of worker in current system is 2, which is smaller than what this DataLoader is going to create. Please be aware that excessive worker creation might get DataLoader running slow or even freeze, lower the worker number to avoid potential slowness/freeze if necessary.\n",
            "  cpuset_checked))\n"
          ]
        },
        {
          "output_type": "stream",
          "name": "stdout",
          "text": [
            "Epoch [3/100], Iter [5/24] Loss: 0.4216\n",
            "Epoch [3/100], Iter [10/24] Loss: 0.3567\n",
            "Epoch [3/100], Iter [15/24] Loss: 0.3351\n",
            "Epoch [3/100], Iter [20/24] Loss: 0.4379\n",
            "Confusion matrix:\n",
            "[[1525  416   59]\n",
            " [ 351 1598   51]\n",
            " [  69   77 1854]]\n",
            "[2000 2000 2000]\n",
            "train Class Accuracy: [0.762,0.799,0.927]\n",
            "train Accuracy: 82.95\n",
            "train Loss: 0.3850039504468441\n",
            "save model\n",
            "/content/gdrive/MyDrive/model_training/best_transformer_rooftype.pkl\n",
            "Training epoch: 3\n"
          ]
        },
        {
          "output_type": "stream",
          "name": "stderr",
          "text": [
            "/usr/local/lib/python3.7/dist-packages/torch/utils/data/dataloader.py:481: UserWarning: This DataLoader will create 4 worker processes in total. Our suggested max number of worker in current system is 2, which is smaller than what this DataLoader is going to create. Please be aware that excessive worker creation might get DataLoader running slow or even freeze, lower the worker number to avoid potential slowness/freeze if necessary.\n",
            "  cpuset_checked))\n"
          ]
        },
        {
          "output_type": "stream",
          "name": "stdout",
          "text": [
            "Epoch [4/100], Iter [5/24] Loss: 0.3031\n",
            "Epoch [4/100], Iter [10/24] Loss: 0.3884\n",
            "Epoch [4/100], Iter [15/24] Loss: 0.3361\n",
            "Epoch [4/100], Iter [20/24] Loss: 0.3508\n",
            "Confusion matrix:\n",
            "[[1539  426   35]\n",
            " [ 349 1591   60]\n",
            " [  56   62 1882]]\n",
            "[2000 2000 2000]\n",
            "train Class Accuracy: [0.769,0.795,0.941]\n",
            "train Accuracy: 83.53333333333333\n",
            "train Loss: 0.3475432302802801\n",
            "save model\n",
            "/content/gdrive/MyDrive/model_training/best_transformer_rooftype.pkl\n",
            "Training epoch: 4\n"
          ]
        },
        {
          "output_type": "stream",
          "name": "stderr",
          "text": [
            "/usr/local/lib/python3.7/dist-packages/torch/utils/data/dataloader.py:481: UserWarning: This DataLoader will create 4 worker processes in total. Our suggested max number of worker in current system is 2, which is smaller than what this DataLoader is going to create. Please be aware that excessive worker creation might get DataLoader running slow or even freeze, lower the worker number to avoid potential slowness/freeze if necessary.\n",
            "  cpuset_checked))\n"
          ]
        },
        {
          "output_type": "stream",
          "name": "stdout",
          "text": [
            "Epoch [5/100], Iter [5/24] Loss: 0.3653\n",
            "Epoch [5/100], Iter [10/24] Loss: 0.3155\n",
            "Epoch [5/100], Iter [15/24] Loss: 0.3222\n",
            "Epoch [5/100], Iter [20/24] Loss: 0.3358\n",
            "Confusion matrix:\n",
            "[[1578  375   47]\n",
            " [ 347 1614   39]\n",
            " [  61   64 1875]]\n",
            "[2000 2000 2000]\n",
            "train Class Accuracy: [0.789,0.807,0.938]\n",
            "train Accuracy: 84.45\n",
            "train Loss: 0.33436057964960736\n",
            "save model\n",
            "/content/gdrive/MyDrive/model_training/best_transformer_rooftype.pkl\n",
            "Training epoch: 5\n"
          ]
        },
        {
          "output_type": "stream",
          "name": "stderr",
          "text": [
            "/usr/local/lib/python3.7/dist-packages/torch/utils/data/dataloader.py:481: UserWarning: This DataLoader will create 4 worker processes in total. Our suggested max number of worker in current system is 2, which is smaller than what this DataLoader is going to create. Please be aware that excessive worker creation might get DataLoader running slow or even freeze, lower the worker number to avoid potential slowness/freeze if necessary.\n",
            "  cpuset_checked))\n"
          ]
        },
        {
          "output_type": "stream",
          "name": "stdout",
          "text": [
            "Epoch [6/100], Iter [5/24] Loss: 0.2792\n",
            "Epoch [6/100], Iter [10/24] Loss: 0.2770\n",
            "Epoch [6/100], Iter [15/24] Loss: 0.3293\n",
            "Epoch [6/100], Iter [20/24] Loss: 0.2820\n",
            "Confusion matrix:\n",
            "[[1614  338   48]\n",
            " [ 327 1626   47]\n",
            " [  53   53 1894]]\n",
            "[2000 2000 2000]\n",
            "train Class Accuracy: [0.807,0.813,0.947]\n",
            "train Accuracy: 85.56666666666666\n",
            "train Loss: 0.3083815189699332\n",
            "save model\n",
            "/content/gdrive/MyDrive/model_training/best_transformer_rooftype.pkl\n",
            "Training epoch: 6\n"
          ]
        },
        {
          "output_type": "stream",
          "name": "stderr",
          "text": [
            "/usr/local/lib/python3.7/dist-packages/torch/utils/data/dataloader.py:481: UserWarning: This DataLoader will create 4 worker processes in total. Our suggested max number of worker in current system is 2, which is smaller than what this DataLoader is going to create. Please be aware that excessive worker creation might get DataLoader running slow or even freeze, lower the worker number to avoid potential slowness/freeze if necessary.\n",
            "  cpuset_checked))\n"
          ]
        },
        {
          "output_type": "stream",
          "name": "stdout",
          "text": [
            "Epoch [7/100], Iter [5/24] Loss: 0.2694\n",
            "Epoch [7/100], Iter [10/24] Loss: 0.2510\n",
            "Epoch [7/100], Iter [15/24] Loss: 0.2489\n",
            "Epoch [7/100], Iter [20/24] Loss: 0.2824\n",
            "Confusion matrix:\n",
            "[[1633  346   21]\n",
            " [ 305 1657   38]\n",
            " [  42   45 1913]]\n",
            "[2000 2000 2000]\n",
            "train Class Accuracy: [0.817,0.829,0.957]\n",
            "train Accuracy: 86.71666666666667\n",
            "train Loss: 0.29292478412389755\n",
            "save model\n",
            "/content/gdrive/MyDrive/model_training/best_transformer_rooftype.pkl\n",
            "Training epoch: 7\n"
          ]
        },
        {
          "output_type": "stream",
          "name": "stderr",
          "text": [
            "/usr/local/lib/python3.7/dist-packages/torch/utils/data/dataloader.py:481: UserWarning: This DataLoader will create 4 worker processes in total. Our suggested max number of worker in current system is 2, which is smaller than what this DataLoader is going to create. Please be aware that excessive worker creation might get DataLoader running slow or even freeze, lower the worker number to avoid potential slowness/freeze if necessary.\n",
            "  cpuset_checked))\n"
          ]
        },
        {
          "output_type": "stream",
          "name": "stdout",
          "text": [
            "Epoch [8/100], Iter [5/24] Loss: 0.2637\n",
            "Epoch [8/100], Iter [10/24] Loss: 0.3082\n",
            "Epoch [8/100], Iter [15/24] Loss: 0.2059\n",
            "Epoch [8/100], Iter [20/24] Loss: 0.2428\n",
            "Confusion matrix:\n",
            "[[1599  361   40]\n",
            " [ 303 1664   33]\n",
            " [  37   49 1914]]\n",
            "[2000 2000 2000]\n",
            "train Class Accuracy: [0.799,0.832,0.957]\n",
            "train Accuracy: 86.28333333333333\n",
            "train Loss: 0.2887731057902177\n",
            "save model\n",
            "/content/gdrive/MyDrive/model_training/best_transformer_rooftype.pkl\n",
            "Training epoch: 8\n"
          ]
        },
        {
          "output_type": "stream",
          "name": "stderr",
          "text": [
            "/usr/local/lib/python3.7/dist-packages/torch/utils/data/dataloader.py:481: UserWarning: This DataLoader will create 4 worker processes in total. Our suggested max number of worker in current system is 2, which is smaller than what this DataLoader is going to create. Please be aware that excessive worker creation might get DataLoader running slow or even freeze, lower the worker number to avoid potential slowness/freeze if necessary.\n",
            "  cpuset_checked))\n"
          ]
        },
        {
          "output_type": "stream",
          "name": "stdout",
          "text": [
            "Epoch [9/100], Iter [5/24] Loss: 0.2085\n",
            "Epoch [9/100], Iter [10/24] Loss: 0.2881\n",
            "Epoch [9/100], Iter [15/24] Loss: 0.2706\n",
            "Epoch [9/100], Iter [20/24] Loss: 0.2241\n",
            "Confusion matrix:\n",
            "[[1666  301   33]\n",
            " [ 265 1707   28]\n",
            " [  36   28 1936]]\n",
            "[2000 2000 2000]\n",
            "train Class Accuracy: [0.833,0.854,0.968]\n",
            "train Accuracy: 88.48333333333333\n",
            "train Loss: 0.25358079187572\n",
            "save model\n",
            "/content/gdrive/MyDrive/model_training/best_transformer_rooftype.pkl\n",
            "Training epoch: 9\n"
          ]
        },
        {
          "output_type": "stream",
          "name": "stderr",
          "text": [
            "/usr/local/lib/python3.7/dist-packages/torch/utils/data/dataloader.py:481: UserWarning: This DataLoader will create 4 worker processes in total. Our suggested max number of worker in current system is 2, which is smaller than what this DataLoader is going to create. Please be aware that excessive worker creation might get DataLoader running slow or even freeze, lower the worker number to avoid potential slowness/freeze if necessary.\n",
            "  cpuset_checked))\n"
          ]
        },
        {
          "output_type": "stream",
          "name": "stdout",
          "text": [
            "Epoch [10/100], Iter [5/24] Loss: 0.2648\n",
            "Epoch [10/100], Iter [10/24] Loss: 0.2721\n",
            "Epoch [10/100], Iter [15/24] Loss: 0.2074\n",
            "Epoch [10/100], Iter [20/24] Loss: 0.2616\n",
            "Confusion matrix:\n",
            "[[1669  307   24]\n",
            " [ 250 1720   30]\n",
            " [  31   33 1936]]\n",
            "[2000 2000 2000]\n",
            "train Class Accuracy: [0.835,0.860,0.968]\n",
            "train Accuracy: 88.75\n",
            "train Loss: 0.24280657370885214\n",
            "save model\n",
            "/content/gdrive/MyDrive/model_training/best_transformer_rooftype.pkl\n",
            "Training epoch: 10\n"
          ]
        },
        {
          "output_type": "stream",
          "name": "stderr",
          "text": [
            "/usr/local/lib/python3.7/dist-packages/torch/utils/data/dataloader.py:481: UserWarning: This DataLoader will create 4 worker processes in total. Our suggested max number of worker in current system is 2, which is smaller than what this DataLoader is going to create. Please be aware that excessive worker creation might get DataLoader running slow or even freeze, lower the worker number to avoid potential slowness/freeze if necessary.\n",
            "  cpuset_checked))\n"
          ]
        },
        {
          "output_type": "stream",
          "name": "stdout",
          "text": [
            "Epoch [11/100], Iter [5/24] Loss: 0.2433\n",
            "Epoch [11/100], Iter [10/24] Loss: 0.2349\n",
            "Epoch [11/100], Iter [15/24] Loss: 0.2965\n",
            "Epoch [11/100], Iter [20/24] Loss: 0.2434\n",
            "Confusion matrix:\n",
            "[[1675  306   19]\n",
            " [ 237 1725   38]\n",
            " [  29   31 1940]]\n",
            "[2000 2000 2000]\n",
            "train Class Accuracy: [0.838,0.863,0.970]\n",
            "train Accuracy: 89.0\n",
            "train Loss: 0.2335270835707585\n",
            "save model\n",
            "/content/gdrive/MyDrive/model_training/best_transformer_rooftype.pkl\n",
            "Training epoch: 11\n"
          ]
        },
        {
          "output_type": "stream",
          "name": "stderr",
          "text": [
            "/usr/local/lib/python3.7/dist-packages/torch/utils/data/dataloader.py:481: UserWarning: This DataLoader will create 4 worker processes in total. Our suggested max number of worker in current system is 2, which is smaller than what this DataLoader is going to create. Please be aware that excessive worker creation might get DataLoader running slow or even freeze, lower the worker number to avoid potential slowness/freeze if necessary.\n",
            "  cpuset_checked))\n"
          ]
        },
        {
          "output_type": "stream",
          "name": "stdout",
          "text": [
            "Epoch [12/100], Iter [5/24] Loss: 0.2671\n",
            "Epoch [12/100], Iter [10/24] Loss: 0.2285\n",
            "Epoch [12/100], Iter [15/24] Loss: 0.2244\n",
            "Epoch [12/100], Iter [20/24] Loss: 0.1804\n",
            "Confusion matrix:\n",
            "[[1719  266   15]\n",
            " [ 234 1740   26]\n",
            " [  24   28 1948]]\n",
            "[2000 2000 2000]\n",
            "train Class Accuracy: [0.860,0.870,0.974]\n",
            "train Accuracy: 90.11666666666666\n",
            "train Loss: 0.22138186482091746\n",
            "save model\n",
            "/content/gdrive/MyDrive/model_training/best_transformer_rooftype.pkl\n",
            "Training epoch: 12\n"
          ]
        },
        {
          "output_type": "stream",
          "name": "stderr",
          "text": [
            "/usr/local/lib/python3.7/dist-packages/torch/utils/data/dataloader.py:481: UserWarning: This DataLoader will create 4 worker processes in total. Our suggested max number of worker in current system is 2, which is smaller than what this DataLoader is going to create. Please be aware that excessive worker creation might get DataLoader running slow or even freeze, lower the worker number to avoid potential slowness/freeze if necessary.\n",
            "  cpuset_checked))\n"
          ]
        },
        {
          "output_type": "stream",
          "name": "stdout",
          "text": [
            "Epoch [13/100], Iter [5/24] Loss: 0.1979\n",
            "Epoch [13/100], Iter [10/24] Loss: 0.3304\n",
            "Epoch [13/100], Iter [15/24] Loss: 0.1840\n",
            "Epoch [13/100], Iter [20/24] Loss: 0.1826\n",
            "Confusion matrix:\n",
            "[[1704  272   24]\n",
            " [ 227 1755   18]\n",
            " [  23   33 1944]]\n",
            "[2000 2000 2000]\n",
            "train Class Accuracy: [0.852,0.877,0.972]\n",
            "train Accuracy: 90.05\n",
            "train Loss: 0.2132939143727223\n",
            "save model\n",
            "/content/gdrive/MyDrive/model_training/best_transformer_rooftype.pkl\n",
            "Training epoch: 13\n"
          ]
        },
        {
          "output_type": "stream",
          "name": "stderr",
          "text": [
            "/usr/local/lib/python3.7/dist-packages/torch/utils/data/dataloader.py:481: UserWarning: This DataLoader will create 4 worker processes in total. Our suggested max number of worker in current system is 2, which is smaller than what this DataLoader is going to create. Please be aware that excessive worker creation might get DataLoader running slow or even freeze, lower the worker number to avoid potential slowness/freeze if necessary.\n",
            "  cpuset_checked))\n"
          ]
        },
        {
          "output_type": "stream",
          "name": "stdout",
          "text": [
            "Epoch [14/100], Iter [5/24] Loss: 0.2482\n",
            "Epoch [14/100], Iter [10/24] Loss: 0.2557\n",
            "Epoch [14/100], Iter [15/24] Loss: 0.2144\n",
            "Epoch [14/100], Iter [20/24] Loss: 0.2091\n",
            "Confusion matrix:\n",
            "[[1742  241   17]\n",
            " [ 221 1747   32]\n",
            " [  22   28 1950]]\n",
            "[2000 2000 2000]\n",
            "train Class Accuracy: [0.871,0.874,0.975]\n",
            "train Accuracy: 90.65\n",
            "train Loss: 0.20584368395308653\n",
            "save model\n",
            "/content/gdrive/MyDrive/model_training/best_transformer_rooftype.pkl\n",
            "Training epoch: 14\n"
          ]
        },
        {
          "output_type": "stream",
          "name": "stderr",
          "text": [
            "/usr/local/lib/python3.7/dist-packages/torch/utils/data/dataloader.py:481: UserWarning: This DataLoader will create 4 worker processes in total. Our suggested max number of worker in current system is 2, which is smaller than what this DataLoader is going to create. Please be aware that excessive worker creation might get DataLoader running slow or even freeze, lower the worker number to avoid potential slowness/freeze if necessary.\n",
            "  cpuset_checked))\n"
          ]
        },
        {
          "output_type": "stream",
          "name": "stdout",
          "text": [
            "Epoch [15/100], Iter [5/24] Loss: 0.2115\n",
            "Epoch [15/100], Iter [10/24] Loss: 0.2352\n",
            "Epoch [15/100], Iter [15/24] Loss: 0.2120\n",
            "Epoch [15/100], Iter [20/24] Loss: 0.1775\n",
            "Confusion matrix:\n",
            "[[1747  232   21]\n",
            " [ 212 1769   19]\n",
            " [  16   20 1964]]\n",
            "[2000 2000 2000]\n",
            "train Class Accuracy: [0.874,0.884,0.982]\n",
            "train Accuracy: 91.33333333333333\n",
            "train Loss: 0.19890577904880047\n",
            "save model\n",
            "/content/gdrive/MyDrive/model_training/best_transformer_rooftype.pkl\n",
            "Training epoch: 15\n"
          ]
        },
        {
          "output_type": "stream",
          "name": "stderr",
          "text": [
            "/usr/local/lib/python3.7/dist-packages/torch/utils/data/dataloader.py:481: UserWarning: This DataLoader will create 4 worker processes in total. Our suggested max number of worker in current system is 2, which is smaller than what this DataLoader is going to create. Please be aware that excessive worker creation might get DataLoader running slow or even freeze, lower the worker number to avoid potential slowness/freeze if necessary.\n",
            "  cpuset_checked))\n"
          ]
        },
        {
          "output_type": "stream",
          "name": "stdout",
          "text": [
            "Epoch [16/100], Iter [5/24] Loss: 0.1458\n",
            "Epoch [16/100], Iter [10/24] Loss: 0.1772\n",
            "Epoch [16/100], Iter [15/24] Loss: 0.2021\n",
            "Epoch [16/100], Iter [20/24] Loss: 0.1891\n",
            "Confusion matrix:\n",
            "[[1789  197   14]\n",
            " [ 199 1781   20]\n",
            " [  14   17 1969]]\n",
            "[2000 2000 2000]\n",
            "train Class Accuracy: [0.894,0.890,0.985]\n",
            "train Accuracy: 92.31666666666666\n",
            "train Loss: 0.17196383886039257\n",
            "save model\n",
            "/content/gdrive/MyDrive/model_training/best_transformer_rooftype.pkl\n",
            "Training epoch: 16\n"
          ]
        },
        {
          "output_type": "stream",
          "name": "stderr",
          "text": [
            "/usr/local/lib/python3.7/dist-packages/torch/utils/data/dataloader.py:481: UserWarning: This DataLoader will create 4 worker processes in total. Our suggested max number of worker in current system is 2, which is smaller than what this DataLoader is going to create. Please be aware that excessive worker creation might get DataLoader running slow or even freeze, lower the worker number to avoid potential slowness/freeze if necessary.\n",
            "  cpuset_checked))\n"
          ]
        },
        {
          "output_type": "stream",
          "name": "stdout",
          "text": [
            "Epoch [17/100], Iter [5/24] Loss: 0.1970\n",
            "Epoch [17/100], Iter [10/24] Loss: 0.1574\n",
            "Epoch [17/100], Iter [15/24] Loss: 0.1569\n",
            "Epoch [17/100], Iter [20/24] Loss: 0.2005\n",
            "Confusion matrix:\n",
            "[[1756  235    9]\n",
            " [ 215 1771   14]\n",
            " [  14   19 1967]]\n",
            "[2000 2000 2000]\n",
            "train Class Accuracy: [0.878,0.885,0.984]\n",
            "train Accuracy: 91.56666666666666\n",
            "train Loss: 0.1741254429022471\n",
            "save model\n",
            "/content/gdrive/MyDrive/model_training/best_transformer_rooftype.pkl\n",
            "Training epoch: 17\n"
          ]
        },
        {
          "output_type": "stream",
          "name": "stderr",
          "text": [
            "/usr/local/lib/python3.7/dist-packages/torch/utils/data/dataloader.py:481: UserWarning: This DataLoader will create 4 worker processes in total. Our suggested max number of worker in current system is 2, which is smaller than what this DataLoader is going to create. Please be aware that excessive worker creation might get DataLoader running slow or even freeze, lower the worker number to avoid potential slowness/freeze if necessary.\n",
            "  cpuset_checked))\n"
          ]
        },
        {
          "output_type": "stream",
          "name": "stdout",
          "text": [
            "Epoch [18/100], Iter [5/24] Loss: 0.1555\n",
            "Epoch [18/100], Iter [10/24] Loss: 0.1403\n",
            "Epoch [18/100], Iter [15/24] Loss: 0.1948\n",
            "Epoch [18/100], Iter [20/24] Loss: 0.1734\n",
            "Confusion matrix:\n",
            "[[1794  194   12]\n",
            " [ 203 1782   15]\n",
            " [  11   16 1973]]\n",
            "[2000 2000 2000]\n",
            "train Class Accuracy: [0.897,0.891,0.987]\n",
            "train Accuracy: 92.48333333333333\n",
            "train Loss: 0.1637206363181273\n",
            "save model\n",
            "/content/gdrive/MyDrive/model_training/best_transformer_rooftype.pkl\n",
            "Training epoch: 18\n"
          ]
        },
        {
          "output_type": "stream",
          "name": "stderr",
          "text": [
            "/usr/local/lib/python3.7/dist-packages/torch/utils/data/dataloader.py:481: UserWarning: This DataLoader will create 4 worker processes in total. Our suggested max number of worker in current system is 2, which is smaller than what this DataLoader is going to create. Please be aware that excessive worker creation might get DataLoader running slow or even freeze, lower the worker number to avoid potential slowness/freeze if necessary.\n",
            "  cpuset_checked))\n"
          ]
        },
        {
          "output_type": "stream",
          "name": "stdout",
          "text": [
            "Epoch [19/100], Iter [5/24] Loss: 0.1634\n",
            "Epoch [19/100], Iter [10/24] Loss: 0.1260\n",
            "Epoch [19/100], Iter [15/24] Loss: 0.1702\n",
            "Epoch [19/100], Iter [20/24] Loss: 0.1655\n",
            "Confusion matrix:\n",
            "[[1762  226   12]\n",
            " [ 164 1824   12]\n",
            " [  17   17 1966]]\n",
            "[2000 2000 2000]\n",
            "train Class Accuracy: [0.881,0.912,0.983]\n",
            "train Accuracy: 92.53333333333333\n",
            "train Loss: 0.166044557467103\n",
            "save model\n",
            "/content/gdrive/MyDrive/model_training/best_transformer_rooftype.pkl\n",
            "Training epoch: 19\n"
          ]
        },
        {
          "output_type": "stream",
          "name": "stderr",
          "text": [
            "/usr/local/lib/python3.7/dist-packages/torch/utils/data/dataloader.py:481: UserWarning: This DataLoader will create 4 worker processes in total. Our suggested max number of worker in current system is 2, which is smaller than what this DataLoader is going to create. Please be aware that excessive worker creation might get DataLoader running slow or even freeze, lower the worker number to avoid potential slowness/freeze if necessary.\n",
            "  cpuset_checked))\n"
          ]
        },
        {
          "output_type": "stream",
          "name": "stdout",
          "text": [
            "Epoch [20/100], Iter [5/24] Loss: 0.1473\n",
            "Epoch [20/100], Iter [10/24] Loss: 0.2081\n",
            "Epoch [20/100], Iter [15/24] Loss: 0.2348\n",
            "Epoch [20/100], Iter [20/24] Loss: 0.1424\n",
            "Confusion matrix:\n",
            "[[1803  183   14]\n",
            " [ 183 1802   15]\n",
            " [  15   12 1973]]\n",
            "[2000 2000 2000]\n",
            "train Class Accuracy: [0.901,0.901,0.987]\n",
            "train Accuracy: 92.96666666666667\n",
            "train Loss: 0.15925695591916642\n",
            "save model\n",
            "/content/gdrive/MyDrive/model_training/best_transformer_rooftype.pkl\n",
            "Training epoch: 20\n"
          ]
        },
        {
          "output_type": "stream",
          "name": "stderr",
          "text": [
            "/usr/local/lib/python3.7/dist-packages/torch/utils/data/dataloader.py:481: UserWarning: This DataLoader will create 4 worker processes in total. Our suggested max number of worker in current system is 2, which is smaller than what this DataLoader is going to create. Please be aware that excessive worker creation might get DataLoader running slow or even freeze, lower the worker number to avoid potential slowness/freeze if necessary.\n",
            "  cpuset_checked))\n"
          ]
        },
        {
          "output_type": "stream",
          "name": "stdout",
          "text": [
            "Epoch [21/100], Iter [5/24] Loss: 0.0905\n",
            "Epoch [21/100], Iter [10/24] Loss: 0.1442\n",
            "Epoch [21/100], Iter [15/24] Loss: 0.1745\n",
            "Epoch [21/100], Iter [20/24] Loss: 0.1137\n",
            "Confusion matrix:\n",
            "[[1789  199   12]\n",
            " [ 183 1799   18]\n",
            " [  17   20 1963]]\n",
            "[2000 2000 2000]\n",
            "train Class Accuracy: [0.894,0.899,0.982]\n",
            "train Accuracy: 92.51666666666667\n",
            "train Loss: 0.15824998232225576\n",
            "save model\n",
            "/content/gdrive/MyDrive/model_training/best_transformer_rooftype.pkl\n",
            "Training epoch: 21\n"
          ]
        },
        {
          "output_type": "stream",
          "name": "stderr",
          "text": [
            "/usr/local/lib/python3.7/dist-packages/torch/utils/data/dataloader.py:481: UserWarning: This DataLoader will create 4 worker processes in total. Our suggested max number of worker in current system is 2, which is smaller than what this DataLoader is going to create. Please be aware that excessive worker creation might get DataLoader running slow or even freeze, lower the worker number to avoid potential slowness/freeze if necessary.\n",
            "  cpuset_checked))\n"
          ]
        },
        {
          "output_type": "stream",
          "name": "stdout",
          "text": [
            "Epoch [22/100], Iter [5/24] Loss: 0.1200\n",
            "Epoch [22/100], Iter [10/24] Loss: 0.1533\n",
            "Epoch [22/100], Iter [15/24] Loss: 0.2293\n",
            "Epoch [22/100], Iter [20/24] Loss: 0.1471\n",
            "Confusion matrix:\n",
            "[[1803  190    7]\n",
            " [ 177 1809   14]\n",
            " [  12    8 1980]]\n",
            "[2000 2000 2000]\n",
            "train Class Accuracy: [0.901,0.904,0.990]\n",
            "train Accuracy: 93.2\n",
            "train Loss: 0.14712278948475918\n",
            "save model\n",
            "/content/gdrive/MyDrive/model_training/best_transformer_rooftype.pkl\n",
            "Training epoch: 22\n"
          ]
        },
        {
          "output_type": "stream",
          "name": "stderr",
          "text": [
            "/usr/local/lib/python3.7/dist-packages/torch/utils/data/dataloader.py:481: UserWarning: This DataLoader will create 4 worker processes in total. Our suggested max number of worker in current system is 2, which is smaller than what this DataLoader is going to create. Please be aware that excessive worker creation might get DataLoader running slow or even freeze, lower the worker number to avoid potential slowness/freeze if necessary.\n",
            "  cpuset_checked))\n"
          ]
        },
        {
          "output_type": "stream",
          "name": "stdout",
          "text": [
            "Epoch [23/100], Iter [5/24] Loss: 0.1362\n",
            "Epoch [23/100], Iter [10/24] Loss: 0.1055\n",
            "Epoch [23/100], Iter [15/24] Loss: 0.1426\n",
            "Epoch [23/100], Iter [20/24] Loss: 0.1969\n",
            "Confusion matrix:\n",
            "[[1825  165   10]\n",
            " [ 153 1839    8]\n",
            " [  11   10 1979]]\n",
            "[2000 2000 2000]\n",
            "train Class Accuracy: [0.912,0.919,0.990]\n",
            "train Accuracy: 94.05\n",
            "train Loss: 0.13932501121113697\n",
            "save model\n",
            "/content/gdrive/MyDrive/model_training/best_transformer_rooftype.pkl\n",
            "Training epoch: 23\n"
          ]
        },
        {
          "output_type": "stream",
          "name": "stderr",
          "text": [
            "/usr/local/lib/python3.7/dist-packages/torch/utils/data/dataloader.py:481: UserWarning: This DataLoader will create 4 worker processes in total. Our suggested max number of worker in current system is 2, which is smaller than what this DataLoader is going to create. Please be aware that excessive worker creation might get DataLoader running slow or even freeze, lower the worker number to avoid potential slowness/freeze if necessary.\n",
            "  cpuset_checked))\n"
          ]
        },
        {
          "output_type": "stream",
          "name": "stdout",
          "text": [
            "Epoch [24/100], Iter [5/24] Loss: 0.1297\n",
            "Epoch [24/100], Iter [10/24] Loss: 0.1510\n",
            "Epoch [24/100], Iter [15/24] Loss: 0.1022\n",
            "Epoch [24/100], Iter [20/24] Loss: 0.1299\n",
            "Confusion matrix:\n",
            "[[1847  145    8]\n",
            " [ 157 1834    9]\n",
            " [  10   14 1976]]\n",
            "[2000 2000 2000]\n",
            "train Class Accuracy: [0.923,0.917,0.988]\n",
            "train Accuracy: 94.28333333333333\n",
            "train Loss: 0.13019047056635222\n",
            "save model\n",
            "/content/gdrive/MyDrive/model_training/best_transformer_rooftype.pkl\n",
            "Training epoch: 24\n"
          ]
        },
        {
          "output_type": "stream",
          "name": "stderr",
          "text": [
            "/usr/local/lib/python3.7/dist-packages/torch/utils/data/dataloader.py:481: UserWarning: This DataLoader will create 4 worker processes in total. Our suggested max number of worker in current system is 2, which is smaller than what this DataLoader is going to create. Please be aware that excessive worker creation might get DataLoader running slow or even freeze, lower the worker number to avoid potential slowness/freeze if necessary.\n",
            "  cpuset_checked))\n"
          ]
        },
        {
          "output_type": "stream",
          "name": "stdout",
          "text": [
            "Epoch [25/100], Iter [5/24] Loss: 0.0999\n",
            "Epoch [25/100], Iter [10/24] Loss: 0.1354\n",
            "Epoch [25/100], Iter [15/24] Loss: 0.1203\n",
            "Epoch [25/100], Iter [20/24] Loss: 0.0925\n",
            "Confusion matrix:\n",
            "[[1851  145    4]\n",
            " [ 130 1857   13]\n",
            " [   7   17 1976]]\n",
            "[2000 2000 2000]\n",
            "train Class Accuracy: [0.925,0.928,0.988]\n",
            "train Accuracy: 94.73333333333333\n",
            "train Loss: 0.1235971028606097\n",
            "save model\n",
            "/content/gdrive/MyDrive/model_training/best_transformer_rooftype.pkl\n",
            "Training epoch: 25\n"
          ]
        },
        {
          "output_type": "stream",
          "name": "stderr",
          "text": [
            "/usr/local/lib/python3.7/dist-packages/torch/utils/data/dataloader.py:481: UserWarning: This DataLoader will create 4 worker processes in total. Our suggested max number of worker in current system is 2, which is smaller than what this DataLoader is going to create. Please be aware that excessive worker creation might get DataLoader running slow or even freeze, lower the worker number to avoid potential slowness/freeze if necessary.\n",
            "  cpuset_checked))\n"
          ]
        },
        {
          "output_type": "stream",
          "name": "stdout",
          "text": [
            "Epoch [26/100], Iter [5/24] Loss: 0.0887\n",
            "Epoch [26/100], Iter [10/24] Loss: 0.1085\n",
            "Epoch [26/100], Iter [15/24] Loss: 0.1432\n",
            "Epoch [26/100], Iter [20/24] Loss: 0.0976\n",
            "Confusion matrix:\n",
            "[[1845  144   11]\n",
            " [ 114 1871   15]\n",
            " [   6    9 1985]]\n",
            "[2000 2000 2000]\n",
            "train Class Accuracy: [0.922,0.935,0.993]\n",
            "train Accuracy: 95.01666666666667\n",
            "train Loss: 0.11887631130715211\n",
            "save model\n",
            "/content/gdrive/MyDrive/model_training/best_transformer_rooftype.pkl\n",
            "Training epoch: 26\n"
          ]
        },
        {
          "output_type": "stream",
          "name": "stderr",
          "text": [
            "/usr/local/lib/python3.7/dist-packages/torch/utils/data/dataloader.py:481: UserWarning: This DataLoader will create 4 worker processes in total. Our suggested max number of worker in current system is 2, which is smaller than what this DataLoader is going to create. Please be aware that excessive worker creation might get DataLoader running slow or even freeze, lower the worker number to avoid potential slowness/freeze if necessary.\n",
            "  cpuset_checked))\n"
          ]
        },
        {
          "output_type": "stream",
          "name": "stdout",
          "text": [
            "Epoch [27/100], Iter [5/24] Loss: 0.1298\n",
            "Epoch [27/100], Iter [10/24] Loss: 0.0890\n",
            "Epoch [27/100], Iter [15/24] Loss: 0.1065\n",
            "Epoch [27/100], Iter [20/24] Loss: 0.0780\n",
            "Confusion matrix:\n",
            "[[1869  130    1]\n",
            " [ 122 1870    8]\n",
            " [   4   12 1984]]\n",
            "[2000 2000 2000]\n",
            "train Class Accuracy: [0.934,0.935,0.992]\n",
            "train Accuracy: 95.38333333333334\n",
            "train Loss: 0.10647304495796561\n",
            "save model\n",
            "/content/gdrive/MyDrive/model_training/best_transformer_rooftype.pkl\n",
            "Training epoch: 27\n"
          ]
        },
        {
          "output_type": "stream",
          "name": "stderr",
          "text": [
            "/usr/local/lib/python3.7/dist-packages/torch/utils/data/dataloader.py:481: UserWarning: This DataLoader will create 4 worker processes in total. Our suggested max number of worker in current system is 2, which is smaller than what this DataLoader is going to create. Please be aware that excessive worker creation might get DataLoader running slow or even freeze, lower the worker number to avoid potential slowness/freeze if necessary.\n",
            "  cpuset_checked))\n"
          ]
        },
        {
          "output_type": "stream",
          "name": "stdout",
          "text": [
            "Epoch [28/100], Iter [5/24] Loss: 0.1260\n",
            "Epoch [28/100], Iter [10/24] Loss: 0.0973\n",
            "Epoch [28/100], Iter [15/24] Loss: 0.0767\n",
            "Epoch [28/100], Iter [20/24] Loss: 0.0864\n",
            "Confusion matrix:\n",
            "[[1899   93    8]\n",
            " [  99 1893    8]\n",
            " [   6   11 1983]]\n",
            "[2000 2000 2000]\n",
            "train Class Accuracy: [0.950,0.947,0.992]\n",
            "train Accuracy: 96.25\n",
            "train Loss: 0.09992220625281334\n",
            "save model\n",
            "/content/gdrive/MyDrive/model_training/best_transformer_rooftype.pkl\n",
            "Training epoch: 28\n"
          ]
        },
        {
          "output_type": "stream",
          "name": "stderr",
          "text": [
            "/usr/local/lib/python3.7/dist-packages/torch/utils/data/dataloader.py:481: UserWarning: This DataLoader will create 4 worker processes in total. Our suggested max number of worker in current system is 2, which is smaller than what this DataLoader is going to create. Please be aware that excessive worker creation might get DataLoader running slow or even freeze, lower the worker number to avoid potential slowness/freeze if necessary.\n",
            "  cpuset_checked))\n"
          ]
        },
        {
          "output_type": "stream",
          "name": "stdout",
          "text": [
            "Epoch [29/100], Iter [5/24] Loss: 0.1353\n",
            "Epoch [29/100], Iter [10/24] Loss: 0.0863\n",
            "Epoch [29/100], Iter [15/24] Loss: 0.0909\n",
            "Epoch [29/100], Iter [20/24] Loss: 0.0810\n",
            "Confusion matrix:\n",
            "[[1863  128    9]\n",
            " [ 109 1886    5]\n",
            " [  12    7 1981]]\n",
            "[2000 2000 2000]\n",
            "train Class Accuracy: [0.931,0.943,0.991]\n",
            "train Accuracy: 95.5\n",
            "train Loss: 0.10057814869408806\n",
            "save model\n",
            "/content/gdrive/MyDrive/model_training/best_transformer_rooftype.pkl\n",
            "Training epoch: 29\n"
          ]
        },
        {
          "output_type": "stream",
          "name": "stderr",
          "text": [
            "/usr/local/lib/python3.7/dist-packages/torch/utils/data/dataloader.py:481: UserWarning: This DataLoader will create 4 worker processes in total. Our suggested max number of worker in current system is 2, which is smaller than what this DataLoader is going to create. Please be aware that excessive worker creation might get DataLoader running slow or even freeze, lower the worker number to avoid potential slowness/freeze if necessary.\n",
            "  cpuset_checked))\n"
          ]
        },
        {
          "output_type": "stream",
          "name": "stdout",
          "text": [
            "Epoch [30/100], Iter [5/24] Loss: 0.0844\n",
            "Epoch [30/100], Iter [10/24] Loss: 0.1659\n",
            "Epoch [30/100], Iter [15/24] Loss: 0.1073\n",
            "Epoch [30/100], Iter [20/24] Loss: 0.0863\n",
            "Confusion matrix:\n",
            "[[1875  118    7]\n",
            " [  86 1902   12]\n",
            " [   6    9 1985]]\n",
            "[2000 2000 2000]\n",
            "train Class Accuracy: [0.938,0.951,0.993]\n",
            "train Accuracy: 96.03333333333333\n",
            "train Loss: 0.0938673303462565\n",
            "save model\n",
            "/content/gdrive/MyDrive/model_training/best_transformer_rooftype.pkl\n",
            "Training epoch: 30\n"
          ]
        },
        {
          "output_type": "stream",
          "name": "stderr",
          "text": [
            "/usr/local/lib/python3.7/dist-packages/torch/utils/data/dataloader.py:481: UserWarning: This DataLoader will create 4 worker processes in total. Our suggested max number of worker in current system is 2, which is smaller than what this DataLoader is going to create. Please be aware that excessive worker creation might get DataLoader running slow or even freeze, lower the worker number to avoid potential slowness/freeze if necessary.\n",
            "  cpuset_checked))\n"
          ]
        },
        {
          "output_type": "stream",
          "name": "stdout",
          "text": [
            "Epoch [31/100], Iter [5/24] Loss: 0.0767\n",
            "Epoch [31/100], Iter [10/24] Loss: 0.0704\n",
            "Epoch [31/100], Iter [15/24] Loss: 0.0932\n",
            "Epoch [31/100], Iter [20/24] Loss: 0.0758\n",
            "Confusion matrix:\n",
            "[[1897  100    3]\n",
            " [ 109 1886    5]\n",
            " [   3   12 1985]]\n",
            "[2000 2000 2000]\n",
            "train Class Accuracy: [0.949,0.943,0.993]\n",
            "train Accuracy: 96.13333333333334\n",
            "train Loss: 0.09292474792649348\n",
            "save model\n",
            "/content/gdrive/MyDrive/model_training/best_transformer_rooftype.pkl\n",
            "Training epoch: 31\n"
          ]
        },
        {
          "output_type": "stream",
          "name": "stderr",
          "text": [
            "/usr/local/lib/python3.7/dist-packages/torch/utils/data/dataloader.py:481: UserWarning: This DataLoader will create 4 worker processes in total. Our suggested max number of worker in current system is 2, which is smaller than what this DataLoader is going to create. Please be aware that excessive worker creation might get DataLoader running slow or even freeze, lower the worker number to avoid potential slowness/freeze if necessary.\n",
            "  cpuset_checked))\n"
          ]
        },
        {
          "output_type": "stream",
          "name": "stdout",
          "text": [
            "Epoch [32/100], Iter [5/24] Loss: 0.0910\n",
            "Epoch [32/100], Iter [10/24] Loss: 0.0748\n",
            "Epoch [32/100], Iter [15/24] Loss: 0.0793\n",
            "Epoch [32/100], Iter [20/24] Loss: 0.0753\n",
            "Confusion matrix:\n",
            "[[1912   86    2]\n",
            " [  86 1908    6]\n",
            " [  10    5 1985]]\n",
            "[2000 2000 2000]\n",
            "train Class Accuracy: [0.956,0.954,0.993]\n",
            "train Accuracy: 96.75\n",
            "train Loss: 0.08421513655533393\n",
            "save model\n",
            "/content/gdrive/MyDrive/model_training/best_transformer_rooftype.pkl\n",
            "Training epoch: 32\n"
          ]
        },
        {
          "output_type": "stream",
          "name": "stderr",
          "text": [
            "/usr/local/lib/python3.7/dist-packages/torch/utils/data/dataloader.py:481: UserWarning: This DataLoader will create 4 worker processes in total. Our suggested max number of worker in current system is 2, which is smaller than what this DataLoader is going to create. Please be aware that excessive worker creation might get DataLoader running slow or even freeze, lower the worker number to avoid potential slowness/freeze if necessary.\n",
            "  cpuset_checked))\n"
          ]
        },
        {
          "output_type": "stream",
          "name": "stdout",
          "text": [
            "Epoch [33/100], Iter [5/24] Loss: 0.0726\n",
            "Epoch [33/100], Iter [10/24] Loss: 0.0931\n",
            "Epoch [33/100], Iter [15/24] Loss: 0.0515\n",
            "Epoch [33/100], Iter [20/24] Loss: 0.0526\n",
            "Confusion matrix:\n",
            "[[1891  100    9]\n",
            " [  82 1911    7]\n",
            " [   4   10 1986]]\n",
            "[2000 2000 2000]\n",
            "train Class Accuracy: [0.946,0.956,0.993]\n",
            "train Accuracy: 96.46666666666667\n",
            "train Loss: 0.08796986332163215\n",
            "save model\n",
            "/content/gdrive/MyDrive/model_training/best_transformer_rooftype.pkl\n",
            "Training epoch: 33\n"
          ]
        },
        {
          "output_type": "stream",
          "name": "stderr",
          "text": [
            "/usr/local/lib/python3.7/dist-packages/torch/utils/data/dataloader.py:481: UserWarning: This DataLoader will create 4 worker processes in total. Our suggested max number of worker in current system is 2, which is smaller than what this DataLoader is going to create. Please be aware that excessive worker creation might get DataLoader running slow or even freeze, lower the worker number to avoid potential slowness/freeze if necessary.\n",
            "  cpuset_checked))\n"
          ]
        },
        {
          "output_type": "stream",
          "name": "stdout",
          "text": [
            "Epoch [34/100], Iter [5/24] Loss: 0.0712\n",
            "Epoch [34/100], Iter [10/24] Loss: 0.1145\n",
            "Epoch [34/100], Iter [15/24] Loss: 0.0726\n",
            "Epoch [34/100], Iter [20/24] Loss: 0.0964\n",
            "Confusion matrix:\n",
            "[[1902   95    3]\n",
            " [  97 1899    4]\n",
            " [   2    8 1990]]\n",
            "[2000 2000 2000]\n",
            "train Class Accuracy: [0.951,0.950,0.995]\n",
            "train Accuracy: 96.51666666666667\n",
            "train Loss: 0.08364906286199887\n",
            "save model\n",
            "/content/gdrive/MyDrive/model_training/best_transformer_rooftype.pkl\n",
            "Training epoch: 34\n"
          ]
        },
        {
          "output_type": "stream",
          "name": "stderr",
          "text": [
            "/usr/local/lib/python3.7/dist-packages/torch/utils/data/dataloader.py:481: UserWarning: This DataLoader will create 4 worker processes in total. Our suggested max number of worker in current system is 2, which is smaller than what this DataLoader is going to create. Please be aware that excessive worker creation might get DataLoader running slow or even freeze, lower the worker number to avoid potential slowness/freeze if necessary.\n",
            "  cpuset_checked))\n"
          ]
        },
        {
          "output_type": "stream",
          "name": "stdout",
          "text": [
            "Epoch [35/100], Iter [5/24] Loss: 0.0835\n",
            "Epoch [35/100], Iter [10/24] Loss: 0.1347\n",
            "Epoch [35/100], Iter [15/24] Loss: 0.1284\n",
            "Epoch [35/100], Iter [20/24] Loss: 0.0986\n",
            "Confusion matrix:\n",
            "[[1903   96    1]\n",
            " [ 105 1886    9]\n",
            " [   6    8 1986]]\n",
            "[2000 2000 2000]\n",
            "train Class Accuracy: [0.952,0.943,0.993]\n",
            "train Accuracy: 96.25\n",
            "train Loss: 0.08576997571314375\n",
            "save model\n",
            "/content/gdrive/MyDrive/model_training/best_transformer_rooftype.pkl\n",
            "Training epoch: 35\n"
          ]
        },
        {
          "output_type": "stream",
          "name": "stderr",
          "text": [
            "/usr/local/lib/python3.7/dist-packages/torch/utils/data/dataloader.py:481: UserWarning: This DataLoader will create 4 worker processes in total. Our suggested max number of worker in current system is 2, which is smaller than what this DataLoader is going to create. Please be aware that excessive worker creation might get DataLoader running slow or even freeze, lower the worker number to avoid potential slowness/freeze if necessary.\n",
            "  cpuset_checked))\n"
          ]
        },
        {
          "output_type": "stream",
          "name": "stdout",
          "text": [
            "Epoch [36/100], Iter [5/24] Loss: 0.0963\n",
            "Epoch [36/100], Iter [10/24] Loss: 0.0573\n",
            "Epoch [36/100], Iter [15/24] Loss: 0.0992\n",
            "Epoch [36/100], Iter [20/24] Loss: 0.0528\n",
            "Confusion matrix:\n",
            "[[1909   89    2]\n",
            " [  96 1897    7]\n",
            " [   4    3 1993]]\n",
            "[2000 2000 2000]\n",
            "train Class Accuracy: [0.955,0.949,0.997]\n",
            "train Accuracy: 96.65\n",
            "train Loss: 0.07939595667024453\n",
            "save model\n",
            "/content/gdrive/MyDrive/model_training/best_transformer_rooftype.pkl\n",
            "Training epoch: 36\n"
          ]
        },
        {
          "output_type": "stream",
          "name": "stderr",
          "text": [
            "/usr/local/lib/python3.7/dist-packages/torch/utils/data/dataloader.py:481: UserWarning: This DataLoader will create 4 worker processes in total. Our suggested max number of worker in current system is 2, which is smaller than what this DataLoader is going to create. Please be aware that excessive worker creation might get DataLoader running slow or even freeze, lower the worker number to avoid potential slowness/freeze if necessary.\n",
            "  cpuset_checked))\n"
          ]
        },
        {
          "output_type": "stream",
          "name": "stdout",
          "text": [
            "Epoch [37/100], Iter [5/24] Loss: 0.0861\n",
            "Epoch [37/100], Iter [10/24] Loss: 0.0625\n",
            "Epoch [37/100], Iter [15/24] Loss: 0.0726\n",
            "Epoch [37/100], Iter [20/24] Loss: 0.0938\n",
            "Confusion matrix:\n",
            "[[1908   89    3]\n",
            " [  92 1902    6]\n",
            " [  10    6 1984]]\n",
            "[2000 2000 2000]\n",
            "train Class Accuracy: [0.954,0.951,0.992]\n",
            "train Accuracy: 96.56666666666666\n",
            "train Loss: 0.08012408732126157\n",
            "save model\n",
            "/content/gdrive/MyDrive/model_training/best_transformer_rooftype.pkl\n",
            "Training epoch: 37\n"
          ]
        },
        {
          "output_type": "stream",
          "name": "stderr",
          "text": [
            "/usr/local/lib/python3.7/dist-packages/torch/utils/data/dataloader.py:481: UserWarning: This DataLoader will create 4 worker processes in total. Our suggested max number of worker in current system is 2, which is smaller than what this DataLoader is going to create. Please be aware that excessive worker creation might get DataLoader running slow or even freeze, lower the worker number to avoid potential slowness/freeze if necessary.\n",
            "  cpuset_checked))\n"
          ]
        },
        {
          "output_type": "stream",
          "name": "stdout",
          "text": [
            "Epoch [38/100], Iter [5/24] Loss: 0.1152\n",
            "Epoch [38/100], Iter [10/24] Loss: 0.0863\n",
            "Epoch [38/100], Iter [15/24] Loss: 0.0623\n",
            "Epoch [38/100], Iter [20/24] Loss: 0.0867\n",
            "Confusion matrix:\n",
            "[[1910   85    5]\n",
            " [  93 1904    3]\n",
            " [   8    0 1992]]\n",
            "[2000 2000 2000]\n",
            "train Class Accuracy: [0.955,0.952,0.996]\n",
            "train Accuracy: 96.76666666666667\n",
            "train Loss: 0.08020929402361314\n",
            "save model\n",
            "/content/gdrive/MyDrive/model_training/best_transformer_rooftype.pkl\n",
            "Training epoch: 38\n"
          ]
        },
        {
          "output_type": "stream",
          "name": "stderr",
          "text": [
            "/usr/local/lib/python3.7/dist-packages/torch/utils/data/dataloader.py:481: UserWarning: This DataLoader will create 4 worker processes in total. Our suggested max number of worker in current system is 2, which is smaller than what this DataLoader is going to create. Please be aware that excessive worker creation might get DataLoader running slow or even freeze, lower the worker number to avoid potential slowness/freeze if necessary.\n",
            "  cpuset_checked))\n"
          ]
        },
        {
          "output_type": "stream",
          "name": "stdout",
          "text": [
            "Epoch [39/100], Iter [5/24] Loss: 0.0724\n",
            "Epoch [39/100], Iter [10/24] Loss: 0.0460\n",
            "Epoch [39/100], Iter [15/24] Loss: 0.0616\n",
            "Epoch [39/100], Iter [20/24] Loss: 0.0603\n",
            "Confusion matrix:\n",
            "[[1921   78    1]\n",
            " [  60 1936    4]\n",
            " [   3    5 1992]]\n",
            "[2000 2000 2000]\n",
            "train Class Accuracy: [0.961,0.968,0.996]\n",
            "train Accuracy: 97.48333333333333\n",
            "train Loss: 0.06036576706295212\n",
            "save model\n",
            "/content/gdrive/MyDrive/model_training/best_transformer_rooftype.pkl\n",
            "Training epoch: 39\n"
          ]
        },
        {
          "output_type": "stream",
          "name": "stderr",
          "text": [
            "/usr/local/lib/python3.7/dist-packages/torch/utils/data/dataloader.py:481: UserWarning: This DataLoader will create 4 worker processes in total. Our suggested max number of worker in current system is 2, which is smaller than what this DataLoader is going to create. Please be aware that excessive worker creation might get DataLoader running slow or even freeze, lower the worker number to avoid potential slowness/freeze if necessary.\n",
            "  cpuset_checked))\n"
          ]
        },
        {
          "output_type": "stream",
          "name": "stdout",
          "text": [
            "Epoch [40/100], Iter [5/24] Loss: 0.0843\n",
            "Epoch [40/100], Iter [10/24] Loss: 0.0830\n",
            "Epoch [40/100], Iter [15/24] Loss: 0.0848\n",
            "Epoch [40/100], Iter [20/24] Loss: 0.0523\n",
            "Confusion matrix:\n",
            "[[1910   86    4]\n",
            " [  74 1921    5]\n",
            " [   5    1 1994]]\n",
            "[2000 2000 2000]\n",
            "train Class Accuracy: [0.955,0.961,0.997]\n",
            "train Accuracy: 97.08333333333333\n",
            "train Loss: 0.06839646492153406\n",
            "save model\n",
            "/content/gdrive/MyDrive/model_training/best_transformer_rooftype.pkl\n",
            "Training epoch: 40\n"
          ]
        },
        {
          "output_type": "stream",
          "name": "stderr",
          "text": [
            "/usr/local/lib/python3.7/dist-packages/torch/utils/data/dataloader.py:481: UserWarning: This DataLoader will create 4 worker processes in total. Our suggested max number of worker in current system is 2, which is smaller than what this DataLoader is going to create. Please be aware that excessive worker creation might get DataLoader running slow or even freeze, lower the worker number to avoid potential slowness/freeze if necessary.\n",
            "  cpuset_checked))\n"
          ]
        },
        {
          "output_type": "stream",
          "name": "stdout",
          "text": [
            "Epoch [41/100], Iter [5/24] Loss: 0.0414\n",
            "Epoch [41/100], Iter [10/24] Loss: 0.0785\n",
            "Epoch [41/100], Iter [15/24] Loss: 0.0438\n",
            "Epoch [41/100], Iter [20/24] Loss: 0.0546\n",
            "Confusion matrix:\n",
            "[[1926   70    4]\n",
            " [  63 1931    6]\n",
            " [   6    4 1990]]\n",
            "[2000 2000 2000]\n",
            "train Class Accuracy: [0.963,0.966,0.995]\n",
            "train Accuracy: 97.45\n",
            "train Loss: 0.0610776354248325\n",
            "save model\n",
            "/content/gdrive/MyDrive/model_training/best_transformer_rooftype.pkl\n",
            "Training epoch: 41\n"
          ]
        },
        {
          "output_type": "stream",
          "name": "stderr",
          "text": [
            "/usr/local/lib/python3.7/dist-packages/torch/utils/data/dataloader.py:481: UserWarning: This DataLoader will create 4 worker processes in total. Our suggested max number of worker in current system is 2, which is smaller than what this DataLoader is going to create. Please be aware that excessive worker creation might get DataLoader running slow or even freeze, lower the worker number to avoid potential slowness/freeze if necessary.\n",
            "  cpuset_checked))\n"
          ]
        },
        {
          "output_type": "stream",
          "name": "stdout",
          "text": [
            "Epoch [42/100], Iter [5/24] Loss: 0.0508\n",
            "Epoch [42/100], Iter [10/24] Loss: 0.0496\n",
            "Epoch [42/100], Iter [15/24] Loss: 0.0430\n",
            "Epoch [42/100], Iter [20/24] Loss: 0.0306\n",
            "Confusion matrix:\n",
            "[[1945   54    1]\n",
            " [  58 1938    4]\n",
            " [   1    3 1996]]\n",
            "[2000 2000 2000]\n",
            "train Class Accuracy: [0.973,0.969,0.998]\n",
            "train Accuracy: 97.98333333333333\n",
            "train Loss: 0.05259805087310573\n",
            "save model\n",
            "/content/gdrive/MyDrive/model_training/best_transformer_rooftype.pkl\n",
            "Training epoch: 42\n"
          ]
        },
        {
          "output_type": "stream",
          "name": "stderr",
          "text": [
            "/usr/local/lib/python3.7/dist-packages/torch/utils/data/dataloader.py:481: UserWarning: This DataLoader will create 4 worker processes in total. Our suggested max number of worker in current system is 2, which is smaller than what this DataLoader is going to create. Please be aware that excessive worker creation might get DataLoader running slow or even freeze, lower the worker number to avoid potential slowness/freeze if necessary.\n",
            "  cpuset_checked))\n"
          ]
        },
        {
          "output_type": "stream",
          "name": "stdout",
          "text": [
            "Epoch [43/100], Iter [5/24] Loss: 0.0953\n",
            "Epoch [43/100], Iter [10/24] Loss: 0.0449\n",
            "Epoch [43/100], Iter [15/24] Loss: 0.0329\n",
            "Epoch [43/100], Iter [20/24] Loss: 0.0543\n",
            "Confusion matrix:\n",
            "[[1932   63    5]\n",
            " [  54 1938    8]\n",
            " [   2    6 1992]]\n",
            "[2000 2000 2000]\n",
            "train Class Accuracy: [0.966,0.969,0.996]\n",
            "train Accuracy: 97.7\n",
            "train Loss: 0.05653168035981556\n",
            "save model\n",
            "/content/gdrive/MyDrive/model_training/best_transformer_rooftype.pkl\n",
            "Training epoch: 43\n"
          ]
        },
        {
          "output_type": "stream",
          "name": "stderr",
          "text": [
            "/usr/local/lib/python3.7/dist-packages/torch/utils/data/dataloader.py:481: UserWarning: This DataLoader will create 4 worker processes in total. Our suggested max number of worker in current system is 2, which is smaller than what this DataLoader is going to create. Please be aware that excessive worker creation might get DataLoader running slow or even freeze, lower the worker number to avoid potential slowness/freeze if necessary.\n",
            "  cpuset_checked))\n"
          ]
        },
        {
          "output_type": "stream",
          "name": "stdout",
          "text": [
            "Epoch [44/100], Iter [5/24] Loss: 0.0430\n",
            "Epoch [44/100], Iter [10/24] Loss: 0.0396\n",
            "Epoch [44/100], Iter [15/24] Loss: 0.1074\n",
            "Epoch [44/100], Iter [20/24] Loss: 0.0551\n",
            "Confusion matrix:\n",
            "[[1940   58    2]\n",
            " [  53 1944    3]\n",
            " [   7    0 1993]]\n",
            "[2000 2000 2000]\n",
            "train Class Accuracy: [0.970,0.972,0.997]\n",
            "train Accuracy: 97.95\n",
            "train Loss: 0.053701158768186964\n",
            "save model\n",
            "/content/gdrive/MyDrive/model_training/best_transformer_rooftype.pkl\n",
            "Training epoch: 44\n"
          ]
        },
        {
          "output_type": "stream",
          "name": "stderr",
          "text": [
            "/usr/local/lib/python3.7/dist-packages/torch/utils/data/dataloader.py:481: UserWarning: This DataLoader will create 4 worker processes in total. Our suggested max number of worker in current system is 2, which is smaller than what this DataLoader is going to create. Please be aware that excessive worker creation might get DataLoader running slow or even freeze, lower the worker number to avoid potential slowness/freeze if necessary.\n",
            "  cpuset_checked))\n"
          ]
        },
        {
          "output_type": "stream",
          "name": "stdout",
          "text": [
            "Epoch [45/100], Iter [5/24] Loss: 0.0599\n",
            "Epoch [45/100], Iter [10/24] Loss: 0.0657\n",
            "Epoch [45/100], Iter [15/24] Loss: 0.0488\n",
            "Epoch [45/100], Iter [20/24] Loss: 0.0714\n",
            "Confusion matrix:\n",
            "[[1944   51    5]\n",
            " [  46 1952    2]\n",
            " [   4    3 1993]]\n",
            "[2000 2000 2000]\n",
            "train Class Accuracy: [0.972,0.976,0.997]\n",
            "train Accuracy: 98.15\n",
            "train Loss: 0.04657867201603949\n",
            "save model\n",
            "/content/gdrive/MyDrive/model_training/best_transformer_rooftype.pkl\n",
            "Training epoch: 45\n"
          ]
        },
        {
          "output_type": "stream",
          "name": "stderr",
          "text": [
            "/usr/local/lib/python3.7/dist-packages/torch/utils/data/dataloader.py:481: UserWarning: This DataLoader will create 4 worker processes in total. Our suggested max number of worker in current system is 2, which is smaller than what this DataLoader is going to create. Please be aware that excessive worker creation might get DataLoader running slow or even freeze, lower the worker number to avoid potential slowness/freeze if necessary.\n",
            "  cpuset_checked))\n"
          ]
        },
        {
          "output_type": "stream",
          "name": "stdout",
          "text": [
            "Epoch [46/100], Iter [5/24] Loss: 0.0369\n",
            "Epoch [46/100], Iter [10/24] Loss: 0.0737\n",
            "Epoch [46/100], Iter [15/24] Loss: 0.0762\n",
            "Epoch [46/100], Iter [20/24] Loss: 0.0521\n",
            "Confusion matrix:\n",
            "[[1950   48    2]\n",
            " [  58 1938    4]\n",
            " [   6    3 1991]]\n",
            "[2000 2000 2000]\n",
            "train Class Accuracy: [0.975,0.969,0.996]\n",
            "train Accuracy: 97.98333333333333\n",
            "train Loss: 0.050831506960093975\n",
            "save model\n",
            "/content/gdrive/MyDrive/model_training/best_transformer_rooftype.pkl\n",
            "Training epoch: 46\n"
          ]
        },
        {
          "output_type": "stream",
          "name": "stderr",
          "text": [
            "/usr/local/lib/python3.7/dist-packages/torch/utils/data/dataloader.py:481: UserWarning: This DataLoader will create 4 worker processes in total. Our suggested max number of worker in current system is 2, which is smaller than what this DataLoader is going to create. Please be aware that excessive worker creation might get DataLoader running slow or even freeze, lower the worker number to avoid potential slowness/freeze if necessary.\n",
            "  cpuset_checked))\n"
          ]
        },
        {
          "output_type": "stream",
          "name": "stdout",
          "text": [
            "Epoch [47/100], Iter [5/24] Loss: 0.0468\n",
            "Epoch [47/100], Iter [10/24] Loss: 0.0468\n",
            "Epoch [47/100], Iter [15/24] Loss: 0.0565\n",
            "Epoch [47/100], Iter [20/24] Loss: 0.0841\n",
            "Confusion matrix:\n",
            "[[1945   54    1]\n",
            " [  49 1945    6]\n",
            " [   1    5 1994]]\n",
            "[2000 2000 2000]\n",
            "train Class Accuracy: [0.973,0.973,0.997]\n",
            "train Accuracy: 98.06666666666666\n",
            "train Loss: 0.0461971724871546\n",
            "save model\n",
            "/content/gdrive/MyDrive/model_training/best_transformer_rooftype.pkl\n",
            "Training epoch: 47\n"
          ]
        },
        {
          "output_type": "stream",
          "name": "stderr",
          "text": [
            "/usr/local/lib/python3.7/dist-packages/torch/utils/data/dataloader.py:481: UserWarning: This DataLoader will create 4 worker processes in total. Our suggested max number of worker in current system is 2, which is smaller than what this DataLoader is going to create. Please be aware that excessive worker creation might get DataLoader running slow or even freeze, lower the worker number to avoid potential slowness/freeze if necessary.\n",
            "  cpuset_checked))\n"
          ]
        },
        {
          "output_type": "stream",
          "name": "stdout",
          "text": [
            "Epoch [48/100], Iter [5/24] Loss: 0.0329\n",
            "Epoch [48/100], Iter [10/24] Loss: 0.0611\n",
            "Epoch [48/100], Iter [15/24] Loss: 0.0331\n",
            "Epoch [48/100], Iter [20/24] Loss: 0.0459\n",
            "Confusion matrix:\n",
            "[[1952   47    1]\n",
            " [  56 1938    6]\n",
            " [   2    5 1993]]\n",
            "[2000 2000 2000]\n",
            "train Class Accuracy: [0.976,0.969,0.997]\n",
            "train Accuracy: 98.05\n",
            "train Loss: 0.04451676124396423\n",
            "save model\n",
            "/content/gdrive/MyDrive/model_training/best_transformer_rooftype.pkl\n",
            "Training epoch: 48\n"
          ]
        },
        {
          "output_type": "stream",
          "name": "stderr",
          "text": [
            "/usr/local/lib/python3.7/dist-packages/torch/utils/data/dataloader.py:481: UserWarning: This DataLoader will create 4 worker processes in total. Our suggested max number of worker in current system is 2, which is smaller than what this DataLoader is going to create. Please be aware that excessive worker creation might get DataLoader running slow or even freeze, lower the worker number to avoid potential slowness/freeze if necessary.\n",
            "  cpuset_checked))\n"
          ]
        },
        {
          "output_type": "stream",
          "name": "stdout",
          "text": [
            "Epoch [49/100], Iter [5/24] Loss: 0.0490\n",
            "Epoch [49/100], Iter [10/24] Loss: 0.0585\n",
            "Epoch [49/100], Iter [15/24] Loss: 0.0493\n",
            "Epoch [49/100], Iter [20/24] Loss: 0.0458\n",
            "Confusion matrix:\n",
            "[[1952   48    0]\n",
            " [  38 1957    5]\n",
            " [   3    3 1994]]\n",
            "[2000 2000 2000]\n",
            "train Class Accuracy: [0.976,0.979,0.997]\n",
            "train Accuracy: 98.38333333333334\n",
            "train Loss: 0.048837612848728895\n",
            "save model\n",
            "/content/gdrive/MyDrive/model_training/best_transformer_rooftype.pkl\n",
            "Training epoch: 49\n"
          ]
        },
        {
          "output_type": "stream",
          "name": "stderr",
          "text": [
            "/usr/local/lib/python3.7/dist-packages/torch/utils/data/dataloader.py:481: UserWarning: This DataLoader will create 4 worker processes in total. Our suggested max number of worker in current system is 2, which is smaller than what this DataLoader is going to create. Please be aware that excessive worker creation might get DataLoader running slow or even freeze, lower the worker number to avoid potential slowness/freeze if necessary.\n",
            "  cpuset_checked))\n"
          ]
        },
        {
          "output_type": "stream",
          "name": "stdout",
          "text": [
            "Epoch [50/100], Iter [5/24] Loss: 0.0496\n",
            "Epoch [50/100], Iter [10/24] Loss: 0.0429\n",
            "Epoch [50/100], Iter [15/24] Loss: 0.0573\n",
            "Epoch [50/100], Iter [20/24] Loss: 0.0322\n",
            "Confusion matrix:\n",
            "[[1950   47    3]\n",
            " [  41 1957    2]\n",
            " [   5    3 1992]]\n",
            "[2000 2000 2000]\n",
            "train Class Accuracy: [0.975,0.979,0.996]\n",
            "train Accuracy: 98.31666666666666\n",
            "train Loss: 0.04444963585895797\n",
            "save model\n",
            "/content/gdrive/MyDrive/model_training/best_transformer_rooftype.pkl\n",
            "Training epoch: 50\n"
          ]
        },
        {
          "output_type": "stream",
          "name": "stderr",
          "text": [
            "/usr/local/lib/python3.7/dist-packages/torch/utils/data/dataloader.py:481: UserWarning: This DataLoader will create 4 worker processes in total. Our suggested max number of worker in current system is 2, which is smaller than what this DataLoader is going to create. Please be aware that excessive worker creation might get DataLoader running slow or even freeze, lower the worker number to avoid potential slowness/freeze if necessary.\n",
            "  cpuset_checked))\n"
          ]
        },
        {
          "output_type": "stream",
          "name": "stdout",
          "text": [
            "Epoch [51/100], Iter [5/24] Loss: 0.0368\n",
            "Epoch [51/100], Iter [10/24] Loss: 0.0506\n",
            "Epoch [51/100], Iter [15/24] Loss: 0.0242\n",
            "Epoch [51/100], Iter [20/24] Loss: 0.0352\n",
            "Confusion matrix:\n",
            "[[1961   39    0]\n",
            " [  43 1955    2]\n",
            " [   0    1 1999]]\n",
            "[2000 2000 2000]\n",
            "train Class Accuracy: [0.981,0.978,1.000]\n",
            "train Accuracy: 98.58333333333333\n",
            "train Loss: 0.03893108728031317\n",
            "save model\n",
            "/content/gdrive/MyDrive/model_training/best_transformer_rooftype.pkl\n",
            "Training epoch: 51\n"
          ]
        },
        {
          "output_type": "stream",
          "name": "stderr",
          "text": [
            "/usr/local/lib/python3.7/dist-packages/torch/utils/data/dataloader.py:481: UserWarning: This DataLoader will create 4 worker processes in total. Our suggested max number of worker in current system is 2, which is smaller than what this DataLoader is going to create. Please be aware that excessive worker creation might get DataLoader running slow or even freeze, lower the worker number to avoid potential slowness/freeze if necessary.\n",
            "  cpuset_checked))\n"
          ]
        },
        {
          "output_type": "stream",
          "name": "stdout",
          "text": [
            "Epoch [52/100], Iter [5/24] Loss: 0.0380\n",
            "Epoch [52/100], Iter [10/24] Loss: 0.0334\n",
            "Epoch [52/100], Iter [15/24] Loss: 0.0716\n",
            "Epoch [52/100], Iter [20/24] Loss: 0.0354\n",
            "Confusion matrix:\n",
            "[[1950   46    4]\n",
            " [  51 1948    1]\n",
            " [   2    2 1996]]\n",
            "[2000 2000 2000]\n",
            "train Class Accuracy: [0.975,0.974,0.998]\n",
            "train Accuracy: 98.23333333333333\n",
            "train Loss: 0.044922524287054934\n",
            "save model\n",
            "/content/gdrive/MyDrive/model_training/best_transformer_rooftype.pkl\n",
            "Training epoch: 52\n"
          ]
        },
        {
          "output_type": "stream",
          "name": "stderr",
          "text": [
            "/usr/local/lib/python3.7/dist-packages/torch/utils/data/dataloader.py:481: UserWarning: This DataLoader will create 4 worker processes in total. Our suggested max number of worker in current system is 2, which is smaller than what this DataLoader is going to create. Please be aware that excessive worker creation might get DataLoader running slow or even freeze, lower the worker number to avoid potential slowness/freeze if necessary.\n",
            "  cpuset_checked))\n"
          ]
        },
        {
          "output_type": "stream",
          "name": "stdout",
          "text": [
            "Epoch [53/100], Iter [5/24] Loss: 0.0190\n",
            "Epoch [53/100], Iter [10/24] Loss: 0.0408\n",
            "Epoch [53/100], Iter [15/24] Loss: 0.0481\n",
            "Epoch [53/100], Iter [20/24] Loss: 0.0384\n",
            "Confusion matrix:\n",
            "[[1952   45    3]\n",
            " [  33 1965    2]\n",
            " [   7    2 1991]]\n",
            "[2000 2000 2000]\n",
            "train Class Accuracy: [0.976,0.983,0.996]\n",
            "train Accuracy: 98.46666666666667\n",
            "train Loss: 0.041445434015865125\n",
            "save model\n",
            "/content/gdrive/MyDrive/model_training/best_transformer_rooftype.pkl\n",
            "Training epoch: 53\n"
          ]
        },
        {
          "output_type": "stream",
          "name": "stderr",
          "text": [
            "/usr/local/lib/python3.7/dist-packages/torch/utils/data/dataloader.py:481: UserWarning: This DataLoader will create 4 worker processes in total. Our suggested max number of worker in current system is 2, which is smaller than what this DataLoader is going to create. Please be aware that excessive worker creation might get DataLoader running slow or even freeze, lower the worker number to avoid potential slowness/freeze if necessary.\n",
            "  cpuset_checked))\n"
          ]
        },
        {
          "output_type": "stream",
          "name": "stdout",
          "text": [
            "Epoch [54/100], Iter [5/24] Loss: 0.0665\n",
            "Epoch [54/100], Iter [10/24] Loss: 0.0419\n",
            "Epoch [54/100], Iter [15/24] Loss: 0.0188\n",
            "Epoch [54/100], Iter [20/24] Loss: 0.0500\n",
            "Confusion matrix:\n",
            "[[1956   44    0]\n",
            " [  35 1962    3]\n",
            " [   5    2 1993]]\n",
            "[2000 2000 2000]\n",
            "train Class Accuracy: [0.978,0.981,0.997]\n",
            "train Accuracy: 98.51666666666667\n",
            "train Loss: 0.036266105249524117\n",
            "save model\n",
            "/content/gdrive/MyDrive/model_training/best_transformer_rooftype.pkl\n",
            "Training epoch: 54\n"
          ]
        },
        {
          "output_type": "stream",
          "name": "stderr",
          "text": [
            "/usr/local/lib/python3.7/dist-packages/torch/utils/data/dataloader.py:481: UserWarning: This DataLoader will create 4 worker processes in total. Our suggested max number of worker in current system is 2, which is smaller than what this DataLoader is going to create. Please be aware that excessive worker creation might get DataLoader running slow or even freeze, lower the worker number to avoid potential slowness/freeze if necessary.\n",
            "  cpuset_checked))\n"
          ]
        },
        {
          "output_type": "stream",
          "name": "stdout",
          "text": [
            "Epoch [55/100], Iter [5/24] Loss: 0.0282\n",
            "Epoch [55/100], Iter [10/24] Loss: 0.0214\n",
            "Epoch [55/100], Iter [15/24] Loss: 0.0286\n",
            "Epoch [55/100], Iter [20/24] Loss: 0.0591\n",
            "Confusion matrix:\n",
            "[[1969   29    2]\n",
            " [  37 1963    0]\n",
            " [   1    4 1995]]\n",
            "[2000 2000 2000]\n",
            "train Class Accuracy: [0.985,0.982,0.998]\n",
            "train Accuracy: 98.78333333333333\n",
            "train Loss: 0.034958856219115354\n",
            "save model\n",
            "/content/gdrive/MyDrive/model_training/best_transformer_rooftype.pkl\n",
            "Training epoch: 55\n"
          ]
        },
        {
          "output_type": "stream",
          "name": "stderr",
          "text": [
            "/usr/local/lib/python3.7/dist-packages/torch/utils/data/dataloader.py:481: UserWarning: This DataLoader will create 4 worker processes in total. Our suggested max number of worker in current system is 2, which is smaller than what this DataLoader is going to create. Please be aware that excessive worker creation might get DataLoader running slow or even freeze, lower the worker number to avoid potential slowness/freeze if necessary.\n",
            "  cpuset_checked))\n"
          ]
        },
        {
          "output_type": "stream",
          "name": "stdout",
          "text": [
            "Epoch [56/100], Iter [5/24] Loss: 0.0273\n",
            "Epoch [56/100], Iter [10/24] Loss: 0.0530\n",
            "Epoch [56/100], Iter [15/24] Loss: 0.0274\n",
            "Epoch [56/100], Iter [20/24] Loss: 0.0163\n",
            "Confusion matrix:\n",
            "[[1957   40    3]\n",
            " [  23 1972    5]\n",
            " [   3    2 1995]]\n",
            "[2000 2000 2000]\n",
            "train Class Accuracy: [0.979,0.986,0.998]\n",
            "train Accuracy: 98.73333333333333\n",
            "train Loss: 0.0331550002641355\n",
            "save model\n",
            "/content/gdrive/MyDrive/model_training/best_transformer_rooftype.pkl\n",
            "Training epoch: 56\n"
          ]
        },
        {
          "output_type": "stream",
          "name": "stderr",
          "text": [
            "/usr/local/lib/python3.7/dist-packages/torch/utils/data/dataloader.py:481: UserWarning: This DataLoader will create 4 worker processes in total. Our suggested max number of worker in current system is 2, which is smaller than what this DataLoader is going to create. Please be aware that excessive worker creation might get DataLoader running slow or even freeze, lower the worker number to avoid potential slowness/freeze if necessary.\n",
            "  cpuset_checked))\n"
          ]
        },
        {
          "output_type": "stream",
          "name": "stdout",
          "text": [
            "Epoch [57/100], Iter [5/24] Loss: 0.0197\n",
            "Epoch [57/100], Iter [10/24] Loss: 0.0199\n",
            "Epoch [57/100], Iter [15/24] Loss: 0.0349\n",
            "Epoch [57/100], Iter [20/24] Loss: 0.0255\n",
            "Confusion matrix:\n",
            "[[1969   27    4]\n",
            " [  42 1957    1]\n",
            " [   2    1 1997]]\n",
            "[2000 2000 2000]\n",
            "train Class Accuracy: [0.985,0.979,0.999]\n",
            "train Accuracy: 98.71666666666667\n",
            "train Loss: 0.03425489703658968\n",
            "save model\n",
            "/content/gdrive/MyDrive/model_training/best_transformer_rooftype.pkl\n",
            "Training epoch: 57\n"
          ]
        },
        {
          "output_type": "stream",
          "name": "stderr",
          "text": [
            "/usr/local/lib/python3.7/dist-packages/torch/utils/data/dataloader.py:481: UserWarning: This DataLoader will create 4 worker processes in total. Our suggested max number of worker in current system is 2, which is smaller than what this DataLoader is going to create. Please be aware that excessive worker creation might get DataLoader running slow or even freeze, lower the worker number to avoid potential slowness/freeze if necessary.\n",
            "  cpuset_checked))\n"
          ]
        },
        {
          "output_type": "stream",
          "name": "stdout",
          "text": [
            "Epoch [58/100], Iter [5/24] Loss: 0.0396\n",
            "Epoch [58/100], Iter [10/24] Loss: 0.0360\n",
            "Epoch [58/100], Iter [15/24] Loss: 0.0192\n",
            "Epoch [58/100], Iter [20/24] Loss: 0.0331\n",
            "Confusion matrix:\n",
            "[[1964   35    1]\n",
            " [  31 1968    1]\n",
            " [   2    3 1995]]\n",
            "[2000 2000 2000]\n",
            "train Class Accuracy: [0.982,0.984,0.998]\n",
            "train Accuracy: 98.78333333333333\n",
            "train Loss: 0.033475471970935665\n",
            "save model\n",
            "/content/gdrive/MyDrive/model_training/best_transformer_rooftype.pkl\n",
            "Training epoch: 58\n"
          ]
        },
        {
          "output_type": "stream",
          "name": "stderr",
          "text": [
            "/usr/local/lib/python3.7/dist-packages/torch/utils/data/dataloader.py:481: UserWarning: This DataLoader will create 4 worker processes in total. Our suggested max number of worker in current system is 2, which is smaller than what this DataLoader is going to create. Please be aware that excessive worker creation might get DataLoader running slow or even freeze, lower the worker number to avoid potential slowness/freeze if necessary.\n",
            "  cpuset_checked))\n"
          ]
        },
        {
          "output_type": "stream",
          "name": "stdout",
          "text": [
            "Epoch [59/100], Iter [5/24] Loss: 0.0291\n",
            "Epoch [59/100], Iter [10/24] Loss: 0.0221\n",
            "Epoch [59/100], Iter [15/24] Loss: 0.0443\n",
            "Epoch [59/100], Iter [20/24] Loss: 0.0216\n",
            "Confusion matrix:\n",
            "[[1971   28    1]\n",
            " [  32 1965    3]\n",
            " [   2    5 1993]]\n",
            "[2000 2000 2000]\n",
            "train Class Accuracy: [0.986,0.983,0.997]\n",
            "train Accuracy: 98.81666666666666\n",
            "train Loss: 0.030995427436816197\n",
            "save model\n",
            "/content/gdrive/MyDrive/model_training/best_transformer_rooftype.pkl\n",
            "Training epoch: 59\n"
          ]
        },
        {
          "output_type": "stream",
          "name": "stderr",
          "text": [
            "/usr/local/lib/python3.7/dist-packages/torch/utils/data/dataloader.py:481: UserWarning: This DataLoader will create 4 worker processes in total. Our suggested max number of worker in current system is 2, which is smaller than what this DataLoader is going to create. Please be aware that excessive worker creation might get DataLoader running slow or even freeze, lower the worker number to avoid potential slowness/freeze if necessary.\n",
            "  cpuset_checked))\n"
          ]
        },
        {
          "output_type": "stream",
          "name": "stdout",
          "text": [
            "Epoch [60/100], Iter [5/24] Loss: 0.0352\n",
            "Epoch [60/100], Iter [10/24] Loss: 0.0378\n",
            "Epoch [60/100], Iter [15/24] Loss: 0.0252\n",
            "Epoch [60/100], Iter [20/24] Loss: 0.0252\n",
            "Confusion matrix:\n",
            "[[1968   29    3]\n",
            " [  35 1964    1]\n",
            " [   1    2 1997]]\n",
            "[2000 2000 2000]\n",
            "train Class Accuracy: [0.984,0.982,0.999]\n",
            "train Accuracy: 98.81666666666666\n",
            "train Loss: 0.03158088649312655\n",
            "save model\n",
            "/content/gdrive/MyDrive/model_training/best_transformer_rooftype.pkl\n",
            "Training epoch: 60\n"
          ]
        },
        {
          "output_type": "stream",
          "name": "stderr",
          "text": [
            "/usr/local/lib/python3.7/dist-packages/torch/utils/data/dataloader.py:481: UserWarning: This DataLoader will create 4 worker processes in total. Our suggested max number of worker in current system is 2, which is smaller than what this DataLoader is going to create. Please be aware that excessive worker creation might get DataLoader running slow or even freeze, lower the worker number to avoid potential slowness/freeze if necessary.\n",
            "  cpuset_checked))\n"
          ]
        },
        {
          "output_type": "stream",
          "name": "stdout",
          "text": [
            "Epoch [61/100], Iter [5/24] Loss: 0.0302\n",
            "Epoch [61/100], Iter [10/24] Loss: 0.0310\n",
            "Epoch [61/100], Iter [15/24] Loss: 0.0234\n",
            "Epoch [61/100], Iter [20/24] Loss: 0.0525\n",
            "Confusion matrix:\n",
            "[[1968   32    0]\n",
            " [  29 1967    4]\n",
            " [   3    1 1996]]\n",
            "[2000 2000 2000]\n",
            "train Class Accuracy: [0.984,0.984,0.998]\n",
            "train Accuracy: 98.85\n",
            "train Loss: 0.028973938548006117\n",
            "save model\n",
            "/content/gdrive/MyDrive/model_training/best_transformer_rooftype.pkl\n",
            "Training epoch: 61\n"
          ]
        },
        {
          "output_type": "stream",
          "name": "stderr",
          "text": [
            "/usr/local/lib/python3.7/dist-packages/torch/utils/data/dataloader.py:481: UserWarning: This DataLoader will create 4 worker processes in total. Our suggested max number of worker in current system is 2, which is smaller than what this DataLoader is going to create. Please be aware that excessive worker creation might get DataLoader running slow or even freeze, lower the worker number to avoid potential slowness/freeze if necessary.\n",
            "  cpuset_checked))\n"
          ]
        },
        {
          "output_type": "stream",
          "name": "stdout",
          "text": [
            "Epoch [62/100], Iter [5/24] Loss: 0.0268\n",
            "Epoch [62/100], Iter [10/24] Loss: 0.0245\n",
            "Epoch [62/100], Iter [15/24] Loss: 0.0393\n",
            "Epoch [62/100], Iter [20/24] Loss: 0.0329\n",
            "Confusion matrix:\n",
            "[[1968   31    1]\n",
            " [  41 1953    6]\n",
            " [   1    3 1996]]\n",
            "[2000 2000 2000]\n",
            "train Class Accuracy: [0.984,0.977,0.998]\n",
            "train Accuracy: 98.61666666666666\n",
            "train Loss: 0.03279525631417831\n",
            "save model\n",
            "/content/gdrive/MyDrive/model_training/best_transformer_rooftype.pkl\n",
            "Training epoch: 62\n"
          ]
        },
        {
          "output_type": "stream",
          "name": "stderr",
          "text": [
            "/usr/local/lib/python3.7/dist-packages/torch/utils/data/dataloader.py:481: UserWarning: This DataLoader will create 4 worker processes in total. Our suggested max number of worker in current system is 2, which is smaller than what this DataLoader is going to create. Please be aware that excessive worker creation might get DataLoader running slow or even freeze, lower the worker number to avoid potential slowness/freeze if necessary.\n",
            "  cpuset_checked))\n"
          ]
        },
        {
          "output_type": "stream",
          "name": "stdout",
          "text": [
            "Epoch [63/100], Iter [5/24] Loss: 0.0159\n",
            "Epoch [63/100], Iter [10/24] Loss: 0.0467\n",
            "Epoch [63/100], Iter [15/24] Loss: 0.0299\n",
            "Epoch [63/100], Iter [20/24] Loss: 0.0296\n",
            "Confusion matrix:\n",
            "[[1976   21    3]\n",
            " [  23 1975    2]\n",
            " [   1    2 1997]]\n",
            "[2000 2000 2000]\n",
            "train Class Accuracy: [0.988,0.988,0.999]\n",
            "train Accuracy: 99.13333333333334\n",
            "train Loss: 0.023834655740453552\n",
            "save model\n",
            "/content/gdrive/MyDrive/model_training/best_transformer_rooftype.pkl\n",
            "Training epoch: 63\n"
          ]
        },
        {
          "output_type": "stream",
          "name": "stderr",
          "text": [
            "/usr/local/lib/python3.7/dist-packages/torch/utils/data/dataloader.py:481: UserWarning: This DataLoader will create 4 worker processes in total. Our suggested max number of worker in current system is 2, which is smaller than what this DataLoader is going to create. Please be aware that excessive worker creation might get DataLoader running slow or even freeze, lower the worker number to avoid potential slowness/freeze if necessary.\n",
            "  cpuset_checked))\n"
          ]
        },
        {
          "output_type": "stream",
          "name": "stdout",
          "text": [
            "Epoch [64/100], Iter [5/24] Loss: 0.0287\n",
            "Epoch [64/100], Iter [10/24] Loss: 0.0312\n",
            "Epoch [64/100], Iter [15/24] Loss: 0.0220\n",
            "Epoch [64/100], Iter [20/24] Loss: 0.0306\n",
            "Confusion matrix:\n",
            "[[1979   20    1]\n",
            " [  22 1978    0]\n",
            " [   4    1 1995]]\n",
            "[2000 2000 2000]\n",
            "train Class Accuracy: [0.990,0.989,0.998]\n",
            "train Accuracy: 99.2\n",
            "train Loss: 0.02426347869914025\n",
            "save model\n",
            "/content/gdrive/MyDrive/model_training/best_transformer_rooftype.pkl\n",
            "Training epoch: 64\n"
          ]
        },
        {
          "output_type": "stream",
          "name": "stderr",
          "text": [
            "/usr/local/lib/python3.7/dist-packages/torch/utils/data/dataloader.py:481: UserWarning: This DataLoader will create 4 worker processes in total. Our suggested max number of worker in current system is 2, which is smaller than what this DataLoader is going to create. Please be aware that excessive worker creation might get DataLoader running slow or even freeze, lower the worker number to avoid potential slowness/freeze if necessary.\n",
            "  cpuset_checked))\n"
          ]
        },
        {
          "output_type": "stream",
          "name": "stdout",
          "text": [
            "Epoch [65/100], Iter [5/24] Loss: 0.0259\n",
            "Epoch [65/100], Iter [10/24] Loss: 0.0400\n",
            "Epoch [65/100], Iter [15/24] Loss: 0.0217\n",
            "Epoch [65/100], Iter [20/24] Loss: 0.0271\n",
            "Confusion matrix:\n",
            "[[1975   22    3]\n",
            " [  26 1972    2]\n",
            " [   2    2 1996]]\n",
            "[2000 2000 2000]\n",
            "train Class Accuracy: [0.988,0.986,0.998]\n",
            "train Accuracy: 99.05\n",
            "train Loss: 0.027566683284627896\n",
            "save model\n",
            "/content/gdrive/MyDrive/model_training/best_transformer_rooftype.pkl\n",
            "Training epoch: 65\n"
          ]
        },
        {
          "output_type": "stream",
          "name": "stderr",
          "text": [
            "/usr/local/lib/python3.7/dist-packages/torch/utils/data/dataloader.py:481: UserWarning: This DataLoader will create 4 worker processes in total. Our suggested max number of worker in current system is 2, which is smaller than what this DataLoader is going to create. Please be aware that excessive worker creation might get DataLoader running slow or even freeze, lower the worker number to avoid potential slowness/freeze if necessary.\n",
            "  cpuset_checked))\n"
          ]
        },
        {
          "output_type": "stream",
          "name": "stdout",
          "text": [
            "Epoch [66/100], Iter [5/24] Loss: 0.0169\n",
            "Epoch [66/100], Iter [10/24] Loss: 0.0320\n",
            "Epoch [66/100], Iter [15/24] Loss: 0.0185\n",
            "Epoch [66/100], Iter [20/24] Loss: 0.0292\n",
            "Confusion matrix:\n",
            "[[1976   24    0]\n",
            " [  28 1969    3]\n",
            " [   2    2 1996]]\n",
            "[2000 2000 2000]\n",
            "train Class Accuracy: [0.988,0.985,0.998]\n",
            "train Accuracy: 99.01666666666667\n",
            "train Loss: 0.029966528993099928\n",
            "save model\n",
            "/content/gdrive/MyDrive/model_training/best_transformer_rooftype.pkl\n",
            "Training epoch: 66\n"
          ]
        },
        {
          "output_type": "stream",
          "name": "stderr",
          "text": [
            "/usr/local/lib/python3.7/dist-packages/torch/utils/data/dataloader.py:481: UserWarning: This DataLoader will create 4 worker processes in total. Our suggested max number of worker in current system is 2, which is smaller than what this DataLoader is going to create. Please be aware that excessive worker creation might get DataLoader running slow or even freeze, lower the worker number to avoid potential slowness/freeze if necessary.\n",
            "  cpuset_checked))\n"
          ]
        },
        {
          "output_type": "stream",
          "name": "stdout",
          "text": [
            "Epoch [67/100], Iter [5/24] Loss: 0.0481\n",
            "Epoch [67/100], Iter [10/24] Loss: 0.0329\n",
            "Epoch [67/100], Iter [15/24] Loss: 0.0351\n",
            "Epoch [67/100], Iter [20/24] Loss: 0.0464\n",
            "Confusion matrix:\n",
            "[[1958   42    0]\n",
            " [  19 1979    2]\n",
            " [   0    4 1996]]\n",
            "[2000 2000 2000]\n",
            "train Class Accuracy: [0.979,0.990,0.998]\n",
            "train Accuracy: 98.88333333333334\n",
            "train Loss: 0.032103749884602927\n",
            "save model\n",
            "/content/gdrive/MyDrive/model_training/best_transformer_rooftype.pkl\n",
            "Training epoch: 67\n"
          ]
        },
        {
          "output_type": "stream",
          "name": "stderr",
          "text": [
            "/usr/local/lib/python3.7/dist-packages/torch/utils/data/dataloader.py:481: UserWarning: This DataLoader will create 4 worker processes in total. Our suggested max number of worker in current system is 2, which is smaller than what this DataLoader is going to create. Please be aware that excessive worker creation might get DataLoader running slow or even freeze, lower the worker number to avoid potential slowness/freeze if necessary.\n",
            "  cpuset_checked))\n"
          ]
        },
        {
          "output_type": "stream",
          "name": "stdout",
          "text": [
            "Epoch [68/100], Iter [5/24] Loss: 0.0177\n",
            "Epoch [68/100], Iter [10/24] Loss: 0.0159\n",
            "Epoch [68/100], Iter [15/24] Loss: 0.0353\n",
            "Epoch [68/100], Iter [20/24] Loss: 0.0155\n",
            "Confusion matrix:\n",
            "[[1974   25    1]\n",
            " [  39 1960    1]\n",
            " [   1    1 1998]]\n",
            "[2000 2000 2000]\n",
            "train Class Accuracy: [0.987,0.980,0.999]\n",
            "train Accuracy: 98.86666666666666\n",
            "train Loss: 0.029124791190649073\n",
            "save model\n",
            "/content/gdrive/MyDrive/model_training/best_transformer_rooftype.pkl\n",
            "Training epoch: 68\n"
          ]
        },
        {
          "output_type": "stream",
          "name": "stderr",
          "text": [
            "/usr/local/lib/python3.7/dist-packages/torch/utils/data/dataloader.py:481: UserWarning: This DataLoader will create 4 worker processes in total. Our suggested max number of worker in current system is 2, which is smaller than what this DataLoader is going to create. Please be aware that excessive worker creation might get DataLoader running slow or even freeze, lower the worker number to avoid potential slowness/freeze if necessary.\n",
            "  cpuset_checked))\n"
          ]
        },
        {
          "output_type": "stream",
          "name": "stdout",
          "text": [
            "Epoch [69/100], Iter [5/24] Loss: 0.0295\n",
            "Epoch [69/100], Iter [10/24] Loss: 0.0300\n",
            "Epoch [69/100], Iter [15/24] Loss: 0.0261\n",
            "Epoch [69/100], Iter [20/24] Loss: 0.0240\n",
            "Confusion matrix:\n",
            "[[1971   28    1]\n",
            " [  20 1978    2]\n",
            " [   1    1 1998]]\n",
            "[2000 2000 2000]\n",
            "train Class Accuracy: [0.986,0.989,0.999]\n",
            "train Accuracy: 99.11666666666666\n",
            "train Loss: 0.02568990911822766\n",
            "save model\n",
            "/content/gdrive/MyDrive/model_training/best_transformer_rooftype.pkl\n",
            "Training epoch: 69\n"
          ]
        },
        {
          "output_type": "stream",
          "name": "stderr",
          "text": [
            "/usr/local/lib/python3.7/dist-packages/torch/utils/data/dataloader.py:481: UserWarning: This DataLoader will create 4 worker processes in total. Our suggested max number of worker in current system is 2, which is smaller than what this DataLoader is going to create. Please be aware that excessive worker creation might get DataLoader running slow or even freeze, lower the worker number to avoid potential slowness/freeze if necessary.\n",
            "  cpuset_checked))\n"
          ]
        },
        {
          "output_type": "stream",
          "name": "stdout",
          "text": [
            "Epoch [70/100], Iter [5/24] Loss: 0.0476\n",
            "Epoch [70/100], Iter [10/24] Loss: 0.0156\n",
            "Epoch [70/100], Iter [15/24] Loss: 0.0330\n",
            "Epoch [70/100], Iter [20/24] Loss: 0.0159\n",
            "Confusion matrix:\n",
            "[[1975   23    2]\n",
            " [  33 1967    0]\n",
            " [   4    0 1996]]\n",
            "[2000 2000 2000]\n",
            "train Class Accuracy: [0.988,0.984,0.998]\n",
            "train Accuracy: 98.96666666666667\n",
            "train Loss: 0.026725645215871435\n",
            "save model\n",
            "/content/gdrive/MyDrive/model_training/best_transformer_rooftype.pkl\n",
            "Training epoch: 70\n"
          ]
        },
        {
          "output_type": "stream",
          "name": "stderr",
          "text": [
            "/usr/local/lib/python3.7/dist-packages/torch/utils/data/dataloader.py:481: UserWarning: This DataLoader will create 4 worker processes in total. Our suggested max number of worker in current system is 2, which is smaller than what this DataLoader is going to create. Please be aware that excessive worker creation might get DataLoader running slow or even freeze, lower the worker number to avoid potential slowness/freeze if necessary.\n",
            "  cpuset_checked))\n"
          ]
        },
        {
          "output_type": "stream",
          "name": "stdout",
          "text": [
            "Epoch [71/100], Iter [5/24] Loss: 0.0286\n",
            "Epoch [71/100], Iter [10/24] Loss: 0.0312\n",
            "Epoch [71/100], Iter [15/24] Loss: 0.0161\n",
            "Epoch [71/100], Iter [20/24] Loss: 0.0167\n",
            "Confusion matrix:\n",
            "[[1972   27    1]\n",
            " [  24 1976    0]\n",
            " [   1    1 1998]]\n",
            "[2000 2000 2000]\n",
            "train Class Accuracy: [0.986,0.988,0.999]\n",
            "train Accuracy: 99.1\n",
            "train Loss: 0.02304362424183637\n",
            "save model\n",
            "/content/gdrive/MyDrive/model_training/best_transformer_rooftype.pkl\n",
            "Training epoch: 71\n"
          ]
        },
        {
          "output_type": "stream",
          "name": "stderr",
          "text": [
            "/usr/local/lib/python3.7/dist-packages/torch/utils/data/dataloader.py:481: UserWarning: This DataLoader will create 4 worker processes in total. Our suggested max number of worker in current system is 2, which is smaller than what this DataLoader is going to create. Please be aware that excessive worker creation might get DataLoader running slow or even freeze, lower the worker number to avoid potential slowness/freeze if necessary.\n",
            "  cpuset_checked))\n"
          ]
        },
        {
          "output_type": "stream",
          "name": "stdout",
          "text": [
            "Epoch [72/100], Iter [5/24] Loss: 0.0169\n",
            "Epoch [72/100], Iter [10/24] Loss: 0.0370\n",
            "Epoch [72/100], Iter [15/24] Loss: 0.0344\n",
            "Epoch [72/100], Iter [20/24] Loss: 0.0121\n",
            "Confusion matrix:\n",
            "[[1974   26    0]\n",
            " [  28 1971    1]\n",
            " [   0    0 2000]]\n",
            "[2000 2000 2000]\n",
            "train Class Accuracy: [0.987,0.986,1.000]\n",
            "train Accuracy: 99.08333333333333\n",
            "train Loss: 0.025478935160208493\n",
            "save model\n",
            "/content/gdrive/MyDrive/model_training/best_transformer_rooftype.pkl\n",
            "Training epoch: 72\n"
          ]
        },
        {
          "output_type": "stream",
          "name": "stderr",
          "text": [
            "/usr/local/lib/python3.7/dist-packages/torch/utils/data/dataloader.py:481: UserWarning: This DataLoader will create 4 worker processes in total. Our suggested max number of worker in current system is 2, which is smaller than what this DataLoader is going to create. Please be aware that excessive worker creation might get DataLoader running slow or even freeze, lower the worker number to avoid potential slowness/freeze if necessary.\n",
            "  cpuset_checked))\n"
          ]
        },
        {
          "output_type": "stream",
          "name": "stdout",
          "text": [
            "Epoch [73/100], Iter [5/24] Loss: 0.0145\n",
            "Epoch [73/100], Iter [10/24] Loss: 0.0134\n",
            "Epoch [73/100], Iter [15/24] Loss: 0.0264\n",
            "Epoch [73/100], Iter [20/24] Loss: 0.0197\n",
            "Confusion matrix:\n",
            "[[1989    9    2]\n",
            " [  17 1982    1]\n",
            " [   1    1 1998]]\n",
            "[2000 2000 2000]\n",
            "train Class Accuracy: [0.995,0.991,0.999]\n",
            "train Accuracy: 99.48333333333333\n",
            "train Loss: 0.01674133204505779\n",
            "save model\n",
            "/content/gdrive/MyDrive/model_training/best_transformer_rooftype.pkl\n",
            "Training epoch: 73\n"
          ]
        },
        {
          "output_type": "stream",
          "name": "stderr",
          "text": [
            "/usr/local/lib/python3.7/dist-packages/torch/utils/data/dataloader.py:481: UserWarning: This DataLoader will create 4 worker processes in total. Our suggested max number of worker in current system is 2, which is smaller than what this DataLoader is going to create. Please be aware that excessive worker creation might get DataLoader running slow or even freeze, lower the worker number to avoid potential slowness/freeze if necessary.\n",
            "  cpuset_checked))\n"
          ]
        },
        {
          "output_type": "stream",
          "name": "stdout",
          "text": [
            "Epoch [74/100], Iter [5/24] Loss: 0.0089\n",
            "Epoch [74/100], Iter [10/24] Loss: 0.0168\n",
            "Epoch [74/100], Iter [15/24] Loss: 0.0067\n",
            "Epoch [74/100], Iter [20/24] Loss: 0.0426\n",
            "Confusion matrix:\n",
            "[[1983   15    2]\n",
            " [  12 1987    1]\n",
            " [   2    4 1994]]\n",
            "[2000 2000 2000]\n",
            "train Class Accuracy: [0.992,0.994,0.997]\n",
            "train Accuracy: 99.4\n",
            "train Loss: 0.018425406655296683\n",
            "save model\n",
            "/content/gdrive/MyDrive/model_training/best_transformer_rooftype.pkl\n",
            "Training epoch: 74\n"
          ]
        },
        {
          "output_type": "stream",
          "name": "stderr",
          "text": [
            "/usr/local/lib/python3.7/dist-packages/torch/utils/data/dataloader.py:481: UserWarning: This DataLoader will create 4 worker processes in total. Our suggested max number of worker in current system is 2, which is smaller than what this DataLoader is going to create. Please be aware that excessive worker creation might get DataLoader running slow or even freeze, lower the worker number to avoid potential slowness/freeze if necessary.\n",
            "  cpuset_checked))\n"
          ]
        },
        {
          "output_type": "stream",
          "name": "stdout",
          "text": [
            "Epoch [75/100], Iter [5/24] Loss: 0.0233\n",
            "Epoch [75/100], Iter [10/24] Loss: 0.0452\n",
            "Epoch [75/100], Iter [15/24] Loss: 0.0096\n",
            "Epoch [75/100], Iter [20/24] Loss: 0.0143\n",
            "Confusion matrix:\n",
            "[[1987   11    2]\n",
            " [  17 1981    2]\n",
            " [   1    1 1998]]\n",
            "[2000 2000 2000]\n",
            "train Class Accuracy: [0.994,0.991,0.999]\n",
            "train Accuracy: 99.43333333333334\n",
            "train Loss: 0.01719688655187686\n",
            "save model\n",
            "/content/gdrive/MyDrive/model_training/best_transformer_rooftype.pkl\n",
            "Training epoch: 75\n"
          ]
        },
        {
          "output_type": "stream",
          "name": "stderr",
          "text": [
            "/usr/local/lib/python3.7/dist-packages/torch/utils/data/dataloader.py:481: UserWarning: This DataLoader will create 4 worker processes in total. Our suggested max number of worker in current system is 2, which is smaller than what this DataLoader is going to create. Please be aware that excessive worker creation might get DataLoader running slow or even freeze, lower the worker number to avoid potential slowness/freeze if necessary.\n",
            "  cpuset_checked))\n"
          ]
        },
        {
          "output_type": "stream",
          "name": "stdout",
          "text": [
            "Epoch [76/100], Iter [5/24] Loss: 0.0214\n",
            "Epoch [76/100], Iter [10/24] Loss: 0.0123\n",
            "Epoch [76/100], Iter [15/24] Loss: 0.0464\n",
            "Epoch [76/100], Iter [20/24] Loss: 0.0163\n",
            "Confusion matrix:\n",
            "[[1983   16    1]\n",
            " [  17 1982    1]\n",
            " [   0    0 2000]]\n",
            "[2000 2000 2000]\n",
            "train Class Accuracy: [0.992,0.991,1.000]\n",
            "train Accuracy: 99.41666666666667\n",
            "train Loss: 0.02013800877224033\n",
            "save model\n",
            "/content/gdrive/MyDrive/model_training/best_transformer_rooftype.pkl\n",
            "Training epoch: 76\n"
          ]
        },
        {
          "output_type": "stream",
          "name": "stderr",
          "text": [
            "/usr/local/lib/python3.7/dist-packages/torch/utils/data/dataloader.py:481: UserWarning: This DataLoader will create 4 worker processes in total. Our suggested max number of worker in current system is 2, which is smaller than what this DataLoader is going to create. Please be aware that excessive worker creation might get DataLoader running slow or even freeze, lower the worker number to avoid potential slowness/freeze if necessary.\n",
            "  cpuset_checked))\n"
          ]
        },
        {
          "output_type": "stream",
          "name": "stdout",
          "text": [
            "Epoch [77/100], Iter [5/24] Loss: 0.0161\n",
            "Epoch [77/100], Iter [10/24] Loss: 0.0533\n",
            "Epoch [77/100], Iter [15/24] Loss: 0.0391\n",
            "Epoch [77/100], Iter [20/24] Loss: 0.0102\n",
            "Confusion matrix:\n",
            "[[1980   20    0]\n",
            " [  17 1980    3]\n",
            " [   0    2 1998]]\n",
            "[2000 2000 2000]\n",
            "train Class Accuracy: [0.990,0.990,0.999]\n",
            "train Accuracy: 99.3\n",
            "train Loss: 0.01978030362321685\n",
            "save model\n",
            "/content/gdrive/MyDrive/model_training/best_transformer_rooftype.pkl\n",
            "Training epoch: 77\n"
          ]
        },
        {
          "output_type": "stream",
          "name": "stderr",
          "text": [
            "/usr/local/lib/python3.7/dist-packages/torch/utils/data/dataloader.py:481: UserWarning: This DataLoader will create 4 worker processes in total. Our suggested max number of worker in current system is 2, which is smaller than what this DataLoader is going to create. Please be aware that excessive worker creation might get DataLoader running slow or even freeze, lower the worker number to avoid potential slowness/freeze if necessary.\n",
            "  cpuset_checked))\n"
          ]
        },
        {
          "output_type": "stream",
          "name": "stdout",
          "text": [
            "Epoch [78/100], Iter [5/24] Loss: 0.0175\n",
            "Epoch [78/100], Iter [10/24] Loss: 0.0117\n",
            "Epoch [78/100], Iter [15/24] Loss: 0.0134\n",
            "Epoch [78/100], Iter [20/24] Loss: 0.0087\n",
            "Confusion matrix:\n",
            "[[1988   12    0]\n",
            " [  18 1981    1]\n",
            " [   3    2 1995]]\n",
            "[2000 2000 2000]\n",
            "train Class Accuracy: [0.994,0.991,0.998]\n",
            "train Accuracy: 99.4\n",
            "train Loss: 0.016855370078701526\n",
            "save model\n",
            "/content/gdrive/MyDrive/model_training/best_transformer_rooftype.pkl\n",
            "Training epoch: 78\n"
          ]
        },
        {
          "output_type": "stream",
          "name": "stderr",
          "text": [
            "/usr/local/lib/python3.7/dist-packages/torch/utils/data/dataloader.py:481: UserWarning: This DataLoader will create 4 worker processes in total. Our suggested max number of worker in current system is 2, which is smaller than what this DataLoader is going to create. Please be aware that excessive worker creation might get DataLoader running slow or even freeze, lower the worker number to avoid potential slowness/freeze if necessary.\n",
            "  cpuset_checked))\n"
          ]
        },
        {
          "output_type": "stream",
          "name": "stdout",
          "text": [
            "Epoch [79/100], Iter [5/24] Loss: 0.0129\n",
            "Epoch [79/100], Iter [10/24] Loss: 0.0229\n",
            "Epoch [79/100], Iter [15/24] Loss: 0.0266\n",
            "Epoch [79/100], Iter [20/24] Loss: 0.0139\n",
            "Confusion matrix:\n",
            "[[1986   12    2]\n",
            " [  19 1981    0]\n",
            " [   1    3 1996]]\n",
            "[2000 2000 2000]\n",
            "train Class Accuracy: [0.993,0.991,0.998]\n",
            "train Accuracy: 99.38333333333334\n",
            "train Loss: 0.017092148812177282\n",
            "save model\n",
            "/content/gdrive/MyDrive/model_training/best_transformer_rooftype.pkl\n",
            "Training epoch: 79\n"
          ]
        },
        {
          "output_type": "stream",
          "name": "stderr",
          "text": [
            "/usr/local/lib/python3.7/dist-packages/torch/utils/data/dataloader.py:481: UserWarning: This DataLoader will create 4 worker processes in total. Our suggested max number of worker in current system is 2, which is smaller than what this DataLoader is going to create. Please be aware that excessive worker creation might get DataLoader running slow or even freeze, lower the worker number to avoid potential slowness/freeze if necessary.\n",
            "  cpuset_checked))\n"
          ]
        },
        {
          "output_type": "stream",
          "name": "stdout",
          "text": [
            "Epoch [80/100], Iter [5/24] Loss: 0.0167\n",
            "Epoch [80/100], Iter [10/24] Loss: 0.0187\n",
            "Epoch [80/100], Iter [15/24] Loss: 0.0095\n",
            "Epoch [80/100], Iter [20/24] Loss: 0.0050\n",
            "Confusion matrix:\n",
            "[[1981   18    1]\n",
            " [  16 1983    1]\n",
            " [   0    0 2000]]\n",
            "[2000 2000 2000]\n",
            "train Class Accuracy: [0.991,0.992,1.000]\n",
            "train Accuracy: 99.4\n",
            "train Loss: 0.01626562614304324\n",
            "save model\n",
            "/content/gdrive/MyDrive/model_training/best_transformer_rooftype.pkl\n",
            "Training epoch: 80\n"
          ]
        },
        {
          "output_type": "stream",
          "name": "stderr",
          "text": [
            "/usr/local/lib/python3.7/dist-packages/torch/utils/data/dataloader.py:481: UserWarning: This DataLoader will create 4 worker processes in total. Our suggested max number of worker in current system is 2, which is smaller than what this DataLoader is going to create. Please be aware that excessive worker creation might get DataLoader running slow or even freeze, lower the worker number to avoid potential slowness/freeze if necessary.\n",
            "  cpuset_checked))\n"
          ]
        },
        {
          "output_type": "stream",
          "name": "stdout",
          "text": [
            "Epoch [81/100], Iter [5/24] Loss: 0.0167\n",
            "Epoch [81/100], Iter [10/24] Loss: 0.0140\n",
            "Epoch [81/100], Iter [15/24] Loss: 0.0154\n",
            "Epoch [81/100], Iter [20/24] Loss: 0.0149\n",
            "Confusion matrix:\n",
            "[[1980   20    0]\n",
            " [  22 1978    0]\n",
            " [   1    3 1996]]\n",
            "[2000 2000 2000]\n",
            "train Class Accuracy: [0.990,0.989,0.998]\n",
            "train Accuracy: 99.23333333333333\n",
            "train Loss: 0.021759086404927075\n",
            "save model\n",
            "/content/gdrive/MyDrive/model_training/best_transformer_rooftype.pkl\n",
            "Training epoch: 81\n"
          ]
        },
        {
          "output_type": "stream",
          "name": "stderr",
          "text": [
            "/usr/local/lib/python3.7/dist-packages/torch/utils/data/dataloader.py:481: UserWarning: This DataLoader will create 4 worker processes in total. Our suggested max number of worker in current system is 2, which is smaller than what this DataLoader is going to create. Please be aware that excessive worker creation might get DataLoader running slow or even freeze, lower the worker number to avoid potential slowness/freeze if necessary.\n",
            "  cpuset_checked))\n"
          ]
        },
        {
          "output_type": "stream",
          "name": "stdout",
          "text": [
            "Epoch [82/100], Iter [5/24] Loss: 0.0142\n",
            "Epoch [82/100], Iter [10/24] Loss: 0.0146\n",
            "Epoch [82/100], Iter [15/24] Loss: 0.0080\n",
            "Epoch [82/100], Iter [20/24] Loss: 0.0223\n",
            "Confusion matrix:\n",
            "[[1983   16    1]\n",
            " [  14 1985    1]\n",
            " [   1    0 1999]]\n",
            "[2000 2000 2000]\n",
            "train Class Accuracy: [0.992,0.993,1.000]\n",
            "train Accuracy: 99.45\n",
            "train Loss: 0.017001484035669517\n",
            "save model\n",
            "/content/gdrive/MyDrive/model_training/best_transformer_rooftype.pkl\n",
            "Training epoch: 82\n"
          ]
        },
        {
          "output_type": "stream",
          "name": "stderr",
          "text": [
            "/usr/local/lib/python3.7/dist-packages/torch/utils/data/dataloader.py:481: UserWarning: This DataLoader will create 4 worker processes in total. Our suggested max number of worker in current system is 2, which is smaller than what this DataLoader is going to create. Please be aware that excessive worker creation might get DataLoader running slow or even freeze, lower the worker number to avoid potential slowness/freeze if necessary.\n",
            "  cpuset_checked))\n"
          ]
        },
        {
          "output_type": "stream",
          "name": "stdout",
          "text": [
            "Epoch [83/100], Iter [5/24] Loss: 0.0221\n",
            "Epoch [83/100], Iter [10/24] Loss: 0.0324\n",
            "Epoch [83/100], Iter [15/24] Loss: 0.0080\n",
            "Epoch [83/100], Iter [20/24] Loss: 0.0110\n",
            "Confusion matrix:\n",
            "[[1982   17    1]\n",
            " [  15 1984    1]\n",
            " [   0    1 1999]]\n",
            "[2000 2000 2000]\n",
            "train Class Accuracy: [0.991,0.992,1.000]\n",
            "train Accuracy: 99.41666666666667\n",
            "train Loss: 0.016116710767770808\n",
            "save model\n",
            "/content/gdrive/MyDrive/model_training/best_transformer_rooftype.pkl\n",
            "Training epoch: 83\n"
          ]
        },
        {
          "output_type": "stream",
          "name": "stderr",
          "text": [
            "/usr/local/lib/python3.7/dist-packages/torch/utils/data/dataloader.py:481: UserWarning: This DataLoader will create 4 worker processes in total. Our suggested max number of worker in current system is 2, which is smaller than what this DataLoader is going to create. Please be aware that excessive worker creation might get DataLoader running slow or even freeze, lower the worker number to avoid potential slowness/freeze if necessary.\n",
            "  cpuset_checked))\n"
          ]
        },
        {
          "output_type": "stream",
          "name": "stdout",
          "text": [
            "Epoch [84/100], Iter [5/24] Loss: 0.0315\n",
            "Epoch [84/100], Iter [10/24] Loss: 0.0206\n",
            "Epoch [84/100], Iter [15/24] Loss: 0.0184\n",
            "Epoch [84/100], Iter [20/24] Loss: 0.0138\n",
            "Confusion matrix:\n",
            "[[1989   11    0]\n",
            " [  15 1984    1]\n",
            " [   1    1 1998]]\n",
            "[2000 2000 2000]\n",
            "train Class Accuracy: [0.995,0.992,0.999]\n",
            "train Accuracy: 99.51666666666667\n",
            "train Loss: 0.01565005158772692\n",
            "save model\n",
            "/content/gdrive/MyDrive/model_training/best_transformer_rooftype.pkl\n",
            "Training epoch: 84\n"
          ]
        },
        {
          "output_type": "stream",
          "name": "stderr",
          "text": [
            "/usr/local/lib/python3.7/dist-packages/torch/utils/data/dataloader.py:481: UserWarning: This DataLoader will create 4 worker processes in total. Our suggested max number of worker in current system is 2, which is smaller than what this DataLoader is going to create. Please be aware that excessive worker creation might get DataLoader running slow or even freeze, lower the worker number to avoid potential slowness/freeze if necessary.\n",
            "  cpuset_checked))\n"
          ]
        },
        {
          "output_type": "stream",
          "name": "stdout",
          "text": [
            "Epoch [85/100], Iter [5/24] Loss: 0.0090\n",
            "Epoch [85/100], Iter [10/24] Loss: 0.0039\n",
            "Epoch [85/100], Iter [15/24] Loss: 0.0055\n",
            "Epoch [85/100], Iter [20/24] Loss: 0.0129\n",
            "Confusion matrix:\n",
            "[[1988   12    0]\n",
            " [   9 1990    1]\n",
            " [   1    1 1998]]\n",
            "[2000 2000 2000]\n",
            "train Class Accuracy: [0.994,0.995,0.999]\n",
            "train Accuracy: 99.6\n",
            "train Loss: 0.014024020007733876\n",
            "save model\n",
            "/content/gdrive/MyDrive/model_training/best_transformer_rooftype.pkl\n",
            "Training epoch: 85\n"
          ]
        },
        {
          "output_type": "stream",
          "name": "stderr",
          "text": [
            "/usr/local/lib/python3.7/dist-packages/torch/utils/data/dataloader.py:481: UserWarning: This DataLoader will create 4 worker processes in total. Our suggested max number of worker in current system is 2, which is smaller than what this DataLoader is going to create. Please be aware that excessive worker creation might get DataLoader running slow or even freeze, lower the worker number to avoid potential slowness/freeze if necessary.\n",
            "  cpuset_checked))\n"
          ]
        },
        {
          "output_type": "stream",
          "name": "stdout",
          "text": [
            "Epoch [86/100], Iter [5/24] Loss: 0.0290\n",
            "Epoch [86/100], Iter [10/24] Loss: 0.0215\n",
            "Epoch [86/100], Iter [15/24] Loss: 0.0192\n",
            "Epoch [86/100], Iter [20/24] Loss: 0.0027\n",
            "Confusion matrix:\n",
            "[[1986   13    1]\n",
            " [  13 1987    0]\n",
            " [   2    0 1998]]\n",
            "[2000 2000 2000]\n",
            "train Class Accuracy: [0.993,0.994,0.999]\n",
            "train Accuracy: 99.51666666666667\n",
            "train Loss: 0.014327457135853669\n",
            "save model\n",
            "/content/gdrive/MyDrive/model_training/best_transformer_rooftype.pkl\n",
            "Training epoch: 86\n"
          ]
        },
        {
          "output_type": "stream",
          "name": "stderr",
          "text": [
            "/usr/local/lib/python3.7/dist-packages/torch/utils/data/dataloader.py:481: UserWarning: This DataLoader will create 4 worker processes in total. Our suggested max number of worker in current system is 2, which is smaller than what this DataLoader is going to create. Please be aware that excessive worker creation might get DataLoader running slow or even freeze, lower the worker number to avoid potential slowness/freeze if necessary.\n",
            "  cpuset_checked))\n"
          ]
        },
        {
          "output_type": "stream",
          "name": "stdout",
          "text": [
            "Epoch [87/100], Iter [5/24] Loss: 0.0094\n",
            "Epoch [87/100], Iter [10/24] Loss: 0.0077\n",
            "Epoch [87/100], Iter [15/24] Loss: 0.0171\n",
            "Epoch [87/100], Iter [20/24] Loss: 0.0102\n",
            "Confusion matrix:\n",
            "[[1992    7    1]\n",
            " [  17 1982    1]\n",
            " [   1    1 1998]]\n",
            "[2000 2000 2000]\n",
            "train Class Accuracy: [0.996,0.991,0.999]\n",
            "train Accuracy: 99.53333333333333\n",
            "train Loss: 0.013725369150051847\n",
            "save model\n",
            "/content/gdrive/MyDrive/model_training/best_transformer_rooftype.pkl\n",
            "Training epoch: 87\n"
          ]
        },
        {
          "output_type": "stream",
          "name": "stderr",
          "text": [
            "/usr/local/lib/python3.7/dist-packages/torch/utils/data/dataloader.py:481: UserWarning: This DataLoader will create 4 worker processes in total. Our suggested max number of worker in current system is 2, which is smaller than what this DataLoader is going to create. Please be aware that excessive worker creation might get DataLoader running slow or even freeze, lower the worker number to avoid potential slowness/freeze if necessary.\n",
            "  cpuset_checked))\n"
          ]
        },
        {
          "output_type": "stream",
          "name": "stdout",
          "text": [
            "Epoch [88/100], Iter [5/24] Loss: 0.0246\n",
            "Epoch [88/100], Iter [10/24] Loss: 0.0064\n",
            "Epoch [88/100], Iter [15/24] Loss: 0.0210\n",
            "Epoch [88/100], Iter [20/24] Loss: 0.0201\n",
            "Confusion matrix:\n",
            "[[1987   12    1]\n",
            " [  15 1984    1]\n",
            " [   1    0 1999]]\n",
            "[2000 2000 2000]\n",
            "train Class Accuracy: [0.994,0.992,1.000]\n",
            "train Accuracy: 99.5\n",
            "train Loss: 0.014610941269590208\n",
            "save model\n",
            "/content/gdrive/MyDrive/model_training/best_transformer_rooftype.pkl\n",
            "Training epoch: 88\n"
          ]
        },
        {
          "output_type": "stream",
          "name": "stderr",
          "text": [
            "/usr/local/lib/python3.7/dist-packages/torch/utils/data/dataloader.py:481: UserWarning: This DataLoader will create 4 worker processes in total. Our suggested max number of worker in current system is 2, which is smaller than what this DataLoader is going to create. Please be aware that excessive worker creation might get DataLoader running slow or even freeze, lower the worker number to avoid potential slowness/freeze if necessary.\n",
            "  cpuset_checked))\n"
          ]
        },
        {
          "output_type": "stream",
          "name": "stdout",
          "text": [
            "Epoch [89/100], Iter [5/24] Loss: 0.0126\n",
            "Epoch [89/100], Iter [10/24] Loss: 0.0121\n",
            "Epoch [89/100], Iter [15/24] Loss: 0.0088\n",
            "Epoch [89/100], Iter [20/24] Loss: 0.0296\n",
            "Confusion matrix:\n",
            "[[1986   13    1]\n",
            " [  13 1985    2]\n",
            " [   1    1 1998]]\n",
            "[2000 2000 2000]\n",
            "train Class Accuracy: [0.993,0.993,0.999]\n",
            "train Accuracy: 99.48333333333333\n",
            "train Loss: 0.013694008123517657\n",
            "save model\n",
            "/content/gdrive/MyDrive/model_training/best_transformer_rooftype.pkl\n",
            "Training epoch: 89\n"
          ]
        },
        {
          "output_type": "stream",
          "name": "stderr",
          "text": [
            "/usr/local/lib/python3.7/dist-packages/torch/utils/data/dataloader.py:481: UserWarning: This DataLoader will create 4 worker processes in total. Our suggested max number of worker in current system is 2, which is smaller than what this DataLoader is going to create. Please be aware that excessive worker creation might get DataLoader running slow or even freeze, lower the worker number to avoid potential slowness/freeze if necessary.\n",
            "  cpuset_checked))\n"
          ]
        },
        {
          "output_type": "stream",
          "name": "stdout",
          "text": [
            "Epoch [90/100], Iter [5/24] Loss: 0.0040\n",
            "Epoch [90/100], Iter [10/24] Loss: 0.0107\n",
            "Epoch [90/100], Iter [15/24] Loss: 0.0106\n",
            "Epoch [90/100], Iter [20/24] Loss: 0.0318\n",
            "Confusion matrix:\n",
            "[[1979   19    2]\n",
            " [  12 1988    0]\n",
            " [   2    3 1995]]\n",
            "[2000 2000 2000]\n",
            "train Class Accuracy: [0.990,0.994,0.998]\n",
            "train Accuracy: 99.36666666666666\n",
            "train Loss: 0.016538893706941355\n",
            "save model\n",
            "/content/gdrive/MyDrive/model_training/best_transformer_rooftype.pkl\n",
            "Training epoch: 90\n"
          ]
        },
        {
          "output_type": "stream",
          "name": "stderr",
          "text": [
            "/usr/local/lib/python3.7/dist-packages/torch/utils/data/dataloader.py:481: UserWarning: This DataLoader will create 4 worker processes in total. Our suggested max number of worker in current system is 2, which is smaller than what this DataLoader is going to create. Please be aware that excessive worker creation might get DataLoader running slow or even freeze, lower the worker number to avoid potential slowness/freeze if necessary.\n",
            "  cpuset_checked))\n"
          ]
        },
        {
          "output_type": "stream",
          "name": "stdout",
          "text": [
            "Epoch [91/100], Iter [5/24] Loss: 0.0183\n",
            "Epoch [91/100], Iter [10/24] Loss: 0.0157\n",
            "Epoch [91/100], Iter [15/24] Loss: 0.0152\n",
            "Epoch [91/100], Iter [20/24] Loss: 0.0048\n",
            "Confusion matrix:\n",
            "[[1986   14    0]\n",
            " [  10 1990    0]\n",
            " [   3    0 1997]]\n",
            "[2000 2000 2000]\n",
            "train Class Accuracy: [0.993,0.995,0.999]\n",
            "train Accuracy: 99.55\n",
            "train Loss: 0.013497820919534812\n",
            "save model\n",
            "/content/gdrive/MyDrive/model_training/best_transformer_rooftype.pkl\n",
            "Training epoch: 91\n"
          ]
        },
        {
          "output_type": "stream",
          "name": "stderr",
          "text": [
            "/usr/local/lib/python3.7/dist-packages/torch/utils/data/dataloader.py:481: UserWarning: This DataLoader will create 4 worker processes in total. Our suggested max number of worker in current system is 2, which is smaller than what this DataLoader is going to create. Please be aware that excessive worker creation might get DataLoader running slow or even freeze, lower the worker number to avoid potential slowness/freeze if necessary.\n",
            "  cpuset_checked))\n"
          ]
        },
        {
          "output_type": "stream",
          "name": "stdout",
          "text": [
            "Epoch [92/100], Iter [5/24] Loss: 0.0101\n",
            "Epoch [92/100], Iter [10/24] Loss: 0.0054\n",
            "Epoch [92/100], Iter [15/24] Loss: 0.0141\n",
            "Epoch [92/100], Iter [20/24] Loss: 0.0074\n",
            "Confusion matrix:\n",
            "[[1993    7    0]\n",
            " [   6 1994    0]\n",
            " [   3    1 1996]]\n",
            "[2000 2000 2000]\n",
            "train Class Accuracy: [0.997,0.997,0.998]\n",
            "train Accuracy: 99.71666666666667\n",
            "train Loss: 0.010845579905435443\n",
            "save model\n",
            "/content/gdrive/MyDrive/model_training/best_transformer_rooftype.pkl\n",
            "Training epoch: 92\n"
          ]
        },
        {
          "output_type": "stream",
          "name": "stderr",
          "text": [
            "/usr/local/lib/python3.7/dist-packages/torch/utils/data/dataloader.py:481: UserWarning: This DataLoader will create 4 worker processes in total. Our suggested max number of worker in current system is 2, which is smaller than what this DataLoader is going to create. Please be aware that excessive worker creation might get DataLoader running slow or even freeze, lower the worker number to avoid potential slowness/freeze if necessary.\n",
            "  cpuset_checked))\n"
          ]
        },
        {
          "output_type": "stream",
          "name": "stdout",
          "text": [
            "Epoch [93/100], Iter [5/24] Loss: 0.0053\n",
            "Epoch [93/100], Iter [10/24] Loss: 0.0109\n",
            "Epoch [93/100], Iter [15/24] Loss: 0.0236\n",
            "Epoch [93/100], Iter [20/24] Loss: 0.0091\n",
            "Confusion matrix:\n",
            "[[1991    8    1]\n",
            " [  11 1988    1]\n",
            " [   0    0 2000]]\n",
            "[2000 2000 2000]\n",
            "train Class Accuracy: [0.996,0.994,1.000]\n",
            "train Accuracy: 99.65\n",
            "train Loss: 0.012375033261681287\n",
            "save model\n",
            "/content/gdrive/MyDrive/model_training/best_transformer_rooftype.pkl\n",
            "Training epoch: 93\n"
          ]
        },
        {
          "output_type": "stream",
          "name": "stderr",
          "text": [
            "/usr/local/lib/python3.7/dist-packages/torch/utils/data/dataloader.py:481: UserWarning: This DataLoader will create 4 worker processes in total. Our suggested max number of worker in current system is 2, which is smaller than what this DataLoader is going to create. Please be aware that excessive worker creation might get DataLoader running slow or even freeze, lower the worker number to avoid potential slowness/freeze if necessary.\n",
            "  cpuset_checked))\n"
          ]
        },
        {
          "output_type": "stream",
          "name": "stdout",
          "text": [
            "Epoch [94/100], Iter [5/24] Loss: 0.0117\n",
            "Epoch [94/100], Iter [10/24] Loss: 0.0071\n",
            "Epoch [94/100], Iter [15/24] Loss: 0.0071\n",
            "Epoch [94/100], Iter [20/24] Loss: 0.0080\n",
            "Confusion matrix:\n",
            "[[1990   10    0]\n",
            " [   8 1991    1]\n",
            " [   1    0 1999]]\n",
            "[2000 2000 2000]\n",
            "train Class Accuracy: [0.995,0.996,1.000]\n",
            "train Accuracy: 99.66666666666667\n",
            "train Loss: 0.01253154106476965\n",
            "save model\n",
            "/content/gdrive/MyDrive/model_training/best_transformer_rooftype.pkl\n",
            "Training epoch: 94\n"
          ]
        },
        {
          "output_type": "stream",
          "name": "stderr",
          "text": [
            "/usr/local/lib/python3.7/dist-packages/torch/utils/data/dataloader.py:481: UserWarning: This DataLoader will create 4 worker processes in total. Our suggested max number of worker in current system is 2, which is smaller than what this DataLoader is going to create. Please be aware that excessive worker creation might get DataLoader running slow or even freeze, lower the worker number to avoid potential slowness/freeze if necessary.\n",
            "  cpuset_checked))\n"
          ]
        },
        {
          "output_type": "stream",
          "name": "stdout",
          "text": [
            "Epoch [95/100], Iter [5/24] Loss: 0.0041\n",
            "Epoch [95/100], Iter [10/24] Loss: 0.0119\n",
            "Epoch [95/100], Iter [15/24] Loss: 0.0213\n",
            "Epoch [95/100], Iter [20/24] Loss: 0.0063\n",
            "Confusion matrix:\n",
            "[[1991    9    0]\n",
            " [   8 1991    1]\n",
            " [   2    2 1996]]\n",
            "[2000 2000 2000]\n",
            "train Class Accuracy: [0.996,0.996,0.998]\n",
            "train Accuracy: 99.63333333333334\n",
            "train Loss: 0.011471758470482504\n",
            "save model\n",
            "/content/gdrive/MyDrive/model_training/best_transformer_rooftype.pkl\n",
            "Training epoch: 95\n"
          ]
        },
        {
          "output_type": "stream",
          "name": "stderr",
          "text": [
            "/usr/local/lib/python3.7/dist-packages/torch/utils/data/dataloader.py:481: UserWarning: This DataLoader will create 4 worker processes in total. Our suggested max number of worker in current system is 2, which is smaller than what this DataLoader is going to create. Please be aware that excessive worker creation might get DataLoader running slow or even freeze, lower the worker number to avoid potential slowness/freeze if necessary.\n",
            "  cpuset_checked))\n"
          ]
        },
        {
          "output_type": "stream",
          "name": "stdout",
          "text": [
            "Epoch [96/100], Iter [5/24] Loss: 0.0045\n",
            "Epoch [96/100], Iter [10/24] Loss: 0.0124\n",
            "Epoch [96/100], Iter [15/24] Loss: 0.0339\n",
            "Epoch [96/100], Iter [20/24] Loss: 0.0110\n",
            "Confusion matrix:\n",
            "[[1987   11    2]\n",
            " [  12 1987    1]\n",
            " [   1    1 1998]]\n",
            "[2000 2000 2000]\n",
            "train Class Accuracy: [0.994,0.994,0.999]\n",
            "train Accuracy: 99.53333333333333\n",
            "train Loss: 0.014741357263119426\n",
            "save model\n",
            "/content/gdrive/MyDrive/model_training/best_transformer_rooftype.pkl\n",
            "Training epoch: 96\n"
          ]
        },
        {
          "output_type": "stream",
          "name": "stderr",
          "text": [
            "/usr/local/lib/python3.7/dist-packages/torch/utils/data/dataloader.py:481: UserWarning: This DataLoader will create 4 worker processes in total. Our suggested max number of worker in current system is 2, which is smaller than what this DataLoader is going to create. Please be aware that excessive worker creation might get DataLoader running slow or even freeze, lower the worker number to avoid potential slowness/freeze if necessary.\n",
            "  cpuset_checked))\n"
          ]
        },
        {
          "output_type": "stream",
          "name": "stdout",
          "text": [
            "Epoch [97/100], Iter [5/24] Loss: 0.0030\n",
            "Epoch [97/100], Iter [10/24] Loss: 0.0146\n",
            "Epoch [97/100], Iter [15/24] Loss: 0.0293\n",
            "Epoch [97/100], Iter [20/24] Loss: 0.0141\n",
            "Confusion matrix:\n",
            "[[1987   13    0]\n",
            " [  12 1987    1]\n",
            " [   1    1 1998]]\n",
            "[2000 2000 2000]\n",
            "train Class Accuracy: [0.994,0.994,0.999]\n",
            "train Accuracy: 99.53333333333333\n",
            "train Loss: 0.014940467842582924\n",
            "save model\n",
            "/content/gdrive/MyDrive/model_training/best_transformer_rooftype.pkl\n",
            "Training epoch: 97\n"
          ]
        },
        {
          "output_type": "stream",
          "name": "stderr",
          "text": [
            "/usr/local/lib/python3.7/dist-packages/torch/utils/data/dataloader.py:481: UserWarning: This DataLoader will create 4 worker processes in total. Our suggested max number of worker in current system is 2, which is smaller than what this DataLoader is going to create. Please be aware that excessive worker creation might get DataLoader running slow or even freeze, lower the worker number to avoid potential slowness/freeze if necessary.\n",
            "  cpuset_checked))\n"
          ]
        },
        {
          "output_type": "stream",
          "name": "stdout",
          "text": [
            "Epoch [98/100], Iter [5/24] Loss: 0.0047\n",
            "Epoch [98/100], Iter [10/24] Loss: 0.0147\n",
            "Epoch [98/100], Iter [15/24] Loss: 0.0348\n",
            "Epoch [98/100], Iter [20/24] Loss: 0.0069\n",
            "Confusion matrix:\n",
            "[[1985   15    0]\n",
            " [  15 1983    2]\n",
            " [   2    1 1997]]\n",
            "[2000 2000 2000]\n",
            "train Class Accuracy: [0.993,0.992,0.999]\n",
            "train Accuracy: 99.41666666666667\n",
            "train Loss: 0.014435439137741923\n",
            "save model\n",
            "/content/gdrive/MyDrive/model_training/best_transformer_rooftype.pkl\n",
            "Training epoch: 98\n"
          ]
        },
        {
          "output_type": "stream",
          "name": "stderr",
          "text": [
            "/usr/local/lib/python3.7/dist-packages/torch/utils/data/dataloader.py:481: UserWarning: This DataLoader will create 4 worker processes in total. Our suggested max number of worker in current system is 2, which is smaller than what this DataLoader is going to create. Please be aware that excessive worker creation might get DataLoader running slow or even freeze, lower the worker number to avoid potential slowness/freeze if necessary.\n",
            "  cpuset_checked))\n"
          ]
        },
        {
          "output_type": "stream",
          "name": "stdout",
          "text": [
            "Epoch [99/100], Iter [5/24] Loss: 0.0220\n",
            "Epoch [99/100], Iter [10/24] Loss: 0.0030\n",
            "Epoch [99/100], Iter [15/24] Loss: 0.0086\n",
            "Epoch [99/100], Iter [20/24] Loss: 0.0046\n",
            "Confusion matrix:\n",
            "[[1988   10    2]\n",
            " [  13 1987    0]\n",
            " [   1    1 1998]]\n",
            "[2000 2000 2000]\n",
            "train Class Accuracy: [0.994,0.994,0.999]\n",
            "train Accuracy: 99.55\n",
            "train Loss: 0.01451891363831237\n",
            "save model\n",
            "/content/gdrive/MyDrive/model_training/best_transformer_rooftype.pkl\n",
            "Training epoch: 99\n"
          ]
        },
        {
          "output_type": "stream",
          "name": "stderr",
          "text": [
            "/usr/local/lib/python3.7/dist-packages/torch/utils/data/dataloader.py:481: UserWarning: This DataLoader will create 4 worker processes in total. Our suggested max number of worker in current system is 2, which is smaller than what this DataLoader is going to create. Please be aware that excessive worker creation might get DataLoader running slow or even freeze, lower the worker number to avoid potential slowness/freeze if necessary.\n",
            "  cpuset_checked))\n"
          ]
        },
        {
          "output_type": "stream",
          "name": "stdout",
          "text": [
            "Epoch [100/100], Iter [5/24] Loss: 0.0052\n",
            "Epoch [100/100], Iter [10/24] Loss: 0.0092\n",
            "Epoch [100/100], Iter [15/24] Loss: 0.0231\n",
            "Epoch [100/100], Iter [20/24] Loss: 0.0107\n",
            "Confusion matrix:\n",
            "[[1990    8    2]\n",
            " [  11 1988    1]\n",
            " [   5    0 1995]]\n",
            "[2000 2000 2000]\n",
            "train Class Accuracy: [0.995,0.994,0.998]\n",
            "train Accuracy: 99.55\n",
            "train Loss: 0.014062009130915007\n",
            "save model\n",
            "/content/gdrive/MyDrive/model_training/best_transformer_rooftype.pkl\n"
          ]
        }
      ]
    }
  ]
}