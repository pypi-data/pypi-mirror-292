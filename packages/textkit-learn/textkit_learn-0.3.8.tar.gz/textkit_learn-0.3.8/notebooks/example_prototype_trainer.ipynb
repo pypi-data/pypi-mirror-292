{
 "cells": [
  {
   "cell_type": "code",
   "execution_count": 1,
   "id": "90f4be6d-d22d-41a3-9197-d9903ed8be35",
   "metadata": {},
   "outputs": [],
   "source": [
    "# %load_ext autoreload\n",
    "# %autoreload 2"
   ]
  },
  {
   "cell_type": "code",
   "execution_count": 2,
   "id": "ae89f5fa-9fb2-4cd6-a74c-a350297f93b9",
   "metadata": {},
   "outputs": [],
   "source": [
    "from torch.optim import AdamW\n",
    "from torch.utils.data import DataLoader\n",
    "\n",
    "from transformers import AutoTokenizer\n",
    "from datasets import load_dataset\n",
    "\n",
    "from tklearn.metrics import Accuracy\n",
    "from tklearn.nn import Trainer, Evaluator\n",
    "from tklearn.nn.callbacks import ProgbarLogger, EarlyStopping\n",
    "from tklearn.nn.prototypes import PrototypeForSequenceClassification, PrototypeCallback"
   ]
  },
  {
   "cell_type": "code",
   "execution_count": 3,
   "id": "85c9740a-eca6-4a17-b937-4c24d9975982",
   "metadata": {},
   "outputs": [],
   "source": [
    "MODEL_NAME_OR_PATH = \"google-bert/bert-base-uncased\"\n",
    "DATASET = \"yelp_review_full\""
   ]
  },
  {
   "cell_type": "code",
   "execution_count": 4,
   "id": "a1a92543-1d7b-4061-aa4f-e3393d3926dd",
   "metadata": {},
   "outputs": [
    {
     "data": {
      "text/plain": [
       "{'label': 0,\n",
       " 'text': 'My expectations for McDonalds are t rarely high. But for one to still fail so spectacularly...that takes something special!\\\\nThe cashier took my friends\\'s order, then promptly ignored me. I had to force myself in front of a cashier who opened his register to wait on the person BEHIND me. I waited over five minutes for a gigantic order that included precisely one kid\\'s meal. After watching two people who ordered after me be handed their food, I asked where mine was. The manager started yelling at the cashiers for \\\\\"serving off their orders\\\\\" when they didn\\'t have their food. But neither cashier was anywhere near those controls, and the manager was the one serving food to customers and clearing the boards.\\\\nThe manager was rude when giving me my order. She didn\\'t make sure that I had everything ON MY RECEIPT, and never even had the decency to apologize that I felt I was getting poor service.\\\\nI\\'ve eaten at various McDonalds restaurants for over 30 years. I\\'ve worked at more than one location. I expect bad days, bad moods, and the occasional mistake. But I have yet to have a decent experience at this store. It will remain a place I avoid unless someone in my party needs to avoid illness from low blood sugar. Perhaps I should go back to the racially biased service of Steak n Shake instead!'}"
      ]
     },
     "execution_count": 4,
     "metadata": {},
     "output_type": "execute_result"
    }
   ],
   "source": [
    "dataset = load_dataset(DATASET)\n",
    "\n",
    "dataset[\"train\"][100]"
   ]
  },
  {
   "cell_type": "code",
   "execution_count": 5,
   "id": "2b7f1717-9942-42e0-8239-ffc74cf2832d",
   "metadata": {},
   "outputs": [],
   "source": [
    "tokenizer = AutoTokenizer.from_pretrained(MODEL_NAME_OR_PATH)\n",
    "\n",
    "def tokenize_function(examples):\n",
    "    return tokenizer(examples[\"text\"], padding=\"max_length\", truncation=True)"
   ]
  },
  {
   "cell_type": "code",
   "execution_count": 6,
   "id": "a5edf743-902b-49ac-90e8-7569b14fa619",
   "metadata": {},
   "outputs": [],
   "source": [
    "tokenized_datasets = dataset.map(tokenize_function, batched=True)\n",
    "tokenized_datasets = tokenized_datasets.rename_column(\"label\", \"labels\")\n",
    "tokenized_datasets.set_format(\"torch\")"
   ]
  },
  {
   "cell_type": "code",
   "execution_count": 7,
   "id": "286e70a6-8d16-4c57-97ab-f53abfa8ca99",
   "metadata": {},
   "outputs": [],
   "source": [
    "small_train_dataset = tokenized_datasets[\"train\"].shuffle(seed=42).select(range(100))\n",
    "small_eval_dataset = tokenized_datasets[\"test\"].shuffle(seed=42).select(range(100))"
   ]
  },
  {
   "cell_type": "code",
   "execution_count": 8,
   "id": "e3b85f70-9064-4439-834b-f4191f03caf5",
   "metadata": {},
   "outputs": [],
   "source": [
    "model = PrototypeForSequenceClassification.from_pretrained(MODEL_NAME_OR_PATH)\n",
    "\n",
    "model.to(\"mps\")\n",
    "\n",
    "train_dataloader = DataLoader(small_train_dataset, shuffle=True, batch_size=16)"
   ]
  },
  {
   "cell_type": "code",
   "execution_count": 9,
   "id": "cf8da2fe-fc4a-4ab7-8520-f1be470dd346",
   "metadata": {},
   "outputs": [],
   "source": [
    "valid_dataloader = DataLoader(small_eval_dataset, batch_size=32)\n",
    "\n",
    "evaluator = Evaluator(model, valid_dataloader, callbacks=[PrototypeCallback(train_dataloader), ProgbarLogger()], metrics={\"acuracy\": Accuracy()}, prefix=\"valid_\")"
   ]
  },
  {
   "cell_type": "code",
   "execution_count": 10,
   "id": "f8478beb-f629-4868-82bf-48241d09c465",
   "metadata": {},
   "outputs": [],
   "source": [
    "optimizer = AdamW(model.parameters(), lr=1e-5)\n",
    "\n",
    "evaluator = Evaluator(model, valid_dataloader, callbacks=[PrototypeCallback(train_dataloader), ProgbarLogger()], metrics={\"acuracy\": Accuracy()}, prefix=\"valid_\")\n",
    "\n",
    "trainer = Trainer(model, train_dataloader, optimizer=optimizer, callbacks=[ProgbarLogger(), EarlyStopping(patience=0)], evaluator=evaluator, epochs=10)"
   ]
  },
  {
   "cell_type": "code",
   "execution_count": 11,
   "id": "0ba72734-3695-4232-bcdd-88843cc14c9e",
   "metadata": {},
   "outputs": [
    {
     "data": {
      "application/vnd.jupyter.widget-view+json": {
       "model_id": "c99f2bf2db494775b019bd7c8a86543f",
       "version_major": 2,
       "version_minor": 0
      },
      "text/plain": [
       "VBox()"
      ]
     },
     "metadata": {},
     "output_type": "display_data"
    },
    {
     "data": {
      "application/vnd.jupyter.widget-view+json": {
       "model_id": "a18604fabfd94d2eb2ae791218d54747",
       "version_major": 2,
       "version_minor": 0
      },
      "text/plain": [
       "VBox()"
      ]
     },
     "metadata": {},
     "output_type": "display_data"
    },
    {
     "data": {
      "application/vnd.jupyter.widget-view+json": {
       "model_id": "e7a28b158e06464f89ac9f90092fd897",
       "version_major": 2,
       "version_minor": 0
      },
      "text/plain": [
       "VBox()"
      ]
     },
     "metadata": {},
     "output_type": "display_data"
    },
    {
     "data": {
      "application/vnd.jupyter.widget-view+json": {
       "model_id": "686afb5c0b674542914fc699bd51db45",
       "version_major": 2,
       "version_minor": 0
      },
      "text/plain": [
       "VBox()"
      ]
     },
     "metadata": {},
     "output_type": "display_data"
    },
    {
     "data": {
      "application/vnd.jupyter.widget-view+json": {
       "model_id": "2ec8ad4ea86847db9f91689be560d530",
       "version_major": 2,
       "version_minor": 0
      },
      "text/plain": [
       "VBox()"
      ]
     },
     "metadata": {},
     "output_type": "display_data"
    }
   ],
   "source": [
    "trainer.train()"
   ]
  },
  {
   "cell_type": "code",
   "execution_count": null,
   "id": "dc2ffcb3-4c11-4a15-8b0e-c96c0c944bb7",
   "metadata": {},
   "outputs": [],
   "source": []
  }
 ],
 "metadata": {
  "kernelspec": {
   "display_name": "Python 3 (ipykernel)",
   "language": "python",
   "name": "python3"
  },
  "language_info": {
   "codemirror_mode": {
    "name": "ipython",
    "version": 3
   },
   "file_extension": ".py",
   "mimetype": "text/x-python",
   "name": "python",
   "nbconvert_exporter": "python",
   "pygments_lexer": "ipython3",
   "version": "3.11.5"
  }
 },
 "nbformat": 4,
 "nbformat_minor": 5
}
