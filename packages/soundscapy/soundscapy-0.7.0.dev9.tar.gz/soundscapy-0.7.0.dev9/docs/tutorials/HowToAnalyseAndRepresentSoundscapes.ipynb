{
 "cells": [
  {
   "cell_type": "markdown",
   "id": "e81d9b2c",
   "metadata": {
    "cell_marker": "\"\"\""
   },
   "source": [
    "# How to analyse and represent soundscape perception\n",
    "\n",
    "Andrew Mitchell, Francesco Aletta, Jian Kang\n",
    "\n",
    "This notebook provides examples for analysing and visualising soundscape assessment data from the International Soundscape Database (ISD). The custom functions created for this purpose are stored in the `isd.py` file. \n",
    "\n",
    "The ISD contains survey and acoustic data collected in urban public spaces with the goal of creating a unified dataset for the development of a predictive soundscape model and a set of soundscape indices. We have created a new visualisation method in order to properly analyse and examine the assessment of the locations included in the dataset. This method focuses on enabling sophisticated statistical analyses and ensuring the variety of responses in a location are properly considered.\n",
    "\n",
    "In this notebook we will walk you through both using the code itself and interpreting the soundscape perception of urban spaces."
   ]
  },
  {
   "cell_type": "code",
   "id": "f964f186",
   "metadata": {
    "execution": {
     "iopub.execute_input": "2023-08-13T15:59:04.324218Z",
     "iopub.status.busy": "2023-08-13T15:59:04.323825Z",
     "iopub.status.idle": "2023-08-13T15:59:05.533211Z",
     "shell.execute_reply": "2023-08-13T15:59:05.532920Z"
    },
    "ExecuteTime": {
     "end_time": "2024-08-24T00:53:37.942350Z",
     "start_time": "2024-08-24T00:53:37.550214Z"
    }
   },
   "source": [
    "# imports\n",
    "%matplotlib inline\n",
    "import soundscapy as sspy\n",
    "import pandas as pd\n",
    "import matplotlib.pyplot as plt\n",
    "import seaborn as sns\n",
    "\n",
    "import warnings\n",
    "warnings.simplefilter('ignore')"
   ],
   "execution_count": 1,
   "outputs": []
  },
  {
   "cell_type": "markdown",
   "id": "5c07c9c2",
   "metadata": {
    "cell_marker": "r\"\"\""
   },
   "source": [
    "## The current ISO 12913 framework\n",
    "\n",
    "Although different methods are proposed for data collection in ISO12913 Part 2, in the context of this study we focus on the questionnaire-based soundscape assessment (Method A), because it is underpinned by a theoretical relationship among the items of the questionnaire that compose it. The core of this questionnaire is the 8 perceptual attributes (PA) originally derived in Axlesson et al. (2010): pleasant, vibrant (or exciting), eventful, chaotic, annoying, monotonous, uneventful, and calm. In the questionnaire procedure, these PAs are assessed independently of each other, however, they are conceptually considered to form a two-dimensional circumplex with *Pleasantness* and *Eventfulness* on the x- and y-axis, respectively, where all regions of the space are equally likely to accomodate a given soundscape assessment. In Axelsson et al. (2010) a third primary dimension, *Familiarity* was also found, however this only accounted for 8% of the variance and is typically disregarded as part of the standard circumplex. As will be made clear throughout, the circumplex model has several aspects which make it useful for representing the soundscape perception of a space as a whole.\n",
    "\n",
    "### Coordinate transformation\n",
    "\n",
    "To facilitate the analysis of the perceptual attribute (PA) responses, the Likert scale responses are coded from 1 (Strongly disagree) to 5 (Strongly agree) as ordinal variables. In order to reduce the 8 PA values into a pair of coordinates which can be plotted on the Pleasant-Eventful axes, Part 3 of the ISO 12913 provides a trigonometric transformation, based on the $45\\degree$ relationship between the diagonal axes and the pleasant and eventful axes. This tranformation projects the coded values from the individual PAs down onto the primary Pleasantness and Eventfulness dimensions, then adds them together to form a single coordinate pair. In theory, this coordinate pair then encapsulates information from all 8 PA dimensions onto a more easily understandable and analyzable 2 dimensions. \n",
    "\n",
    "The ISO coordinates are thus calculated by:\n",
    "\n",
    "$$\n",
    "ISOPleasant = [(pleasant - annoying) + \\cos{45\\degree} * (calm - chaotic) + \\cos{45\\degree} * (vibrant - monotonous)] * \\frac{1}{(4 + \\sqrt{32})}\n",
    "$$\n",
    "\n",
    "$$\n",
    "ISOEventful = [(eventful - uneventful) + \\cos{45\\degree} * (chaotic - calm) + \\cos{45\\degree} * (vibrant - monotonous)] * \\frac{1}{(4 + \\sqrt{32})}\n",
    "$$\n",
    "\n",
    "where the PAs are arranged around the circumplex as shown in Figure 1. The $\\cos{45\\degree}$ term operates to project the diagonal terms down ono the x and y axes, and the $\\frac{1}{4 + \\sqrt{32}}$ scales the resulting coordinates to the range (-1, 1). The result of this transformation is demonstrated in Figure 1.\n",
    "\n",
    "To give an example of this, we create two example survey responses, with different PAQ answers:"
   ]
  },
  {
   "cell_type": "code",
   "id": "0be6fff7",
   "metadata": {
    "execution": {
     "iopub.execute_input": "2023-08-13T15:59:05.534906Z",
     "iopub.status.busy": "2023-08-13T15:59:05.534791Z",
     "iopub.status.idle": "2023-08-13T15:59:05.540525Z",
     "shell.execute_reply": "2023-08-13T15:59:05.540296Z"
    },
    "lines_to_next_cell": 2,
    "ExecuteTime": {
     "end_time": "2024-08-24T00:53:37.949187Z",
     "start_time": "2024-08-24T00:53:37.943453Z"
    }
   },
   "source": [
    "sample_transform = {\n",
    "    \"RecordID\": [\"EX1\", \"EX2\"],\n",
    "    \"pleasant\": [4, 2],\n",
    "    \"vibrant\": [4, 3],\n",
    "    \"eventful\": [4, 5],\n",
    "    \"chaotic\": [2, 5],\n",
    "    \"annoying\": [1, 5],\n",
    "    \"monotonous\": [3, 5],\n",
    "    \"uneventful\": [3, 3],\n",
    "    \"calm\": [4, 1],\n",
    "}\n",
    "sample_transform = pd.DataFrame().from_dict(sample_transform)\n",
    "sample_transform = sample_transform.set_index(\"RecordID\")\n",
    "sample_transform"
   ],
   "execution_count": 2,
   "outputs": []
  },
  {
   "cell_type": "markdown",
   "id": "3f7699e9",
   "metadata": {
    "cell_marker": "\"\"\""
   },
   "source": [
    "We can visualise how these individual PAQ answers are arranged on the circumplex with a radar plot."
   ]
  },
  {
   "cell_type": "code",
   "id": "23eef3e6",
   "metadata": {
    "execution": {
     "iopub.execute_input": "2023-08-13T15:59:05.541769Z",
     "iopub.status.busy": "2023-08-13T15:59:05.541695Z",
     "iopub.status.idle": "2023-08-13T15:59:05.640345Z",
     "shell.execute_reply": "2023-08-13T15:59:05.640051Z"
    },
    "lines_to_next_cell": 2,
    "ExecuteTime": {
     "end_time": "2024-08-24T00:53:38.037251Z",
     "start_time": "2024-08-24T00:53:37.949693Z"
    }
   },
   "source": [
    "fig = plt.figure(figsize=(4, 4))\n",
    "plt.rcParams[\"figure.dpi\"] = 350\n",
    "sspy.plotting.likert.paq_radar_plot(sample_transform)"
   ],
   "execution_count": 3,
   "outputs": []
  },
  {
   "cell_type": "markdown",
   "id": "967e294c",
   "metadata": {
    "cell_marker": "\"\"\""
   },
   "source": [
    "Now, we can apply the transform formula from above to calculate the ISOPleasant and ISOEventful values and add them to the dataframe."
   ]
  },
  {
   "cell_type": "code",
   "id": "e48958bf",
   "metadata": {
    "execution": {
     "iopub.execute_input": "2023-08-13T15:59:05.641779Z",
     "iopub.status.busy": "2023-08-13T15:59:05.641690Z",
     "iopub.status.idle": "2023-08-13T15:59:05.647024Z",
     "shell.execute_reply": "2023-08-13T15:59:05.646782Z"
    },
    "lines_to_next_cell": 2,
    "ExecuteTime": {
     "end_time": "2024-08-24T00:53:38.042431Z",
     "start_time": "2024-08-24T00:53:38.037833Z"
    }
   },
   "source": [
    "sample_transform = sspy.surveys.rename_paqs(sample_transform)\n",
    "sample_transform = sspy.surveys.add_iso_coords(sample_transform)\n",
    "sample_transform"
   ],
   "execution_count": 4,
   "outputs": []
  },
  {
   "cell_type": "markdown",
   "id": "a5b5d2a5",
   "metadata": {
    "cell_marker": "\"\"\""
   },
   "source": [
    "Finally, we can plot these values on a two dimensional plane to visualise how the transform went from the 8 dimensions shown in the radar plot to the two ISO dimensions. This is done by calling the `circumplex_scatter()` function included in `isd.py`. This will create a plotting axis with the appropriate circumplex grid and labels, then plot the ISOPleasant and ISOEventful values as the x and y coordinates.\n",
    "\n",
    "This treatment of the 8 PAs makes several assumptions and inferences about the relationships between the dimensions. As stated in the standard:\n",
    "\n",
    ">  According to the two-dimensional model, vibrant soundscapes are both pleasant and eventful, chaotic soundscapes are both eventful and unpleasant, monotonous soundscapes are both unpleasant and uneventful, and finally calm soundscapes are both uneventful and pleasant."
   ]
  },
  {
   "cell_type": "code",
   "id": "1029f44b",
   "metadata": {
    "execution": {
     "iopub.execute_input": "2023-08-13T15:59:05.663081Z",
     "iopub.status.busy": "2023-08-13T15:59:05.662832Z",
     "iopub.status.idle": "2023-08-13T15:59:05.837786Z",
     "shell.execute_reply": "2023-08-13T15:59:05.837503Z"
    },
    "lines_to_next_cell": 2,
    "ExecuteTime": {
     "end_time": "2024-08-24T00:53:38.389937Z",
     "start_time": "2024-08-24T00:53:38.042830Z"
    }
   },
   "source": [
    "colors = [\"b\", \"r\"]\n",
    "palette = sns.color_palette(colors)\n",
    "sspy.plotting.scatter_plot(sample_transform, hue=\"RecordID\", palette=palette, diagonal_lines=True, legend=\"brief\",\n",
    "                           s=100\n",
    "                           )"
   ],
   "execution_count": 5,
   "outputs": []
  },
  {
   "cell_type": "markdown",
   "id": "f84fe526",
   "metadata": {
    "cell_marker": "\"\"\""
   },
   "source": [
    "## The way forward: Probabilistic soundscape representation\n",
    "\n",
    "Given the identified issues with the recommended methods for statistical analysis and their shortcomings in representing the variety in perception of the soundscape in a space, how then should we discuss or present the results of these soundscape assessments? Ideally the method will: 1) take advantage of the circumplex coordinates and their ability to be displayed on a scatter plot and be treated as continuous variables, 2)  scale from a dataset of 10 responses to thousands of responses, 3) facilitate the comparison of the soundscapes of different locations and conditions, and 4) encapsulate the nuances and diversity of soundscape perception by representing the distribution of responses.\n",
    "\n",
    "We therefore present a series of visualisations of the soundscape assessments of several urban spaces included in the International Soundscape Database (ISD) which reflect these goals. The specific locations selected from the ISD are chosen for demonstration only and these methods can be applied to any location. Rather than attempting to represent a single individual's soundscape or of describing a location's soundscape as a single average assessment (as in Part 3 of the ISO technical specification), this representation shows the whole range of perception of the users of the space. \n",
    "\n",
    "To begin, we can load the dataset directly from the ISD:"
   ]
  },
  {
   "cell_type": "code",
   "id": "f7331005",
   "metadata": {
    "execution": {
     "iopub.execute_input": "2023-08-13T15:59:05.839131Z",
     "iopub.status.busy": "2023-08-13T15:59:05.839028Z",
     "iopub.status.idle": "2023-08-13T15:59:05.965831Z",
     "shell.execute_reply": "2023-08-13T15:59:05.965504Z"
    },
    "lines_to_next_cell": 2,
    "ExecuteTime": {
     "end_time": "2024-08-24T00:53:38.763535Z",
     "start_time": "2024-08-24T00:53:38.390481Z"
    }
   },
   "source": [
    "ssid = sspy.isd.load()\n",
    "ssid, excl = sspy.isd.validate(ssid, allow_paq_na=False)\n",
    "ssid = sspy.surveys.add_iso_coords(ssid)\n",
    "ssid.head()"
   ],
   "execution_count": 6,
   "outputs": []
  },
  {
   "cell_type": "markdown",
   "id": "865fe73d",
   "metadata": {
    "cell_marker": "\"\"\""
   },
   "source": [
    "First, rather than calculating the median response to each PA in the location, then calculating the circumplex coordinates, the coordinates for each individual response are calculated. This results in a vector of ISOPleasant, ISOEventful values which are continuous variables from -1 to +1 and can be analysed statistically by calculating summary statistics (mean, standard deviation, quintiles, etc.) and through the use of regression modelling, which can often be simpler and more familiar than the recommended methods of analysing ordinal data. This also enables each individual's response to be placed within the pleasant-eventful space. All of the responses for a location can then be plotted, giving an overall scatter plot for a location, as demonstrated in (i). "
   ]
  },
  {
   "cell_type": "code",
   "id": "f1b55461",
   "metadata": {
    "execution": {
     "iopub.execute_input": "2023-08-13T15:59:05.967135Z",
     "iopub.status.busy": "2023-08-13T15:59:05.967035Z",
     "iopub.status.idle": "2023-08-13T15:59:06.371874Z",
     "shell.execute_reply": "2023-08-13T15:59:06.371567Z"
    },
    "lines_to_next_cell": 2,
    "ExecuteTime": {
     "end_time": "2024-08-24T00:53:38.767966Z",
     "start_time": "2024-08-24T00:53:38.766470Z"
    }
   },
   "source": [
    "# Jointplot has not yet been reimplemented in the newest version of Soundscapy. This will be added back soon.\n",
    "\n",
    "# sspy.plotting.jointplot(\n",
    "#     sspy.isd.select_location_ids(ssid, \"PancrasLock\"),\n",
    "#     title=\"(a) Example distribution of the soundscape perception of an urban park\",\n",
    "#     diagonal_lines=True,\n",
    "#     # hue=\"LocationID\",\n",
    "#     # legend=True,\n",
    "#     alpha=0.75,\n",
    "# )\n"
   ],
   "execution_count": 7,
   "outputs": []
  },
  {
   "cell_type": "markdown",
   "id": "f99b4178",
   "metadata": {
    "cell_marker": "\"\"\""
   },
   "source": [
    "Once these individual responses are plotted, we then overlay a heatmap of the bivariate distribution (with color maps for each decile) and marginal distribution plots. In this way, three primary characteristics of the soundscape perception can be seen: \n",
    "\n",
    "1) The distribution across both pleasantness and eventfulness, including the central tendency, the dispersion, and any skewness in the response;\n",
    "2) The general shape of the soundscape within the space - in this case Russell Sq is almost entirely in the pleasant half, but is split relatively evenly across the eventfulness space, meaning while it is perceived as generally pleasant, it is not strongly calm or vibrant;\n",
    "3) The degree of agreement about the soundscape perception - there appears to be a relatively high agreement about the character of Russell Sq, as demonstrated by the compactness of the distribution, but this is not the case for every location, as will be shown later.\n",
    "\n",
    "Fig (i) includes several in-depth visualisations of the distribution of soundscape assessments, however the detail included can make further analysis difficult. In particular, a decile heatmap is so visually busy that, in our experience, it is not possible to plot more than one soundscape distribution at a time without the figure becoming overly busy. It also can make it difficult to truly grasp point 2, the general shape of the soundscape. To facilitate this, the same soundscape can be represented by its 50th percentile contour, as demonstrated in Fig (ii) where the shaded portion contains 50% of the responses. This simplified view of the distribution presents several advantages, as will be demonstrated in Figs. (iii and iv) and takes inspiration from the recommendation in the ISO standard to use the median as a summary statistic.\n",
    "\n",
    "When visualised this way, it is possible to identify outliers and responses which are the result of anamolous sound events. For instance if, during a survey session at a calm park, a fleet of helicopters flies overhead, driving the participants to respond that the soundscape is highly chaotic, we would see a group of scatter points in the chaotic quadrant which appear obviously outside the general pattern of responses. In a simpler analysis method, these responses would either be entirely discarded as outliers or surveys and soundwalks would be halted entirely -- ignoring what is in fact a significant impact on that location, its soundscape, and how useful it may be for the community -- or would be included within the statistical analysis, significantly impacting the central tendency and dispersion metrics (i.e. median and range) without consideration for the context. This is the situation shown in Fig (ii) where it is obvious that there is strong agreement that Regents Park Fields is highly pleasant and calm, however we can see numerous responses which assessed it as highly chaotic when a series of military helicopter fly overs drastically changed the sound environment of the space for nearly 20 minutes."
   ]
  },
  {
   "cell_type": "code",
   "id": "b29ce58b",
   "metadata": {
    "execution": {
     "iopub.execute_input": "2023-08-13T15:59:06.374406Z",
     "iopub.status.busy": "2023-08-13T15:59:06.374300Z",
     "iopub.status.idle": "2023-08-13T15:59:06.605968Z",
     "shell.execute_reply": "2023-08-13T15:59:06.605694Z"
    },
    "lines_to_next_cell": 2,
    "ExecuteTime": {
     "end_time": "2024-08-24T00:53:39.309390Z",
     "start_time": "2024-08-24T00:53:38.768691Z"
    }
   },
   "source": [
    "location = \"RegentsParkFields\"\n",
    "fig, ax = plt.subplots(1,1, figsize=(7, 7))\n",
    "\n",
    "sspy.plotting.density_plot(sspy.isd.select_location_ids(ssid, location), hue=\"LocationID\",\n",
    "                           title=\"(b) Median perception contour and scatter plot of individual assessments\\n\\n\",\n",
    "                           palette=\"dark:gray\", ax=ax, legend=True, density_type=\"simple\"\n",
    "                           )\n"
   ],
   "execution_count": 8,
   "outputs": []
  },
  {
   "cell_type": "markdown",
   "id": "5be3b2d3",
   "metadata": {
    "cell_marker": "\"\"\""
   },
   "source": [
    "Fig (iii) demonstrates how this simplified representation makes it possible to compare the soundscape of several locations in a sophisticated way. The soundscape assessments of three urban spaces, Camden Town, Pancras Lock, and Russell Square, are shown overlaid with each other. We can see that Camden Town, a busy and crowded street corner with high levels of traffic noise and amplified music, is generally perceived as chaotic, but the median contour shape which characterises it also crosses over into the vibrant quadrant. We can also see that, for a part of the sample, Russell Square and Pancras Lock are both perceived as similarly pleasant, however some portion of the responses perceived Pancras Lock as being somewhat chaotic and annoying. This kind of visualisation is able to highlight these similarities between the soundscapes in the locations and identify how they differ. From here, further investigation could lead us to answer what is it that led to those people perceiving the location as unpleasant, and what similarities does the soundscape of Pancras Lock have with Russell Square that could perhaps be enhanced to increase the proportion of people perceiving it as more pleasant."
   ]
  },
  {
   "cell_type": "code",
   "id": "e089c007",
   "metadata": {
    "execution": {
     "iopub.execute_input": "2023-08-13T15:59:06.607477Z",
     "iopub.status.busy": "2023-08-13T15:59:06.607390Z",
     "iopub.status.idle": "2023-08-13T15:59:06.955580Z",
     "shell.execute_reply": "2023-08-13T15:59:06.955313Z"
    },
    "lines_to_next_cell": 2,
    "ExecuteTime": {
     "end_time": "2024-08-24T00:53:39.885851Z",
     "start_time": "2024-08-24T00:53:39.310685Z"
    }
   },
   "source": [
    "fig, ax = plt.subplots(1,1, figsize=(7,7))\n",
    "\n",
    "sspy.plotting.density_plot(sspy.isd.select_location_ids(ssid, ['CamdenTown', 'RussellSq', 'PancrasLock']),\n",
    "                           hue=\"LocationID\", title=\"(c) Comparison of the soundscapes of three urban spaces\\n\\n\",\n",
    "                           palette=\"husl\", simple_density=True, ax=ax, legend=True\n",
    "                           )"
   ],
   "execution_count": 9,
   "outputs": []
  },
  {
   "cell_type": "markdown",
   "id": "4377d330",
   "metadata": {
    "cell_marker": "\"\"\""
   },
   "source": [
    "In addition to solely analysing the distributions of the perceptual responses themselves, this method can also be combined with other acoustic, environmental, and contextual data. The final example, in Fig (iv) demonstrates how this method can better demonstrate the complex relationships between acoustic features of the sound environment and the soundscape perception. The data in the ISD includes approximately 30 second long binaural audio recordings taken while each participant was responding to the soundscape survey, providing an indication of the exact sound environment they were exposed to. For Fig (iv) the entire dataset of 1,338 responses at all 13 locations has been split according to the analysis of these recordings giving a set of less than 65 dB LAeq and  a set of more than 65 dB. The bivariate distribution of these two conditions are then plotted. "
   ]
  },
  {
   "cell_type": "code",
   "id": "b6159a6d",
   "metadata": {
    "execution": {
     "iopub.execute_input": "2023-08-13T15:59:06.957479Z",
     "iopub.status.busy": "2023-08-13T15:59:06.957398Z",
     "iopub.status.idle": "2023-08-13T15:59:06.965313Z",
     "shell.execute_reply": "2023-08-13T15:59:06.964998Z"
    },
    "lines_to_next_cell": 2,
    "ExecuteTime": {
     "end_time": "2024-08-24T00:53:39.894109Z",
     "start_time": "2024-08-24T00:53:39.886560Z"
    }
   },
   "source": [
    "ssid[\"dBLevel\"] = pd.cut(\n",
    "    ssid[\"LAeq_L(A)_Max\"],\n",
    "    bins=(0, 63, 150),\n",
    "    labels=(\"Under 63dB\", \"Over 63dB\"),\n",
    "    precision=1,\n",
    ")\n",
    "\n",
    "ssid.head()"
   ],
   "execution_count": 10,
   "outputs": []
  },
  {
   "cell_type": "code",
   "id": "dc16f594",
   "metadata": {
    "execution": {
     "iopub.execute_input": "2023-08-13T15:59:06.966780Z",
     "iopub.status.busy": "2023-08-13T15:59:06.966667Z",
     "iopub.status.idle": "2023-08-13T15:59:06.969786Z",
     "shell.execute_reply": "2023-08-13T15:59:06.969505Z"
    },
    "lines_to_next_cell": 2,
    "ExecuteTime": {
     "end_time": "2024-08-24T00:53:39.897407Z",
     "start_time": "2024-08-24T00:53:39.894667Z"
    }
   },
   "source": [
    "ssid[\"dBLevel\"].describe()"
   ],
   "execution_count": 11,
   "outputs": []
  },
  {
   "cell_type": "code",
   "id": "247f486b",
   "metadata": {
    "execution": {
     "iopub.execute_input": "2023-08-13T15:59:06.971013Z",
     "iopub.status.busy": "2023-08-13T15:59:06.970926Z",
     "iopub.status.idle": "2023-08-13T15:59:07.720776Z",
     "shell.execute_reply": "2023-08-13T15:59:07.720524Z"
    },
    "lines_to_next_cell": 2,
    "ExecuteTime": {
     "end_time": "2024-08-24T00:53:40.444865Z",
     "start_time": "2024-08-24T00:53:39.897910Z"
    }
   },
   "source": [
    "sspy.plotting.density_plot(ssid, hue=\"dBLevel\", title=\"(d) Soundscape perception as a function of sound level\",\n",
    "                           palette=\"colorblind\", incl_scatter=False, diagonal_lines=False, simple_density=True,\n",
    "                           marginal_kind=\"kde\", legend=True\n",
    "                           )"
   ],
   "execution_count": 12,
   "outputs": []
  },
  {
   "cell_type": "markdown",
   "id": "f53349a2",
   "metadata": {
    "cell_marker": "\"\"\""
   },
   "source": [
    "## Other examples\n",
    "\n",
    "In addition to the visualisation demonstrations given above which were included in the JASA Express Letters article, we present a few examples of the uses of this distributional shape approach. \n",
    "\n",
    "### The soundscape shape of all 13 locations:"
   ]
  },
  {
   "cell_type": "code",
   "source": [
    "len(ssid.LocationID.unique())"
   ],
   "metadata": {
    "collapsed": false,
    "ExecuteTime": {
     "end_time": "2024-08-24T00:53:40.447538Z",
     "start_time": "2024-08-24T00:53:40.445421Z"
    }
   },
   "id": "3b502810912388cf",
   "execution_count": 13,
   "outputs": []
  },
  {
   "cell_type": "code",
   "id": "462ab0e1",
   "metadata": {
    "execution": {
     "iopub.execute_input": "2023-08-13T15:59:07.722656Z",
     "iopub.status.busy": "2023-08-13T15:59:07.722552Z",
     "iopub.status.idle": "2023-08-13T15:59:09.681091Z",
     "shell.execute_reply": "2023-08-13T15:59:09.680663Z"
    },
    "lines_to_next_cell": 2,
    "ExecuteTime": {
     "end_time": "2024-08-24T00:53:45.621887Z",
     "start_time": "2024-08-24T00:53:40.448041Z"
    }
   },
   "source": [
    "\n",
    "data_list = [sspy.isd.select_location_ids(ssid, location) for location in ssid.LocationID.unique()]\n",
    "fig = sspy.plotting.create_circumplex_subplots(\n",
    "        data_list,\n",
    "        plot_type=\"density\",\n",
    "        nrows=7,\n",
    "        ncols=4,\n",
    "        figsize=(12, 21),\n",
    "        incl_scatter=True,\n",
    "        subtitles=ssid.LocationID.unique()\n",
    "        )\n",
    "\n",
    "plt.show()\n"
   ],
   "execution_count": 14,
   "outputs": []
  },
  {
   "cell_type": "markdown",
   "id": "0f71b14d",
   "metadata": {
    "cell_marker": "\"\"\""
   },
   "source": [
    "### A comparison of two days in the same location:"
   ]
  },
  {
   "cell_type": "code",
   "id": "33e65230",
   "metadata": {
    "execution": {
     "iopub.execute_input": "2023-08-13T15:59:09.697920Z",
     "iopub.status.busy": "2023-08-13T15:59:09.697759Z",
     "iopub.status.idle": "2023-08-13T15:59:09.939202Z",
     "shell.execute_reply": "2023-08-13T15:59:09.938879Z"
    },
    "ExecuteTime": {
     "end_time": "2024-08-24T00:53:46.028493Z",
     "start_time": "2024-08-24T00:53:45.622559Z"
    }
   },
   "source": [
    "sspy.plotting.density_plot(sspy.isd.select_location_ids(ssid, location_ids=\"RegentsParkFields\"), hue=\"SessionID\",\n",
    "                           title=\"Comparison of two days in Regents Park\", fill=False, incl_outline=True,\n",
    "                           incl_scatter=True, simple_density=True, legend=True\n",
    "                           )"
   ],
   "execution_count": 15,
   "outputs": []
  },
  {
   "cell_type": "markdown",
   "id": "9fc677e5",
   "metadata": {
    "cell_marker": "\"\"\""
   },
   "source": [
    "### All of the survey days in every location:"
   ]
  },
  {
   "cell_type": "code",
   "id": "1f140fce",
   "metadata": {
    "execution": {
     "iopub.execute_input": "2023-08-13T15:59:09.940905Z",
     "iopub.status.busy": "2023-08-13T15:59:09.940802Z",
     "iopub.status.idle": "2023-08-13T15:59:12.794735Z",
     "shell.execute_reply": "2023-08-13T15:59:12.794457Z"
    },
    "lines_to_next_cell": 2,
    "ExecuteTime": {
     "end_time": "2024-08-24T00:53:51.565293Z",
     "start_time": "2024-08-24T00:53:46.029033Z"
    }
   },
   "source": [
    "data_list = [sspy.isd.select_location_ids(ssid, location) for location in ssid[\"LocationID\"].unique()]\n",
    "\n",
    "fig = sspy.plotting.create_circumplex_subplots(\n",
    "        data_list,\n",
    "        plot_type=\"simple_density\",\n",
    "        nrows=7,\n",
    "        ncols=4,\n",
    "        figsize=(12, 21),\n",
    "        incl_scatter=True,\n",
    "        subtitles=ssid[\"LocationID\"].unique(),\n",
    "        hue = \"SessionID\",\n",
    "        fill = False,\n",
    "        )\n",
    "plt.show()"
   ],
   "execution_count": 16,
   "outputs": []
  },
  {
   "cell_type": "markdown",
   "id": "fb157f86",
   "metadata": {
    "cell_marker": "\"\"\""
   },
   "source": [
    "### Statistical analysis of the ISD dataset\n",
    "\n",
    "Although the visualisations shown in the above figures are a powerful tool for viewing, analysing, and discussing the multi-dimensional aspects of soundscape perception, there are certainly cases where simpler metrics are needed to aid discussion and to set design goals. Taking inspiration from noise annoyance, we propose a move toward discussing the \"percent of people likely to perceive\" a soundscape as pleasant, vibrant, etc. when it is necessary to use numerical descriptions. In this way, a numerical design goal could also be set as e.g. \"the soundscape should be likely to be perceived as pleasant by at least 75% of users\" or the results of an intervention presented as e.g. \"the likelihood of the soundscape being perceived as calm increased from 30% to 55%\". These numbers can be drawn from either actual surveys or from the results of predictive models.\n",
    "\n",
    "Finally, although acknowledging the distribution of responses is crucial, it is sometimes necessary to summarise locations down to a single point to compare many different locations and to easily investigate how the soundscape assessment has generally changed over time. For this purpose, the mean of the ISOPleasant and ISOEventful values across all respondents is calculated to result in a single coordinate point per location. This clearly mirrors the original intent of the coordinate transformation presented in the ISO, but by applying the transformation first to each individual assessment then calculating the mean value, it maintains a direct link to the distributions shown above. \n",
    "\n",
    "We have included a function for creating a numerical summary of each location. For this, we first calculate the mean ISOPleasant and ISOEventful value for the location, giving a single coordinate to describe the location in the circumplex. We then calculate the percentage of overall responses falling in the `pleasant` or `eventful` halfs, or in the `vibrant`, `chaotic`, etc. quadrants."
   ]
  },
  {
   "cell_type": "code",
   "id": "6d780661",
   "metadata": {
    "execution": {
     "iopub.execute_input": "2023-08-13T15:59:12.805236Z",
     "iopub.status.busy": "2023-08-13T15:59:12.805139Z",
     "iopub.status.idle": "2023-08-13T15:59:12.814785Z",
     "shell.execute_reply": "2023-08-13T15:59:12.814535Z"
    },
    "lines_to_next_cell": 2
   },
   "source": [
    "sspy.isd.describe_location(ssid, \"CamdenTown\")"
   ],
   "execution_count": 17,
   "outputs": []
  },
  {
   "cell_type": "code",
   "source": [
    "sspy.isd.soundscapy_describe(ssid)"
   ],
   "metadata": {
    "collapsed": false,
    "ExecuteTime": {
     "end_time": "2024-08-24T00:53:51.711188Z",
     "start_time": "2024-08-24T00:53:51.575851Z"
    }
   },
   "id": "d4e209b4ddd16861",
   "execution_count": 18,
   "outputs": []
  },
  {
   "cell_type": "markdown",
   "id": "7e040cdb",
   "metadata": {
    "cell_marker": "\"\"\""
   },
   "source": [
    "The standard `describe()` method in pandas can also still be used to calculate other summary statistics."
   ]
  },
  {
   "cell_type": "code",
   "id": "bec74a7f",
   "metadata": {
    "execution": {
     "iopub.execute_input": "2023-08-13T15:59:12.815921Z",
     "iopub.status.busy": "2023-08-13T15:59:12.815844Z",
     "iopub.status.idle": "2023-08-13T15:59:12.845471Z",
     "shell.execute_reply": "2023-08-13T15:59:12.845239Z"
    },
    "lines_to_next_cell": 2,
    "ExecuteTime": {
     "end_time": "2024-08-24T00:53:51.851158Z",
     "start_time": "2024-08-24T00:53:51.711793Z"
    }
   },
   "source": [
    "ssid.describe()"
   ],
   "execution_count": 19,
   "outputs": []
  },
  {
   "cell_type": "markdown",
   "id": "871a7894",
   "metadata": {
    "cell_marker": "\"\"\""
   },
   "source": [
    "Finally, the mean coordinate values for each location can be plotted in the soundscape circumplex."
   ]
  },
  {
   "cell_type": "code",
   "id": "88737f9b",
   "metadata": {
    "execution": {
     "iopub.execute_input": "2023-08-13T15:59:12.846638Z",
     "iopub.status.busy": "2023-08-13T15:59:12.846567Z",
     "iopub.status.idle": "2023-08-13T15:59:12.946141Z",
     "shell.execute_reply": "2023-08-13T15:59:12.945884Z"
    },
    "ExecuteTime": {
     "end_time": "2024-08-24T00:53:52.096533Z",
     "start_time": "2024-08-24T00:53:51.851709Z"
    }
   },
   "source": [
    "means = sspy.surveys.survey_utils.mean_responses(ssid, group=\"LocationID\")\n",
    "means = sspy.surveys.add_iso_coords(means, overwrite=True)\n",
    "sspy.plotting.scatter_plot(means, hue=\"LocationID\", xlim=(-0.25, 0.75), ylim=(-0.25, 0.75), s=40, legend=False)\n"
   ],
   "execution_count": 20,
   "outputs": []
  },
  {
   "cell_type": "code",
   "id": "eae2dbeb9e4cd455",
   "metadata": {
    "collapsed": false,
    "ExecuteTime": {
     "end_time": "2024-08-24T00:53:52.098259Z",
     "start_time": "2024-08-24T00:53:52.097065Z"
    }
   },
   "source": [],
   "execution_count": 20,
   "outputs": []
  }
 ],
 "metadata": {
  "jupytext": {
   "cell_markers": "\"\"\""
  },
  "kernelspec": {
   "display_name": "soundscapy-dev-3.7-test",
   "language": "python",
   "name": "python3"
  },
  "language_info": {
   "codemirror_mode": {
    "name": "ipython",
    "version": 3
   },
   "file_extension": ".py",
   "mimetype": "text/x-python",
   "name": "python",
   "nbconvert_exporter": "python",
   "pygments_lexer": "ipython3",
   "version": "3.11.4"
  },
  "vscode": {
   "interpreter": {
    "hash": "839cba8ae7f7082c5bcb3c590fd12f2b3a15a875e42d2935e5155aa711605eac"
   }
  }
 },
 "nbformat": 4,
 "nbformat_minor": 5
}
