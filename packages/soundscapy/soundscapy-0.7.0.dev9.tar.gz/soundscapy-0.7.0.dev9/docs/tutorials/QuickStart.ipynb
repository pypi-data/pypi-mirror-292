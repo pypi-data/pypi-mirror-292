{
 "cells": [
  {
   "cell_type": "markdown",
   "id": "0d91b52d",
   "metadata": {
    "cell_marker": "\"\"\""
   },
   "source": [
    "# `Soundscapy` - Quick Start Guide\n",
    "\n",
    "By Andrew Mitchell, Lecturer, University College London\n",
    "\n",
    "## Background\n",
    "\n",
    "`Soundscapy` is a python toolbox for analysing quantitative soundscape data. Urban soundscapes are typically assessed through surveys which ask respondents how they perceive the given soundscape. Particularly when collected following the technical specification ISO 12913, these surveys can constitute quantitative data about the soundscape perception. As proposed in *How to analyse and represent quantitative soundscape data* [(Mitchell, Aletta, & Kang, 2022)](https://asa.scitation.org/doi/full/10.1121/10.0009794), in order to describe the soundscape perception of a group or of a location, we should consider the distribution of responses. `Soundscapy`'s approach to soundscape analysis follows this approach and makes it simple to process soundscape data and visualise the distribution of responses. \n",
    "\n",
    "For more information on the theory underlying the assessments and forms of data collection, please see ISO 12913-Part 2, *The SSID Protocol* [(Mitchell, *et al.*, 2020)](https://www.mdpi.com/2076-3417/10/7/2397), and *How to analyse and represent quantitative soundscape data*.\n",
    "\n",
    "## This Notebook\n",
    "\n",
    "The purpose of this notebook is to give a brief overview of how `Soundscapy` works and how to quickly get started using it to analyse your own soundscape data. The example dataset used is *The International Soundscape Database (ISD)* (Mitchell, *et al.*, 2021), which is publicly available at [Zenodo](https://zenodo.org/record/6331810) and is free to use. `Soundscapy` expects data to follow the format used in the ISD, but can be adapted for similar datasets.\n",
    "\n",
    "----------\n",
    "\n",
    "## Installation\n",
    "\n",
    "To install Soundscapy with `pip`:\n",
    "\n",
    "```\n",
    "pip install soundscapy\n",
    "```\n",
    "\n",
    "----"
   ]
  },
  {
   "cell_type": "markdown",
   "id": "92832595",
   "metadata": {
    "cell_marker": "\"\"\""
   },
   "source": [
    "## Working with Data\n",
    "\n",
    "### Loading and Validating Data\n",
    "\n",
    "Let's start by importing Soundscapy and loading the International Soundscape Database (ISD):\n"
   ]
  },
  {
   "metadata": {
    "ExecuteTime": {
     "end_time": "2024-08-16T10:09:56.388037Z",
     "start_time": "2024-08-16T10:09:54.370460Z"
    }
   },
   "cell_type": "code",
   "source": [
    "from soundscapy.logging import set_log_level\n",
    "set_log_level(\"WARNING\")"
   ],
   "id": "a0d9c4c8cf1418b9",
   "execution_count": 1,
   "outputs": []
  },
  {
   "cell_type": "code",
   "id": "a65cc16e",
   "metadata": {
    "execution": {
     "iopub.execute_input": "2023-08-13T15:59:04.324365Z",
     "iopub.status.busy": "2023-08-13T15:59:04.324077Z",
     "iopub.status.idle": "2023-08-13T15:59:06.994240Z",
     "shell.execute_reply": "2023-08-13T15:59:06.993941Z"
    },
    "ExecuteTime": {
     "end_time": "2024-08-16T10:09:56.602214Z",
     "start_time": "2024-08-16T10:09:56.389003Z"
    }
   },
   "source": [
    "# Import Soundscapy\n",
    "import soundscapy as sspy\n",
    "from soundscapy.databases import isd\n",
    "\n",
    "# Load the ISD dataset\n",
    "df = isd.load()\n",
    "print(df.shape)\n",
    "\n",
    "# Validate the dataset with ISD-custom checks\n",
    "df, excl = isd.validate(df)\n",
    "print(f\"Valid samples: {df.shape[0]}, Excluded samples: {excl.shape[0]}\")"
   ],
   "execution_count": 2,
   "outputs": []
  },
  {
   "cell_type": "markdown",
   "id": "3d157d8a",
   "metadata": {
    "cell_marker": "\"\"\""
   },
   "source": [
    "### Calculating ISOPleasant and ISOEventful Coordinates\n",
    "\n",
    "Next, we'll calculate the ISOCoordinate values:"
   ]
  },
  {
   "metadata": {
    "ExecuteTime": {
     "end_time": "2024-08-16T10:09:56.768697Z",
     "start_time": "2024-08-16T10:09:56.602929Z"
    }
   },
   "cell_type": "code",
   "source": [
    "df = sspy.surveys.add_iso_coords(df)\n",
    "df[['ISOPleasant', 'ISOEventful']].head()"
   ],
   "id": "17603e7755662d00",
   "execution_count": 3,
   "outputs": []
  },
  {
   "cell_type": "markdown",
   "id": "9ca3ce87",
   "metadata": {
    "cell_marker": "\"\"\""
   },
   "source": [
    "`Soundscapy` expects the PAQ values to be Likert scale values ranging from 1 to 5 by default, as specified in ISO 12913 and the SSID Protocol. However, it is possible to use data which, although structured the same way, has a different range of values. For instance this could be a 7-point Likert scale, or a 0 to 100 scale. By passing these numbers both to `validate_dataset()` and `add_paq_coords()` as the `val_range`, `Soundscapy` will check that the data conforms to what is expected and will automatically scale the ISOCoordinates from -1 to +1 depending on the original value range. \n",
    "\n",
    "For example:"
   ]
  },
  {
   "cell_type": "code",
   "id": "0392e984",
   "metadata": {
    "execution": {
     "iopub.execute_input": "2023-08-13T15:59:07.229603Z",
     "iopub.status.busy": "2023-08-13T15:59:07.229511Z",
     "iopub.status.idle": "2023-08-13T15:59:07.243861Z",
     "shell.execute_reply": "2023-08-13T15:59:07.243597Z"
    },
    "ExecuteTime": {
     "end_time": "2024-08-16T10:09:56.774942Z",
     "start_time": "2024-08-16T10:09:56.770003Z"
    }
   },
   "source": [
    "import pandas as pd\n",
    "val_range = (0, 100)\n",
    "sample_transform = {\n",
    "    \"RecordID\": [\"EX1\", \"EX2\"],\n",
    "    \"pleasant\": [40, 25],\n",
    "    \"vibrant\": [45, 31],\n",
    "    \"eventful\": [41, 54],\n",
    "    \"chaotic\": [24, 56],\n",
    "    \"annoying\": [8, 52],\n",
    "    \"monotonous\": [31, 55],\n",
    "    \"uneventful\": [37, 31],\n",
    "    \"calm\": [40, 10],\n",
    "}\n",
    "sample_transform = pd.DataFrame().from_dict(sample_transform)\n",
    "sample_transform = sspy.surveys.rename_paqs(sample_transform)\n",
    "sample_transform = sspy.surveys.add_iso_coords(sample_transform, val_range=val_range)\n",
    "sample_transform"
   ],
   "execution_count": 4,
   "outputs": []
  },
  {
   "cell_type": "markdown",
   "id": "5f36fe38",
   "metadata": {
    "cell_marker": "\"\"\""
   },
   "source": [
    "### Filtering Data\n",
    "\n",
    "`Soundscapy` includes methods for several filters that are normally needed within the ISD, such as filtering by `LocationID` or `SessionID`."
   ]
  },
  {
   "cell_type": "code",
   "id": "49b8abfc",
   "metadata": {
    "execution": {
     "iopub.execute_input": "2023-08-13T15:59:07.264726Z",
     "iopub.status.busy": "2023-08-13T15:59:07.264642Z",
     "iopub.status.idle": "2023-08-13T15:59:07.285762Z",
     "shell.execute_reply": "2023-08-13T15:59:07.285519Z"
    },
    "ExecuteTime": {
     "end_time": "2024-08-16T10:09:56.794724Z",
     "start_time": "2024-08-16T10:09:56.775594Z"
    }
   },
   "source": [
    "# Filter by location\n",
    "camden_data = isd.select_location_ids(df, ['CamdenTown'])\n",
    "print(f\"Camden Town samples: {camden_data.shape[0]}\")\n",
    "\n",
    "# Filter by session\n",
    "regent_data = isd.select_session_ids(df, ['RegentsParkJapan1'])\n",
    "print(f\"Regent's Park Japan session 1 samples: {regent_data.shape[0]}\")\n",
    "\n",
    "# Complex filtering using pandas query\n",
    "women_over_50 = df.query(\"gen00 == 'Female' and age00 > 50\")\n",
    "print(f\"Women over 50: {women_over_50.shape[0]}\")"
   ],
   "execution_count": 5,
   "outputs": []
  },
  {
   "cell_type": "markdown",
   "id": "73ae7ed6",
   "metadata": {
    "cell_marker": "\"\"\""
   },
   "source": [
    "All of these filters can also be chained together. So, for instance, to return surveys from women over 50 taken in Camden Town, we would do:"
   ]
  },
  {
   "cell_type": "code",
   "id": "06b51f92",
   "metadata": {
    "execution": {
     "iopub.execute_input": "2023-08-13T15:59:07.352987Z",
     "iopub.status.busy": "2023-08-13T15:59:07.352919Z",
     "iopub.status.idle": "2023-08-13T15:59:07.374112Z",
     "shell.execute_reply": "2023-08-13T15:59:07.373866Z"
    },
    "ExecuteTime": {
     "end_time": "2024-08-16T10:09:56.812448Z",
     "start_time": "2024-08-16T10:09:56.795436Z"
    }
   },
   "source": [
    "isd.select_location_ids(df, 'CamdenTown').query(\"gen00 == 'Female' and age00 > 50\")"
   ],
   "execution_count": 6,
   "outputs": []
  },
  {
   "cell_type": "markdown",
   "id": "a36c3259",
   "metadata": {
    "cell_marker": "\"\"\""
   },
   "source": [
    "## Plotting\n",
    "\n",
    "Soundscapy offers various plotting functions to visualize soundscape data. Let's explore some of them:\n",
    "\n",
    "### Scatter plots\n"
   ]
  },
  {
   "metadata": {
    "ExecuteTime": {
     "end_time": "2024-08-16T10:09:57.080928Z",
     "start_time": "2024-08-16T10:09:56.813082Z"
    }
   },
   "cell_type": "code",
   "source": [
    "from soundscapy.plotting import scatter_plot\n",
    "import matplotlib.pyplot as plt\n",
    "\n",
    "# Basic scatter plot\n",
    "ax = scatter_plot(isd.select_location_ids(df, ['RussellSq']), title=\"RussellSq\")\n",
    "plt.show()\n",
    "\n",
    "# Customized scatter plot with multiple locations\n",
    "ax = scatter_plot(isd.select_location_ids(df, ['RussellSq', 'EustonTap']), hue=\"LocationID\",\n",
    "                  title=\"Russell Square vs. Euston Tap\", diagonal_lines=True, legend_location=\"lower right\"\n",
    "                  )\n",
    "plt.show()"
   ],
   "id": "e1ce7c031c0f3bee",
   "execution_count": 7,
   "outputs": []
  },
  {
   "metadata": {},
   "cell_type": "markdown",
   "source": "### Density plots",
   "id": "9de398a437681203"
  },
  {
   "metadata": {
    "ExecuteTime": {
     "end_time": "2024-08-16T10:09:57.089909Z",
     "start_time": "2024-08-16T10:09:57.081736Z"
    }
   },
   "cell_type": "code",
   "source": "len(isd.select_location_ids(df, ['CamdenTown'])[:20])",
   "id": "4f7c107ef9c6879c",
   "execution_count": 8,
   "outputs": []
  },
  {
   "metadata": {
    "ExecuteTime": {
     "end_time": "2024-08-16T10:09:57.567552Z",
     "start_time": "2024-08-16T10:09:57.090576Z"
    }
   },
   "cell_type": "code",
   "source": [
    "from soundscapy.plotting import density_plot\n",
    "\n",
    "# Single density plot\n",
    "density_plot(isd.select_location_ids(df, ['CamdenTown']), title=\"Camden Town Density plot\", legend=True)\n",
    "plt.show()\n",
    "\n",
    "# Density comparisons with simple density lines\n",
    "density_plot(isd.select_location_ids(df, [\"CamdenTown\", \"RussellSq\", \"PancrasLock\"]), hue=\"LocationID\",\n",
    "             title=\"Comparison of the soundscapes of three urban spaces\", palette=\"husl\", incl_outline=True,\n",
    "             incl_scatter=True, figsize=(8, 8), simple_density=True\n",
    "             )\n",
    "plt.show()"
   ],
   "id": "4fb94cd86524e6d3",
   "execution_count": 9,
   "outputs": []
  },
  {
   "metadata": {},
   "cell_type": "markdown",
   "source": [
    "### Creating subplots\n",
    "\n",
    "`Soundscapy` also provides a method for creating subplots of the circumplex. This is particularly useful when comparing multiple locations."
   ],
   "id": "51df44dbecb2c1a7"
  },
  {
   "metadata": {
    "ExecuteTime": {
     "end_time": "2024-08-16T10:09:58.204958Z",
     "start_time": "2024-08-16T10:09:57.571044Z"
    }
   },
   "cell_type": "code",
   "source": [
    "from soundscapy.plotting import create_circumplex_subplots\n",
    "\n",
    "data_list = [sspy.isd.select_location_ids(df, loc) for loc in df[\"LocationID\"].unique()[:4]]\n",
    "fig = create_circumplex_subplots(\n",
    "    data_list,\n",
    "    plot_type=\"density\",\n",
    "    nrows=2,\n",
    "    ncols=2,\n",
    "    figsize=(12, 12),\n",
    "    legend=True,\n",
    "    incl_scatter=True,\n",
    "    subtitles=[loc for loc in df[\"LocationID\"].unique()[:4]],\n",
    "    title=\"Density plots of the first four locations\"\n",
    ")\n",
    "plt.show()"
   ],
   "id": "bab28d6c98976d61",
   "execution_count": 10,
   "outputs": []
  },
  {
   "metadata": {},
   "cell_type": "markdown",
   "source": "You can also do this manually if you need more control, by creating a figure and axes and then plotting the density plots on the axes.",
   "id": "bbe673bbecefc9f6"
  },
  {
   "metadata": {
    "ExecuteTime": {
     "end_time": "2024-08-16T10:09:58.997502Z",
     "start_time": "2024-08-16T10:09:58.205673Z"
    }
   },
   "cell_type": "code",
   "source": [
    "from soundscapy.plotting import density_plot\n",
    "\n",
    "fig, axes = plt.subplots(2, 2, figsize=(12, 12))\n",
    "for i, location in enumerate(df[\"LocationID\"].unique()[:4]):\n",
    "    density_plot(sspy.isd.select_location_ids(df, location), hue=\"SessionID\", title=location, incl_outline=True,\n",
    "                 simple_density=True, ax=axes.flatten()[i], legend=True\n",
    "                 )\n",
    "\n",
    "plt.tight_layout()\n",
    "plt.show()"
   ],
   "id": "66c03673bf82cc32",
   "execution_count": 11,
   "outputs": []
  },
  {
   "metadata": {},
   "cell_type": "markdown",
   "source": [
    "### Using Different Backends and advanced customisation\n",
    "\n",
    "Soundscapy supports both Seaborn and Plotly (limited support at the moment) backends for plotting:"
   ],
   "id": "dfa30efa99cdbcb9"
  },
  {
   "cell_type": "code",
   "id": "f1e71a75",
   "metadata": {
    "execution": {
     "iopub.execute_input": "2023-08-13T15:59:07.729384Z",
     "iopub.status.busy": "2023-08-13T15:59:07.729257Z",
     "iopub.status.idle": "2023-08-13T15:59:07.959221Z",
     "shell.execute_reply": "2023-08-13T15:59:07.958914Z"
    },
    "ExecuteTime": {
     "end_time": "2024-08-16T10:09:59.342220Z",
     "start_time": "2024-08-16T10:09:58.998336Z"
    }
   },
   "source": [
    "from soundscapy.plotting import CircumplexPlot, CircumplexPlotParams, Backend\n",
    "\n",
    "# Seaborn backend (default)\n",
    "seaborn_plot = CircumplexPlot(isd.select_location_ids(df, ['RussellSq']), CircumplexPlotParams(title=\"RussellSq\"), backend=Backend.SEABORN)\n",
    "seaborn_plot.scatter(apply_styling=True).show()\n",
    "\n",
    "# Plotly backend\n",
    "plotly_plot = CircumplexPlot(isd.select_location_ids(df, ['RussellSq']), CircumplexPlotParams(title=\"RussellSq\"), backend=Backend.PLOTLY)\n",
    "plotly_plot.scatter(apply_styling=True).show()"
   ],
   "execution_count": 12,
   "outputs": []
  },
  {
   "cell_type": "markdown",
   "source": [
    "### Using Adjusted Angles\n",
    "\n",
    "In Aletta et. al. (2024), we propose a method for adjusting the angles of the circumplex to better represent the perceptual space. These adjusted angles are derived for each language separately, meaning that, once projected, the circumplex coordinates will be comparable across all languages. This ability and the derived angles have been incorporated into `Soundscapy`."
   ],
   "metadata": {
    "collapsed": false
   },
   "id": "1f9b46d0fe6a0888"
  },
  {
   "cell_type": "code",
   "id": "ee4a4c193f93596d",
   "metadata": {
    "collapsed": false,
    "ExecuteTime": {
     "end_time": "2024-08-16T10:09:59.779363Z",
     "start_time": "2024-08-16T10:09:59.344102Z"
    }
   },
   "source": [
    "from soundscapy.surveys import LANGUAGE_ANGLES\n",
    "df = sspy.surveys.add_iso_coords(df, angles=LANGUAGE_ANGLES['eng'], names=(\"AdjustedPleasant\", \"AdjustedEventful\"), overwrite=True)\n",
    "\n",
    "density_plot(isd.select_location_ids(df, [\"CamdenTown\", \"RussellSq\"]), x=\"AdjustedPleasant\", y=\"AdjustedEventful\",\n",
    "             hue=\"LocationID\", incl_scatter=True\n",
    "             )\n"
   ],
   "execution_count": 13,
   "outputs": []
  },
  {
   "cell_type": "code",
   "source": [],
   "metadata": {
    "collapsed": false,
    "ExecuteTime": {
     "end_time": "2024-08-16T10:09:59.781678Z",
     "start_time": "2024-08-16T10:09:59.780152Z"
    }
   },
   "id": "2a55465967da8c0a",
   "execution_count": 13,
   "outputs": []
  }
 ],
 "metadata": {
  "jupytext": {
   "cell_markers": "\"\"\""
  },
  "kernelspec": {
   "display_name": "soundscapy-dev-3.7-test",
   "language": "python",
   "name": "python3"
  },
  "language_info": {
   "codemirror_mode": {
    "name": "ipython",
    "version": 3
   },
   "file_extension": ".py",
   "mimetype": "text/x-python",
   "name": "python",
   "nbconvert_exporter": "python",
   "pygments_lexer": "ipython3",
   "version": "3.11.4"
  },
  "vscode": {
   "interpreter": {
    "hash": "839cba8ae7f7082c5bcb3c590fd12f2b3a15a875e42d2935e5155aa711605eac"
   }
  }
 },
 "nbformat": 4,
 "nbformat_minor": 5
}
