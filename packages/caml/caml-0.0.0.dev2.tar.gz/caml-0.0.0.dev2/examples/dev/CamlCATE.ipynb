{
 "cells": [
  {
   "cell_type": "markdown",
   "metadata": {},
   "source": [
    "# Caml API Usage"
   ]
  },
  {
   "cell_type": "code",
   "execution_count": 1,
   "metadata": {},
   "outputs": [],
   "source": [
    "import os\n",
    "import sys\n",
    "\n",
    "os.environ[\"PYSPARK_PYTHON\"] = sys.executable\n",
    "os.environ[\"PYSPARK_DRIVER_PYTHON\"] = sys.executable\n",
    "\n",
    "datasets = [\"partially_linear_simple\",\"fully_heterogenous\",\"partially_linear_constant\",\"dowhy_linear\"]\n",
    "backends = [\"pandas\",\"pyspark\",\"polars\"]\n",
    "\n",
    "df_backend = backends[0]\n",
    "dataset = datasets[3]"
   ]
  },
  {
   "cell_type": "markdown",
   "metadata": {},
   "source": [
    "## Create Synthetic Data"
   ]
  },
  {
   "cell_type": "code",
   "execution_count": 2,
   "metadata": {},
   "outputs": [
    {
     "data": {
      "text/html": [
       "<pre style=\"white-space:pre;overflow-x:auto;line-height:normal;font-family:Menlo,'DejaVu Sans Mono',consolas,'Courier New',monospace\"><span style=\"color: #7fbfbf; text-decoration-color: #7fbfbf\">[08/25/24 22:50:41] </span><span style=\"color: #008000; text-decoration-color: #008000\">INFO    </span> Logging has been set up.                                                 <a href=\"file:///home/jakep/projects/caml/caml/logging.py\" target=\"_blank\"><span style=\"color: #7f7f7f; text-decoration-color: #7f7f7f\">logging.py</span></a><span style=\"color: #7f7f7f; text-decoration-color: #7f7f7f\">:</span><a href=\"file:///home/jakep/projects/caml/caml/logging.py#42\" target=\"_blank\"><span style=\"color: #7f7f7f; text-decoration-color: #7f7f7f\">42</span></a>\n",
       "</pre>\n"
      ],
      "text/plain": [
       "\u001b[2;36m[08/25/24 22:50:41]\u001b[0m\u001b[2;36m \u001b[0m\u001b[32mINFO    \u001b[0m Logging has been set up.                                                 \u001b]8;id=324874;file:///home/jakep/projects/caml/caml/logging.py\u001b\\\u001b[2mlogging.py\u001b[0m\u001b]8;;\u001b\\\u001b[2m:\u001b[0m\u001b]8;id=335458;file:///home/jakep/projects/caml/caml/logging.py#42\u001b\\\u001b[2m42\u001b[0m\u001b]8;;\u001b\\\n"
      ]
     },
     "metadata": {},
     "output_type": "display_data"
    }
   ],
   "source": [
    "from caml.extensions.synthetic_data import (make_partially_linear_dataset_simple,\n",
    "                                             make_fully_heterogeneous_dataset,\n",
    "                                             make_partially_linear_dataset_constant,\n",
    "                                             make_dowhy_linear_dataset)\n",
    "\n",
    "if dataset == \"partially_linear_simple\":\n",
    "    df, true_cates, true_ate = make_partially_linear_dataset_simple(\n",
    "        n_obs=10000,\n",
    "        n_confounders=5,\n",
    "        dim_heterogeneity=2,\n",
    "        binary_treatment=True,\n",
    "        seed=None,\n",
    "    )\n",
    "    df[\"true_cates\"] = true_cates\n",
    "elif dataset == \"fully_heterogenous\":\n",
    "    df, true_cates, true_ate = make_fully_heterogeneous_dataset(\n",
    "        n_obs=10000,\n",
    "        n_confounders=10,\n",
    "        theta=4.0,\n",
    "        seed=None,\n",
    "    )\n",
    "    df[\"true_cates\"] = true_cates\n",
    "elif dataset == \"partially_linear_constant\":\n",
    "    df, true_cates, true_ate = make_partially_linear_dataset_constant(\n",
    "        n_obs=10000,\n",
    "        ate=4.0,\n",
    "        n_confounders=5,\n",
    "        dgp=\"make_plr_CCDDHNR2018\", # make_plr_turrell2018\n",
    "        seed=None,\n",
    "    )\n",
    "    df[\"true_cates\"] = true_cates\n",
    "elif dataset == \"dowhy_linear\":\n",
    "    df, true_cates, true_ate = make_dowhy_linear_dataset(\n",
    "        beta=2.0,\n",
    "        n_obs=10000,\n",
    "        n_confounders=10,\n",
    "        n_discrete_confounders=3,\n",
    "        n_effect_modifiers=6,\n",
    "        n_discrete_effect_modifiers=2,\n",
    "        n_treatments=1,\n",
    "        binary_treatment=False,\n",
    "        categorical_treatment=True,\n",
    "        binary_outcome=False,\n",
    "        seed=0)\n",
    "\n",
    "    for i in range(1,len(true_cates)+1):\n",
    "        if isinstance(true_cates[f\"d{i}\"],list):\n",
    "            df[f\"true_cate_d{i}_1\"] = true_cates[f\"d{i}\"][0]\n",
    "            df[f\"true_cate_d{i}_2\"] = true_cates[f\"d{i}\"][1]\n",
    "        else:\n",
    "            df[f\"true_cate_d{i}\"] = true_cates[f\"d{i}\"]\n",
    "\n",
    "\n",
    "df[\"uuid\"] = df.index"
   ]
  },
  {
   "cell_type": "code",
   "execution_count": 3,
   "metadata": {},
   "outputs": [],
   "source": [
    "import polars as pl\n",
    "\n",
    "try:\n",
    "    from pyspark.sql import SparkSession\n",
    "except ImportError:\n",
    "    pass\n",
    "\n",
    "if df_backend == \"polars\":\n",
    "    df = pl.from_pandas(df)\n",
    "    spark = None\n",
    "elif df_backend == \"pandas\":\n",
    "    spark = None\n",
    "    pass\n",
    "elif df_backend == \"pyspark\":\n",
    "    spark = (\n",
    "        SparkSession.builder.master(\"local[1]\")\n",
    "        .appName(\"local-tests\")\n",
    "        .config(\"spark.executor.cores\", \"1\")\n",
    "        .config(\"spark.executor.instances\", \"1\")\n",
    "        .config(\"spark.sql.shuffle.partitions\", \"1\")\n",
    "        .getOrCreate()\n",
    "    )\n",
    "    df = spark.createDataFrame(df)"
   ]
  },
  {
   "cell_type": "code",
   "execution_count": 4,
   "metadata": {},
   "outputs": [
    {
     "data": {
      "text/html": [
       "<div>\n",
       "<style scoped>\n",
       "    .dataframe tbody tr th:only-of-type {\n",
       "        vertical-align: middle;\n",
       "    }\n",
       "\n",
       "    .dataframe tbody tr th {\n",
       "        vertical-align: top;\n",
       "    }\n",
       "\n",
       "    .dataframe thead th {\n",
       "        text-align: right;\n",
       "    }\n",
       "</style>\n",
       "<table border=\"1\" class=\"dataframe\">\n",
       "  <thead>\n",
       "    <tr style=\"text-align: right;\">\n",
       "      <th></th>\n",
       "      <th>X0</th>\n",
       "      <th>X1</th>\n",
       "      <th>X2</th>\n",
       "      <th>X3</th>\n",
       "      <th>X4</th>\n",
       "      <th>X5</th>\n",
       "      <th>W0</th>\n",
       "      <th>W1</th>\n",
       "      <th>W2</th>\n",
       "      <th>W3</th>\n",
       "      <th>...</th>\n",
       "      <th>W5</th>\n",
       "      <th>W6</th>\n",
       "      <th>W7</th>\n",
       "      <th>W8</th>\n",
       "      <th>W9</th>\n",
       "      <th>d1</th>\n",
       "      <th>y</th>\n",
       "      <th>true_cate_d1_1</th>\n",
       "      <th>true_cate_d1_2</th>\n",
       "      <th>uuid</th>\n",
       "    </tr>\n",
       "  </thead>\n",
       "  <tbody>\n",
       "    <tr>\n",
       "      <th>0</th>\n",
       "      <td>-1.676664</td>\n",
       "      <td>0.590863</td>\n",
       "      <td>0.847605</td>\n",
       "      <td>1.086753</td>\n",
       "      <td>1</td>\n",
       "      <td>0</td>\n",
       "      <td>0.241671</td>\n",
       "      <td>1.884652</td>\n",
       "      <td>0.966564</td>\n",
       "      <td>0.211441</td>\n",
       "      <td>...</td>\n",
       "      <td>0.625463</td>\n",
       "      <td>1.369253</td>\n",
       "      <td>1</td>\n",
       "      <td>2</td>\n",
       "      <td>0</td>\n",
       "      <td>1.0</td>\n",
       "      <td>12.770049</td>\n",
       "      <td>3.575139</td>\n",
       "      <td>7.150279</td>\n",
       "      <td>0</td>\n",
       "    </tr>\n",
       "    <tr>\n",
       "      <th>1</th>\n",
       "      <td>-1.242579</td>\n",
       "      <td>1.638140</td>\n",
       "      <td>1.262156</td>\n",
       "      <td>-2.362890</td>\n",
       "      <td>3</td>\n",
       "      <td>1</td>\n",
       "      <td>-2.455363</td>\n",
       "      <td>1.083997</td>\n",
       "      <td>1.069963</td>\n",
       "      <td>-0.652399</td>\n",
       "      <td>...</td>\n",
       "      <td>-1.162577</td>\n",
       "      <td>-0.079067</td>\n",
       "      <td>1</td>\n",
       "      <td>3</td>\n",
       "      <td>3</td>\n",
       "      <td>1.0</td>\n",
       "      <td>12.660524</td>\n",
       "      <td>5.933978</td>\n",
       "      <td>11.867955</td>\n",
       "      <td>1</td>\n",
       "    </tr>\n",
       "    <tr>\n",
       "      <th>2</th>\n",
       "      <td>-1.201035</td>\n",
       "      <td>-1.449302</td>\n",
       "      <td>0.061269</td>\n",
       "      <td>-0.868967</td>\n",
       "      <td>2</td>\n",
       "      <td>1</td>\n",
       "      <td>0.252574</td>\n",
       "      <td>0.808541</td>\n",
       "      <td>-0.682259</td>\n",
       "      <td>-1.891030</td>\n",
       "      <td>...</td>\n",
       "      <td>0.448137</td>\n",
       "      <td>1.105465</td>\n",
       "      <td>3</td>\n",
       "      <td>1</td>\n",
       "      <td>1</td>\n",
       "      <td>1.0</td>\n",
       "      <td>10.833756</td>\n",
       "      <td>3.830137</td>\n",
       "      <td>7.660273</td>\n",
       "      <td>2</td>\n",
       "    </tr>\n",
       "    <tr>\n",
       "      <th>3</th>\n",
       "      <td>-1.044843</td>\n",
       "      <td>0.007703</td>\n",
       "      <td>-1.111472</td>\n",
       "      <td>-0.767243</td>\n",
       "      <td>0</td>\n",
       "      <td>0</td>\n",
       "      <td>-0.950926</td>\n",
       "      <td>-0.989639</td>\n",
       "      <td>-1.500743</td>\n",
       "      <td>2.040542</td>\n",
       "      <td>...</td>\n",
       "      <td>-0.146286</td>\n",
       "      <td>-1.377621</td>\n",
       "      <td>3</td>\n",
       "      <td>0</td>\n",
       "      <td>1</td>\n",
       "      <td>0.0</td>\n",
       "      <td>1.621129</td>\n",
       "      <td>0.340239</td>\n",
       "      <td>0.680477</td>\n",
       "      <td>3</td>\n",
       "    </tr>\n",
       "    <tr>\n",
       "      <th>4</th>\n",
       "      <td>0.988896</td>\n",
       "      <td>-0.506787</td>\n",
       "      <td>0.342865</td>\n",
       "      <td>-0.324748</td>\n",
       "      <td>3</td>\n",
       "      <td>0</td>\n",
       "      <td>-0.797840</td>\n",
       "      <td>0.817281</td>\n",
       "      <td>-0.305278</td>\n",
       "      <td>-1.090866</td>\n",
       "      <td>...</td>\n",
       "      <td>0.720120</td>\n",
       "      <td>-0.058308</td>\n",
       "      <td>2</td>\n",
       "      <td>1</td>\n",
       "      <td>1</td>\n",
       "      <td>1.0</td>\n",
       "      <td>8.212666</td>\n",
       "      <td>4.433707</td>\n",
       "      <td>8.867415</td>\n",
       "      <td>4</td>\n",
       "    </tr>\n",
       "    <tr>\n",
       "      <th>...</th>\n",
       "      <td>...</td>\n",
       "      <td>...</td>\n",
       "      <td>...</td>\n",
       "      <td>...</td>\n",
       "      <td>...</td>\n",
       "      <td>...</td>\n",
       "      <td>...</td>\n",
       "      <td>...</td>\n",
       "      <td>...</td>\n",
       "      <td>...</td>\n",
       "      <td>...</td>\n",
       "      <td>...</td>\n",
       "      <td>...</td>\n",
       "      <td>...</td>\n",
       "      <td>...</td>\n",
       "      <td>...</td>\n",
       "      <td>...</td>\n",
       "      <td>...</td>\n",
       "      <td>...</td>\n",
       "      <td>...</td>\n",
       "      <td>...</td>\n",
       "    </tr>\n",
       "    <tr>\n",
       "      <th>9995</th>\n",
       "      <td>-1.921174</td>\n",
       "      <td>0.121931</td>\n",
       "      <td>1.901082</td>\n",
       "      <td>0.139763</td>\n",
       "      <td>3</td>\n",
       "      <td>3</td>\n",
       "      <td>2.618457</td>\n",
       "      <td>0.305495</td>\n",
       "      <td>0.223595</td>\n",
       "      <td>-0.908856</td>\n",
       "      <td>...</td>\n",
       "      <td>-0.273319</td>\n",
       "      <td>-0.580064</td>\n",
       "      <td>2</td>\n",
       "      <td>3</td>\n",
       "      <td>1</td>\n",
       "      <td>2.0</td>\n",
       "      <td>28.389859</td>\n",
       "      <td>9.601107</td>\n",
       "      <td>19.202214</td>\n",
       "      <td>9995</td>\n",
       "    </tr>\n",
       "    <tr>\n",
       "      <th>9996</th>\n",
       "      <td>-1.177932</td>\n",
       "      <td>-0.180092</td>\n",
       "      <td>0.311408</td>\n",
       "      <td>-1.736921</td>\n",
       "      <td>2</td>\n",
       "      <td>2</td>\n",
       "      <td>-0.448078</td>\n",
       "      <td>2.127144</td>\n",
       "      <td>-0.302659</td>\n",
       "      <td>0.093387</td>\n",
       "      <td>...</td>\n",
       "      <td>0.543350</td>\n",
       "      <td>-0.463007</td>\n",
       "      <td>3</td>\n",
       "      <td>1</td>\n",
       "      <td>2</td>\n",
       "      <td>1.0</td>\n",
       "      <td>12.339251</td>\n",
       "      <td>5.461511</td>\n",
       "      <td>10.923022</td>\n",
       "      <td>9996</td>\n",
       "    </tr>\n",
       "    <tr>\n",
       "      <th>9997</th>\n",
       "      <td>0.238597</td>\n",
       "      <td>-2.092318</td>\n",
       "      <td>1.618289</td>\n",
       "      <td>-0.472539</td>\n",
       "      <td>3</td>\n",
       "      <td>1</td>\n",
       "      <td>-0.270160</td>\n",
       "      <td>-0.137979</td>\n",
       "      <td>-0.515721</td>\n",
       "      <td>0.288046</td>\n",
       "      <td>...</td>\n",
       "      <td>1.206545</td>\n",
       "      <td>0.318931</td>\n",
       "      <td>1</td>\n",
       "      <td>0</td>\n",
       "      <td>1</td>\n",
       "      <td>1.0</td>\n",
       "      <td>9.294169</td>\n",
       "      <td>6.455389</td>\n",
       "      <td>12.910778</td>\n",
       "      <td>9997</td>\n",
       "    </tr>\n",
       "    <tr>\n",
       "      <th>9998</th>\n",
       "      <td>-1.299908</td>\n",
       "      <td>-0.315052</td>\n",
       "      <td>0.820170</td>\n",
       "      <td>-2.162909</td>\n",
       "      <td>3</td>\n",
       "      <td>1</td>\n",
       "      <td>0.526198</td>\n",
       "      <td>0.265380</td>\n",
       "      <td>1.070489</td>\n",
       "      <td>-0.557896</td>\n",
       "      <td>...</td>\n",
       "      <td>-0.045927</td>\n",
       "      <td>-2.153374</td>\n",
       "      <td>3</td>\n",
       "      <td>0</td>\n",
       "      <td>0</td>\n",
       "      <td>2.0</td>\n",
       "      <td>13.160182</td>\n",
       "      <td>5.082198</td>\n",
       "      <td>10.164396</td>\n",
       "      <td>9998</td>\n",
       "    </tr>\n",
       "    <tr>\n",
       "      <th>9999</th>\n",
       "      <td>0.184391</td>\n",
       "      <td>-0.061206</td>\n",
       "      <td>1.841741</td>\n",
       "      <td>-1.382259</td>\n",
       "      <td>3</td>\n",
       "      <td>3</td>\n",
       "      <td>-0.386170</td>\n",
       "      <td>1.718436</td>\n",
       "      <td>0.075648</td>\n",
       "      <td>-0.108312</td>\n",
       "      <td>...</td>\n",
       "      <td>-0.099655</td>\n",
       "      <td>-0.737232</td>\n",
       "      <td>0</td>\n",
       "      <td>3</td>\n",
       "      <td>1</td>\n",
       "      <td>1.0</td>\n",
       "      <td>13.502377</td>\n",
       "      <td>9.568777</td>\n",
       "      <td>19.137554</td>\n",
       "      <td>9999</td>\n",
       "    </tr>\n",
       "  </tbody>\n",
       "</table>\n",
       "<p>10000 rows × 21 columns</p>\n",
       "</div>"
      ],
      "text/plain": [
       "            X0        X1        X2        X3 X4 X5        W0        W1  \\\n",
       "0    -1.676664  0.590863  0.847605  1.086753  1  0  0.241671  1.884652   \n",
       "1    -1.242579  1.638140  1.262156 -2.362890  3  1 -2.455363  1.083997   \n",
       "2    -1.201035 -1.449302  0.061269 -0.868967  2  1  0.252574  0.808541   \n",
       "3    -1.044843  0.007703 -1.111472 -0.767243  0  0 -0.950926 -0.989639   \n",
       "4     0.988896 -0.506787  0.342865 -0.324748  3  0 -0.797840  0.817281   \n",
       "...        ...       ...       ...       ... .. ..       ...       ...   \n",
       "9995 -1.921174  0.121931  1.901082  0.139763  3  3  2.618457  0.305495   \n",
       "9996 -1.177932 -0.180092  0.311408 -1.736921  2  2 -0.448078  2.127144   \n",
       "9997  0.238597 -2.092318  1.618289 -0.472539  3  1 -0.270160 -0.137979   \n",
       "9998 -1.299908 -0.315052  0.820170 -2.162909  3  1  0.526198  0.265380   \n",
       "9999  0.184391 -0.061206  1.841741 -1.382259  3  3 -0.386170  1.718436   \n",
       "\n",
       "            W2        W3  ...        W5        W6  W7 W8 W9   d1          y  \\\n",
       "0     0.966564  0.211441  ...  0.625463  1.369253   1  2  0  1.0  12.770049   \n",
       "1     1.069963 -0.652399  ... -1.162577 -0.079067   1  3  3  1.0  12.660524   \n",
       "2    -0.682259 -1.891030  ...  0.448137  1.105465   3  1  1  1.0  10.833756   \n",
       "3    -1.500743  2.040542  ... -0.146286 -1.377621   3  0  1  0.0   1.621129   \n",
       "4    -0.305278 -1.090866  ...  0.720120 -0.058308   2  1  1  1.0   8.212666   \n",
       "...        ...       ...  ...       ...       ...  .. .. ..  ...        ...   \n",
       "9995  0.223595 -0.908856  ... -0.273319 -0.580064   2  3  1  2.0  28.389859   \n",
       "9996 -0.302659  0.093387  ...  0.543350 -0.463007   3  1  2  1.0  12.339251   \n",
       "9997 -0.515721  0.288046  ...  1.206545  0.318931   1  0  1  1.0   9.294169   \n",
       "9998  1.070489 -0.557896  ... -0.045927 -2.153374   3  0  0  2.0  13.160182   \n",
       "9999  0.075648 -0.108312  ... -0.099655 -0.737232   0  3  1  1.0  13.502377   \n",
       "\n",
       "      true_cate_d1_1  true_cate_d1_2  uuid  \n",
       "0           3.575139        7.150279     0  \n",
       "1           5.933978       11.867955     1  \n",
       "2           3.830137        7.660273     2  \n",
       "3           0.340239        0.680477     3  \n",
       "4           4.433707        8.867415     4  \n",
       "...              ...             ...   ...  \n",
       "9995        9.601107       19.202214  9995  \n",
       "9996        5.461511       10.923022  9996  \n",
       "9997        6.455389       12.910778  9997  \n",
       "9998        5.082198       10.164396  9998  \n",
       "9999        9.568777       19.137554  9999  \n",
       "\n",
       "[10000 rows x 21 columns]"
      ]
     },
     "execution_count": 4,
     "metadata": {},
     "output_type": "execute_result"
    }
   ],
   "source": [
    "df"
   ]
  },
  {
   "cell_type": "markdown",
   "metadata": {},
   "source": [
    "## Core API"
   ]
  },
  {
   "cell_type": "markdown",
   "metadata": {},
   "source": [
    "### CamlCATE"
   ]
  },
  {
   "cell_type": "markdown",
   "metadata": {},
   "source": [
    "#### Class Instantiation"
   ]
  },
  {
   "cell_type": "code",
   "execution_count": 5,
   "metadata": {},
   "outputs": [
    {
     "data": {
      "text/html": [
       "<pre style=\"white-space:pre;overflow-x:auto;line-height:normal;font-family:Menlo,'DejaVu Sans Mono',consolas,'Courier New',monospace\"><span style=\"color: #7fbfbf; text-decoration-color: #7fbfbf\">[08/25/24 22:50:42] </span><span style=\"color: #808000; text-decoration-color: #808000\">WARNING </span> Validation for continuous treatments is not supported yet.                 <a href=\"file:///home/jakep/projects/caml/caml/core/cate.py\" target=\"_blank\"><span style=\"color: #7f7f7f; text-decoration-color: #7f7f7f\">cate.py</span></a><span style=\"color: #7f7f7f; text-decoration-color: #7f7f7f\">:</span><a href=\"file:///home/jakep/projects/caml/caml/core/cate.py#233\" target=\"_blank\"><span style=\"color: #7f7f7f; text-decoration-color: #7f7f7f\">233</span></a>\n",
       "</pre>\n"
      ],
      "text/plain": [
       "\u001b[2;36m[08/25/24 22:50:42]\u001b[0m\u001b[2;36m \u001b[0m\u001b[33mWARNING \u001b[0m Validation for continuous treatments is not supported yet.                 \u001b]8;id=722664;file:///home/jakep/projects/caml/caml/core/cate.py\u001b\\\u001b[2mcate.py\u001b[0m\u001b]8;;\u001b\\\u001b[2m:\u001b[0m\u001b]8;id=167474;file:///home/jakep/projects/caml/caml/core/cate.py#233\u001b\\\u001b[2m233\u001b[0m\u001b]8;;\u001b\\\n"
      ]
     },
     "metadata": {},
     "output_type": "display_data"
    }
   ],
   "source": [
    "from caml import CamlCATE\n",
    "\n",
    "caml = CamlCATE(\n",
    "    df=df,\n",
    "    Y=\"y\",\n",
    "    T=\"d1\",\n",
    "    X=[c for c in df.columns if \"X\" in c],\n",
    "    W=[c for c in df.columns if \"W\" in c],\n",
    "    uuid=\"uuid\",\n",
    "    discrete_treatment=True,\n",
    "    discrete_outcome=False,\n",
    "    seed=0,\n",
    ")"
   ]
  },
  {
   "cell_type": "markdown",
   "metadata": {},
   "source": [
    "#### Nuissance Function AutoML"
   ]
  },
  {
   "cell_type": "code",
   "execution_count": 6,
   "metadata": {},
   "outputs": [
    {
     "name": "stdout",
     "output_type": "stream",
     "text": [
      "[flaml.automl.logger: 08-25 22:50:42] {1680} INFO - task = regression\n",
      "[flaml.automl.logger: 08-25 22:50:42] {1691} INFO - Evaluation method: cv\n",
      "[flaml.automl.logger: 08-25 22:50:42] {1789} INFO - Minimizing error metric: mse\n",
      "[flaml.automl.logger: 08-25 22:50:42] {1901} INFO - List of ML learners in AutoML Run: ['lgbm', 'rf', 'xgboost', 'extra_tree', 'xgb_limitdepth']\n",
      "[flaml.automl.logger: 08-25 22:50:42] {2219} INFO - iteration 0, current learner lgbm\n",
      "[flaml.automl.logger: 08-25 22:50:42] {2345} INFO - Estimated sufficient time budget=4644s. Estimated necessary time budget=33s.\n",
      "[flaml.automl.logger: 08-25 22:50:42] {2392} INFO -  at 0.5s,\testimator lgbm's best error=26.5323,\tbest estimator lgbm's best error=26.5323\n",
      "[flaml.automl.logger: 08-25 22:50:42] {2219} INFO - iteration 1, current learner lgbm\n",
      "[flaml.automl.logger: 08-25 22:50:43] {2392} INFO -  at 1.4s,\testimator lgbm's best error=25.5686,\tbest estimator lgbm's best error=25.5686\n",
      "[flaml.automl.logger: 08-25 22:50:43] {2219} INFO - iteration 2, current learner xgboost\n",
      "[flaml.automl.logger: 08-25 22:50:44] {2392} INFO -  at 1.9s,\testimator xgboost's best error=26.5354,\tbest estimator lgbm's best error=25.5686\n",
      "[flaml.automl.logger: 08-25 22:50:44] {2219} INFO - iteration 3, current learner xgboost\n",
      "[flaml.automl.logger: 08-25 22:50:45] {2392} INFO -  at 3.0s,\testimator xgboost's best error=25.3515,\tbest estimator xgboost's best error=25.3515\n",
      "[flaml.automl.logger: 08-25 22:50:45] {2219} INFO - iteration 4, current learner extra_tree\n",
      "[flaml.automl.logger: 08-25 22:50:45] {2392} INFO -  at 3.2s,\testimator extra_tree's best error=24.2596,\tbest estimator extra_tree's best error=24.2596\n",
      "[flaml.automl.logger: 08-25 22:50:45] {2219} INFO - iteration 5, current learner lgbm\n",
      "[flaml.automl.logger: 08-25 22:50:45] {2392} INFO -  at 3.6s,\testimator lgbm's best error=25.5686,\tbest estimator extra_tree's best error=24.2596\n",
      "[flaml.automl.logger: 08-25 22:50:45] {2219} INFO - iteration 6, current learner extra_tree\n",
      "[flaml.automl.logger: 08-25 22:50:45] {2392} INFO -  at 3.7s,\testimator extra_tree's best error=23.1833,\tbest estimator extra_tree's best error=23.1833\n",
      "[flaml.automl.logger: 08-25 22:50:45] {2219} INFO - iteration 7, current learner extra_tree\n",
      "[flaml.automl.logger: 08-25 22:50:46] {2392} INFO -  at 3.8s,\testimator extra_tree's best error=22.8870,\tbest estimator extra_tree's best error=22.8870\n",
      "[flaml.automl.logger: 08-25 22:50:46] {2219} INFO - iteration 8, current learner extra_tree\n",
      "[flaml.automl.logger: 08-25 22:50:46] {2392} INFO -  at 3.9s,\testimator extra_tree's best error=19.3458,\tbest estimator extra_tree's best error=19.3458\n",
      "[flaml.automl.logger: 08-25 22:50:46] {2219} INFO - iteration 9, current learner extra_tree\n",
      "[flaml.automl.logger: 08-25 22:50:46] {2392} INFO -  at 4.1s,\testimator extra_tree's best error=18.3965,\tbest estimator extra_tree's best error=18.3965\n",
      "[flaml.automl.logger: 08-25 22:50:46] {2219} INFO - iteration 10, current learner extra_tree\n",
      "[flaml.automl.logger: 08-25 22:50:46] {2392} INFO -  at 4.2s,\testimator extra_tree's best error=18.3965,\tbest estimator extra_tree's best error=18.3965\n",
      "[flaml.automl.logger: 08-25 22:50:46] {2219} INFO - iteration 11, current learner extra_tree\n",
      "[flaml.automl.logger: 08-25 22:50:46] {2392} INFO -  at 4.3s,\testimator extra_tree's best error=16.5985,\tbest estimator extra_tree's best error=16.5985\n",
      "[flaml.automl.logger: 08-25 22:50:46] {2219} INFO - iteration 12, current learner extra_tree\n",
      "[flaml.automl.logger: 08-25 22:50:46] {2392} INFO -  at 4.5s,\testimator extra_tree's best error=15.1202,\tbest estimator extra_tree's best error=15.1202\n",
      "[flaml.automl.logger: 08-25 22:50:46] {2219} INFO - iteration 13, current learner extra_tree\n",
      "[flaml.automl.logger: 08-25 22:50:46] {2392} INFO -  at 4.6s,\testimator extra_tree's best error=15.1202,\tbest estimator extra_tree's best error=15.1202\n",
      "[flaml.automl.logger: 08-25 22:50:46] {2219} INFO - iteration 14, current learner extra_tree\n",
      "[flaml.automl.logger: 08-25 22:50:46] {2392} INFO -  at 4.7s,\testimator extra_tree's best error=15.1202,\tbest estimator extra_tree's best error=15.1202\n",
      "[flaml.automl.logger: 08-25 22:50:46] {2219} INFO - iteration 15, current learner extra_tree\n",
      "[flaml.automl.logger: 08-25 22:50:47] {2392} INFO -  at 4.9s,\testimator extra_tree's best error=13.9271,\tbest estimator extra_tree's best error=13.9271\n",
      "[flaml.automl.logger: 08-25 22:50:47] {2219} INFO - iteration 16, current learner extra_tree\n",
      "[flaml.automl.logger: 08-25 22:50:47] {2392} INFO -  at 5.1s,\testimator extra_tree's best error=13.9271,\tbest estimator extra_tree's best error=13.9271\n",
      "[flaml.automl.logger: 08-25 22:50:47] {2219} INFO - iteration 17, current learner xgboost\n",
      "[flaml.automl.logger: 08-25 22:50:47] {2392} INFO -  at 5.7s,\testimator xgboost's best error=25.3515,\tbest estimator extra_tree's best error=13.9271\n",
      "[flaml.automl.logger: 08-25 22:50:47] {2219} INFO - iteration 18, current learner extra_tree\n",
      "[flaml.automl.logger: 08-25 22:50:48] {2392} INFO -  at 5.9s,\testimator extra_tree's best error=12.8170,\tbest estimator extra_tree's best error=12.8170\n",
      "[flaml.automl.logger: 08-25 22:50:48] {2219} INFO - iteration 19, current learner extra_tree\n",
      "[flaml.automl.logger: 08-25 22:50:48] {2392} INFO -  at 6.2s,\testimator extra_tree's best error=12.2564,\tbest estimator extra_tree's best error=12.2564\n",
      "[flaml.automl.logger: 08-25 22:50:48] {2219} INFO - iteration 20, current learner extra_tree\n",
      "[flaml.automl.logger: 08-25 22:50:48] {2392} INFO -  at 6.4s,\testimator extra_tree's best error=12.2564,\tbest estimator extra_tree's best error=12.2564\n",
      "[flaml.automl.logger: 08-25 22:50:48] {2219} INFO - iteration 21, current learner extra_tree\n",
      "[flaml.automl.logger: 08-25 22:50:48] {2392} INFO -  at 6.7s,\testimator extra_tree's best error=12.2564,\tbest estimator extra_tree's best error=12.2564\n",
      "[flaml.automl.logger: 08-25 22:50:48] {2219} INFO - iteration 22, current learner extra_tree\n",
      "[flaml.automl.logger: 08-25 22:50:49] {2392} INFO -  at 6.8s,\testimator extra_tree's best error=12.2564,\tbest estimator extra_tree's best error=12.2564\n",
      "[flaml.automl.logger: 08-25 22:50:49] {2219} INFO - iteration 23, current learner extra_tree\n",
      "[flaml.automl.logger: 08-25 22:50:49] {2392} INFO -  at 7.0s,\testimator extra_tree's best error=12.2564,\tbest estimator extra_tree's best error=12.2564\n",
      "[flaml.automl.logger: 08-25 22:50:49] {2219} INFO - iteration 24, current learner extra_tree\n",
      "[flaml.automl.logger: 08-25 22:50:49] {2392} INFO -  at 7.5s,\testimator extra_tree's best error=12.2564,\tbest estimator extra_tree's best error=12.2564\n",
      "[flaml.automl.logger: 08-25 22:50:49] {2219} INFO - iteration 25, current learner rf\n",
      "[flaml.automl.logger: 08-25 22:50:49] {2392} INFO -  at 7.6s,\testimator rf's best error=24.0375,\tbest estimator extra_tree's best error=12.2564\n",
      "[flaml.automl.logger: 08-25 22:50:49] {2219} INFO - iteration 26, current learner rf\n",
      "[flaml.automl.logger: 08-25 22:50:50] {2392} INFO -  at 7.8s,\testimator rf's best error=23.5195,\tbest estimator extra_tree's best error=12.2564\n",
      "[flaml.automl.logger: 08-25 22:50:50] {2219} INFO - iteration 27, current learner extra_tree\n",
      "[flaml.automl.logger: 08-25 22:50:50] {2392} INFO -  at 8.0s,\testimator extra_tree's best error=12.2564,\tbest estimator extra_tree's best error=12.2564\n",
      "[flaml.automl.logger: 08-25 22:50:50] {2219} INFO - iteration 28, current learner extra_tree\n",
      "[flaml.automl.logger: 08-25 22:50:50] {2392} INFO -  at 8.5s,\testimator extra_tree's best error=11.7558,\tbest estimator extra_tree's best error=11.7558\n",
      "[flaml.automl.logger: 08-25 22:50:50] {2219} INFO - iteration 29, current learner extra_tree\n",
      "[flaml.automl.logger: 08-25 22:50:51] {2392} INFO -  at 8.7s,\testimator extra_tree's best error=11.7558,\tbest estimator extra_tree's best error=11.7558\n",
      "[flaml.automl.logger: 08-25 22:50:51] {2219} INFO - iteration 30, current learner rf\n",
      "[flaml.automl.logger: 08-25 22:50:51] {2392} INFO -  at 8.9s,\testimator rf's best error=22.5739,\tbest estimator extra_tree's best error=11.7558\n",
      "[flaml.automl.logger: 08-25 22:50:51] {2219} INFO - iteration 31, current learner rf\n",
      "[flaml.automl.logger: 08-25 22:50:51] {2392} INFO -  at 9.1s,\testimator rf's best error=19.1225,\tbest estimator extra_tree's best error=11.7558\n",
      "[flaml.automl.logger: 08-25 22:50:51] {2219} INFO - iteration 32, current learner rf\n",
      "[flaml.automl.logger: 08-25 22:50:51] {2392} INFO -  at 9.3s,\testimator rf's best error=18.0877,\tbest estimator extra_tree's best error=11.7558\n",
      "[flaml.automl.logger: 08-25 22:50:51] {2219} INFO - iteration 33, current learner extra_tree\n",
      "[flaml.automl.logger: 08-25 22:50:51] {2392} INFO -  at 9.5s,\testimator extra_tree's best error=11.7558,\tbest estimator extra_tree's best error=11.7558\n",
      "[flaml.automl.logger: 08-25 22:50:51] {2219} INFO - iteration 34, current learner rf\n",
      "[flaml.automl.logger: 08-25 22:50:52] {2392} INFO -  at 9.8s,\testimator rf's best error=18.0877,\tbest estimator extra_tree's best error=11.7558\n",
      "[flaml.automl.logger: 08-25 22:50:52] {2219} INFO - iteration 35, current learner rf\n",
      "[flaml.automl.logger: 08-25 22:50:52] {2392} INFO -  at 9.9s,\testimator rf's best error=16.7972,\tbest estimator extra_tree's best error=11.7558\n",
      "[flaml.automl.logger: 08-25 22:50:52] {2219} INFO - iteration 36, current learner xgb_limitdepth\n",
      "[flaml.automl.logger: 08-25 22:50:52] {2392} INFO -  at 10.0s,\testimator xgb_limitdepth's best error=24.2717,\tbest estimator extra_tree's best error=11.7558\n",
      "[flaml.automl.logger: 08-25 22:50:52] {2628} INFO - retrain extra_tree for 0.2s\n",
      "[flaml.automl.logger: 08-25 22:50:52] {2631} INFO - retrained model: ExtraTreesRegressor(max_features=0.6746160456930851, max_leaf_nodes=3769,\n",
      "                    n_estimators=140, n_jobs=-1, random_state=12032022)\n",
      "[flaml.automl.logger: 08-25 22:50:52] {1931} INFO - fit succeeded\n",
      "[flaml.automl.logger: 08-25 22:50:52] {1932} INFO - Time taken to find the best model: 8.481156349182129\n",
      "[flaml.automl.logger: 08-25 22:50:52] {1680} INFO - task = regression\n",
      "[flaml.automl.logger: 08-25 22:50:52] {1691} INFO - Evaluation method: cv\n",
      "[flaml.automl.logger: 08-25 22:50:52] {1789} INFO - Minimizing error metric: mse\n",
      "[flaml.automl.logger: 08-25 22:50:52] {1901} INFO - List of ML learners in AutoML Run: ['lgbm', 'rf', 'xgboost', 'extra_tree', 'xgb_limitdepth']\n",
      "[flaml.automl.logger: 08-25 22:50:52] {2219} INFO - iteration 0, current learner lgbm\n",
      "[flaml.automl.logger: 08-25 22:50:52] {2345} INFO - Estimated sufficient time budget=3660s. Estimated necessary time budget=26s.\n",
      "[flaml.automl.logger: 08-25 22:50:52] {2392} INFO -  at 0.4s,\testimator lgbm's best error=21.8930,\tbest estimator lgbm's best error=21.8930\n",
      "[flaml.automl.logger: 08-25 22:50:52] {2219} INFO - iteration 1, current learner lgbm\n",
      "[flaml.automl.logger: 08-25 22:50:53] {2392} INFO -  at 1.0s,\testimator lgbm's best error=20.5520,\tbest estimator lgbm's best error=20.5520\n",
      "[flaml.automl.logger: 08-25 22:50:53] {2219} INFO - iteration 2, current learner xgboost\n",
      "[flaml.automl.logger: 08-25 22:50:53] {2392} INFO -  at 1.4s,\testimator xgboost's best error=21.8930,\tbest estimator lgbm's best error=20.5520\n",
      "[flaml.automl.logger: 08-25 22:50:53] {2219} INFO - iteration 3, current learner xgboost\n",
      "[flaml.automl.logger: 08-25 22:50:54] {2392} INFO -  at 2.4s,\testimator xgboost's best error=19.9675,\tbest estimator xgboost's best error=19.9675\n",
      "[flaml.automl.logger: 08-25 22:50:54] {2219} INFO - iteration 4, current learner lgbm\n",
      "[flaml.automl.logger: 08-25 22:50:55] {2392} INFO -  at 2.9s,\testimator lgbm's best error=20.5520,\tbest estimator xgboost's best error=19.9675\n",
      "[flaml.automl.logger: 08-25 22:50:55] {2219} INFO - iteration 5, current learner extra_tree\n",
      "[flaml.automl.logger: 08-25 22:50:55] {2392} INFO -  at 3.0s,\testimator extra_tree's best error=16.3016,\tbest estimator extra_tree's best error=16.3016\n",
      "[flaml.automl.logger: 08-25 22:50:55] {2219} INFO - iteration 6, current learner extra_tree\n",
      "[flaml.automl.logger: 08-25 22:50:55] {2392} INFO -  at 3.2s,\testimator extra_tree's best error=15.3689,\tbest estimator extra_tree's best error=15.3689\n",
      "[flaml.automl.logger: 08-25 22:50:55] {2219} INFO - iteration 7, current learner extra_tree\n",
      "[flaml.automl.logger: 08-25 22:50:55] {2392} INFO -  at 3.3s,\testimator extra_tree's best error=13.9211,\tbest estimator extra_tree's best error=13.9211\n",
      "[flaml.automl.logger: 08-25 22:50:55] {2219} INFO - iteration 8, current learner extra_tree\n",
      "[flaml.automl.logger: 08-25 22:50:55] {2392} INFO -  at 3.4s,\testimator extra_tree's best error=10.9781,\tbest estimator extra_tree's best error=10.9781\n",
      "[flaml.automl.logger: 08-25 22:50:55] {2219} INFO - iteration 9, current learner extra_tree\n",
      "[flaml.automl.logger: 08-25 22:50:55] {2392} INFO -  at 3.5s,\testimator extra_tree's best error=10.2680,\tbest estimator extra_tree's best error=10.2680\n",
      "[flaml.automl.logger: 08-25 22:50:55] {2219} INFO - iteration 10, current learner extra_tree\n",
      "[flaml.automl.logger: 08-25 22:50:56] {2392} INFO -  at 3.7s,\testimator extra_tree's best error=10.2680,\tbest estimator extra_tree's best error=10.2680\n",
      "[flaml.automl.logger: 08-25 22:50:56] {2219} INFO - iteration 11, current learner extra_tree\n",
      "[flaml.automl.logger: 08-25 22:50:56] {2392} INFO -  at 3.8s,\testimator extra_tree's best error=8.3622,\tbest estimator extra_tree's best error=8.3622\n",
      "[flaml.automl.logger: 08-25 22:50:56] {2219} INFO - iteration 12, current learner extra_tree\n",
      "[flaml.automl.logger: 08-25 22:50:56] {2392} INFO -  at 3.9s,\testimator extra_tree's best error=6.9237,\tbest estimator extra_tree's best error=6.9237\n",
      "[flaml.automl.logger: 08-25 22:50:56] {2219} INFO - iteration 13, current learner extra_tree\n",
      "[flaml.automl.logger: 08-25 22:50:56] {2392} INFO -  at 4.1s,\testimator extra_tree's best error=6.9237,\tbest estimator extra_tree's best error=6.9237\n",
      "[flaml.automl.logger: 08-25 22:50:56] {2219} INFO - iteration 14, current learner extra_tree\n",
      "[flaml.automl.logger: 08-25 22:50:56] {2392} INFO -  at 4.2s,\testimator extra_tree's best error=6.9237,\tbest estimator extra_tree's best error=6.9237\n",
      "[flaml.automl.logger: 08-25 22:50:56] {2219} INFO - iteration 15, current learner extra_tree\n",
      "[flaml.automl.logger: 08-25 22:50:56] {2392} INFO -  at 4.4s,\testimator extra_tree's best error=5.6793,\tbest estimator extra_tree's best error=5.6793\n",
      "[flaml.automl.logger: 08-25 22:50:56] {2219} INFO - iteration 16, current learner extra_tree\n",
      "[flaml.automl.logger: 08-25 22:50:57] {2392} INFO -  at 4.6s,\testimator extra_tree's best error=5.6793,\tbest estimator extra_tree's best error=5.6793\n",
      "[flaml.automl.logger: 08-25 22:50:57] {2219} INFO - iteration 17, current learner xgboost\n",
      "[flaml.automl.logger: 08-25 22:50:57] {2392} INFO -  at 5.3s,\testimator xgboost's best error=19.9675,\tbest estimator extra_tree's best error=5.6793\n",
      "[flaml.automl.logger: 08-25 22:50:57] {2219} INFO - iteration 18, current learner extra_tree\n",
      "[flaml.automl.logger: 08-25 22:50:57] {2392} INFO -  at 5.5s,\testimator extra_tree's best error=4.6987,\tbest estimator extra_tree's best error=4.6987\n",
      "[flaml.automl.logger: 08-25 22:50:57] {2219} INFO - iteration 19, current learner extra_tree\n",
      "[flaml.automl.logger: 08-25 22:50:58] {2392} INFO -  at 5.8s,\testimator extra_tree's best error=4.1297,\tbest estimator extra_tree's best error=4.1297\n",
      "[flaml.automl.logger: 08-25 22:50:58] {2219} INFO - iteration 20, current learner extra_tree\n",
      "[flaml.automl.logger: 08-25 22:50:58] {2392} INFO -  at 6.0s,\testimator extra_tree's best error=4.1297,\tbest estimator extra_tree's best error=4.1297\n",
      "[flaml.automl.logger: 08-25 22:50:58] {2219} INFO - iteration 21, current learner extra_tree\n",
      "[flaml.automl.logger: 08-25 22:50:58] {2392} INFO -  at 6.4s,\testimator extra_tree's best error=4.1297,\tbest estimator extra_tree's best error=4.1297\n",
      "[flaml.automl.logger: 08-25 22:50:58] {2219} INFO - iteration 22, current learner extra_tree\n",
      "[flaml.automl.logger: 08-25 22:50:59] {2392} INFO -  at 6.6s,\testimator extra_tree's best error=4.1227,\tbest estimator extra_tree's best error=4.1227\n",
      "[flaml.automl.logger: 08-25 22:50:59] {2219} INFO - iteration 23, current learner rf\n",
      "[flaml.automl.logger: 08-25 22:50:59] {2392} INFO -  at 6.8s,\testimator rf's best error=15.9912,\tbest estimator extra_tree's best error=4.1227\n",
      "[flaml.automl.logger: 08-25 22:50:59] {2219} INFO - iteration 24, current learner extra_tree\n",
      "[flaml.automl.logger: 08-25 22:50:59] {2392} INFO -  at 6.9s,\testimator extra_tree's best error=4.1227,\tbest estimator extra_tree's best error=4.1227\n",
      "[flaml.automl.logger: 08-25 22:50:59] {2219} INFO - iteration 25, current learner extra_tree\n",
      "[flaml.automl.logger: 08-25 22:50:59] {2392} INFO -  at 7.2s,\testimator extra_tree's best error=4.1227,\tbest estimator extra_tree's best error=4.1227\n",
      "[flaml.automl.logger: 08-25 22:50:59] {2219} INFO - iteration 26, current learner rf\n",
      "[flaml.automl.logger: 08-25 22:50:59] {2392} INFO -  at 7.4s,\testimator rf's best error=15.4102,\tbest estimator extra_tree's best error=4.1227\n",
      "[flaml.automl.logger: 08-25 22:50:59] {2219} INFO - iteration 27, current learner extra_tree\n",
      "[flaml.automl.logger: 08-25 22:50:59] {2392} INFO -  at 7.5s,\testimator extra_tree's best error=4.1227,\tbest estimator extra_tree's best error=4.1227\n",
      "[flaml.automl.logger: 08-25 22:50:59] {2219} INFO - iteration 28, current learner extra_tree\n",
      "[flaml.automl.logger: 08-25 22:51:00] {2392} INFO -  at 7.8s,\testimator extra_tree's best error=3.7991,\tbest estimator extra_tree's best error=3.7991\n",
      "[flaml.automl.logger: 08-25 22:51:00] {2219} INFO - iteration 29, current learner extra_tree\n",
      "[flaml.automl.logger: 08-25 22:51:00] {2392} INFO -  at 8.0s,\testimator extra_tree's best error=3.7991,\tbest estimator extra_tree's best error=3.7991\n",
      "[flaml.automl.logger: 08-25 22:51:00] {2219} INFO - iteration 30, current learner rf\n",
      "[flaml.automl.logger: 08-25 22:51:00] {2392} INFO -  at 8.2s,\testimator rf's best error=13.8865,\tbest estimator extra_tree's best error=3.7991\n",
      "[flaml.automl.logger: 08-25 22:51:00] {2219} INFO - iteration 31, current learner rf\n",
      "[flaml.automl.logger: 08-25 22:51:00] {2392} INFO -  at 8.4s,\testimator rf's best error=10.9499,\tbest estimator extra_tree's best error=3.7991\n",
      "[flaml.automl.logger: 08-25 22:51:00] {2219} INFO - iteration 32, current learner rf\n",
      "[flaml.automl.logger: 08-25 22:51:01] {2392} INFO -  at 8.6s,\testimator rf's best error=10.1034,\tbest estimator extra_tree's best error=3.7991\n",
      "[flaml.automl.logger: 08-25 22:51:01] {2219} INFO - iteration 33, current learner extra_tree\n",
      "[flaml.automl.logger: 08-25 22:51:01] {2392} INFO -  at 9.2s,\testimator extra_tree's best error=3.7450,\tbest estimator extra_tree's best error=3.7450\n",
      "[flaml.automl.logger: 08-25 22:51:01] {2219} INFO - iteration 34, current learner rf\n",
      "[flaml.automl.logger: 08-25 22:51:01] {2392} INFO -  at 9.4s,\testimator rf's best error=10.1034,\tbest estimator extra_tree's best error=3.7450\n",
      "[flaml.automl.logger: 08-25 22:51:01] {2219} INFO - iteration 35, current learner extra_tree\n",
      "[flaml.automl.logger: 08-25 22:51:02] {2392} INFO -  at 9.8s,\testimator extra_tree's best error=3.7450,\tbest estimator extra_tree's best error=3.7450\n",
      "[flaml.automl.logger: 08-25 22:51:02] {2219} INFO - iteration 36, current learner xgb_limitdepth\n",
      "[flaml.automl.logger: 08-25 22:51:02] {2392} INFO -  at 10.0s,\testimator xgb_limitdepth's best error=20.1682,\tbest estimator extra_tree's best error=3.7450\n",
      "[flaml.automl.logger: 08-25 22:51:02] {2628} INFO - retrain extra_tree for 0.2s\n",
      "[flaml.automl.logger: 08-25 22:51:02] {2631} INFO - retrained model: ExtraTreesRegressor(max_leaf_nodes=4370, n_estimators=137, n_jobs=-1,\n",
      "                    random_state=12032022)\n",
      "[flaml.automl.logger: 08-25 22:51:02] {1931} INFO - fit succeeded\n",
      "[flaml.automl.logger: 08-25 22:51:02] {1932} INFO - Time taken to find the best model: 9.177746295928955\n",
      "[flaml.automl.logger: 08-25 22:51:02] {1680} INFO - task = regression\n",
      "[flaml.automl.logger: 08-25 22:51:02] {1691} INFO - Evaluation method: cv\n",
      "[flaml.automl.logger: 08-25 22:51:02] {1789} INFO - Minimizing error metric: mse\n",
      "[flaml.automl.logger: 08-25 22:51:02] {1901} INFO - List of ML learners in AutoML Run: ['lgbm', 'rf', 'xgboost', 'extra_tree', 'xgb_limitdepth']\n",
      "[flaml.automl.logger: 08-25 22:51:02] {2219} INFO - iteration 0, current learner lgbm\n",
      "[flaml.automl.logger: 08-25 22:51:02] {2345} INFO - Estimated sufficient time budget=2523s. Estimated necessary time budget=18s.\n",
      "[flaml.automl.logger: 08-25 22:51:02] {2392} INFO -  at 0.3s,\testimator lgbm's best error=0.2533,\tbest estimator lgbm's best error=0.2533\n",
      "[flaml.automl.logger: 08-25 22:51:02] {2219} INFO - iteration 1, current learner lgbm\n",
      "[flaml.automl.logger: 08-25 22:51:03] {2392} INFO -  at 0.8s,\testimator lgbm's best error=0.2523,\tbest estimator lgbm's best error=0.2523\n",
      "[flaml.automl.logger: 08-25 22:51:03] {2219} INFO - iteration 2, current learner xgboost\n",
      "[flaml.automl.logger: 08-25 22:51:03] {2392} INFO -  at 1.2s,\testimator xgboost's best error=0.2533,\tbest estimator lgbm's best error=0.2523\n",
      "[flaml.automl.logger: 08-25 22:51:03] {2219} INFO - iteration 3, current learner xgboost\n",
      "[flaml.automl.logger: 08-25 22:51:04] {2392} INFO -  at 2.2s,\testimator xgboost's best error=0.2523,\tbest estimator lgbm's best error=0.2523\n",
      "[flaml.automl.logger: 08-25 22:51:04] {2219} INFO - iteration 4, current learner extra_tree\n",
      "[flaml.automl.logger: 08-25 22:51:05] {2392} INFO -  at 2.3s,\testimator extra_tree's best error=0.2510,\tbest estimator extra_tree's best error=0.2510\n",
      "[flaml.automl.logger: 08-25 22:51:05] {2219} INFO - iteration 5, current learner lgbm\n",
      "[flaml.automl.logger: 08-25 22:51:05] {2392} INFO -  at 2.8s,\testimator lgbm's best error=0.2523,\tbest estimator extra_tree's best error=0.2510\n",
      "[flaml.automl.logger: 08-25 22:51:05] {2219} INFO - iteration 6, current learner extra_tree\n",
      "[flaml.automl.logger: 08-25 22:51:05] {2392} INFO -  at 2.9s,\testimator extra_tree's best error=0.2510,\tbest estimator extra_tree's best error=0.2510\n",
      "[flaml.automl.logger: 08-25 22:51:05] {2219} INFO - iteration 7, current learner extra_tree\n",
      "[flaml.automl.logger: 08-25 22:51:05] {2392} INFO -  at 3.0s,\testimator extra_tree's best error=0.2498,\tbest estimator extra_tree's best error=0.2498\n",
      "[flaml.automl.logger: 08-25 22:51:05] {2219} INFO - iteration 8, current learner extra_tree\n",
      "[flaml.automl.logger: 08-25 22:51:05] {2392} INFO -  at 3.1s,\testimator extra_tree's best error=0.2478,\tbest estimator extra_tree's best error=0.2478\n",
      "[flaml.automl.logger: 08-25 22:51:05] {2219} INFO - iteration 9, current learner extra_tree\n",
      "[flaml.automl.logger: 08-25 22:51:05] {2392} INFO -  at 3.3s,\testimator extra_tree's best error=0.2478,\tbest estimator extra_tree's best error=0.2478\n",
      "[flaml.automl.logger: 08-25 22:51:05] {2219} INFO - iteration 10, current learner extra_tree\n",
      "[flaml.automl.logger: 08-25 22:51:06] {2392} INFO -  at 3.4s,\testimator extra_tree's best error=0.2478,\tbest estimator extra_tree's best error=0.2478\n",
      "[flaml.automl.logger: 08-25 22:51:06] {2219} INFO - iteration 11, current learner extra_tree\n",
      "[flaml.automl.logger: 08-25 22:51:06] {2392} INFO -  at 3.5s,\testimator extra_tree's best error=0.2473,\tbest estimator extra_tree's best error=0.2473\n",
      "[flaml.automl.logger: 08-25 22:51:06] {2219} INFO - iteration 12, current learner extra_tree\n",
      "[flaml.automl.logger: 08-25 22:51:06] {2392} INFO -  at 3.7s,\testimator extra_tree's best error=0.2473,\tbest estimator extra_tree's best error=0.2473\n",
      "[flaml.automl.logger: 08-25 22:51:06] {2219} INFO - iteration 13, current learner extra_tree\n",
      "[flaml.automl.logger: 08-25 22:51:06] {2392} INFO -  at 3.8s,\testimator extra_tree's best error=0.2473,\tbest estimator extra_tree's best error=0.2473\n",
      "[flaml.automl.logger: 08-25 22:51:06] {2219} INFO - iteration 14, current learner extra_tree\n",
      "[flaml.automl.logger: 08-25 22:51:06] {2392} INFO -  at 3.9s,\testimator extra_tree's best error=0.2473,\tbest estimator extra_tree's best error=0.2473\n",
      "[flaml.automl.logger: 08-25 22:51:06] {2219} INFO - iteration 15, current learner extra_tree\n",
      "[flaml.automl.logger: 08-25 22:51:06] {2392} INFO -  at 4.2s,\testimator extra_tree's best error=0.2467,\tbest estimator extra_tree's best error=0.2467\n",
      "[flaml.automl.logger: 08-25 22:51:06] {2219} INFO - iteration 16, current learner rf\n",
      "[flaml.automl.logger: 08-25 22:51:07] {2392} INFO -  at 4.4s,\testimator rf's best error=0.2509,\tbest estimator extra_tree's best error=0.2467\n",
      "[flaml.automl.logger: 08-25 22:51:07] {2219} INFO - iteration 17, current learner extra_tree\n",
      "[flaml.automl.logger: 08-25 22:51:07] {2392} INFO -  at 4.5s,\testimator extra_tree's best error=0.2467,\tbest estimator extra_tree's best error=0.2467\n",
      "[flaml.automl.logger: 08-25 22:51:07] {2219} INFO - iteration 18, current learner rf\n",
      "[flaml.automl.logger: 08-25 22:51:07] {2392} INFO -  at 4.7s,\testimator rf's best error=0.2497,\tbest estimator extra_tree's best error=0.2467\n",
      "[flaml.automl.logger: 08-25 22:51:07] {2219} INFO - iteration 19, current learner extra_tree\n",
      "[flaml.automl.logger: 08-25 22:51:07] {2392} INFO -  at 4.9s,\testimator extra_tree's best error=0.2467,\tbest estimator extra_tree's best error=0.2467\n",
      "[flaml.automl.logger: 08-25 22:51:07] {2219} INFO - iteration 20, current learner rf\n",
      "[flaml.automl.logger: 08-25 22:51:07] {2392} INFO -  at 5.0s,\testimator rf's best error=0.2497,\tbest estimator extra_tree's best error=0.2467\n",
      "[flaml.automl.logger: 08-25 22:51:07] {2219} INFO - iteration 21, current learner extra_tree\n",
      "[flaml.automl.logger: 08-25 22:51:08] {2392} INFO -  at 5.3s,\testimator extra_tree's best error=0.2452,\tbest estimator extra_tree's best error=0.2452\n",
      "[flaml.automl.logger: 08-25 22:51:08] {2219} INFO - iteration 22, current learner rf\n",
      "[flaml.automl.logger: 08-25 22:51:08] {2392} INFO -  at 5.5s,\testimator rf's best error=0.2497,\tbest estimator extra_tree's best error=0.2452\n",
      "[flaml.automl.logger: 08-25 22:51:08] {2219} INFO - iteration 23, current learner xgboost\n",
      "[flaml.automl.logger: 08-25 22:51:08] {2392} INFO -  at 6.0s,\testimator xgboost's best error=0.2523,\tbest estimator extra_tree's best error=0.2452\n",
      "[flaml.automl.logger: 08-25 22:51:08] {2219} INFO - iteration 24, current learner extra_tree\n",
      "[flaml.automl.logger: 08-25 22:51:08] {2392} INFO -  at 6.3s,\testimator extra_tree's best error=0.2452,\tbest estimator extra_tree's best error=0.2452\n",
      "[flaml.automl.logger: 08-25 22:51:08] {2219} INFO - iteration 25, current learner extra_tree\n",
      "[flaml.automl.logger: 08-25 22:51:09] {2392} INFO -  at 6.5s,\testimator extra_tree's best error=0.2452,\tbest estimator extra_tree's best error=0.2452\n",
      "[flaml.automl.logger: 08-25 22:51:09] {2219} INFO - iteration 26, current learner extra_tree\n",
      "[flaml.automl.logger: 08-25 22:51:09] {2392} INFO -  at 6.7s,\testimator extra_tree's best error=0.2452,\tbest estimator extra_tree's best error=0.2452\n",
      "[flaml.automl.logger: 08-25 22:51:09] {2219} INFO - iteration 27, current learner extra_tree\n",
      "[flaml.automl.logger: 08-25 22:51:09] {2392} INFO -  at 7.2s,\testimator extra_tree's best error=0.2452,\tbest estimator extra_tree's best error=0.2452\n",
      "[flaml.automl.logger: 08-25 22:51:09] {2219} INFO - iteration 28, current learner extra_tree\n",
      "[flaml.automl.logger: 08-25 22:51:10] {2392} INFO -  at 7.4s,\testimator extra_tree's best error=0.2452,\tbest estimator extra_tree's best error=0.2452\n",
      "[flaml.automl.logger: 08-25 22:51:10] {2219} INFO - iteration 29, current learner extra_tree\n",
      "[flaml.automl.logger: 08-25 22:51:10] {2392} INFO -  at 7.9s,\testimator extra_tree's best error=0.2452,\tbest estimator extra_tree's best error=0.2452\n",
      "[flaml.automl.logger: 08-25 22:51:10] {2219} INFO - iteration 30, current learner rf\n",
      "[flaml.automl.logger: 08-25 22:51:10] {2392} INFO -  at 8.1s,\testimator rf's best error=0.2476,\tbest estimator extra_tree's best error=0.2452\n",
      "[flaml.automl.logger: 08-25 22:51:10] {2219} INFO - iteration 31, current learner lgbm\n",
      "[flaml.automl.logger: 08-25 22:51:11] {2392} INFO -  at 8.7s,\testimator lgbm's best error=0.2523,\tbest estimator extra_tree's best error=0.2452\n",
      "[flaml.automl.logger: 08-25 22:51:11] {2219} INFO - iteration 32, current learner rf\n",
      "[flaml.automl.logger: 08-25 22:51:11] {2392} INFO -  at 9.1s,\testimator rf's best error=0.2472,\tbest estimator extra_tree's best error=0.2452\n",
      "[flaml.automl.logger: 08-25 22:51:11] {2219} INFO - iteration 33, current learner extra_tree\n",
      "[flaml.automl.logger: 08-25 22:51:11] {2392} INFO -  at 9.2s,\testimator extra_tree's best error=0.2452,\tbest estimator extra_tree's best error=0.2452\n",
      "[flaml.automl.logger: 08-25 22:51:11] {2219} INFO - iteration 34, current learner rf\n",
      "[flaml.automl.logger: 08-25 22:51:12] {2392} INFO -  at 9.5s,\testimator rf's best error=0.2472,\tbest estimator extra_tree's best error=0.2452\n",
      "[flaml.automl.logger: 08-25 22:51:12] {2219} INFO - iteration 35, current learner extra_tree\n",
      "[flaml.automl.logger: 08-25 22:51:12] {2392} INFO -  at 10.0s,\testimator extra_tree's best error=0.2452,\tbest estimator extra_tree's best error=0.2452\n",
      "[flaml.automl.logger: 08-25 22:51:12] {2219} INFO - iteration 36, current learner xgb_limitdepth\n",
      "[flaml.automl.logger: 08-25 22:51:12] {2392} INFO -  at 10.1s,\testimator xgb_limitdepth's best error=0.2591,\tbest estimator extra_tree's best error=0.2452\n",
      "[flaml.automl.logger: 08-25 22:51:12] {2628} INFO - retrain extra_tree for 0.1s\n",
      "[flaml.automl.logger: 08-25 22:51:12] {2631} INFO - retrained model: ExtraTreesRegressor(max_features=0.7914778705384263, max_leaf_nodes=182,\n",
      "                    n_estimators=94, n_jobs=-1, random_state=12032022)\n",
      "[flaml.automl.logger: 08-25 22:51:12] {1931} INFO - fit succeeded\n",
      "[flaml.automl.logger: 08-25 22:51:12] {1932} INFO - Time taken to find the best model: 5.329358339309692\n"
     ]
    }
   ],
   "source": [
    "caml.auto_nuisance_functions(\n",
    "    flaml_Y_kwargs={\"time_budget\": 10},\n",
    "    flaml_T_kwargs={\"time_budget\": 10},\n",
    "    use_ray=False,\n",
    "    use_spark=False,\n",
    ")"
   ]
  },
  {
   "cell_type": "markdown",
   "metadata": {},
   "source": [
    "#### Fit and ensemble CATE models"
   ]
  },
  {
   "cell_type": "code",
   "execution_count": 7,
   "metadata": {},
   "outputs": [
    {
     "name": "stdout",
     "output_type": "stream",
     "text": [
      "\u001b[2;36m[08/25/24 22:51:15]\u001b[0m\u001b[2;36m \u001b[0m\u001b[32mINFO    \u001b[0m Logging has been set up.              \u001b]8;id=355622;file:///home/jakep/projects/caml/caml/logging.py\u001b\\\u001b[2mlogging.py\u001b[0m\u001b]8;;\u001b\\\u001b[2m:\u001b[0m\u001b]8;id=53056;file:///home/jakep/projects/caml/caml/logging.py#42\u001b\\\u001b[2m42\u001b[0m\u001b]8;;\u001b\\\n",
      "\u001b[2;36m[08/25/24 22:51:15]\u001b[0m\u001b[2;36m \u001b[0m\u001b[32mINFO    \u001b[0m Logging has been set up.              \u001b]8;id=73242;file:///home/jakep/projects/caml/caml/logging.py\u001b\\\u001b[2mlogging.py\u001b[0m\u001b]8;;\u001b\\\u001b[2m:\u001b[0m\u001b]8;id=323479;file:///home/jakep/projects/caml/caml/logging.py#42\u001b\\\u001b[2m42\u001b[0m\u001b]8;;\u001b\\\n",
      "\u001b[2;36m[08/25/24 22:51:15]\u001b[0m\u001b[2;36m \u001b[0m\u001b[32mINFO    \u001b[0m Logging has been set up.              \u001b]8;id=484213;file:///home/jakep/projects/caml/caml/logging.py\u001b\\\u001b[2mlogging.py\u001b[0m\u001b]8;;\u001b\\\u001b[2m:\u001b[0m\u001b]8;id=545418;file:///home/jakep/projects/caml/caml/logging.py#42\u001b\\\u001b[2m42\u001b[0m\u001b]8;;\u001b\\\n",
      "\u001b[2;36m[08/25/24 22:51:15]\u001b[0m\u001b[2;36m \u001b[0m\u001b[32mINFO    \u001b[0m Logging has been set up.              \u001b]8;id=935657;file:///home/jakep/projects/caml/caml/logging.py\u001b\\\u001b[2mlogging.py\u001b[0m\u001b]8;;\u001b\\\u001b[2m:\u001b[0m\u001b]8;id=536922;file:///home/jakep/projects/caml/caml/logging.py#42\u001b\\\u001b[2m42\u001b[0m\u001b]8;;\u001b\\\n"
     ]
    },
    {
     "name": "stderr",
     "output_type": "stream",
     "text": [
      "The final model has a nonzero intercept for at least one outcome; it will be subtracted, but consider fitting a model without an intercept if possible.\n"
     ]
    },
    {
     "data": {
      "text/html": [
       "<pre style=\"white-space:pre;overflow-x:auto;line-height:normal;font-family:Menlo,'DejaVu Sans Mono',consolas,'Courier New',monospace\"><span style=\"color: #7fbfbf; text-decoration-color: #7fbfbf\">[08/25/24 22:51:24] </span><span style=\"color: #008000; text-decoration-color: #008000\">INFO    </span> Ensemble Estimator RScore: <span style=\"color: #008080; text-decoration-color: #008080; font-weight: bold\">0.0576839646449363</span>                              <a href=\"file:///home/jakep/projects/caml/caml/core/cate.py\" target=\"_blank\"><span style=\"color: #7f7f7f; text-decoration-color: #7f7f7f\">cate.py</span></a><span style=\"color: #7f7f7f; text-decoration-color: #7f7f7f\">:</span><a href=\"file:///home/jakep/projects/caml/caml/core/cate.py#945\" target=\"_blank\"><span style=\"color: #7f7f7f; text-decoration-color: #7f7f7f\">945</span></a>\n",
       "</pre>\n"
      ],
      "text/plain": [
       "\u001b[2;36m[08/25/24 22:51:24]\u001b[0m\u001b[2;36m \u001b[0m\u001b[32mINFO    \u001b[0m Ensemble Estimator RScore: \u001b[1;36m0.0576839646449363\u001b[0m                              \u001b]8;id=57258;file:///home/jakep/projects/caml/caml/core/cate.py\u001b\\\u001b[2mcate.py\u001b[0m\u001b]8;;\u001b\\\u001b[2m:\u001b[0m\u001b]8;id=788881;file:///home/jakep/projects/caml/caml/core/cate.py#945\u001b\\\u001b[2m945\u001b[0m\u001b]8;;\u001b\\\n"
      ]
     },
     "metadata": {},
     "output_type": "display_data"
    },
    {
     "data": {
      "text/html": [
       "<pre style=\"white-space:pre;overflow-x:auto;line-height:normal;font-family:Menlo,'DejaVu Sans Mono',consolas,'Courier New',monospace\"><span style=\"color: #7fbfbf; text-decoration-color: #7fbfbf\">                    </span><span style=\"color: #008000; text-decoration-color: #008000\">INFO    </span> Inidividual Estimator RScores: <span style=\"font-weight: bold\">{</span><span style=\"color: #008000; text-decoration-color: #008000\">'LinearDML'</span>: <span style=\"color: #008080; text-decoration-color: #008080; font-weight: bold\">0.05683118410081811</span>,          <a href=\"file:///home/jakep/projects/caml/caml/core/cate.py\" target=\"_blank\"><span style=\"color: #7f7f7f; text-decoration-color: #7f7f7f\">cate.py</span></a><span style=\"color: #7f7f7f; text-decoration-color: #7f7f7f\">:</span><a href=\"file:///home/jakep/projects/caml/caml/core/cate.py#946\" target=\"_blank\"><span style=\"color: #7f7f7f; text-decoration-color: #7f7f7f\">946</span></a>\n",
       "<span style=\"color: #7fbfbf; text-decoration-color: #7fbfbf\">                    </span>         <span style=\"color: #008000; text-decoration-color: #008000\">'DML-Lasso3d'</span>: <span style=\"color: #008080; text-decoration-color: #008080; font-weight: bold\">0.055787519203637115</span>, <span style=\"color: #008000; text-decoration-color: #008000\">'CausalForestDML'</span>:                    <span style=\"color: #7f7f7f; text-decoration-color: #7f7f7f\">           </span>\n",
       "<span style=\"color: #7fbfbf; text-decoration-color: #7fbfbf\">                    </span>         <span style=\"color: #008080; text-decoration-color: #008080; font-weight: bold\">0.0433064157831371</span>, <span style=\"color: #008000; text-decoration-color: #008000\">'NonParamDML'</span>: <span style=\"color: #008080; text-decoration-color: #008080; font-weight: bold\">-9.303097883079063</span><span style=\"font-weight: bold\">}</span>                     <span style=\"color: #7f7f7f; text-decoration-color: #7f7f7f\">           </span>\n",
       "</pre>\n"
      ],
      "text/plain": [
       "\u001b[2;36m                   \u001b[0m\u001b[2;36m \u001b[0m\u001b[32mINFO    \u001b[0m Inidividual Estimator RScores: \u001b[1m{\u001b[0m\u001b[32m'LinearDML'\u001b[0m: \u001b[1;36m0.05683118410081811\u001b[0m,          \u001b]8;id=365153;file:///home/jakep/projects/caml/caml/core/cate.py\u001b\\\u001b[2mcate.py\u001b[0m\u001b]8;;\u001b\\\u001b[2m:\u001b[0m\u001b]8;id=431608;file:///home/jakep/projects/caml/caml/core/cate.py#946\u001b\\\u001b[2m946\u001b[0m\u001b]8;;\u001b\\\n",
       "\u001b[2;36m                    \u001b[0m         \u001b[32m'DML-Lasso3d'\u001b[0m: \u001b[1;36m0.055787519203637115\u001b[0m, \u001b[32m'CausalForestDML'\u001b[0m:                    \u001b[2m           \u001b[0m\n",
       "\u001b[2;36m                    \u001b[0m         \u001b[1;36m0.0433064157831371\u001b[0m, \u001b[32m'NonParamDML'\u001b[0m: \u001b[1;36m-9.303097883079063\u001b[0m\u001b[1m}\u001b[0m                     \u001b[2m           \u001b[0m\n"
      ]
     },
     "metadata": {},
     "output_type": "display_data"
    },
    {
     "data": {
      "text/html": [
       "<pre style=\"white-space:pre;overflow-x:auto;line-height:normal;font-family:Menlo,'DejaVu Sans Mono',consolas,'Courier New',monospace\"><span style=\"color: #7fbfbf; text-decoration-color: #7fbfbf\">                    </span><span style=\"color: #008000; text-decoration-color: #008000\">INFO    </span> The ensemble estimator is the best estimator, filtering models with        <a href=\"file:///home/jakep/projects/caml/caml/core/cate.py\" target=\"_blank\"><span style=\"color: #7f7f7f; text-decoration-color: #7f7f7f\">cate.py</span></a><span style=\"color: #7f7f7f; text-decoration-color: #7f7f7f\">:</span><a href=\"file:///home/jakep/projects/caml/caml/core/cate.py#962\" target=\"_blank\"><span style=\"color: #7f7f7f; text-decoration-color: #7f7f7f\">962</span></a>\n",
       "<span style=\"color: #7fbfbf; text-decoration-color: #7fbfbf\">                    </span>         weights less than <span style=\"color: #008080; text-decoration-color: #008080; font-weight: bold\">0.01</span>.                                                    <span style=\"color: #7f7f7f; text-decoration-color: #7f7f7f\">           </span>\n",
       "</pre>\n"
      ],
      "text/plain": [
       "\u001b[2;36m                   \u001b[0m\u001b[2;36m \u001b[0m\u001b[32mINFO    \u001b[0m The ensemble estimator is the best estimator, filtering models with        \u001b]8;id=776581;file:///home/jakep/projects/caml/caml/core/cate.py\u001b\\\u001b[2mcate.py\u001b[0m\u001b]8;;\u001b\\\u001b[2m:\u001b[0m\u001b]8;id=981880;file:///home/jakep/projects/caml/caml/core/cate.py#962\u001b\\\u001b[2m962\u001b[0m\u001b]8;;\u001b\\\n",
       "\u001b[2;36m                    \u001b[0m         weights less than \u001b[1;36m0.01\u001b[0m.                                                    \u001b[2m           \u001b[0m\n"
      ]
     },
     "metadata": {},
     "output_type": "display_data"
    }
   ],
   "source": [
    "caml.fit_validator(\n",
    "    subset_cate_models=[\n",
    "        \"LinearDML\",\n",
    "        \"NonParamDML\",\n",
    "        \"DML-Lasso3d\",\n",
    "        \"CausalForestDML\",\n",
    "        \"XLearner\",\n",
    "        \"DomainAdaptationLearner\",\n",
    "        \"SLearner\",\n",
    "        \"TLearner\",\n",
    "        \"DRLearner\",\n",
    "    ],\n",
    "    rscorer_kwargs={},\n",
    "    use_ray=False,\n",
    "    ray_remote_func_options_kwargs={},\n",
    ")"
   ]
  },
  {
   "cell_type": "code",
   "execution_count": 8,
   "metadata": {},
   "outputs": [
    {
     "data": {
      "text/html": [
       "<pre style=\"white-space:pre;overflow-x:auto;line-height:normal;font-family:Menlo,'DejaVu Sans Mono',consolas,'Courier New',monospace\"><span style=\"color: #7fbfbf; text-decoration-color: #7fbfbf\">                    </span><span style=\"color: #008000; text-decoration-color: #008000\">INFO    </span> The validation estimator has been fit and will be returned.                <a href=\"file:///home/jakep/projects/caml/caml/core/_base.py\" target=\"_blank\"><span style=\"color: #7f7f7f; text-decoration-color: #7f7f7f\">_base.py</span></a><span style=\"color: #7f7f7f; text-decoration-color: #7f7f7f\">:</span><a href=\"file:///home/jakep/projects/caml/caml/core/_base.py#32\" target=\"_blank\"><span style=\"color: #7f7f7f; text-decoration-color: #7f7f7f\">32</span></a>\n",
       "</pre>\n"
      ],
      "text/plain": [
       "\u001b[2;36m                   \u001b[0m\u001b[2;36m \u001b[0m\u001b[32mINFO    \u001b[0m The validation estimator has been fit and will be returned.                \u001b]8;id=727084;file:///home/jakep/projects/caml/caml/core/_base.py\u001b\\\u001b[2m_base.py\u001b[0m\u001b]8;;\u001b\\\u001b[2m:\u001b[0m\u001b]8;id=821134;file:///home/jakep/projects/caml/caml/core/_base.py#32\u001b\\\u001b[2m32\u001b[0m\u001b]8;;\u001b\\\n"
      ]
     },
     "metadata": {},
     "output_type": "display_data"
    },
    {
     "data": {
      "text/plain": [
       "<econml.score.ensemble_cate.EnsembleCateEstimator at 0x7f39ca235840>"
      ]
     },
     "execution_count": 8,
     "metadata": {},
     "output_type": "execute_result"
    }
   ],
   "source": [
    "caml.validation_estimator"
   ]
  },
  {
   "cell_type": "markdown",
   "metadata": {},
   "source": [
    "#### CATE Validation"
   ]
  },
  {
   "cell_type": "code",
   "execution_count": 10,
   "metadata": {},
   "outputs": [
    {
     "data": {
      "text/html": [
       "<pre style=\"white-space:pre;overflow-x:auto;line-height:normal;font-family:Menlo,'DejaVu Sans Mono',consolas,'Courier New',monospace\"><span style=\"color: #7fbfbf; text-decoration-color: #7fbfbf\">[08/25/24 22:51:36] </span><span style=\"color: #800000; text-decoration-color: #800000; font-weight: bold\">ERROR   </span> Validation for continuous treatments is not supported yet.                 <a href=\"file:///home/jakep/projects/caml/caml/core/cate.py\" target=\"_blank\"><span style=\"color: #7f7f7f; text-decoration-color: #7f7f7f\">cate.py</span></a><span style=\"color: #7f7f7f; text-decoration-color: #7f7f7f\">:</span><a href=\"file:///home/jakep/projects/caml/caml/core/cate.py#398\" target=\"_blank\"><span style=\"color: #7f7f7f; text-decoration-color: #7f7f7f\">398</span></a>\n",
       "</pre>\n"
      ],
      "text/plain": [
       "\u001b[2;36m[08/25/24 22:51:36]\u001b[0m\u001b[2;36m \u001b[0m\u001b[1;31mERROR   \u001b[0m Validation for continuous treatments is not supported yet.                 \u001b]8;id=926530;file:///home/jakep/projects/caml/caml/core/cate.py\u001b\\\u001b[2mcate.py\u001b[0m\u001b]8;;\u001b\\\u001b[2m:\u001b[0m\u001b]8;id=280732;file:///home/jakep/projects/caml/caml/core/cate.py#398\u001b\\\u001b[2m398\u001b[0m\u001b]8;;\u001b\\\n"
      ]
     },
     "metadata": {},
     "output_type": "display_data"
    },
    {
     "ename": "ValueError",
     "evalue": "Validation for continuous treatments is not supported yet.",
     "output_type": "error",
     "traceback": [
      "\u001b[0;31m---------------------------------------------------------------------------\u001b[0m",
      "\u001b[0;31mValueError\u001b[0m                                Traceback (most recent call last)",
      "Cell \u001b[0;32mIn[10], line 1\u001b[0m\n\u001b[0;32m----> 1\u001b[0m validation_results \u001b[38;5;241m=\u001b[39m \u001b[43mcaml\u001b[49m\u001b[38;5;241;43m.\u001b[39;49m\u001b[43mvalidate\u001b[49m\u001b[43m(\u001b[49m\u001b[43mestimator\u001b[49m\u001b[38;5;241;43m=\u001b[39;49m\u001b[38;5;28;43;01mNone\u001b[39;49;00m\u001b[43m,\u001b[49m\u001b[43m \u001b[49m\u001b[43mprint_full_report\u001b[49m\u001b[38;5;241;43m=\u001b[39;49m\u001b[38;5;28;43;01mTrue\u001b[39;49;00m\u001b[43m)\u001b[49m\n",
      "File \u001b[0;32m~/projects/caml/caml/core/cate.py:399\u001b[0m, in \u001b[0;36mvalidate\u001b[0;34m(self, estimator, print_full_report)\u001b[0m\n\u001b[1;32m    397\u001b[0m \u001b[38;5;28;01mif\u001b[39;00m \u001b[38;5;129;01mnot\u001b[39;00m \u001b[38;5;28mself\u001b[39m\u001b[38;5;241m.\u001b[39mdiscrete_treatment:\n\u001b[1;32m    398\u001b[0m     logger\u001b[38;5;241m.\u001b[39merror(\u001b[38;5;124m\"\u001b[39m\u001b[38;5;124mValidation for continuous treatments is not supported yet.\u001b[39m\u001b[38;5;124m\"\u001b[39m)\n\u001b[0;32m--> 399\u001b[0m     \u001b[38;5;28;01mraise\u001b[39;00m \u001b[38;5;167;01mValueError\u001b[39;00m(\n\u001b[1;32m    400\u001b[0m         \u001b[38;5;124m\"\u001b[39m\u001b[38;5;124mValidation for continuous treatments is not supported yet.\u001b[39m\u001b[38;5;124m\"\u001b[39m\n\u001b[1;32m    401\u001b[0m     )\n\u001b[1;32m    403\u001b[0m validator \u001b[38;5;241m=\u001b[39m DRTester(\n\u001b[1;32m    404\u001b[0m     model_regression\u001b[38;5;241m=\u001b[39m\u001b[38;5;28mself\u001b[39m\u001b[38;5;241m.\u001b[39m_model_Y_X_W_T,\n\u001b[1;32m    405\u001b[0m     model_propensity\u001b[38;5;241m=\u001b[39m\u001b[38;5;28mself\u001b[39m\u001b[38;5;241m.\u001b[39m_model_T_X_W,\n\u001b[1;32m    406\u001b[0m     cate\u001b[38;5;241m=\u001b[39mestimator,\n\u001b[1;32m    407\u001b[0m )\n\u001b[1;32m    409\u001b[0m X_test, T_test, Y_test \u001b[38;5;241m=\u001b[39m (\n\u001b[1;32m    410\u001b[0m     \u001b[38;5;28mself\u001b[39m\u001b[38;5;241m.\u001b[39m_data_splits[\u001b[38;5;124m\"\u001b[39m\u001b[38;5;124mX_test\u001b[39m\u001b[38;5;124m\"\u001b[39m],\n\u001b[1;32m    411\u001b[0m     \u001b[38;5;28mself\u001b[39m\u001b[38;5;241m.\u001b[39m_data_splits[\u001b[38;5;124m\"\u001b[39m\u001b[38;5;124mT_test\u001b[39m\u001b[38;5;124m\"\u001b[39m],\n\u001b[1;32m    412\u001b[0m     \u001b[38;5;28mself\u001b[39m\u001b[38;5;241m.\u001b[39m_data_splits[\u001b[38;5;124m\"\u001b[39m\u001b[38;5;124mY_test\u001b[39m\u001b[38;5;124m\"\u001b[39m],\n\u001b[1;32m    413\u001b[0m )\n",
      "\u001b[0;31mValueError\u001b[0m: Validation for continuous treatments is not supported yet."
     ]
    }
   ],
   "source": [
    "validation_results = caml.validate(estimator=None, print_full_report=True)"
   ]
  },
  {
   "cell_type": "markdown",
   "metadata": {},
   "source": [
    "#### Refit best estimator on full dataset"
   ]
  },
  {
   "cell_type": "code",
   "execution_count": null,
   "metadata": {},
   "outputs": [],
   "source": [
    "caml.fit_final()"
   ]
  },
  {
   "cell_type": "code",
   "execution_count": null,
   "metadata": {},
   "outputs": [],
   "source": [
    "caml.final_estimator"
   ]
  },
  {
   "cell_type": "markdown",
   "metadata": {},
   "source": [
    "#### Predict CATEs"
   ]
  },
  {
   "cell_type": "code",
   "execution_count": null,
   "metadata": {},
   "outputs": [],
   "source": [
    "## \"Out of sample\" predictions\n",
    "\n",
    "df_predictions = caml.predict(\n",
    "    out_of_sample_df=df,\n",
    "    out_of_sample_uuid=\"uuid\",\n",
    "    return_predictions=False,\n",
    "    join_predictions=True,\n",
    ")\n",
    "\n",
    "if df_backend == \"pyspark\":\n",
    "    df_predictions.show()\n",
    "else:\n",
    "    print(df_predictions)"
   ]
  },
  {
   "cell_type": "code",
   "execution_count": null,
   "metadata": {},
   "outputs": [],
   "source": [
    "## Append to internal dataframe\n",
    "\n",
    "caml.predict(\n",
    "    out_of_sample_df=None,\n",
    "    out_of_sample_uuid=None,\n",
    "    join_predictions=True,\n",
    "    return_predictions=False,\n",
    ")\n",
    "\n",
    "caml.dataframe"
   ]
  },
  {
   "cell_type": "markdown",
   "metadata": {},
   "source": [
    "#### CATE Rank Ordering"
   ]
  },
  {
   "cell_type": "code",
   "execution_count": null,
   "metadata": {},
   "outputs": [],
   "source": [
    "## \"Out of sample\" predictions\n",
    "\n",
    "df_rank_ordered = caml.rank_order(\n",
    "    out_of_sample_df=df_predictions, return_rank_order=False, join_rank_order=True,\n",
    "    treatment_category=1,\n",
    ")\n",
    "\n",
    "df_rank_ordered"
   ]
  },
  {
   "cell_type": "code",
   "execution_count": null,
   "metadata": {},
   "outputs": [],
   "source": [
    "## Append to internal dataframe\n",
    "\n",
    "caml.rank_order(out_of_sample_df=None, return_rank_order=False, join_rank_order=True,\n",
    "                treatment_category=1)\n",
    "\n",
    "caml.dataframe"
   ]
  },
  {
   "cell_type": "markdown",
   "metadata": {},
   "source": [
    "#### CATE Visualization/Summary"
   ]
  },
  {
   "cell_type": "code",
   "execution_count": null,
   "metadata": {},
   "outputs": [],
   "source": [
    "cate_summary = caml.summarize(out_of_sample_df=df_rank_ordered,treatment_category=1)\n",
    "\n",
    "cate_summary"
   ]
  },
  {
   "cell_type": "code",
   "execution_count": null,
   "metadata": {},
   "outputs": [],
   "source": [
    "cate_summary = caml.summarize(out_of_sample_df=None,treatment_category=1)\n",
    "\n",
    "cate_summary"
   ]
  },
  {
   "cell_type": "code",
   "execution_count": null,
   "metadata": {},
   "outputs": [],
   "source": [
    "true_ate"
   ]
  },
  {
   "cell_type": "markdown",
   "metadata": {},
   "source": [
    "#### Access my dataframe and estimator object "
   ]
  },
  {
   "cell_type": "code",
   "execution_count": null,
   "metadata": {},
   "outputs": [],
   "source": [
    "caml.dataframe"
   ]
  },
  {
   "cell_type": "code",
   "execution_count": null,
   "metadata": {},
   "outputs": [],
   "source": [
    "from econml.score import EnsembleCateEstimator\n",
    "\n",
    "# Use this estimator object as pickled object for optimized inference\n",
    "final_estimator = caml.final_estimator\n",
    "\n",
    "if isinstance(final_estimator, EnsembleCateEstimator):\n",
    "    for model in final_estimator._cate_models:\n",
    "        print(model)\n",
    "        print(model._input_names)\n",
    "else:\n",
    "    print(final_estimator)\n",
    "    print(final_estimator._input_names)"
   ]
  }
 ],
 "metadata": {
  "kernelspec": {
   "display_name": "dev",
   "language": "python",
   "name": "python3"
  },
  "language_info": {
   "codemirror_mode": {
    "name": "ipython",
    "version": 3
   },
   "file_extension": ".py",
   "mimetype": "text/x-python",
   "name": "python",
   "nbconvert_exporter": "python",
   "pygments_lexer": "ipython3",
   "version": "3.10.0"
  }
 },
 "nbformat": 4,
 "nbformat_minor": 2
}
