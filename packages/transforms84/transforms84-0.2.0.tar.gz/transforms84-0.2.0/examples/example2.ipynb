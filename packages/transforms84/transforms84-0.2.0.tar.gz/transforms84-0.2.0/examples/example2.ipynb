{
 "cells": [
  {
   "cell_type": "code",
   "execution_count": 1,
   "metadata": {},
   "outputs": [],
   "source": [
    "import numpy as np\n",
    "import shapely\n",
    "from czml3 import Document, Packet, Preamble\n",
    "from czml3.properties import Color, Material, Polygon, PositionList, SolidColorMaterial\n",
    "\n",
    "from transforms84.helpers import DDM2RRM, RRM2DDM\n",
    "from transforms84.systems import WGS84\n",
    "from transforms84.transforms import (\n",
    "    AER2ENU,\n",
    "    ENU2ECEF,\n",
    "    ECEF2geodetic,\n",
    ")"
   ]
  },
  {
   "cell_type": "markdown",
   "metadata": {},
   "source": [
    "## Make a square"
   ]
  },
  {
   "cell_type": "code",
   "execution_count": 2,
   "metadata": {},
   "outputs": [],
   "source": [
    "m_dist = 500.0"
   ]
  },
  {
   "cell_type": "code",
   "execution_count": 3,
   "metadata": {},
   "outputs": [],
   "source": [
    "rrm_top_left = DDM2RRM(np.array([[34], [33], [0]], dtype=np.float64))"
   ]
  },
  {
   "cell_type": "code",
   "execution_count": 4,
   "metadata": {},
   "outputs": [],
   "source": [
    "rrm_top_right = ECEF2geodetic(\n",
    "    ENU2ECEF(\n",
    "        rrm_top_left,\n",
    "        AER2ENU(DDM2RRM(np.array([[90], [0], [m_dist]], dtype=np.float64))),\n",
    "        WGS84.a,\n",
    "        WGS84.b,\n",
    "    ),\n",
    "    WGS84.a,\n",
    "    WGS84.b,\n",
    ")"
   ]
  },
  {
   "cell_type": "code",
   "execution_count": 5,
   "metadata": {},
   "outputs": [],
   "source": [
    "rrm_bottom_left = ECEF2geodetic(\n",
    "    ENU2ECEF(\n",
    "        rrm_top_left,\n",
    "        AER2ENU(DDM2RRM(np.array([[180], [0], [m_dist]], dtype=np.float64))),\n",
    "        WGS84.a,\n",
    "        WGS84.b,\n",
    "    ),\n",
    "    WGS84.a,\n",
    "    WGS84.b,\n",
    ")"
   ]
  },
  {
   "cell_type": "code",
   "execution_count": 6,
   "metadata": {},
   "outputs": [],
   "source": [
    "rrm_bottom_right = ECEF2geodetic(\n",
    "    ENU2ECEF(\n",
    "        rrm_bottom_left,\n",
    "        AER2ENU(DDM2RRM(np.array([[90], [0], [m_dist]], dtype=np.float64))),\n",
    "        WGS84.a,\n",
    "        WGS84.b,\n",
    "    ),\n",
    "    WGS84.a,\n",
    "    WGS84.b,\n",
    ")"
   ]
  },
  {
   "cell_type": "markdown",
   "metadata": {},
   "source": [
    "## Visualise"
   ]
  },
  {
   "cell_type": "markdown",
   "metadata": {},
   "source": [
    "Shapely"
   ]
  },
  {
   "cell_type": "code",
   "execution_count": 7,
   "metadata": {},
   "outputs": [
    {
     "data": {
      "image/svg+xml": [
       "<svg xmlns=\"http://www.w3.org/2000/svg\" xmlns:xlink=\"http://www.w3.org/1999/xlink\" width=\"100.0\" height=\"100.0\" viewBox=\"0.5759548747670746 0.5933294917356033 0.00010201655846220348 8.623233352289539e-05\" preserveAspectRatio=\"xMinYMin meet\"><g transform=\"matrix(1,0,0,-1,0,1.1867452158047296)\"><path fill-rule=\"evenodd\" fill=\"#66cc99\" stroke=\"#555555\" stroke-width=\"2.0403311692440696e-06\" opacity=\"0.6\" d=\"M 0.5759586531581288,0.5934119456780721 L 0.5760531129344827,0.5934119436002577 L 0.576053107945264,0.5933332701266575 L 0.5759586531581288,0.5933332722041212 L 0.5759586531581288,0.5934119456780721 z\" /></g></svg>"
      ],
      "text/plain": [
       "<POLYGON ((0.576 0.593, 0.576 0.593, 0.576 0.593, 0.576 0.593, 0.576 0.593))>"
      ]
     },
     "execution_count": 7,
     "metadata": {},
     "output_type": "execute_result"
    }
   ],
   "source": [
    "shapely.Polygon(\n",
    "    [\n",
    "        p[[1, 0]]\n",
    "        for p in [rrm_top_left, rrm_top_right, rrm_bottom_right, rrm_bottom_left]\n",
    "    ]\n",
    ")"
   ]
  },
  {
   "cell_type": "markdown",
   "metadata": {},
   "source": [
    "CZML"
   ]
  },
  {
   "cell_type": "code",
   "execution_count": 8,
   "metadata": {},
   "outputs": [],
   "source": [
    "ddm_points = []\n",
    "for p in [rrm_top_left, rrm_top_right, rrm_bottom_right, rrm_bottom_left]:\n",
    "    ddm_points.extend(RRM2DDM(p[[1, 0, 2]]).ravel().tolist())\n",
    "packets = [\n",
    "    Preamble(name=\"simple\"),\n",
    "    Packet(\n",
    "        id=\"polygon\",\n",
    "        polygon=Polygon(\n",
    "            positions=PositionList(cartographicDegrees=ddm_points),\n",
    "            material=Material(\n",
    "                solidColor=SolidColorMaterial(color=Color(rgba=[255, 253, 55, 255]))\n",
    "            ),\n",
    "            outlineColor=Color(rgba=[255, 253, 55, 255]),\n",
    "            outline=True,\n",
    "        ),\n",
    "    ),\n",
    "]"
   ]
  },
  {
   "cell_type": "code",
   "execution_count": 9,
   "metadata": {},
   "outputs": [],
   "source": [
    "with open(\"exmaple2.czml\", \"w\") as f:\n",
    "    f.write(Document(packets).dumps())"
   ]
  }
 ],
 "metadata": {
  "kernelspec": {
   "display_name": "venv",
   "language": "python",
   "name": "python3"
  },
  "language_info": {
   "codemirror_mode": {
    "name": "ipython",
    "version": 3
   },
   "file_extension": ".py",
   "mimetype": "text/x-python",
   "name": "python",
   "nbconvert_exporter": "python",
   "pygments_lexer": "ipython3",
   "version": "3.11.9"
  }
 },
 "nbformat": 4,
 "nbformat_minor": 2
}
