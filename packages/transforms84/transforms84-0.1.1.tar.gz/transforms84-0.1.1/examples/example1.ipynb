{
 "cells": [
  {
   "cell_type": "code",
   "execution_count": 1,
   "metadata": {},
   "outputs": [],
   "source": [
    "import numpy as np\n",
    "\n",
    "from transforms84.distances import Haversine\n",
    "from transforms84.geodetic_systems import WGS84\n",
    "from transforms84.helpers import (\n",
    "    DDM2RRM,\n",
    "    RRM2DDM,\n",
    "    deg_angular_difference,\n",
    "    deg_angular_differences,\n",
    ")\n",
    "from transforms84.transforms import ECEF2ENU, ENU2AER, geodetic2ECEF"
   ]
  },
  {
   "cell_type": "markdown",
   "metadata": {},
   "source": [
    "## Coordinate Transformations"
   ]
  },
  {
   "cell_type": "code",
   "execution_count": 2,
   "metadata": {},
   "outputs": [],
   "source": [
    "rrm_local = DDM2RRM(np.array([[30], [31], [0]], dtype=np.float64))\n",
    "rrm_target = DDM2RRM(np.array([[31], [32], [0]], dtype=np.float64))"
   ]
  },
  {
   "cell_type": "code",
   "execution_count": 3,
   "metadata": {},
   "outputs": [
    {
     "data": {
      "text/plain": [
       "array([[31.],\n",
       "       [32.],\n",
       "       [ 0.]])"
      ]
     },
     "execution_count": 3,
     "metadata": {},
     "output_type": "execute_result"
    }
   ],
   "source": [
    "RRM2DDM(rrm_target)"
   ]
  },
  {
   "cell_type": "code",
   "execution_count": 4,
   "metadata": {},
   "outputs": [
    {
     "data": {
      "text/plain": [
       "array([[ 4.06379074e+01],\n",
       "       [-6.60007585e-01],\n",
       "       [ 1.46643956e+05]])"
      ]
     },
     "execution_count": 4,
     "metadata": {},
     "output_type": "execute_result"
    }
   ],
   "source": [
    "rrm_local2target = ENU2AER(\n",
    "    ECEF2ENU(rrm_local, geodetic2ECEF(rrm_target, WGS84.a, WGS84.b), WGS84.a, WGS84.b)\n",
    ")\n",
    "ddm_local2target = RRM2DDM(rrm_local2target)\n",
    "ddm_local2target"
   ]
  },
  {
   "cell_type": "code",
   "execution_count": 5,
   "metadata": {},
   "outputs": [
    {
     "data": {
      "text/plain": [
       "array([[[0.52359878],\n",
       "        [0.54105207],\n",
       "        [0.        ]],\n",
       "\n",
       "       [[0.52359878],\n",
       "        [0.54105207],\n",
       "        [0.        ]],\n",
       "\n",
       "       [[0.52359878],\n",
       "        [0.54105207],\n",
       "        [0.        ]]])"
      ]
     },
     "execution_count": 5,
     "metadata": {},
     "output_type": "execute_result"
    }
   ],
   "source": [
    "np.tile(rrm_local, 3).T.reshape((-1, 3, 1))"
   ]
  },
  {
   "cell_type": "code",
   "execution_count": 6,
   "metadata": {},
   "outputs": [
    {
     "data": {
      "text/plain": [
       "(array([[[31.],\n",
       "         [32.],\n",
       "         [ 0.]],\n",
       " \n",
       "        [[31.],\n",
       "         [32.],\n",
       "         [ 0.]],\n",
       " \n",
       "        [[31.],\n",
       "         [32.],\n",
       "         [ 0.]]]),\n",
       " array([[[0.54105207],\n",
       "         [0.55850536],\n",
       "         [0.        ]],\n",
       " \n",
       "        [[0.54105207],\n",
       "         [0.55850536],\n",
       "         [0.        ]],\n",
       " \n",
       "        [[0.54105207],\n",
       "         [0.55850536],\n",
       "         [0.        ]]]))"
      ]
     },
     "execution_count": 6,
     "metadata": {},
     "output_type": "execute_result"
    }
   ],
   "source": [
    "rrm_targets = np.ascontiguousarray(np.tile(rrm_target, 3).T.reshape((-1, 3, 1)))\n",
    "rrm_locals = np.ascontiguousarray(\n",
    "    np.tile(rrm_local, rrm_targets.shape[0]).T.reshape((-1, 3, 1))\n",
    ")\n",
    "RRM2DDM(rrm_targets), rrm_targets"
   ]
  },
  {
   "cell_type": "code",
   "execution_count": 7,
   "metadata": {},
   "outputs": [
    {
     "data": {
      "text/plain": [
       "array([[[ 4.06379074e+01],\n",
       "        [-6.60007585e-01],\n",
       "        [ 1.46643956e+05]],\n",
       "\n",
       "       [[ 4.06379074e+01],\n",
       "        [-6.60007585e-01],\n",
       "        [ 1.46643956e+05]],\n",
       "\n",
       "       [[ 4.06379074e+01],\n",
       "        [-6.60007585e-01],\n",
       "        [ 1.46643956e+05]]])"
      ]
     },
     "execution_count": 7,
     "metadata": {},
     "output_type": "execute_result"
    }
   ],
   "source": [
    "ddm_local2targets = RRM2DDM(\n",
    "    ENU2AER(\n",
    "        ECEF2ENU(\n",
    "            rrm_locals, geodetic2ECEF(rrm_targets, WGS84.a, WGS84.b), WGS84.a, WGS84.b\n",
    "        )\n",
    "    )\n",
    ")\n",
    "assert np.all(np.unique(ddm_local2targets, axis=0)[0] == ddm_local2target)\n",
    "ddm_local2targets"
   ]
  },
  {
   "cell_type": "markdown",
   "metadata": {},
   "source": [
    "## Distance Calculation\n",
    "Compare the above range to the Haversine method:"
   ]
  },
  {
   "cell_type": "code",
   "execution_count": 8,
   "metadata": {},
   "outputs": [
    {
     "data": {
      "text/plain": [
       "(array([146775.8833037]), array([131.92690735]))"
      ]
     },
     "execution_count": 8,
     "metadata": {},
     "output_type": "execute_result"
    }
   ],
   "source": [
    "m_distance = Haversine(rrm_local, rrm_target, WGS84.mean_radius)\n",
    "m_distance, m_distance - ddm_local2target[2, 0]"
   ]
  },
  {
   "cell_type": "code",
   "execution_count": 9,
   "metadata": {},
   "outputs": [
    {
     "data": {
      "text/plain": [
       "array([146775.8833037, 146775.8833037, 146775.8833037])"
      ]
     },
     "execution_count": 9,
     "metadata": {},
     "output_type": "execute_result"
    }
   ],
   "source": [
    "m_distances1 = Haversine(rrm_locals, rrm_targets, WGS84.mean_radius)\n",
    "m_distances1"
   ]
  },
  {
   "cell_type": "code",
   "execution_count": 10,
   "metadata": {},
   "outputs": [
    {
     "data": {
      "text/plain": [
       "array([146775.8833037, 146775.8833037, 146775.8833037, 146775.8833037,\n",
       "       146775.8833037, 146775.8833037, 146775.8833037, 146775.8833037,\n",
       "       146775.8833037, 146775.8833037])"
      ]
     },
     "execution_count": 10,
     "metadata": {},
     "output_type": "execute_result"
    }
   ],
   "source": [
    "m_distances2 = Haversine(\n",
    "    np.ascontiguousarray(np.tile(rrm_local, 10).T.reshape((-1, 3, 1))),\n",
    "    np.ascontiguousarray(np.tile(rrm_target, 10).T.reshape((-1, 3, 1))),\n",
    "    (2 * 6378137.0 + 6356752.314245) / 3,\n",
    ")\n",
    "m_distances2"
   ]
  },
  {
   "cell_type": "code",
   "execution_count": 11,
   "metadata": {},
   "outputs": [
    {
     "data": {
      "text/plain": [
       "np.True_"
      ]
     },
     "execution_count": 11,
     "metadata": {},
     "output_type": "execute_result"
    }
   ],
   "source": [
    "m_distance == np.unique(m_distances1)[0] == np.unique(m_distances2)[0]"
   ]
  },
  {
   "cell_type": "markdown",
   "metadata": {},
   "source": [
    "## Misc. Functions"
   ]
  },
  {
   "cell_type": "code",
   "execution_count": 12,
   "metadata": {},
   "outputs": [
    {
     "data": {
      "text/plain": [
       "(20.0, 20.0, 340.0)"
      ]
     },
     "execution_count": 12,
     "metadata": {},
     "output_type": "execute_result"
    }
   ],
   "source": [
    "(\n",
    "    deg_angular_difference(50, 70, True),\n",
    "    deg_angular_difference(70, 50, True),\n",
    "    deg_angular_difference(70, 50, False),\n",
    ")"
   ]
  },
  {
   "cell_type": "code",
   "execution_count": 13,
   "metadata": {},
   "outputs": [
    {
     "data": {
      "text/plain": [
       "(array([20., 20.], dtype=float32),\n",
       " array([20., 20.], dtype=float32),\n",
       " array([340., 340.], dtype=float32))"
      ]
     },
     "execution_count": 13,
     "metadata": {},
     "output_type": "execute_result"
    }
   ],
   "source": [
    "(\n",
    "    deg_angular_differences(\n",
    "        np.array([50, 50], dtype=np.float32), np.array([70, 70], dtype=np.float32), True\n",
    "    ),\n",
    "    deg_angular_differences(\n",
    "        np.array([70, 70], dtype=np.float32), np.array([50, 50], dtype=np.float32), True\n",
    "    ),\n",
    "    deg_angular_differences(\n",
    "        np.array([70, 70], dtype=np.float32),\n",
    "        np.array([50, 50], dtype=np.float32),\n",
    "        False,\n",
    "    ),\n",
    ")"
   ]
  },
  {
   "cell_type": "code",
   "execution_count": null,
   "metadata": {},
   "outputs": [],
   "source": []
  }
 ],
 "metadata": {
  "kernelspec": {
   "display_name": ".venv",
   "language": "python",
   "name": "python3"
  },
  "language_info": {
   "codemirror_mode": {
    "name": "ipython",
    "version": 3
   },
   "file_extension": ".py",
   "mimetype": "text/x-python",
   "name": "python",
   "nbconvert_exporter": "python",
   "pygments_lexer": "ipython3",
   "version": "3.11.9"
  }
 },
 "nbformat": 4,
 "nbformat_minor": 2
}
