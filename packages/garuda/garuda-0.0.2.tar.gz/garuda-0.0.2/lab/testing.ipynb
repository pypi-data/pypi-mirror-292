{
    "cells": [
        {
            "cell_type": "code",
            "execution_count": 5,
            "metadata": {},
            "outputs": [],
            "source": [
                "import numpy as np\n",
                "from garuda.ops import geo_to_webm_pixel, webm_pixel_to_geo\n",
                "from garuda.od import yolo_aa_to_geo"
            ]
        },
        {
            "cell_type": "code",
            "execution_count": 9,
            "metadata": {},
            "outputs": [
                {
                    "name": "stdout",
                    "output_type": "stream",
                    "text": [
                        "(33.78005890246785, -84.40166441802978)\n"
                    ]
                }
            ],
            "source": [
                "lat = 33.7756\n",
                "lon = -84.3963\n",
                "\n",
                "x, y = geo_to_webm_pixel(lat, lon, 18)\n",
                "print(webm_pixel_to_geo(x-1000, y-1000, 18))"
            ]
        }
    ],
    "metadata": {
        "kernelspec": {
            "display_name": "zeel_py310",
            "language": "python",
            "name": "python3"
        },
        "language_info": {
            "codemirror_mode": {
                "name": "ipython",
                "version": 3
            },
            "file_extension": ".py",
            "mimetype": "text/x-python",
            "name": "python",
            "nbconvert_exporter": "python",
            "pygments_lexer": "ipython3",
            "version": "3.10.12"
        }
    },
    "nbformat": 4,
    "nbformat_minor": 2
}