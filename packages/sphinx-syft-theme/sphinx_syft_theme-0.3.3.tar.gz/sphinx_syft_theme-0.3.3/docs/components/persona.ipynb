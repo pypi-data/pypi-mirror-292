{
 "cells": [
  {
   "cell_type": "markdown",
   "metadata": {},
   "source": [
    "# Persona in Syft Theme\n",
    "\n",
    "The Sphinx Syft Theme is a `Sphinx Theme <https://www.sphinx-doc.org/en/master/usage/theming.html>`_\n",
    "that inherits directly from the `Sphinx Basic Theme <https://www.sphinx-doc.org/en/master/usage/theming.html>`_"
   ]
  },
  {
   "cell_type": "markdown",
   "metadata": {},
   "source": [
    "## Persona Introduction\n",
    "\n",
    "This is a Jupyter Book example with persona. Below are what changed:\n",
    "\n",
    "```\n",
    "sphinx:\n",
    "  config:\n",
    "    html_theme: sphinx_syft_theme\n",
    "    html_theme_options:\n",
    "      github_url: https://github.com/callezenwaka/syft-theme\n",
    "      twitter_url: https://twitter.com/callezenwaka\n",
    "      repository_url: https://github.com/callezenwaka/syft-theme\n",
    "      custom_shortcode_to_image:\n",
    "        \"|:persona_alice:|\": \"/_static/images/alice.svg\"\n",
    "        \"|:persona_bob:|\": \"/_static/images/bob.svg\"\n",
    "```"
   ]
  },
  {
   "cell_type": "markdown",
   "metadata": {},
   "source": [
    "## Persona Usage\n",
    "\n",
    "Below is how to apply code to headers:\n",
    "\n",
    "```\n",
    "## |:persona:| Custom Persona\n",
    "```"
   ]
  },
  {
   "cell_type": "markdown",
   "metadata": {},
   "source": [
    "## |:persona:| Custom Persona \n",
    "<!-- |:persona:|  -->\n",
    "\n",
    "On top of all of these amazing themes, the Sphinx Syft theme add a few simple new custom features like OpenMined Symoji."
   ]
  },
  {
   "cell_type": "markdown",
   "metadata": {},
   "source": [
    "## Chloe Custom Symoji\n",
    "<!-- |:persona_chloe:| -->\n",
    "\n",
    "On top of all of these amazing themes, the Sphinx Syft theme add a few simple new custom features like OpenMined Symoji."
   ]
  },
  {
   "cell_type": "markdown",
   "metadata": {},
   "source": [
    "## Pandas"
   ]
  },
  {
   "cell_type": "code",
   "execution_count": null,
   "metadata": {},
   "outputs": [],
   "source": [
    "import string\n",
    "\n",
    "import numpy as np\n",
    "import pandas as pd\n",
    "\n",
    "rng = np.random.default_rng(seed=15485863)\n",
    "data = rng.standard_normal((100, 26))\n",
    "df = pd.DataFrame(data, columns=list(string.ascii_lowercase))\n",
    "df"
   ]
  }
 ],
 "metadata": {
  "kernelspec": {
   "display_name": "Python 3",
   "language": "python",
   "name": "python3"
  },
  "language_info": {
   "name": "python",
   "version": "3.11.6"
  }
 },
 "nbformat": 4,
 "nbformat_minor": 2
}
