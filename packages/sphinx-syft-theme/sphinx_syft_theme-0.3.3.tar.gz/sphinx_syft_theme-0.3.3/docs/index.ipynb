{
 "cells": [
  {
   "cell_type": "markdown",
   "metadata": {},
   "source": [
    "# Glossary\n",
    "\n",
    "This is a place to find the definitions for terms used throughout the lesson notebooks.\n",
    "\n",
    "If any definition is confusing or needs additional details, let us know through the channel or during office hours."
   ]
  },
  {
   "cell_type": "markdown",
   "metadata": {},
   "source": [
    "## Al Dente\n",
    "\n",
    "An Italian term used to describe pasta and rice that are cooked to be firm to the bite."
   ]
  },
  {
   "cell_type": "markdown",
   "metadata": {},
   "source": [
    "## Blanching\n",
    "\n",
    "A cooking process where food is briefly immersed in boiling water and then immediately placed in ice water to stop the cooking process. This technique is used to preserve color, flavor, and texture."
   ]
  },
  {
   "cell_type": "markdown",
   "metadata": {},
   "source": [
    "## Deglazing\n",
    "\n",
    "A cooking technique where a liquid (such as wine, broth, or juice) is added to a hot pan to loosen and dissolve food particles stuck to the bottom, creating a flavorful base for sauces."
   ]
  },
  {
   "cell_type": "markdown",
   "metadata": {},
   "source": [
    "## Caramelization\n",
    "\n",
    "The process of cooking sugar until it browns, which enhances the flavor and color of the food."
   ]
  },
  {
   "cell_type": "markdown",
   "metadata": {},
   "source": [
    "## Emulsify\n",
    "\n",
    "The process of combining two liquids that normally do not mix well, such as oil and water, to form a stable mixture. Commonly done in salad dressings and mayonnaise."
   ]
  },
  {
   "cell_type": "markdown",
   "metadata": {},
   "source": [
    "## Fermentation\n",
    "\n",
    "A metabolic process that converts sugar to acids, gases, or alcohol using microorganisms like yeast or bacteria. It is used in making products like yogurt, beer, wine, and bread."
   ]
  },
  {
   "cell_type": "markdown",
   "metadata": {},
   "source": [
    "## Gluten \n",
    "\n",
    "A protein found in wheat, barley, and rye, which gives dough its elasticity and helps it rise. It is responsible for the chewy texture of baked goods."
   ]
  }
 ],
 "metadata": {
  "kernelspec": {
   "display_name": "Python 3",
   "language": "python",
   "name": "python3"
  },
  "language_info": {
   "name": "python",
   "version": "3.11.6"
  }
 },
 "nbformat": 4,
 "nbformat_minor": 2
}
