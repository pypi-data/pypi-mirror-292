{
 "cells": [
  {
   "cell_type": "markdown",
   "metadata": {},
   "source": [
    "This notebook shows how to use `fact` package to compare extragalactic source positions in the ICRF and Gaia catalogs.\n"
   ]
  },
  {
   "cell_type": "code",
   "execution_count": 1,
   "metadata": {},
   "outputs": [],
   "source": [
    "from matplotlib import pyplot as plt\n",
    "from matplotlib.ticker import MultipleLocator, NullFormatter\n",
    "from scipy import stats\n",
    "import numpy as np\n",
    "from fact.catalog_parser import read_icrf, read_gaia_icrf\n",
    "from fact.catalog_utils import calculate_positional_differences, plot_positional_offset_with_histograms, plot_positional_offset, plot_normalized_offsets, plot_angular_separation_distribution, plot_normalized_separation_distribution, vsh_fit_4_table, plot_angular_vs_normalized_separation"
   ]
  },
  {
   "cell_type": "markdown",
   "metadata": {},
   "source": [
    "Load all the historical ICRF catalogs."
   ]
  },
  {
   "cell_type": "code",
   "execution_count": 2,
   "metadata": {},
   "outputs": [],
   "source": [
    "# icrf1 = read_icrf(gen=1, calc_pos_eepm=False)\n",
    "# icrf1ext1 = read_icrf(gen=1, ext=1, calc_pos_eepm=False)\n",
    "# icrf1ext2 = read_icrf(gen=1, ext=2, calc_pos_eepm=False)\n",
    "# icrf2 = read_icrf(gen=2, calc_pos_eepm=False)\n",
    "icrf3sx = read_icrf(gen=3, band=\"sx\", calc_pos_eepm=False)\n",
    "icrf3k = read_icrf(gen=3, band=\"k\", calc_pos_eepm=False)\n",
    "icrf3xka = read_icrf(gen=3, band=\"xka\", calc_pos_eepm=False)\n"
   ]
  },
  {
   "cell_type": "markdown",
   "metadata": {},
   "source": [
    "Load the astrometric data for ICRF sources in *Gaia* DR3."
   ]
  },
  {
   "cell_type": "code",
   "execution_count": 3,
   "metadata": {},
   "outputs": [
    {
     "name": "stderr",
     "output_type": "stream",
     "text": [
      "INFO:astroquery:Query finished.\n"
     ]
    },
    {
     "name": "stdout",
     "output_type": "stream",
     "text": [
      "INFO: Query finished. [astroquery.utils.tap.core]\n"
     ]
    }
   ],
   "source": [
    "# gdr1_icrf = read_gaia_icrf(version=1, oneline_query=True, calc_pos_eepm=False)\n",
    "# gdr2_icrf = read_gaia_icrf(\n",
    "#     version=2, oneline_query=True, calc_pos_eepm=False, error_scaling=False)\n",
    "gdr3_icrf = read_gaia_icrf(\n",
    "    version=3, oneline_query=True, calc_pos_eepm=False, radio_band=\"all\")"
   ]
  },
  {
   "cell_type": "markdown",
   "metadata": {},
   "source": [
    "## Computation of offsets of ICRF positions wrt. *Gaia* positions"
   ]
  },
  {
   "cell_type": "code",
   "execution_count": 4,
   "metadata": {},
   "outputs": [],
   "source": [
    "icrf3sx.rename_column(\"iau_name\", \"sou_name\")\n",
    "sou_name = [str(sou_namei)\n",
    "            for sou_namei in gdr3_icrf[\"source_name_in_catalogue\"]]\n",
    "gdr3_icrf.add_column(sou_name, name=\"sou_name\")"
   ]
  },
  {
   "cell_type": "code",
   "execution_count": 5,
   "metadata": {},
   "outputs": [],
   "source": [
    "common_sou_sx_g = calculate_positional_differences(\n",
    "    icrf3sx, gdr3_icrf, source_name=\"sou_name\", label=[\"sx\", \"g\"])"
   ]
  },
  {
   "cell_type": "markdown",
   "metadata": {},
   "source": [
    "## Distribution of positional offsets"
   ]
  },
  {
   "cell_type": "code",
   "execution_count": 6,
   "metadata": {},
   "outputs": [],
   "source": [
    "# plot_positional_offset_with_histograms(\n",
    "#     common_sou_sx_g[\"dra\"], common_sou_sx_g[\"ddec\"], label=\"ICRF3 S/X $-$ Gaia DR3\"\n",
    "# )"
   ]
  },
  {
   "cell_type": "code",
   "execution_count": 7,
   "metadata": {},
   "outputs": [],
   "source": [
    "# plot_angular_separation_distribution(\n",
    "#     common_sou_sx_g, label=\"ICRF3 S/X $-$ Gaia DR3\")"
   ]
  },
  {
   "cell_type": "code",
   "execution_count": 8,
   "metadata": {},
   "outputs": [],
   "source": [
    "# plot_normalized_offsets(\n",
    "#     common_sou_sx_g, add_gaussian_dist=True, label=\"ICRF3 S/X $-$ Gaia DR3\")"
   ]
  },
  {
   "cell_type": "code",
   "execution_count": 9,
   "metadata": {},
   "outputs": [],
   "source": [
    "# plot_normalized_separation_distribution(\n",
    "#     common_sou_sx_g, label=\"ICRF3 S/X $-$ Gaia DR3\")"
   ]
  },
  {
   "cell_type": "code",
   "execution_count": 10,
   "metadata": {},
   "outputs": [],
   "source": [
    "# plot_angular_vs_normalized_separation(\n",
    "#     common_sou_sx_g, label=\"ICRF3 S/X $-$ Gaia DR3\")"
   ]
  },
  {
   "cell_type": "markdown",
   "metadata": {},
   "source": [
    "## Spatial dependency of positional offsets"
   ]
  },
  {
   "cell_type": "code",
   "execution_count": 11,
   "metadata": {},
   "outputs": [],
   "source": [
    "# plot_positional_offset(common_sou_sx_g, plot_type=\"ra\",\n",
    "#                        title_name=\"ICRF3 S/X $-$ Gaia DR3\", y_lim=[-2.5, 2.5])"
   ]
  },
  {
   "cell_type": "code",
   "execution_count": 12,
   "metadata": {},
   "outputs": [],
   "source": [
    "# plot_positional_offset(common_sou_sx_g, plot_type=\"dec\",\n",
    "#                        title_name=\"ICRF3 S/X $-$ Gaia DR3\", y_lim=[-2.5, 2.5])"
   ]
  },
  {
   "cell_type": "code",
   "execution_count": 13,
   "metadata": {},
   "outputs": [
    {
     "ename": "TypeError",
     "evalue": "fit_vsh() got an unexpected keyword argument 'e_dRA'",
     "output_type": "error",
     "traceback": [
      "\u001b[0;31m---------------------------------------------------------------------------\u001b[0m",
      "\u001b[0;31mTypeError\u001b[0m                                 Traceback (most recent call last)",
      "Cell \u001b[0;32mIn[13], line 1\u001b[0m\n\u001b[0;32m----> 1\u001b[0m \u001b[43mvsh_fit_4_table\u001b[49m\u001b[43m(\u001b[49m\u001b[43mcommon_sou_sx_g\u001b[49m\u001b[43m)\u001b[49m\n",
      "File \u001b[0;32m/gaia/git/fact/src/fact/catalog_utils/vsh_analysis.py:250\u001b[0m, in \u001b[0;36mvsh_fit_4_table\u001b[0;34m(data_tab, fit_type, return_aux, l_max)\u001b[0m\n\u001b[1;32m    247\u001b[0m dra, ddec, dra_err, ddec_err, ra, dec \u001b[38;5;241m=\u001b[39m extract_data_from_table(data_tab)\n\u001b[1;32m    248\u001b[0m dra_ddec_cov \u001b[38;5;241m=\u001b[39m calculate_covariance_matrix(data_tab, dra_err, ddec_err)\n\u001b[0;32m--> 250\u001b[0m output_data \u001b[38;5;241m=\u001b[39m \u001b[43mfit_vsh\u001b[49m\u001b[43m(\u001b[49m\n\u001b[1;32m    251\u001b[0m \u001b[43m    \u001b[49m\u001b[43mdra\u001b[49m\u001b[43m,\u001b[49m\u001b[43m \u001b[49m\u001b[43mddec\u001b[49m\u001b[43m,\u001b[49m\u001b[43m \u001b[49m\u001b[43mra\u001b[49m\u001b[43m,\u001b[49m\u001b[43m \u001b[49m\u001b[43mdec\u001b[49m\u001b[43m,\u001b[49m\n\u001b[1;32m    252\u001b[0m \u001b[43m    \u001b[49m\u001b[43me_dRA\u001b[49m\u001b[38;5;241;43m=\u001b[39;49m\u001b[43mdra_err\u001b[49m\u001b[43m,\u001b[49m\u001b[43m \u001b[49m\u001b[43me_dDE\u001b[49m\u001b[38;5;241;43m=\u001b[39;49m\u001b[43mddec_err\u001b[49m\u001b[43m,\u001b[49m\n\u001b[1;32m    253\u001b[0m \u001b[43m    \u001b[49m\u001b[43mcov\u001b[49m\u001b[38;5;241;43m=\u001b[39;49m\u001b[43mdra_ddec_cov\u001b[49m\u001b[43m,\u001b[49m\n\u001b[1;32m    254\u001b[0m \u001b[43m    \u001b[49m\u001b[43melim_flag\u001b[49m\u001b[38;5;241;43m=\u001b[39;49m\u001b[38;5;124;43m\"\u001b[39;49m\u001b[38;5;124;43mnor_ang\u001b[39;49m\u001b[38;5;124;43m\"\u001b[39;49m\u001b[43m,\u001b[49m\n\u001b[1;32m    255\u001b[0m \u001b[43m    \u001b[49m\u001b[43mang_sep\u001b[49m\u001b[38;5;241;43m=\u001b[39;49m\u001b[43mnp\u001b[49m\u001b[38;5;241;43m.\u001b[39;49m\u001b[43marray\u001b[49m\u001b[43m(\u001b[49m\u001b[43mdata_tab\u001b[49m\u001b[43m[\u001b[49m\u001b[38;5;124;43m\"\u001b[39;49m\u001b[38;5;124;43mang_sep\u001b[39;49m\u001b[38;5;124;43m\"\u001b[39;49m\u001b[43m]\u001b[49m\u001b[43m)\u001b[49m\u001b[43m,\u001b[49m\n\u001b[1;32m    256\u001b[0m \u001b[43m    \u001b[49m\u001b[43mX\u001b[49m\u001b[38;5;241;43m=\u001b[39;49m\u001b[43mnp\u001b[49m\u001b[38;5;241;43m.\u001b[39;49m\u001b[43marray\u001b[49m\u001b[43m(\u001b[49m\u001b[43mdata_tab\u001b[49m\u001b[43m[\u001b[49m\u001b[38;5;124;43m\"\u001b[39;49m\u001b[38;5;124;43mnor_sep\u001b[39;49m\u001b[38;5;124;43m\"\u001b[39;49m\u001b[43m]\u001b[49m\u001b[43m)\u001b[49m\u001b[43m,\u001b[49m\n\u001b[1;32m    257\u001b[0m \u001b[43m    \u001b[49m\u001b[43mfit_type\u001b[49m\u001b[38;5;241;43m=\u001b[39;49m\u001b[43mfit_type\u001b[49m\u001b[43m,\u001b[49m\n\u001b[1;32m    258\u001b[0m \u001b[43m    \u001b[49m\u001b[43mreturn_aux\u001b[49m\u001b[38;5;241;43m=\u001b[39;49m\u001b[43mreturn_aux\u001b[49m\u001b[43m,\u001b[49m\n\u001b[1;32m    259\u001b[0m \u001b[43m    \u001b[49m\u001b[43ml_max\u001b[49m\u001b[38;5;241;43m=\u001b[39;49m\u001b[43ml_max\u001b[49m\n\u001b[1;32m    260\u001b[0m \u001b[43m\u001b[49m\u001b[43m)\u001b[49m\n\u001b[1;32m    262\u001b[0m output \u001b[38;5;241m=\u001b[39m {\n\u001b[1;32m    263\u001b[0m     \u001b[38;5;124m\"\u001b[39m\u001b[38;5;124mpmt\u001b[39m\u001b[38;5;124m\"\u001b[39m: output_data[\u001b[38;5;241m0\u001b[39m],\n\u001b[1;32m    264\u001b[0m     \u001b[38;5;124m\"\u001b[39m\u001b[38;5;124msig\u001b[39m\u001b[38;5;124m\"\u001b[39m: output_data[\u001b[38;5;241m1\u001b[39m],\n\u001b[1;32m    265\u001b[0m     \u001b[38;5;124m\"\u001b[39m\u001b[38;5;124mcor_mat\u001b[39m\u001b[38;5;124m\"\u001b[39m: output_data[\u001b[38;5;241m2\u001b[39m],\n\u001b[1;32m    266\u001b[0m }\n\u001b[1;32m    268\u001b[0m \u001b[38;5;28;01mif\u001b[39;00m return_aux:\n",
      "\u001b[0;31mTypeError\u001b[0m: fit_vsh() got an unexpected keyword argument 'e_dRA'"
     ]
    }
   ],
   "source": [
    "vsh_fit_4_table(common_sou_sx_g)"
   ]
  },
  {
   "cell_type": "markdown",
   "metadata": {},
   "source": []
  },
  {
   "cell_type": "markdown",
   "metadata": {},
   "source": [
    "Load all the astrometric information of the optical counterparts of ICRF sources in the Gaia catalog."
   ]
  }
 ],
 "metadata": {
  "kernelspec": {
   "display_name": "Python 3",
   "language": "python",
   "name": "python3"
  },
  "language_info": {
   "codemirror_mode": {
    "name": "ipython",
    "version": 3
   },
   "file_extension": ".py",
   "mimetype": "text/x-python",
   "name": "python",
   "nbconvert_exporter": "python",
   "pygments_lexer": "ipython3",
   "version": "3.12.2"
  }
 },
 "nbformat": 4,
 "nbformat_minor": 4
}
