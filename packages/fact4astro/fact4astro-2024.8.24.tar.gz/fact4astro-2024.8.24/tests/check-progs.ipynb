{
 "cells": [
  {
   "cell_type": "code",
   "execution_count": 1,
   "metadata": {},
   "outputs": [],
   "source": [
    "from fact.cat_parser.translate_sou_name import read_ivs_sou_name_table"
   ]
  },
  {
   "cell_type": "code",
   "execution_count": 2,
   "metadata": {},
   "outputs": [
    {
     "data": {
      "text/html": [
       "<div><i>Table length=3691</i>\n",
       "<table id=\"table139745362875088\" class=\"table-striped table-bordered table-condensed\">\n",
       "<thead><tr><th>ivs_name</th><th>iau_name</th><th>iau_name_short</th><th>iers_name</th><th>jpl_name</th></tr></thead>\n",
       "<thead><tr><th>str8</th><th>str16</th><th>str10</th><th>str8</th><th>str12</th></tr></thead>\n",
       "<tr><td>2357+025</td><td>J000019.2+024814</td><td>J0000+0248</td><td>2357+025</td><td>--</td></tr>\n",
       "<tr><td>2357-326</td><td>J000020.3-322101</td><td>J0000-3221</td><td>2357-326</td><td>--</td></tr>\n",
       "<tr><td>2357+811</td><td>J000024.5+812348</td><td>J0000+8123</td><td>2357+811</td><td>--</td></tr>\n",
       "<tr><td>2357+028</td><td>J000027.0+030715</td><td>J0000+0307</td><td>2357+028</td><td>--</td></tr>\n",
       "<tr><td>2358+406</td><td>J000053.0+405401</td><td>J0000+4054</td><td>2358+406</td><td>--</td></tr>\n",
       "<tr><td>2358-161</td><td>J000105.3-155107</td><td>J0001-1551</td><td>2358-161</td><td>--</td></tr>\n",
       "<tr><td>2358+605</td><td>J000107.0+605122</td><td>J0001+6051</td><td>2358+605</td><td>--</td></tr>\n",
       "<tr><td>2358+189</td><td>J000108.6+191433</td><td>J0001+1914</td><td>2358+189</td><td>--</td></tr>\n",
       "<tr><td>2358+024</td><td>J000109.5+024309</td><td>J0001+0243</td><td>2358+024</td><td>--</td></tr>\n",
       "<tr><td>2358-080</td><td>J000118.0-074626</td><td>J0001-0746</td><td>2358-080</td><td>--</td></tr>\n",
       "<tr><td>...</td><td>...</td><td>...</td><td>...</td><td>...</td></tr>\n",
       "<tr><td>1215+287</td><td>J121806.4+282822</td><td>J1218+2828</td><td>1215+287</td><td>--</td></tr>\n",
       "<tr><td>1215+062</td><td>J121807.6+055900</td><td>J1218+0559</td><td>1215+062</td><td>--</td></tr>\n",
       "<tr><td>1215+113</td><td>J121826.0+110505</td><td>J1218+1105</td><td>1215+113</td><td>--</td></tr>\n",
       "<tr><td>1215+013</td><td>J121827.7+010237</td><td>J1218+0102</td><td>1215+013</td><td>--</td></tr>\n",
       "<tr><td>1216+798</td><td>J121831.5+793425</td><td>J1218+7934</td><td>1216+798</td><td>--</td></tr>\n",
       "<tr><td>1216-010</td><td>J121834.9-011954</td><td>J1218-0119</td><td>1216-010</td><td>--</td></tr>\n",
       "<tr><td>1216-062</td><td>J121836.1-063116</td><td>J1218-0631</td><td>1216-062</td><td>--</td></tr>\n",
       "<tr><td>1216+251</td><td>J121840.0+244955</td><td>J1218+2449</td><td>1216+251</td><td>--</td></tr>\n",
       "<tr><td>1216+179</td><td>J121846.6+173817</td><td>J1218+1738</td><td>1216+179</td><td>--</td></tr>\n",
       "<tr><td>M106</td><td>J121857.5+471814</td><td>J1218+4718</td><td>1216+475</td><td>--</td></tr>\n",
       "</table></div>"
      ],
      "text/plain": [
       "<Table length=3691>\n",
       "ivs_name     iau_name     iau_name_short iers_name jpl_name\n",
       "  str8        str16           str10         str8    str12  \n",
       "-------- ---------------- -------------- --------- --------\n",
       "2357+025 J000019.2+024814     J0000+0248  2357+025       --\n",
       "2357-326 J000020.3-322101     J0000-3221  2357-326       --\n",
       "2357+811 J000024.5+812348     J0000+8123  2357+811       --\n",
       "2357+028 J000027.0+030715     J0000+0307  2357+028       --\n",
       "2358+406 J000053.0+405401     J0000+4054  2358+406       --\n",
       "2358-161 J000105.3-155107     J0001-1551  2358-161       --\n",
       "2358+605 J000107.0+605122     J0001+6051  2358+605       --\n",
       "2358+189 J000108.6+191433     J0001+1914  2358+189       --\n",
       "2358+024 J000109.5+024309     J0001+0243  2358+024       --\n",
       "2358-080 J000118.0-074626     J0001-0746  2358-080       --\n",
       "     ...              ...            ...       ...      ...\n",
       "1215+287 J121806.4+282822     J1218+2828  1215+287       --\n",
       "1215+062 J121807.6+055900     J1218+0559  1215+062       --\n",
       "1215+113 J121826.0+110505     J1218+1105  1215+113       --\n",
       "1215+013 J121827.7+010237     J1218+0102  1215+013       --\n",
       "1216+798 J121831.5+793425     J1218+7934  1216+798       --\n",
       "1216-010 J121834.9-011954     J1218-0119  1216-010       --\n",
       "1216-062 J121836.1-063116     J1218-0631  1216-062       --\n",
       "1216+251 J121840.0+244955     J1218+2449  1216+251       --\n",
       "1216+179 J121846.6+173817     J1218+1738  1216+179       --\n",
       "    M106 J121857.5+471814     J1218+4718  1216+475       --"
      ]
     },
     "execution_count": 2,
     "metadata": {},
     "output_type": "execute_result"
    }
   ],
   "source": [
    "read_ivs_sou_name_table(\"../data/IVS_SrcNamesTable.txt\")"
   ]
  }
 ],
 "metadata": {
  "kernelspec": {
   "display_name": "Python 3",
   "language": "python",
   "name": "python3"
  },
  "language_info": {
   "codemirror_mode": {
    "name": "ipython",
    "version": 3
   },
   "file_extension": ".py",
   "mimetype": "text/x-python",
   "name": "python",
   "nbconvert_exporter": "python",
   "pygments_lexer": "ipython3",
   "version": "3.11.6"
  }
 },
 "nbformat": 4,
 "nbformat_minor": 4
}
