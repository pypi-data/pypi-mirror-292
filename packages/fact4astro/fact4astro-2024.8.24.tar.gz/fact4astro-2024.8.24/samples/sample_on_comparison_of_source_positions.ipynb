{
 "cells": [
  {
   "cell_type": "markdown",
   "metadata": {},
   "source": [
    "This notebook shows how to use `fact` package to compare extragalactic source positions in the ICRF and Gaia catalogs.\n"
   ]
  },
  {
   "cell_type": "code",
   "execution_count": 1,
   "metadata": {},
   "outputs": [],
   "source": [
    "from fact.cat_parser.read_icrf import read_icrf"
   ]
  },
  {
   "cell_type": "markdown",
   "metadata": {},
   "source": [
    "Load all the historical ICRF catalogs."
   ]
  },
  {
   "cell_type": "code",
   "execution_count": 2,
   "metadata": {},
   "outputs": [],
   "source": [
    "icrf1 = read_icrf(gen=1)\n",
    "icrf1ext1 = read_icrf(gen=1, ext=1)\n",
    "icrf1ext2 = read_icrf(gen=1, ext=2)\n",
    "icrf2 = read_icrf(gen=2)\n",
    "icrf3sx = read_icrf(gen=3, band=\"sx\")\n",
    "icrf3k = read_icrf(gen=3, band=\"k\")\n",
    "icrf3xka = read_icrf(gen=3, band=\"xka\")"
   ]
  },
  {
   "cell_type": "markdown",
   "metadata": {},
   "source": [
    "Load all the astrometric information of the optical counterparts of ICRF sources in the Gaia catalog."
   ]
  },
  {
   "cell_type": "code",
   "execution_count": 3,
   "metadata": {},
   "outputs": [
    {
     "data": {
      "text/html": [
       "<div><i>Table length=608</i>\n",
       "<table id=\"table140332611808976\" class=\"table-striped table-bordered table-condensed\">\n",
       "<thead><tr><th>iau_name</th><th>iers_name</th><th>type</th><th>ra</th><th>dec</th><th>si_s</th><th>si_x</th><th>ra_error</th><th>pos_err_max</th><th>pos_err_min</th><th>eepa</th><th>dec_error</th><th>ra_dec_corr</th><th>mean_obs</th><th>beg_obs</th><th>end_obs</th><th>nb_sess</th><th>nb_del</th></tr></thead>\n",
       "<thead><tr><th></th><th></th><th></th><th>deg</th><th>deg</th><th></th><th></th><th>mas</th><th>mas</th><th>mas</th><th>deg</th><th>mas</th><th></th><th></th><th></th><th></th><th></th><th></th></tr></thead>\n",
       "<thead><tr><th>str16</th><th>str8</th><th>str1</th><th>float64</th><th>float64</th><th>int64</th><th>int64</th><th>float64</th><th>float64</th><th>float64</th><th>float64</th><th>float64</th><th>float64</th><th>float64</th><th>float64</th><th>float64</th><th>int64</th><th>int64</th></tr></thead>\n",
       "<tr><td>J000435.6-473619</td><td>0002-478</td><td>C</td><td>1.1485649833333333</td><td>-47.60544527777778</td><td>--</td><td>--</td><td>0.7989651607929584</td><td>0.9703684624483438</td><td>0.7985176111060763</td><td>2.7797514370708702</td><td>0.97</td><td>0.019</td><td>49435.5</td><td>49330.5</td><td>49524.7</td><td>3</td><td>7</td></tr>\n",
       "<tr><td>J000557.1+382015</td><td>0003+380</td><td>D</td><td>1.488230870833333</td><td>38.337541111111115</td><td>--</td><td>--</td><td>0.48238761947811093</td><td>0.5132372639993186</td><td>0.4789418819316729</td><td>161.8197755853783</td><td>0.51</td><td>-0.041</td><td>49087.0</td><td>48720.9</td><td>49554.8</td><td>2</td><td>41</td></tr>\n",
       "<tr><td>J000613.8-062335</td><td>0003-066</td><td>C</td><td>1.5578870291666664</td><td>-6.393148333333333</td><td>3</td><td>1</td><td>0.28322765396191285</td><td>0.39501575093188085</td><td>0.19945039604997353</td><td>143.85934590115045</td><td>0.33999999999999997</td><td>-0.575</td><td>48728.1</td><td>47176.5</td><td>49565.9</td><td>41</td><td>114</td></tr>\n",
       "<tr><td>J001031.0+105829</td><td>0007+106</td><td>D</td><td>2.6291911999999997</td><td>10.974862222222223</td><td>--</td><td>--</td><td>0.4712211858874936</td><td>0.7435696480892366</td><td>0.36270316302682637</td><td>27.609532387257936</td><td>0.6799999999999999</td><td>0.54</td><td>47938.9</td><td>47288.7</td><td>49690.0</td><td>10</td><td>74</td></tr>\n",
       "<tr><td>J001033.9+172418</td><td>0007+171</td><td>D</td><td>2.6416275791666664</td><td>17.405211388888887</td><td>--</td><td>--</td><td>0.3005771343895832</td><td>0.38944467660425514</td><td>0.24734481515176476</td><td>145.4069682241035</td><td>0.35</td><td>-0.402</td><td>48730.8</td><td>47931.6</td><td>49662.8</td><td>19</td><td>57</td></tr>\n",
       "<tr><td>J001052.5-415310</td><td>0008-421</td><td>C</td><td>2.7188318375</td><td>-41.88632972222222</td><td>--</td><td>--</td><td>7.280925051093067</td><td>9.058253099600165</td><td>4.894723728998255</td><td>134.99335769486942</td><td>7.279999999999999</td><td>-0.548</td><td>48551.8</td><td>48162.4</td><td>49330.5</td><td>2</td><td>6</td></tr>\n",
       "<tr><td>J001101.2-261233</td><td>0008-264</td><td>C</td><td>2.7551947999999995</td><td>-26.20927111111111</td><td>--</td><td>--</td><td>0.4710231315519402</td><td>0.5264251841266665</td><td>0.323634540761955</td><td>124.48471932583467</td><td>0.39999999999999997</td><td>-0.427</td><td>48892.4</td><td>47686.1</td><td>49790.7</td><td>7</td><td>38</td></tr>\n",
       "<tr><td>J001331.1+405137</td><td>0010+405</td><td>D</td><td>3.379709220833333</td><td>40.86031777777778</td><td>2</td><td>1</td><td>0.2949596332016294</td><td>0.34073318132728103</td><td>0.2941123668957665</td><td>172.53858765349395</td><td>0.33999999999999997</td><td>-0.038</td><td>49549.6</td><td>48434.7</td><td>49820.5</td><td>7</td><td>219</td></tr>\n",
       "<tr><td>J001611.0-001512</td><td>0013-005</td><td>C</td><td>4.046202312499999</td><td>-0.25345694444444444</td><td>--</td><td>--</td><td>0.299997064692016</td><td>0.43812971966445424</td><td>0.1869240154998076</td><td>143.6899155282718</td><td>0.36999999999999994</td><td>-0.675</td><td>48920.3</td><td>47394.1</td><td>49611.9</td><td>27</td><td>116</td></tr>\n",
       "<tr><td>...</td><td>...</td><td>...</td><td>...</td><td>...</td><td>...</td><td>...</td><td>...</td><td>...</td><td>...</td><td>...</td><td>...</td><td>...</td><td>...</td><td>...</td><td>...</td><td>...</td><td>...</td></tr>\n",
       "<tr><td>J234029.0+264156</td><td>2337+264</td><td>O</td><td>355.12095612916664</td><td>26.699112222222222</td><td>4</td><td>3</td><td>1.273064149119192</td><td>1.273064149119192</td><td>1.0599999999999998</td><td>90.0</td><td>1.0599999999999998</td><td>0.0</td><td>49388.4</td><td>48357.8</td><td>49848.8</td><td>10</td><td>363</td></tr>\n",
       "<tr><td>J234636.8+093045</td><td>2344+092</td><td>C</td><td>356.65349399999997</td><td>9.512642777777778</td><td>--</td><td>--</td><td>0.2958747475306446</td><td>0.3727815873619727</td><td>0.2257781086602742</td><td>139.86079892182255</td><td>0.32</td><td>-0.458</td><td>48573.6</td><td>47288.7</td><td>49667.9</td><td>25</td><td>122</td></tr>\n",
       "<tr><td>J234802.6-163112</td><td>2345-167</td><td>O</td><td>357.0108688208333</td><td>-16.520005833333332</td><td>--</td><td>--</td><td>1.9989322580286926</td><td>2.8699999999999997</td><td>1.9989322580286926</td><td>180.0</td><td>2.8699999999999997</td><td>0.0</td><td>47712.9</td><td>46440.9</td><td>49662.8</td><td>153</td><td>849</td></tr>\n",
       "<tr><td>J235421.6+455304</td><td>2351+456</td><td>O</td><td>358.5903344791666</td><td>45.88451</td><td>--</td><td>--</td><td>1.0023939614598383</td><td>1.27</td><td>1.0023939614598383</td><td>180.0</td><td>1.27</td><td>0.0</td><td>48370.1</td><td>47011.4</td><td>49662.8</td><td>29</td><td>172</td></tr>\n",
       "<tr><td>J235430.1-151311</td><td>2351-154</td><td>C</td><td>358.6258132749999</td><td>-15.21978111111111</td><td>--</td><td>--</td><td>1.4908105422637992</td><td>5.477188114303107</td><td>1.080428819248012</td><td>168.97105872194334</td><td>5.38</td><td>-0.675</td><td>48664.2</td><td>47394.1</td><td>49694.8</td><td>31</td><td>62</td></tr>\n",
       "<tr><td>J235509.4+495008</td><td>2352+495</td><td>O</td><td>358.78940901666664</td><td>49.83565</td><td>--</td><td>--</td><td>2.0123448426983233</td><td>2.6199999999999997</td><td>2.0123448426983233</td><td>180.0</td><td>2.6199999999999997</td><td>0.0</td><td>48116.3</td><td>47019.9</td><td>49659.8</td><td>14</td><td>140</td></tr>\n",
       "<tr><td>J235600.6-682003</td><td>2353-686</td><td>C</td><td>359.0028394083333</td><td>-68.33429749999999</td><td>--</td><td>--</td><td>0.5703993353375988</td><td>0.5713972483769092</td><td>0.5589817405791276</td><td>106.55498826569968</td><td>0.5599999999999999</td><td>-0.012</td><td>48560.7</td><td>48162.4</td><td>48757.4</td><td>3</td><td>17</td></tr>\n",
       "<tr><td>J235753.2-531113</td><td>2355-534</td><td>C</td><td>359.4719421791666</td><td>-53.18713583333333</td><td>--</td><td>--</td><td>0.35952201916538434</td><td>0.489058251948915</td><td>0.34709956563704686</td><td>15.779701072536257</td><td>0.48</td><td>0.18</td><td>48516.8</td><td>47626.5</td><td>49790.7</td><td>18</td><td>81</td></tr>\n",
       "<tr><td>J235810.8-102008</td><td>2355-106</td><td>C</td><td>359.5453433916666</td><td>-10.335725277777778</td><td>--</td><td>--</td><td>0.2656188070000741</td><td>0.30705147644519604</td><td>0.23382202942615957</td><td>140.7131811530837</td><td>0.27999999999999997</td><td>-0.261</td><td>48848.8</td><td>47394.1</td><td>49883.8</td><td>134</td><td>616</td></tr>\n",
       "<tr><td>J235933.1+385042</td><td>2356+385</td><td>C</td><td>359.88825323749995</td><td>38.84508805555556</td><td>--</td><td>--</td><td>0.9930268996656963</td><td>1.4855332724593022</td><td>0.9235222357236565</td><td>161.7195393444971</td><td>1.44</td><td>-0.282</td><td>49519.8</td><td>49519.8</td><td>49519.8</td><td>1</td><td>4</td></tr>\n",
       "</table></div>"
      ],
      "text/plain": [
       "<Table length=608>\n",
       "    iau_name     iers_name type         ra         ... end_obs nb_sess nb_del\n",
       "                                       deg         ...                       \n",
       "     str16          str8   str1      float64       ... float64  int64  int64 \n",
       "---------------- --------- ---- ------------------ ... ------- ------- ------\n",
       "J000435.6-473619  0002-478    C 1.1485649833333333 ... 49524.7       3      7\n",
       "J000557.1+382015  0003+380    D  1.488230870833333 ... 49554.8       2     41\n",
       "J000613.8-062335  0003-066    C 1.5578870291666664 ... 49565.9      41    114\n",
       "J001031.0+105829  0007+106    D 2.6291911999999997 ... 49690.0      10     74\n",
       "J001033.9+172418  0007+171    D 2.6416275791666664 ... 49662.8      19     57\n",
       "J001052.5-415310  0008-421    C       2.7188318375 ... 49330.5       2      6\n",
       "J001101.2-261233  0008-264    C 2.7551947999999995 ... 49790.7       7     38\n",
       "J001331.1+405137  0010+405    D  3.379709220833333 ... 49820.5       7    219\n",
       "J001611.0-001512  0013-005    C  4.046202312499999 ... 49611.9      27    116\n",
       "             ...       ...  ...                ... ...     ...     ...    ...\n",
       "J234029.0+264156  2337+264    O 355.12095612916664 ... 49848.8      10    363\n",
       "J234636.8+093045  2344+092    C 356.65349399999997 ... 49667.9      25    122\n",
       "J234802.6-163112  2345-167    O  357.0108688208333 ... 49662.8     153    849\n",
       "J235421.6+455304  2351+456    O  358.5903344791666 ... 49662.8      29    172\n",
       "J235430.1-151311  2351-154    C  358.6258132749999 ... 49694.8      31     62\n",
       "J235509.4+495008  2352+495    O 358.78940901666664 ... 49659.8      14    140\n",
       "J235600.6-682003  2353-686    C  359.0028394083333 ... 48757.4       3     17\n",
       "J235753.2-531113  2355-534    C  359.4719421791666 ... 49790.7      18     81\n",
       "J235810.8-102008  2355-106    C  359.5453433916666 ... 49883.8     134    616\n",
       "J235933.1+385042  2356+385    C 359.88825323749995 ... 49519.8       1      4"
      ]
     },
     "execution_count": 3,
     "metadata": {},
     "output_type": "execute_result"
    }
   ],
   "source": [
    "icrf1"
   ]
  }
 ],
 "metadata": {
  "kernelspec": {
   "display_name": "Python 3",
   "language": "python",
   "name": "python3"
  },
  "language_info": {
   "codemirror_mode": {
    "name": "ipython",
    "version": 3
   },
   "file_extension": ".py",
   "mimetype": "text/x-python",
   "name": "python",
   "nbconvert_exporter": "python",
   "pygments_lexer": "ipython3",
   "version": "3.11.6"
  }
 },
 "nbformat": 4,
 "nbformat_minor": 4
}
