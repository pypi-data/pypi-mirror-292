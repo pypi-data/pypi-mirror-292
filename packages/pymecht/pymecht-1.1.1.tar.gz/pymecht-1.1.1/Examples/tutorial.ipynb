{
 "cells": [
  {
   "cell_type": "markdown",
   "id": "d217c6ec",
   "metadata": {},
   "source": [
    "# Tutorial: simple uniaxial test\n",
    "\n",
    "## Material creation\n",
    "We start by importing the library and creating a neo-Hookean material model"
   ]
  },
  {
   "cell_type": "code",
   "execution_count": 1,
   "id": "11249daa",
   "metadata": {},
   "outputs": [],
   "source": [
    "import pymecht as pmt\n",
    "mat = pmt.MatModel('nh')"
   ]
  },
  {
   "cell_type": "markdown",
   "id": "21e19c1a",
   "metadata": {},
   "source": [
    "We can access the parameters of the material model and print them. It shows that the parameters are of type `ParamDict` which includes their current value, whether they are fixed or not, and their lower/upper bounds (if applicable)."
   ]
  },
  {
   "cell_type": "code",
   "execution_count": 2,
   "id": "90334cd9",
   "metadata": {},
   "outputs": [
    {
     "name": "stdout",
     "output_type": "stream",
     "text": [
      "Material model with 1 component:\n",
      "Component1: NH\n",
      " ------------------------------------------------------------------\n",
      "Keys              Value       Fixed?      Lower bound Upper bound \n",
      "------------------------------------------------------------------\n",
      "mu_0              1.00        No          1.00e-04    1.00e+02    \n",
      "------------------------------------------------------------------\n",
      "\n"
     ]
    }
   ],
   "source": [
    "mat_params = mat.parameters\n",
    "print(mat,mat_params)"
   ]
  },
  {
   "cell_type": "markdown",
   "id": "a86c62b1",
   "metadata": {},
   "source": [
    "## Sample  creation\n",
    "Next we can create a uniaxial extension sample from the material and print its parameters, which will include the material parameters as well as the geometric parameters (length and cross-sectional area)"
   ]
  },
  {
   "cell_type": "code",
   "execution_count": 3,
   "id": "e6abb551",
   "metadata": {},
   "outputs": [
    {
     "name": "stdout",
     "output_type": "stream",
     "text": [
      "An object of type UniaxialExtensionwith stretch as input, force as output, and the following material\n",
      "Material model with 1 component:\n",
      "Component1: NH\n",
      "\n",
      "------------------------------------------------------------------\n",
      "Keys              Value       Fixed?      Lower bound Upper bound \n",
      "------------------------------------------------------------------\n",
      "L0                1.00        No          1.00e-04    1.00e+03    \n",
      "A0                1.00        No          1.00e-04    1.00e+03    \n",
      "mu_0              1.00        No          1.00e-04    1.00e+02    \n",
      "------------------------------------------------------------------\n",
      "\n"
     ]
    }
   ],
   "source": [
    "sample = pmt.UniaxialExtension(mat)\n",
    "sample_params = sample.parameters\n",
    "print(sample)\n",
    "print(sample_params)"
   ]
  },
  {
   "cell_type": "markdown",
   "id": "7fc1e435",
   "metadata": {},
   "source": [
    "## Simulation by setting parameters\n",
    "\n",
    "We can set the parameters values to what we would like and then apply a stretch to the sample to calculate the force. We import `numpy` and `matplotlib` libraries for the stretch vector and plotting the force-strech plot."
   ]
  },
  {
   "cell_type": "code",
   "execution_count": 4,
   "id": "e39f3239",
   "metadata": {},
   "outputs": [
    {
     "data": {
      "image/png": "[encoded data removed]",
      "text/plain": [
       "<Figure size 432x288 with 1 Axes>"
      ]
     },
     "metadata": {
      "needs_background": "light"
     },
     "output_type": "display_data"
    }
   ],
   "source": [
    "import numpy as np\n",
    "from matplotlib import pyplot as plt\n",
    "\n",
    "sample_params.set('mu_0',5)\n",
    "sample_params.set('A0',0.1)\n",
    "sample_params.set('L0',10)\n",
    "applied_stretch = np.linspace(1,1.3,10)\n",
    "force = sample.disp_controlled(applied_stretch,sample_params)\n",
    "plt.plot(applied_stretch,force,'-o')\n",
    "plt.show()"
   ]
  },
  {
   "cell_type": "markdown",
   "id": "e8ce4660",
   "metadata": {},
   "source": [
    "## Parameter fitting\n",
    "\n",
    "If we have some force measurements (say from experiments), we can also do parameter fitting. We should fix the values of `A0` and `L0` to ensure a unique solution."
   ]
  },
  {
   "cell_type": "code",
   "execution_count": 5,
   "id": "0c3e5bc3",
   "metadata": {},
   "outputs": [
    {
     "name": "stdout",
     "output_type": "stream",
     "text": [
      "Parameter fitting instance created with the following settings\n",
      "------------------------------------------------------------------\n",
      "Keys              Value       Fixed?      Lower bound Upper bound \n",
      "------------------------------------------------------------------\n",
      "L0                10.00       Yes         -           -           \n",
      "A0                0.10        Yes         -           -           \n",
      "mu_0              5.00        No          1.00e-04    1.00e+02    \n",
      "------------------------------------------------------------------\n",
      "\n",
      "1 parameters will be fitted.\n",
      "   Iteration     Total nfev        Cost      Cost reduction    Step norm     Optimality   \n",
      "       0              1         4.1049e-01                                    1.20e+01    \n",
      "       1              2         2.2983e-02      3.88e-01       5.00e+00       2.62e+00    \n",
      "       2              3         1.0599e-03      2.19e-02       1.48e+00       4.24e-02    \n",
      "       3              4         1.0540e-03      5.94e-06       2.48e-02       1.19e-05    \n",
      "       4              5         1.0540e-03      4.65e-13       6.93e-06       2.01e-10    \n",
      "`gtol` termination condition is satisfied.\n",
      "Function evaluations 5, initial cost 4.1049e-01, final cost 1.0540e-03, first-order optimality 2.01e-10.\n",
      "Fitting completed, with the following results\n",
      "------------------------------------------------------------------\n",
      "Keys              Value       Fixed?      Lower bound Upper bound \n",
      "------------------------------------------------------------------\n",
      "L0                10.00       Yes         -           -           \n",
      "A0                0.10        Yes         -           -           \n",
      "mu_0              11.51       No          1.00e-04    1.00e+02    \n",
      "------------------------------------------------------------------\n",
      "\n",
      "Results after fitting\n",
      "------------------------------------------------------------------\n",
      "Keys              Value       Fixed?      Lower bound Upper bound \n",
      "------------------------------------------------------------------\n",
      "L0                10.00       Yes         -           -           \n",
      "A0                0.10        Yes         -           -           \n",
      "mu_0              11.51       No          1.00e-04    1.00e+02    \n",
      "------------------------------------------------------------------\n",
      "\n"
     ]
    },
    {
     "data": {
      "image/png": "[encoded data removed]",
      "text/plain": [
       "<Figure size 432x288 with 1 Axes>"
      ]
     },
     "metadata": {
      "needs_background": "light"
     },
     "output_type": "display_data"
    }
   ],
   "source": [
    "force_measured = np.array([0,0.09,0.21,0.29,0.4,0.49,0.58,0.65,0.75,0.84])\n",
    "def sim_func(params):\n",
    "    force_modeled = sample.disp_controlled(applied_stretch,params)\n",
    "    return force_modeled\n",
    "\n",
    "sample_params.fix('A0')\n",
    "sample_params.fix('L0')\n",
    "param_fitter = pmt.ParamFitter(sim_func,force_measured, sample_params)\n",
    "param_fitter.fit()\n",
    "print(\"Results after fitting\")\n",
    "print(sample_params)\n",
    "plt.plot(applied_stretch,force_measured,'x')\n",
    "plt.plot(applied_stretch,sim_func(sample_params),'-')\n",
    "plt.show()"
   ]
  },
  {
   "cell_type": "markdown",
   "id": "78297270",
   "metadata": {},
   "source": [
    "## Random Parameters: Monte Carlo simulation\n",
    "We can also approach the problem probabilistically by treating the parameteres as random variables. Either we can generate samples `RandomParameters` and propagate them through the model (Monte Carlo simulation). "
   ]
  },
  {
   "cell_type": "code",
   "execution_count": 16,
   "id": "d3215990",
   "metadata": {},
   "outputs": [
    {
     "name": "stdout",
     "output_type": "stream",
     "text": [
      "Keys              Type              Lower/mean        Upper/std         \n",
      "------------------------------------------------------------------------\n",
      "L0                fixed             10.00             10.00             \n",
      "A0                fixed             0.10              0.10              \n",
      "mu_0              uniform           1.00e-04          1.00e+02          \n",
      "------------------------------------------------------------------------\n",
      "\n",
      "random_samples are a list of parameters dictionaries: <class 'list'> 300\n",
      "results are of shape (300, 10)\n"
     ]
    },
    {
     "data": {
      "image/png": "[encoded data removed]",
      "text/plain": [
       "<Figure size 432x288 with 1 Axes>"
      ]
     },
     "metadata": {
      "needs_background": "light"
     },
     "output_type": "display_data"
    },
    {
     "data": {
      "image/png": "[encoded data removed]",
      "text/plain": [
       "<Figure size 432x288 with 1 Axes>"
      ]
     },
     "metadata": {
      "needs_background": "light"
     },
     "output_type": "display_data"
    }
   ],
   "source": [
    "random_params = pmt.RandomParameters(sample_params)\n",
    "print(random_params)\n",
    "random_samples = random_params.sample(300)\n",
    "print('random_samples are a list of parameters dictionaries:', type(random_samples),len(random_samples))\n",
    "results = np.array([sim_func(s) for s in random_samples])\n",
    "print('results are of shape', results.shape)\n",
    "\n",
    "#We can plot the mean and variation of these\n",
    "mean = np.mean(results,axis=0)\n",
    "sd = np.std(results,axis=0)\n",
    "plt.plot(applied_stretch,force_measured,'x')\n",
    "plt.plot(applied_stretch,mean,'-')\n",
    "plt.fill_between(applied_stretch,mean-sd,mean+sd,alpha=0.3)\n",
    "plt.show()\n",
    "\n",
    "mu_samples = [s['mu_0'] for s in random_samples]\n",
    "plt.hist(mu_samples,bins=10)\n",
    "plt.show()"
   ]
  },
  {
   "cell_type": "markdown",
   "id": "ee207834",
   "metadata": {},
   "source": [
    "## Random parameters: Markov Chain Monte Carlo simulation\n",
    "Or we can perform a Markov Chain Monte Carlo (MCMC) simulation through some likelihood function. "
   ]
  },
  {
   "cell_type": "code",
   "execution_count": 10,
   "id": "4d9a831e",
   "metadata": {},
   "outputs": [
    {
     "name": "stdout",
     "output_type": "stream",
     "text": [
      "MCMC instance created with the following settings\n",
      "------------------------------------------------------------------\n",
      "Keys              Value       Fixed?      Lower bound Upper bound \n",
      "------------------------------------------------------------------\n",
      "L0                10.00       Yes         -           -           \n",
      "A0                0.10        Yes         -           -           \n",
      "mu_0              12.86       No          1.00e-04    1.00e+02    \n",
      "------------------------------------------------------------------\n",
      "\n",
      "1 parameters will be varied.\n"
     ]
    }
   ],
   "source": [
    "def prob(params):\n",
    "    force_modeled = sample.disp_controlled(applied_stretch,params)\n",
    "    diff = force_modeled - force_measured\n",
    "    diff_norm2 = np.dot(diff,diff)\n",
    "    var = 2.\n",
    "    prob = np.exp(-diff_norm2/2./var) #in the case of MCMC we can skip the proportionality factor\n",
    "    return prob,force_modeled\n",
    "\n",
    "mcmc = pmt.MCMC(prob,sample_params)"
   ]
  },
  {
   "cell_type": "code",
   "execution_count": 13,
   "id": "012a657d",
   "metadata": {},
   "outputs": [
    {
     "name": "stderr",
     "output_type": "stream",
     "text": [
      "100%|██████████████████████████████████████████████████████████████████████████████████████| 1000/1000 [00:00<00:00, 2324.23it/s]"
     ]
    },
    {
     "name": "stdout",
     "output_type": "stream",
     "text": [
      "MCMC sampling completed. Acceptance rate: 0.912\n",
      "Number of samples: 912\n",
      "To access the samples, use get_samples()\n"
     ]
    },
    {
     "name": "stderr",
     "output_type": "stream",
     "text": [
      "\n"
     ]
    }
   ],
   "source": [
    "mcmc.run(1000)"
   ]
  },
  {
   "cell_type": "code",
   "execution_count": 14,
   "id": "55fcf9e0",
   "metadata": {},
   "outputs": [
    {
     "name": "stdout",
     "output_type": "stream",
     "text": [
      "(912, 10)\n"
     ]
    },
    {
     "data": {
      "image/png": "[encoded data removed]",
      "text/plain": [
       "<Figure size 432x288 with 1 Axes>"
      ]
     },
     "metadata": {
      "needs_background": "light"
     },
     "output_type": "display_data"
    },
    {
     "data": {
      "image/png": "[encoded data removed]",
      "text/plain": [
       "<Figure size 432x288 with 1 Axes>"
      ]
     },
     "metadata": {
      "needs_background": "light"
     },
     "output_type": "display_data"
    }
   ],
   "source": [
    "mcmc_samples = np.array(mcmc.get_samples()) #convert the list into an array\n",
    "mcmc_probs = np.array(mcmc.get_probs()) #convert the list into an array\n",
    "mcmc_force = np.array(mcmc.get_values()) #convert the list into an array\n",
    "print(np.array(mcmc_force).shape)\n",
    "#We can plot the mean and variation of these\n",
    "mean = np.mean(mcmc_force,axis=0)\n",
    "sd = np.std(mcmc_force,axis=0)\n",
    "plt.plot(applied_stretch,force_measured,'x')\n",
    "plt.plot(applied_stretch,mean,'-')\n",
    "plt.fill_between(applied_stretch,mean-sd,mean+sd,alpha=0.3)\n",
    "plt.show()\n",
    "\n",
    "plt.hist(mcmc_samples)\n",
    "plt.show()"
   ]
  }
 ],
 "metadata": {
  "kernelspec": {
   "display_name": "Python 3 (ipykernel)",
   "language": "python",
   "name": "python3"
  },
  "language_info": {
   "codemirror_mode": {
    "name": "ipython",
    "version": 3
   },
   "file_extension": ".py",
   "mimetype": "text/x-python",
   "name": "python",
   "nbconvert_exporter": "python",
   "pygments_lexer": "ipython3",
   "version": "3.9.16"
  },
  "toc": {
   "base_numbering": 1,
   "nav_menu": {},
   "number_sections": true,
   "sideBar": true,
   "skip_h1_title": false,
   "title_cell": "Table of Contents",
   "title_sidebar": "Contents",
   "toc_cell": false,
   "toc_position": {},
   "toc_section_display": true,
   "toc_window_display": false
  }
 },
 "nbformat": 4,
 "nbformat_minor": 5
}
