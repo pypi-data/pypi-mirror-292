{
 "cells": [
  {
   "cell_type": "markdown",
   "id": "068b2a62-5851-45da-b2e9-2cc734c6634e",
   "metadata": {},
   "source": [
    "# Using TubeInflation"
   ]
  },
  {
   "cell_type": "code",
   "execution_count": 1,
   "id": "a081e150-3020-4035-b775-0cba443e05a0",
   "metadata": {},
   "outputs": [],
   "source": [
    "import pymecht as pmt\n",
    "import numpy as np"
   ]
  },
  {
   "cell_type": "markdown",
   "id": "e5cb9d3a-0558-4ac9-8150-1a08ee8ec01a",
   "metadata": {
    "tags": []
   },
   "source": [
    "## Definition of the material model"
   ]
  },
  {
   "cell_type": "code",
   "execution_count": 2,
   "id": "1c774857-6c07-4fd0-a2ca-2a393d17565f",
   "metadata": {},
   "outputs": [
    {
     "name": "stdout",
     "output_type": "stream",
     "text": [
      "------------------------------------------------------------------\n",
      "Keys              Value       Fixed?      Lower bound Upper bound \n",
      "------------------------------------------------------------------\n",
      "c1_0              1.00        No          1.00e-04    1.00e+02    \n",
      "c2_0              1.00        No          0.00        1.00e+02    \n",
      "c3_0              1.00        No          0.00        1.00e+02    \n",
      "c4_0              0.00        No          0.00        1.00e+02    \n",
      "------------------------------------------------------------------\n",
      "\n"
     ]
    }
   ],
   "source": [
    "mat1 = pmt.MatModel('yeoh')\n",
    "print(mat1.parameters) # Returns parameters as a dictionary"
   ]
  },
  {
   "cell_type": "code",
   "execution_count": 3,
   "id": "3c58fd09-4531-4da2-86d3-c8ab1b9c4349",
   "metadata": {},
   "outputs": [
    {
     "name": "stdout",
     "output_type": "stream",
     "text": [
      "1.00        No          1.00e-04    1.00e+02    \n"
     ]
    },
    {
     "data": {
      "text/plain": [
       "pymecht.ParamDict.Param"
      ]
     },
     "execution_count": 3,
     "metadata": {},
     "output_type": "execute_result"
    }
   ],
   "source": [
    "print(mat1.parameters['c1_0'])\n",
    "type(mat1.parameters['c1_0'])"
   ]
  },
  {
   "cell_type": "markdown",
   "id": "e2e66ed6-3282-49ad-abfc-22f01e40a4ce",
   "metadata": {
    "tags": []
   },
   "source": [
    "Combine two materials"
   ]
  },
  {
   "cell_type": "code",
   "execution_count": 4,
   "id": "c7043b37-4fef-4bc8-a595-01bee56fee43",
   "metadata": {},
   "outputs": [],
   "source": [
    "mat2 = pmt.GOH()\n",
    "model = pmt.MatModel('Yeoh',mat2)\n",
    "\n",
    "# model = pmt.MatModel(mat1,mat2) #Another way to combine two materials "
   ]
  },
  {
   "cell_type": "markdown",
   "id": "a3c1f9df-03fa-455a-9826-76c9d82ac880",
   "metadata": {},
   "source": [
    "Define fiber directions"
   ]
  },
  {
   "cell_type": "code",
   "execution_count": 5,
   "id": "48671b27-27ac-46b9-a494-c90f492e7909",
   "metadata": {},
   "outputs": [],
   "source": [
    "# model.models[0].fiber_dirs = [np.array([0,cos(0.1),sin(0.1)]),np.array([0,cos(-0.1),sin(-0.1)])] #Attributes fiber directions to the first material \n",
    "model.models[1].fiber_dirs = [np.array([0,np.cos(0.1),np.sin(0.1)]),np.array([0,np.cos(-0.1),np.sin(-0.1)])] #Attributes fiber directions to the second material "
   ]
  },
  {
   "cell_type": "code",
   "execution_count": 6,
   "id": "3a059989-f2f8-4a75-8436-862f8ed562a3",
   "metadata": {},
   "outputs": [
    {
     "data": {
      "text/plain": [
       "------------------------------------------------------------------\n",
       "Keys              Value       Fixed?      Lower bound Upper bound \n",
       "------------------------------------------------------------------\n",
       "c1_0              1.00        No          1.00e-04    1.00e+02    \n",
       "c2_0              1.00        No          0.00        1.00e+02    \n",
       "c3_0              1.00        No          0.00        1.00e+02    \n",
       "c4_0              0.00        No          0.00        1.00e+02    \n",
       "k1_1              10.00       No          0.10        30.00       \n",
       "k2_1              10.00       No          0.10        30.00       \n",
       "k3_1              0.10        No          0.00        0.33        \n",
       "------------------------------------------------------------------"
      ]
     },
     "execution_count": 6,
     "metadata": {},
     "output_type": "execute_result"
    }
   ],
   "source": [
    "model.parameters \n",
    "#parameters with index 0 correspond to the first material in model #parameters with index 1 correspond to the second"
   ]
  },
  {
   "cell_type": "markdown",
   "id": "2a523d3e-3377-4874-b7fb-6a8a494cd47e",
   "metadata": {
    "tags": []
   },
   "source": [
    "## Sample & parameter definition"
   ]
  },
  {
   "cell_type": "code",
   "execution_count": 7,
   "id": "498b3a6a-f414-4aa2-a745-29fd6bd9bb88",
   "metadata": {},
   "outputs": [
    {
     "name": "stdout",
     "output_type": "stream",
     "text": [
      "An object of type TubeInflationwith radius as input, pressure as output, and the following material\n",
      "Material model with 2 components:\n",
      "Component1: YEOH\n",
      "Component2: GOH with fiber direction(s):[array([0.        , 0.99500417, 0.09983342]), array([ 0.        ,  0.99500417, -0.09983342])]\n",
      "\n"
     ]
    },
    {
     "data": {
      "text/plain": [
       "------------------------------------------------------------------\n",
       "Keys              Value       Fixed?      Lower bound Upper bound \n",
       "------------------------------------------------------------------\n",
       "Ri                1.00        No          0.50        1.50        \n",
       "thick             0.10        No          0.00        1.00        \n",
       "omega             0.00        No          0.00        0.00        \n",
       "L0                1.00        No          1.00        1.00        \n",
       "lambdaZ           1.00        No          1.00        1.00        \n",
       "c1_0              1.00        No          1.00e-04    1.00e+02    \n",
       "c2_0              1.00        No          0.00        1.00e+02    \n",
       "c3_0              1.00        No          0.00        1.00e+02    \n",
       "c4_0              0.00        No          0.00        1.00e+02    \n",
       "k1_1              10.00       No          0.10        30.00       \n",
       "k2_1              10.00       No          0.10        30.00       \n",
       "k3_1              0.10        No          0.00        0.33        \n",
       "------------------------------------------------------------------"
      ]
     },
     "execution_count": 7,
     "metadata": {},
     "output_type": "execute_result"
    }
   ],
   "source": [
    "sample = pmt.TubeInflation(model, force_measure='pressure')\n",
    "print(sample)\n",
    "params = sample.parameters\n",
    "params #Additional sample parameters are added to the dictionnary"
   ]
  },
  {
   "cell_type": "markdown",
   "id": "a5968211-fc99-4b20-9d4c-efeb50f4d881",
   "metadata": {},
   "source": [
    "Set parameters to a specific value"
   ]
  },
  {
   "cell_type": "code",
   "execution_count": 8,
   "id": "3b23305d-dde4-464e-94cc-7a47bd34e0b0",
   "metadata": {},
   "outputs": [
    {
     "data": {
      "text/plain": [
       "------------------------------------------------------------------\n",
       "Keys              Value       Fixed?      Lower bound Upper bound \n",
       "------------------------------------------------------------------\n",
       "Ri                9.00        No          0.50        1.50        \n",
       "thick             2.00        No          0.00        1.00        \n",
       "omega             0.00        No          0.00        0.00        \n",
       "L0                1.00        No          1.00        1.00        \n",
       "lambdaZ           1.00        No          1.00        1.00        \n",
       "c1_0              28.00       No          1.00e-04    1.00e+02    \n",
       "c2_0              21.00       No          0.00        1.00e+02    \n",
       "c3_0              8.00        No          0.00        1.00e+02    \n",
       "c4_0              1.00        No          0.00        1.00e+02    \n",
       "k1_1              5.00        No          0.10        30.00       \n",
       "k2_1              15.00       No          0.10        30.00       \n",
       "k3_1              0.10        No          0.00        0.33        \n",
       "------------------------------------------------------------------"
      ]
     },
     "execution_count": 8,
     "metadata": {},
     "output_type": "execute_result"
    }
   ],
   "source": [
    "params.set('Ri', 9) \n",
    "params.set('thick', 2)\n",
    "params.set('omega', 0)\n",
    "params.set('L0', 1)\n",
    "params.set('lambdaZ', 1)\n",
    "params.set('c1_0', 28)\n",
    "params.set('c2_0', 21)\n",
    "params.set('c3_0', 8)\n",
    "params.set('c4_0', 1)\n",
    "params.set('k1_1',5.)\n",
    "params.set('k2_1',15)\n",
    "params.set('k3_1',0.1)\n",
    "params"
   ]
  },
  {
   "cell_type": "markdown",
   "id": "310d28a5-e823-404e-bacc-48b4feacfc4f",
   "metadata": {},
   "source": [
    "Fix parameters"
   ]
  },
  {
   "cell_type": "code",
   "execution_count": 9,
   "id": "7f19d749-e78a-4ffe-803c-0459d667e0ce",
   "metadata": {},
   "outputs": [
    {
     "data": {
      "text/plain": [
       "------------------------------------------------------------------\n",
       "Keys              Value       Fixed?      Lower bound Upper bound \n",
       "------------------------------------------------------------------\n",
       "Ri                9.00        Yes         -           -           \n",
       "thick             2.00        Yes         -           -           \n",
       "omega             0.00        Yes         -           -           \n",
       "L0                1.00        Yes         -           -           \n",
       "lambdaZ           1.00        Yes         -           -           \n",
       "c1_0              28.00       No          1.00e-04    1.00e+02    \n",
       "c2_0              21.00       No          0.00        1.00e+02    \n",
       "c3_0              8.00        No          0.00        1.00e+02    \n",
       "c4_0              1.00        No          0.00        1.00e+02    \n",
       "k1_1              5.00        No          0.10        30.00       \n",
       "k2_1              15.00       No          0.10        30.00       \n",
       "k3_1              0.10        No          0.00        0.33        \n",
       "------------------------------------------------------------------"
      ]
     },
     "execution_count": 9,
     "metadata": {},
     "output_type": "execute_result"
    }
   ],
   "source": [
    "params.fix('Ri')\n",
    "params.fix('thick')\n",
    "params.fix('omega')\n",
    "params.fix('L0')\n",
    "params.fix('lambdaZ')\n",
    "params"
   ]
  },
  {
   "cell_type": "code",
   "execution_count": 10,
   "id": "f878169a-1e51-4fb8-8cb7-b63a7e4bbf51",
   "metadata": {},
   "outputs": [
    {
     "data": {
      "text/plain": [
       "An object of type TubeInflationwith radius as input, pressure as output, and the following material\n",
       "Material model with 2 components:\n",
       "Component1: YEOH\n",
       "Component2: GOH with fiber direction(s):[array([0.        , 0.99500417, 0.09983342]), array([ 0.        ,  0.99500417, -0.09983342])]"
      ]
     },
     "execution_count": 10,
     "metadata": {},
     "output_type": "execute_result"
    }
   ],
   "source": [
    "sample #Recaps the material model and sample created"
   ]
  },
  {
   "cell_type": "markdown",
   "id": "71afc466-cd45-40df-9f71-1659dfa7582a",
   "metadata": {},
   "source": [
    "## Run the test"
   ]
  },
  {
   "cell_type": "markdown",
   "id": "fd8a539a-6896-43d0-89e6-d34ff48aef84",
   "metadata": {},
   "source": [
    "Force control"
   ]
  },
  {
   "cell_type": "code",
   "execution_count": 11,
   "id": "9fbaaa0a-91d0-4de6-b964-c2468cefb7e4",
   "metadata": {},
   "outputs": [
    {
     "data": {
      "image/png": "[encoded data removed]",
      "text/plain": [
       "<Figure size 432x288 with 1 Axes>"
      ]
     },
     "metadata": {
      "needs_background": "light"
     },
     "output_type": "display_data"
    }
   ],
   "source": [
    "from matplotlib import pyplot as plt\n",
    "inp = np.linspace(1,20,100)\n",
    "plt.plot(inp,sample.force_controlled(inp,params)) \n",
    "plt.ylabel('Internal radius in mm')\n",
    "plt.xlabel('Internal pressure in kPa')\n",
    "plt.title('Force control plot')\n",
    "plt.show()"
   ]
  },
  {
   "cell_type": "markdown",
   "id": "4e3f9787-0475-43d2-9afe-6d08c8b425f1",
   "metadata": {},
   "source": [
    "Displacement control"
   ]
  },
  {
   "cell_type": "code",
   "execution_count": 12,
   "id": "f1d4b739-b9cf-4ab4-bb37-4568b2814b5e",
   "metadata": {},
   "outputs": [
    {
     "data": {
      "image/png": "[encoded data removed]",
      "text/plain": [
       "<Figure size 432x288 with 1 Axes>"
      ]
     },
     "metadata": {
      "needs_background": "light"
     },
     "output_type": "display_data"
    }
   ],
   "source": [
    "from matplotlib import pyplot as plt\n",
    "inp = np.linspace(9,12,100)\n",
    "plt.plot(inp,sample.disp_controlled(inp,params)) \n",
    "plt.ylabel('Internal pressure in kPa')\n",
    "plt.xlabel('Internal radius in mm')\n",
    "plt.title('Displacement control plot')\n",
    "plt.show()"
   ]
  },
  {
   "cell_type": "markdown",
   "id": "13433afa-6309-41c4-84a2-8598d51711d2",
   "metadata": {
    "tags": []
   },
   "source": [
    "## Stress across the thickness for a given radius"
   ]
  },
  {
   "cell_type": "code",
   "execution_count": 13,
   "id": "edf28232-b856-4848-8744-e5b2b44693a6",
   "metadata": {},
   "outputs": [],
   "source": [
    "xi,stress = sample.cauchy_stress([10], params)"
   ]
  },
  {
   "cell_type": "code",
   "execution_count": 14,
   "id": "619008ce-4595-4039-a466-b6055d70068b",
   "metadata": {},
   "outputs": [
    {
     "data": {
      "image/png": "[encoded data removed]",
      "text/plain": [
       "<Figure size 432x288 with 1 Axes>"
      ]
     },
     "metadata": {
      "needs_background": "light"
     },
     "output_type": "display_data"
    }
   ],
   "source": [
    "def von_mises(sigma_list):\n",
    "    return [sqrt(3./2.)*np.linalg.norm(sigma-np.trace(sigma)/3.*np.eye(3)) for sigma in sigma_list]\n",
    "\n",
    "plt.plot(xi,von_mises(stress))\n",
    "plt.xlabel('Normalized thickness')\n",
    "plt.ylabel('von-Mises stress')\n",
    "plt.show()"
   ]
  },
  {
   "cell_type": "markdown",
   "id": "776a3f45-9611-4786-a726-be08a37536a1",
   "metadata": {},
   "source": [
    "## Least square fitting"
   ]
  },
  {
   "cell_type": "code",
   "execution_count": 15,
   "id": "c665b0f1-690e-44c7-8162-ab94be9c24d1",
   "metadata": {},
   "outputs": [
    {
     "name": "stdout",
     "output_type": "stream",
     "text": [
      "Parameter fitting instance created with the following settings\n",
      "------------------------------------------------------------------\n",
      "Keys              Value       Fixed?      Lower bound Upper bound \n",
      "------------------------------------------------------------------\n",
      "Ri                9.00        Yes         -           -           \n",
      "thick             2.00        Yes         -           -           \n",
      "omega             0.00        Yes         -           -           \n",
      "L0                1.00        Yes         -           -           \n",
      "lambdaZ           1.00        Yes         -           -           \n",
      "c1_0              28.00       No          1.00e-04    1.00e+02    \n",
      "c2_0              21.00       No          0.00        1.00e+02    \n",
      "c3_0              8.00        No          0.00        1.00e+02    \n",
      "c4_0              1.00        No          0.00        1.00e+02    \n",
      "k1_1              5.00        No          0.10        30.00       \n",
      "k2_1              15.00       No          0.10        30.00       \n",
      "k3_1              0.10        No          0.00        0.33        \n",
      "------------------------------------------------------------------\n",
      "\n",
      "7 parameters will be fitted.\n"
     ]
    }
   ],
   "source": [
    "applied_radius = np.linspace(9,12,20)\n",
    "measured_pressure = np.linspace(0,10,20)\n",
    "def sim_func(param):\n",
    "    return sample.disp_controlled(applied_radius,param)\n",
    "\n",
    "param_fitter = pmt.ParamFitter(sim_func,measured_pressure,params)"
   ]
  },
  {
   "cell_type": "code",
   "execution_count": 16,
   "id": "b904bd23-dccc-4dbf-adfb-460fb2805bc3",
   "metadata": {},
   "outputs": [
    {
     "name": "stdout",
     "output_type": "stream",
     "text": [
      "   Iteration     Total nfev        Cost      Cost reduction    Step norm     Optimality   \n",
      "       0              1         2.8945e+03                                    4.42e+04    \n",
      "       1              2         4.6330e+02      2.43e+03       4.43e+00       6.27e+03    \n",
      "       2              3         6.7468e+01      3.96e+02       2.71e+00       8.98e+02    \n",
      "       3              4         9.9442e+00      5.75e+01       1.56e+00       1.36e+02    \n",
      "       4              5         1.7885e+00      8.16e+00       2.40e+00       2.46e+01    \n",
      "       5              6         3.9911e-01      1.39e+00       1.77e+00       6.59e+00    \n",
      "       6              7         1.7674e-01      2.22e-01       1.61e+00       2.88e+00    \n",
      "       7              8         1.2535e-01      5.14e-02       3.49e+00       2.74e+00    \n",
      "       8              9         9.6274e-02      2.91e-02       2.73e+00       1.69e+00    \n",
      "       9             10         8.0910e-02      1.54e-02       2.60e+00       1.03e+00    \n",
      "      10             11         7.1816e-02      9.09e-03       2.09e+00       2.41e-01    \n",
      "      11             12         6.3905e-02      7.91e-03       2.23e+00       7.19e-02    \n",
      "      12             16         6.3003e-02      9.02e-04       2.84e-01       2.77e-01    \n",
      "      13             17         6.2017e-02      9.86e-04       3.65e-01       2.16e-01    \n",
      "      14             18         6.0761e-02      1.26e-03       6.94e-01       6.34e-01    \n",
      "      15             19         5.7749e-02      3.01e-03       8.00e-01       3.49e-01    \n",
      "      16             21         5.6021e-02      1.73e-03       6.65e-01       4.27e-01    \n",
      "      17             22         5.3256e-02      2.77e-03       1.13e+00       7.52e-01    \n",
      "      18             23         4.9453e-02      3.80e-03       1.12e+00       4.88e-01    \n",
      "      19             24         4.7083e-02      2.37e-03       1.91e+00       1.31e+00    \n",
      "      20             25         4.2606e-02      4.48e-03       7.30e-01       1.45e-01    \n",
      "      21             27         4.0892e-02      1.71e-03       7.90e-01       2.96e-01    \n",
      "      22             28         3.8406e-02      2.49e-03       1.50e+00       6.77e-01    \n",
      "      23             29         3.5293e-02      3.11e-03       1.23e+00       3.07e-01    \n",
      "      24             30         3.3403e-02      1.89e-03       2.55e+00       1.14e+00    \n",
      "      25             31         2.9344e-02      4.06e-03       6.29e-01       5.54e-02    \n",
      "      26             32         2.7479e-02      1.87e-03       2.82e+00       1.30e+00    \n",
      "      27             33         2.3858e-02      3.62e-03       5.67e-01       3.03e-02    \n",
      "      28             34         2.3449e-02      4.09e-04       2.87e+00       5.26e+00    \n",
      "      29             35         2.0130e-02      3.32e-03       1.16e-02       3.02e-01    \n",
      "      30             36         1.8981e-02      1.15e-03       6.56e-01       2.50e-02    \n",
      "      31             37         1.7281e-02      1.70e-03       1.25e+00       2.00e-01    \n",
      "      32             38         1.4400e-02      2.88e-03       2.55e+00       5.64e-01    \n",
      "      33             39         1.3050e-02      1.35e-03       9.26e-01       2.73e-02    \n",
      "      34             41         1.2087e-02      9.63e-04       1.18e+00       1.32e+00    \n",
      "      35             42         1.1874e-02      2.12e-04       1.91e-03       9.98e-03    \n",
      "      36             43         9.9257e-03      1.95e-03       2.07e+00       1.01e+00    \n",
      "      37             44         8.2433e-03      1.68e-03       1.70e+00       1.97e-01    \n",
      "      38             45         7.3658e-03      8.78e-04       1.16e+00       8.42e-01    \n",
      "      39             46         6.1866e-03      1.18e-03       1.37e+00       8.92e-02    \n",
      "      40             48         6.0943e-03      9.23e-05       3.04e-01       1.98e-01    \n",
      "      41             49         6.0212e-03      7.31e-05       2.87e-01       2.11e-01    \n",
      "      42             50         5.9520e-03      6.92e-05       2.91e-01       2.14e-01    \n",
      "      43             51         5.8864e-03      6.56e-05       2.85e-01       1.99e-01    \n",
      "      44             52         5.8203e-03      6.60e-05       3.04e-01       2.07e-01    \n",
      "      45             53         5.7598e-03      6.05e-05       2.84e-01       1.75e-01    \n",
      "      46             54         5.7032e-03      5.66e-05       2.82e-01       1.86e-01    \n",
      "      47             55         5.6416e-03      6.16e-05       3.26e-01       2.08e-01    \n",
      "      48             56         5.5889e-03      5.26e-05       2.75e-01       1.57e-01    \n",
      "      49             57         5.5365e-03      5.24e-05       3.02e-01       1.76e-01    \n",
      "      50             58         5.4849e-03      5.17e-05       3.06e-01       1.72e-01    \n",
      "      51             59         5.4361e-03      4.88e-05       3.00e-01       1.62e-01    \n",
      "      52             60         5.4119e-03      2.42e-05       1.48e-01       1.24e-01    \n",
      "      53             61         5.3634e-03      4.85e-05       3.32e-01       1.66e-01    \n",
      "      54             62         5.3235e-03      4.00e-05       2.69e-01       1.26e-01    \n",
      "      55             63         5.2967e-03      2.68e-05       1.91e-01       1.15e-01    \n",
      "      56             64         5.2677e-03      2.90e-05       2.16e-01       1.18e-01    \n",
      "      57             65         5.2421e-03      2.56e-05       1.95e-01       1.08e-01    \n",
      "      58             66         5.2147e-03      2.73e-05       2.17e-01       1.11e-01    \n",
      "      59             67         5.1904e-03      2.43e-05       1.97e-01       1.01e-01    \n",
      "      60             68         5.1647e-03      2.58e-05       2.18e-01       1.04e-01    \n",
      "      61             69         5.1419e-03      2.28e-05       1.97e-01       9.32e-02    \n",
      "      62             70         5.1177e-03      2.42e-05       2.20e-01       9.63e-02    \n",
      "      63             71         5.0964e-03      2.12e-05       1.96e-01       8.51e-02    \n",
      "      64             72         5.0718e-03      2.46e-05       2.40e-01       9.50e-02    \n",
      "      65             73         5.0468e-03      2.50e-05       2.50e-01       8.49e-02    \n",
      "      66             74         5.0225e-03      2.43e-05       2.55e-01       8.48e-02    \n",
      "      67             75         5.0011e-03      2.13e-05       2.30e-01       6.92e-02    \n",
      "      68             76         4.9890e-03      1.21e-05       1.35e-01       5.60e-02    \n",
      "      69             77         4.9641e-03      2.49e-05       3.03e-01       1.05e-01    \n",
      "      70             78         4.9513e-03      1.29e-05       1.42e-01       2.80e-02    \n",
      "      71             79         4.9256e-03      2.56e-05       3.55e-01       1.39e-01    \n",
      "      72             80         4.9231e-03      2.57e-06       2.06e-02       1.05e-01    \n",
      "      73             81         4.9206e-03      2.49e-06       2.57e-02       8.08e-02    \n",
      "      74             82         4.9107e-03      9.81e-06       1.22e-01       2.33e-02    \n",
      "      75             83         4.8898e-03      2.10e-05       3.09e-01       1.01e-01    \n",
      "      76             84         4.8852e-03      4.57e-06       5.03e-02       3.60e-02    \n",
      "      77             85         4.8740e-03      1.12e-05       1.65e-01       3.05e-02    \n",
      "      78             86         4.8636e-03      1.04e-05       1.57e-01       2.71e-02    \n",
      "      79             87         4.8557e-03      7.86e-06       1.22e-01       1.99e-02    \n",
      "      80             88         4.8501e-03      5.69e-06       9.05e-02       1.63e-02    \n",
      "      81             89         4.8480e-03      2.10e-06       3.37e-02       1.37e-02    \n",
      "      82             90         4.8461e-03      1.91e-06       3.09e-02       1.19e-02    \n",
      "      83             91         4.8453e-03      7.35e-07       1.20e-02       1.12e-02    \n",
      "      84             92         4.8363e-03      8.98e-06       1.50e-01       2.26e-02    \n",
      "      85             93         4.8359e-03      4.17e-07       6.81e-03       2.02e-02    \n",
      "      86             94         4.8321e-03      3.87e-06       6.49e-02       4.07e-03    \n",
      "      87             95         4.8304e-03      1.68e-06       2.88e-02       3.88e-03    \n",
      "      88             96         4.8291e-03      1.25e-06       2.16e-02       3.51e-03    \n",
      "      89             97         4.8287e-03      3.84e-07       6.65e-03       3.29e-03    \n",
      "      90             98         4.8237e-03      5.03e-06       8.80e-02       7.44e-03    \n",
      "      91             99         4.8225e-03      1.16e-06       2.04e-02       3.94e-04    \n",
      "      92             100        4.8213e-03      1.19e-06       2.12e-02       4.29e-04    \n",
      "      93             101        4.8213e-03      4.83e-08       8.54e-04       1.25e-04    \n",
      "      94             102        4.8213e-03      1.47e-08       2.61e-04       4.78e-05    \n",
      "      95             103        4.8213e-03      3.50e-09       6.20e-05       3.02e-05    \n",
      "      96             104        4.8213e-03      6.04e-09       1.07e-04       3.51e-08    \n",
      "      97             105        4.8213e-03      2.63e-11       4.57e-07       1.07e-08    \n",
      "`ftol` termination condition is satisfied.\n",
      "Function evaluations 105, initial cost 2.8945e+03, final cost 4.8213e-03, first-order optimality 1.07e-08.\n",
      "Fitting completed, with the following results\n",
      "------------------------------------------------------------------\n",
      "Keys              Value       Fixed?      Lower bound Upper bound \n",
      "------------------------------------------------------------------\n",
      "Ri                9.00        Yes         -           -           \n",
      "thick             2.00        Yes         -           -           \n",
      "omega             0.00        Yes         -           -           \n",
      "L0                1.00        Yes         -           -           \n",
      "lambdaZ           1.00        Yes         -           -           \n",
      "c1_0              13.37       No          1.00e-04    1.00e+02    \n",
      "c2_0              1.16e-46    No          0.00        1.00e+02    \n",
      "c3_0              4.30e-39    No          0.00        1.00e+02    \n",
      "c4_0              3.50e-46    No          0.00        1.00e+02    \n",
      "k1_1              30.00       No          0.10        30.00       \n",
      "k2_1              0.10        No          0.10        30.00       \n",
      "k3_1              0.14        No          0.00        0.33        \n",
      "------------------------------------------------------------------\n",
      "\n"
     ]
    }
   ],
   "source": [
    "res = param_fitter.fit()"
   ]
  },
  {
   "cell_type": "code",
   "execution_count": 17,
   "id": "db0bf90e-5fbf-4c30-9555-eeb1b6089185",
   "metadata": {},
   "outputs": [
    {
     "name": "stdout",
     "output_type": "stream",
     "text": [
      "------------------------------------------------------------------\n",
      "Keys              Value       Fixed?      Lower bound Upper bound \n",
      "------------------------------------------------------------------\n",
      "Ri                9.00        Yes         -           -           \n",
      "thick             2.00        Yes         -           -           \n",
      "omega             0.00        Yes         -           -           \n",
      "L0                1.00        Yes         -           -           \n",
      "lambdaZ           1.00        Yes         -           -           \n",
      "c1_0              13.37       No          1.00e-04    1.00e+02    \n",
      "c2_0              1.16e-46    No          0.00        1.00e+02    \n",
      "c3_0              4.30e-39    No          0.00        1.00e+02    \n",
      "c4_0              3.50e-46    No          0.00        1.00e+02    \n",
      "k1_1              30.00       No          0.10        30.00       \n",
      "k2_1              0.10        No          0.10        30.00       \n",
      "k3_1              0.14        No          0.00        0.33        \n",
      "------------------------------------------------------------------\n",
      "\n"
     ]
    }
   ],
   "source": [
    "print(params)"
   ]
  },
  {
   "cell_type": "code",
   "execution_count": 18,
   "id": "7dd89950-4fab-43d9-bd6d-7b2ae08c23b5",
   "metadata": {},
   "outputs": [
    {
     "data": {
      "image/png": "[encoded data removed]",
      "text/plain": [
       "<Figure size 432x288 with 1 Axes>"
      ]
     },
     "metadata": {
      "needs_background": "light"
     },
     "output_type": "display_data"
    }
   ],
   "source": [
    "\n",
    "plt.plot(applied_radius,sample.disp_controlled(applied_radius,params)) \n",
    "plt.plot(applied_radius,measured_pressure,'o')\n",
    "plt.ylabel('Internal pressure in kPa')\n",
    "plt.xlabel('Internal radius in mm')\n",
    "plt.title('Displacement control plot')\n",
    "plt.show()\n"
   ]
  },
  {
   "cell_type": "code",
   "execution_count": null,
   "id": "22219f61-996b-48d9-a2d5-ebe96e8e09a9",
   "metadata": {},
   "outputs": [],
   "source": []
  },
  {
   "cell_type": "code",
   "execution_count": null,
   "id": "ca672b1d-982e-4d41-829d-377e8b41d958",
   "metadata": {},
   "outputs": [],
   "source": []
  }
 ],
 "metadata": {
  "kernelspec": {
   "display_name": "Python 3 (ipykernel)",
   "language": "python",
   "name": "python3"
  },
  "language_info": {
   "codemirror_mode": {
    "name": "ipython",
    "version": 3
   },
   "file_extension": ".py",
   "mimetype": "text/x-python",
   "name": "python",
   "nbconvert_exporter": "python",
   "pygments_lexer": "ipython3",
   "version": "3.9.16"
  }
 },
 "nbformat": 4,
 "nbformat_minor": 5
}
